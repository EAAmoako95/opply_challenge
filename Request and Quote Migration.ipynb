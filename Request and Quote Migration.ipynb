{
 "cells": [
  {
   "cell_type": "code",
   "execution_count": 1,
   "id": "66e6a657-cbc1-47ff-b24f-6579be26196f",
   "metadata": {},
   "outputs": [],
   "source": [
    "import os\n",
    "import pymongo\n",
    "\n",
    "import pandas as pd"
   ]
  },
  {
   "cell_type": "markdown",
   "id": "66d0d381-2076-453c-a7c7-6965628705df",
   "metadata": {},
   "source": [
    "#### DB Connection"
   ]
  },
  {
   "cell_type": "code",
   "execution_count": 2,
   "id": "7c3b33c3-1ff5-4d69-9121-54be3753183a",
   "metadata": {},
   "outputs": [],
   "source": [
    "# connection params\n",
    "aws_mongo_host = \"13.42.111.186\"\n",
    "aws_mongo_user = \"user_345893\"\n",
    "aws_mongo_pwd = \"ret453mFkT45d\"\n",
    "aws_mongo_client = pymongo.MongoClient(\n",
    "    f\"mongodb://{aws_mongo_user}:{aws_mongo_pwd}@{aws_mongo_host}:27017/?retryWrites=false&w=majority\"\n",
    ")\n",
    "\n",
    "# db and collection naming\n",
    "db_name = 'opply_interview'\n",
    "quote_collection_name = 'quotes_ernest'\n",
    "request_collection_name = 'requests_ernest'"
   ]
  },
  {
   "cell_type": "code",
   "execution_count": 3,
   "id": "d1dd4b57-ff19-4341-a5be-d8c660519c84",
   "metadata": {},
   "outputs": [],
   "source": [
    "# the actual database\n",
    "db = aws_mongo_client[db_name]"
   ]
  },
  {
   "cell_type": "code",
   "execution_count": 4,
   "id": "31f00ec9-9093-498a-b19f-903bc3802ed5",
   "metadata": {},
   "outputs": [],
   "source": [
    "# create collection objects\n",
    "quote_collection = db[quote_collection_name]\n",
    "request_collection = db[request_collection_name]"
   ]
  },
  {
   "cell_type": "code",
   "execution_count": 5,
   "id": "a1704fc7-2443-42c0-8c48-9bc2fcaaf640",
   "metadata": {},
   "outputs": [
    {
     "data": {
      "text/plain": [
       "['Opply Data Assignment.xlsx']"
      ]
     },
     "execution_count": 5,
     "metadata": {},
     "output_type": "execute_result"
    }
   ],
   "source": [
    "os.listdir('./Excel Data/')"
   ]
  },
  {
   "cell_type": "markdown",
   "id": "a549e925-9ff5-45a6-b626-af080fcdca55",
   "metadata": {},
   "source": [
    "#### Local File Handling"
   ]
  },
  {
   "cell_type": "code",
   "execution_count": 6,
   "id": "2b845745-0710-462d-9fd3-204c085123fd",
   "metadata": {},
   "outputs": [],
   "source": [
    "# get locally downloaded files\n",
    "local_excel_filepath = './Excel Data/Opply Data Assignment.xlsx'\n",
    "\n",
    "assignment_data = pd.read_excel('./Excel Data/Opply Data Assignment.xlsx',sheet_name=None)\n",
    "\n",
    "quotes_df = assignment_data['Quotes']\n",
    "requests_df = assignment_data['Requests']"
   ]
  },
  {
   "cell_type": "markdown",
   "id": "cb7d8f73-1bca-4778-8bc5-81801ebd7ae0",
   "metadata": {},
   "source": [
    "#### Saving"
   ]
  },
  {
   "cell_type": "code",
   "execution_count": 7,
   "id": "b36cadbe-c593-4156-965d-76a28d6757de",
   "metadata": {},
   "outputs": [],
   "source": [
    "# convert df's to dictionaries\n",
    "quotes_data = quotes_df.to_dict(orient='records')\n",
    "requests_data = requests_df.to_dict(orient='records')"
   ]
  },
  {
   "cell_type": "code",
   "execution_count": 8,
   "id": "650881bd-dffc-47ad-8742-4cada3914a36",
   "metadata": {},
   "outputs": [],
   "source": [
    "# # insert data into MongoDB collections\n",
    "# if quotes_data:\n",
    "#     quote_collection.insert_many(quotes_data)\n",
    "\n",
    "# if requests_data:\n",
    "#     request_collection.insert_many(requests_data)"
   ]
  },
  {
   "cell_type": "markdown",
   "id": "13e937ac-d4fc-42ff-bccd-154aed8ebec6",
   "metadata": {},
   "source": [
    "### Sandbox"
   ]
  },
  {
   "cell_type": "code",
   "execution_count": null,
   "id": "0fd7a62c-e0c7-468e-95b5-6af3dacfb711",
   "metadata": {},
   "outputs": [],
   "source": []
  }
 ],
 "metadata": {
  "kernelspec": {
   "display_name": "Python 3 (ipykernel)",
   "language": "python",
   "name": "python3"
  },
  "language_info": {
   "codemirror_mode": {
    "name": "ipython",
    "version": 3
   },
   "file_extension": ".py",
   "mimetype": "text/x-python",
   "name": "python",
   "nbconvert_exporter": "python",
   "pygments_lexer": "ipython3",
   "version": "3.11.7"
  }
 },
 "nbformat": 4,
 "nbformat_minor": 5
}
