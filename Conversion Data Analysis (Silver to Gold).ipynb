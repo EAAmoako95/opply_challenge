{
 "cells": [
  {
   "cell_type": "code",
   "execution_count": 15,
   "id": "6a10b1de-a1e8-47d7-8500-1ade1c0f66c9",
   "metadata": {},
   "outputs": [],
   "source": [
    "import os\n",
    "\n",
    "import pandas as pd\n",
    "import numpy as np\n",
    "\n",
    "from scipy import stats"
   ]
  },
  {
   "cell_type": "code",
   "execution_count": 2,
   "id": "4c1a10f8-c0a5-4e69-a29d-66f3f70cf953",
   "metadata": {},
   "outputs": [],
   "source": [
    "from warnings import filterwarnings\n",
    "filterwarnings('ignore')\n",
    "\n",
    "%config Completer.use_jedi = False"
   ]
  },
  {
   "cell_type": "code",
   "execution_count": 3,
   "id": "be94bfe5-9157-4852-8da1-426153f3b322",
   "metadata": {},
   "outputs": [
    {
     "data": {
      "text/html": [
       "        <script type=\"text/javascript\">\n",
       "        window.PlotlyConfig = {MathJaxConfig: 'local'};\n",
       "        if (window.MathJax && window.MathJax.Hub && window.MathJax.Hub.Config) {window.MathJax.Hub.Config({SVG: {font: \"STIX-Web\"}});}\n",
       "        if (typeof require !== 'undefined') {\n",
       "        require.undef(\"plotly\");\n",
       "        requirejs.config({\n",
       "            paths: {\n",
       "                'plotly': ['https://cdn.plot.ly/plotly-2.12.1.min']\n",
       "            }\n",
       "        });\n",
       "        require(['plotly'], function(Plotly) {\n",
       "            window._Plotly = Plotly;\n",
       "        });\n",
       "        }\n",
       "        </script>\n",
       "        "
      ]
     },
     "metadata": {},
     "output_type": "display_data"
    }
   ],
   "source": [
    "import cufflinks as cf\n",
    "cf.go_offline()"
   ]
  },
  {
   "cell_type": "markdown",
   "id": "9a8c34ce-118f-46d9-905c-95e60c30cfbe",
   "metadata": {},
   "source": [
    "### Read In Data"
   ]
  },
  {
   "cell_type": "code",
   "execution_count": 4,
   "id": "6a1bf9d0-67ab-46a1-bdfa-2b7813965d03",
   "metadata": {},
   "outputs": [],
   "source": [
    "requests_df = pd.read_pickle('.\\Silver Data\\silver_requests.pkl')\n",
    "quotes_df = pd.read_pickle('.\\Silver Data\\silver_quotes.pkl')"
   ]
  },
  {
   "cell_type": "markdown",
   "id": "f124f1da-ea58-4c29-bea6-9b32b963b6f1",
   "metadata": {},
   "source": [
    "### Analysis for Conversion\n",
    "\n",
    "Goal: to determine what factors increase (or impact in general whether positive or negative) chances that a request turns into an order"
   ]
  },
  {
   "cell_type": "markdown",
   "id": "6e982ba1-4c97-436c-847a-e77ffcfe45ba",
   "metadata": {},
   "source": [
    "Step...\n",
    "\n",
    "1. Merge data into one dataframe to consolidate one-to-many relationship of requests and quotes. Also create subset where status = \"ordered\""
   ]
  },
  {
   "cell_type": "code",
   "execution_count": 5,
   "id": "27788c40-2061-4f4b-b3af-e357ef4d8344",
   "metadata": {},
   "outputs": [],
   "source": [
    "merged_df = pd.merge(requests_df, quotes_df, on='Request UUID', how='left')"
   ]
  },
  {
   "cell_type": "code",
   "execution_count": 6,
   "id": "c2020810-434a-461d-ba48-2cada9021f69",
   "metadata": {},
   "outputs": [],
   "source": [
    "conversion_df = merged_df[merged_df['Status'] == 'Ordered']"
   ]
  },
  {
   "cell_type": "markdown",
   "id": "3332e45f-b4e5-43b0-9b94-3a7550074a97",
   "metadata": {},
   "source": [
    "2. Determine initial set of features which can influence conversion logically"
   ]
  },
  {
   "cell_type": "code",
   "execution_count": 7,
   "id": "b32e07e1-1282-4d3b-bdd3-4622166648d7",
   "metadata": {},
   "outputs": [],
   "source": [
    "# Create a binary column of converted or not\n",
    "merged_df['Converted'] = 0\n",
    "merged_df.loc[merged_df['Status']=='Ordered','Converted'] = 1"
   ]
  },
  {
   "cell_type": "code",
   "execution_count": 8,
   "id": "74c0a9b2-5b52-4182-9ec2-43f4352cc83d",
   "metadata": {},
   "outputs": [],
   "source": [
    "def fetch_numeric_vars(df):\n",
    "    \"\"\"\n",
    "    Return the columns that are number-like in nature as explanatory variables.\n",
    "\n",
    "    ...for further analysis where there are binary/categoric explanatory vars, then we would employ some kind of one-hot encoding or rep.\n",
    "    \"\"\"\n",
    "    numeric_columns = [col for col, dtype in df.dtypes.items() if pd.api.types.is_numeric_dtype(dtype)]\n",
    "\n",
    "    return numeric_columns"
   ]
  },
  {
   "cell_type": "code",
   "execution_count": 9,
   "id": "75571af4-15f4-4c44-bf5d-7d6eb31deb9f",
   "metadata": {},
   "outputs": [
    {
     "data": {
      "text/plain": [
       "['Current Unit Price',\n",
       " 'Target Unit Price',\n",
       " 'Quote Unit Price',\n",
       " 'Quote Delay',\n",
       " 'Converted']"
      ]
     },
     "execution_count": 9,
     "metadata": {},
     "output_type": "execute_result"
    }
   ],
   "source": [
    "# first determine numeric columns\n",
    "numeric_variables = fetch_numeric_vars(merged_df)\n",
    "numeric_variables"
   ]
  },
  {
   "cell_type": "code",
   "execution_count": 14,
   "id": "a73be8c2-08c7-41cf-ad84-e85102ebe895",
   "metadata": {},
   "outputs": [
    {
     "data": {
      "application/vnd.plotly.v1+json": {
       "config": {
        "linkText": "Export to plot.ly",
        "plotlyServerURL": "https://plot.ly",
        "showLink": true
       },
       "data": [
        {
         "colorscale": [
          [
           0,
           "rgb(252,251,253)"
          ],
          [
           0.125,
           "rgb(239,237,245)"
          ],
          [
           0.25,
           "rgb(218,218,235)"
          ],
          [
           0.375,
           "rgb(188,189,220)"
          ],
          [
           0.5,
           "rgb(158,154,200)"
          ],
          [
           0.625,
           "rgb(128,125,186)"
          ],
          [
           0.75,
           "rgb(106,81,163)"
          ],
          [
           0.875,
           "rgb(84,39,143)"
          ],
          [
           1,
           "rgb(63,0,125)"
          ]
         ],
         "type": "heatmap",
         "x": [
          "Current Unit Price",
          "Target Unit Price",
          "Quote Unit Price",
          "Quote Delay"
         ],
         "y": [
          "Current Unit Price",
          "Target Unit Price",
          "Quote Unit Price",
          "Quote Delay"
         ],
         "z": [
          [
           1,
           0.9743226110564414,
           0.8244025065702082,
           0.1857140937311974
          ],
          [
           0.9743226110564414,
           1,
           0.854573423386085,
           0.12784399819047776
          ],
          [
           0.8244025065702082,
           0.854573423386085,
           1,
           -0.011344145581528856
          ],
          [
           0.1857140937311974,
           0.12784399819047776,
           -0.011344145581528856,
           1
          ]
         ],
         "zmax": 1,
         "zmin": -0.011344145581528856
        }
       ],
       "layout": {
        "autosize": true,
        "legend": {
         "bgcolor": "#F5F6F9",
         "font": {
          "color": "#4D5663"
         }
        },
        "paper_bgcolor": "#F5F6F9",
        "plot_bgcolor": "#F5F6F9",
        "template": {
         "data": {
          "bar": [
           {
            "error_x": {
             "color": "#2a3f5f"
            },
            "error_y": {
             "color": "#2a3f5f"
            },
            "marker": {
             "line": {
              "color": "#E5ECF6",
              "width": 0.5
             },
             "pattern": {
              "fillmode": "overlay",
              "size": 10,
              "solidity": 0.2
             }
            },
            "type": "bar"
           }
          ],
          "barpolar": [
           {
            "marker": {
             "line": {
              "color": "#E5ECF6",
              "width": 0.5
             },
             "pattern": {
              "fillmode": "overlay",
              "size": 10,
              "solidity": 0.2
             }
            },
            "type": "barpolar"
           }
          ],
          "carpet": [
           {
            "aaxis": {
             "endlinecolor": "#2a3f5f",
             "gridcolor": "white",
             "linecolor": "white",
             "minorgridcolor": "white",
             "startlinecolor": "#2a3f5f"
            },
            "baxis": {
             "endlinecolor": "#2a3f5f",
             "gridcolor": "white",
             "linecolor": "white",
             "minorgridcolor": "white",
             "startlinecolor": "#2a3f5f"
            },
            "type": "carpet"
           }
          ],
          "choropleth": [
           {
            "colorbar": {
             "outlinewidth": 0,
             "ticks": ""
            },
            "type": "choropleth"
           }
          ],
          "contour": [
           {
            "colorbar": {
             "outlinewidth": 0,
             "ticks": ""
            },
            "colorscale": [
             [
              0,
              "#0d0887"
             ],
             [
              0.1111111111111111,
              "#46039f"
             ],
             [
              0.2222222222222222,
              "#7201a8"
             ],
             [
              0.3333333333333333,
              "#9c179e"
             ],
             [
              0.4444444444444444,
              "#bd3786"
             ],
             [
              0.5555555555555556,
              "#d8576b"
             ],
             [
              0.6666666666666666,
              "#ed7953"
             ],
             [
              0.7777777777777778,
              "#fb9f3a"
             ],
             [
              0.8888888888888888,
              "#fdca26"
             ],
             [
              1,
              "#f0f921"
             ]
            ],
            "type": "contour"
           }
          ],
          "contourcarpet": [
           {
            "colorbar": {
             "outlinewidth": 0,
             "ticks": ""
            },
            "type": "contourcarpet"
           }
          ],
          "heatmap": [
           {
            "colorbar": {
             "outlinewidth": 0,
             "ticks": ""
            },
            "colorscale": [
             [
              0,
              "#0d0887"
             ],
             [
              0.1111111111111111,
              "#46039f"
             ],
             [
              0.2222222222222222,
              "#7201a8"
             ],
             [
              0.3333333333333333,
              "#9c179e"
             ],
             [
              0.4444444444444444,
              "#bd3786"
             ],
             [
              0.5555555555555556,
              "#d8576b"
             ],
             [
              0.6666666666666666,
              "#ed7953"
             ],
             [
              0.7777777777777778,
              "#fb9f3a"
             ],
             [
              0.8888888888888888,
              "#fdca26"
             ],
             [
              1,
              "#f0f921"
             ]
            ],
            "type": "heatmap"
           }
          ],
          "heatmapgl": [
           {
            "colorbar": {
             "outlinewidth": 0,
             "ticks": ""
            },
            "colorscale": [
             [
              0,
              "#0d0887"
             ],
             [
              0.1111111111111111,
              "#46039f"
             ],
             [
              0.2222222222222222,
              "#7201a8"
             ],
             [
              0.3333333333333333,
              "#9c179e"
             ],
             [
              0.4444444444444444,
              "#bd3786"
             ],
             [
              0.5555555555555556,
              "#d8576b"
             ],
             [
              0.6666666666666666,
              "#ed7953"
             ],
             [
              0.7777777777777778,
              "#fb9f3a"
             ],
             [
              0.8888888888888888,
              "#fdca26"
             ],
             [
              1,
              "#f0f921"
             ]
            ],
            "type": "heatmapgl"
           }
          ],
          "histogram": [
           {
            "marker": {
             "pattern": {
              "fillmode": "overlay",
              "size": 10,
              "solidity": 0.2
             }
            },
            "type": "histogram"
           }
          ],
          "histogram2d": [
           {
            "colorbar": {
             "outlinewidth": 0,
             "ticks": ""
            },
            "colorscale": [
             [
              0,
              "#0d0887"
             ],
             [
              0.1111111111111111,
              "#46039f"
             ],
             [
              0.2222222222222222,
              "#7201a8"
             ],
             [
              0.3333333333333333,
              "#9c179e"
             ],
             [
              0.4444444444444444,
              "#bd3786"
             ],
             [
              0.5555555555555556,
              "#d8576b"
             ],
             [
              0.6666666666666666,
              "#ed7953"
             ],
             [
              0.7777777777777778,
              "#fb9f3a"
             ],
             [
              0.8888888888888888,
              "#fdca26"
             ],
             [
              1,
              "#f0f921"
             ]
            ],
            "type": "histogram2d"
           }
          ],
          "histogram2dcontour": [
           {
            "colorbar": {
             "outlinewidth": 0,
             "ticks": ""
            },
            "colorscale": [
             [
              0,
              "#0d0887"
             ],
             [
              0.1111111111111111,
              "#46039f"
             ],
             [
              0.2222222222222222,
              "#7201a8"
             ],
             [
              0.3333333333333333,
              "#9c179e"
             ],
             [
              0.4444444444444444,
              "#bd3786"
             ],
             [
              0.5555555555555556,
              "#d8576b"
             ],
             [
              0.6666666666666666,
              "#ed7953"
             ],
             [
              0.7777777777777778,
              "#fb9f3a"
             ],
             [
              0.8888888888888888,
              "#fdca26"
             ],
             [
              1,
              "#f0f921"
             ]
            ],
            "type": "histogram2dcontour"
           }
          ],
          "mesh3d": [
           {
            "colorbar": {
             "outlinewidth": 0,
             "ticks": ""
            },
            "type": "mesh3d"
           }
          ],
          "parcoords": [
           {
            "line": {
             "colorbar": {
              "outlinewidth": 0,
              "ticks": ""
             }
            },
            "type": "parcoords"
           }
          ],
          "pie": [
           {
            "automargin": true,
            "type": "pie"
           }
          ],
          "scatter": [
           {
            "fillpattern": {
             "fillmode": "overlay",
             "size": 10,
             "solidity": 0.2
            },
            "type": "scatter"
           }
          ],
          "scatter3d": [
           {
            "line": {
             "colorbar": {
              "outlinewidth": 0,
              "ticks": ""
             }
            },
            "marker": {
             "colorbar": {
              "outlinewidth": 0,
              "ticks": ""
             }
            },
            "type": "scatter3d"
           }
          ],
          "scattercarpet": [
           {
            "marker": {
             "colorbar": {
              "outlinewidth": 0,
              "ticks": ""
             }
            },
            "type": "scattercarpet"
           }
          ],
          "scattergeo": [
           {
            "marker": {
             "colorbar": {
              "outlinewidth": 0,
              "ticks": ""
             }
            },
            "type": "scattergeo"
           }
          ],
          "scattergl": [
           {
            "marker": {
             "colorbar": {
              "outlinewidth": 0,
              "ticks": ""
             }
            },
            "type": "scattergl"
           }
          ],
          "scattermapbox": [
           {
            "marker": {
             "colorbar": {
              "outlinewidth": 0,
              "ticks": ""
             }
            },
            "type": "scattermapbox"
           }
          ],
          "scatterpolar": [
           {
            "marker": {
             "colorbar": {
              "outlinewidth": 0,
              "ticks": ""
             }
            },
            "type": "scatterpolar"
           }
          ],
          "scatterpolargl": [
           {
            "marker": {
             "colorbar": {
              "outlinewidth": 0,
              "ticks": ""
             }
            },
            "type": "scatterpolargl"
           }
          ],
          "scatterternary": [
           {
            "marker": {
             "colorbar": {
              "outlinewidth": 0,
              "ticks": ""
             }
            },
            "type": "scatterternary"
           }
          ],
          "surface": [
           {
            "colorbar": {
             "outlinewidth": 0,
             "ticks": ""
            },
            "colorscale": [
             [
              0,
              "#0d0887"
             ],
             [
              0.1111111111111111,
              "#46039f"
             ],
             [
              0.2222222222222222,
              "#7201a8"
             ],
             [
              0.3333333333333333,
              "#9c179e"
             ],
             [
              0.4444444444444444,
              "#bd3786"
             ],
             [
              0.5555555555555556,
              "#d8576b"
             ],
             [
              0.6666666666666666,
              "#ed7953"
             ],
             [
              0.7777777777777778,
              "#fb9f3a"
             ],
             [
              0.8888888888888888,
              "#fdca26"
             ],
             [
              1,
              "#f0f921"
             ]
            ],
            "type": "surface"
           }
          ],
          "table": [
           {
            "cells": {
             "fill": {
              "color": "#EBF0F8"
             },
             "line": {
              "color": "white"
             }
            },
            "header": {
             "fill": {
              "color": "#C8D4E3"
             },
             "line": {
              "color": "white"
             }
            },
            "type": "table"
           }
          ]
         },
         "layout": {
          "annotationdefaults": {
           "arrowcolor": "#2a3f5f",
           "arrowhead": 0,
           "arrowwidth": 1
          },
          "autotypenumbers": "strict",
          "coloraxis": {
           "colorbar": {
            "outlinewidth": 0,
            "ticks": ""
           }
          },
          "colorscale": {
           "diverging": [
            [
             0,
             "#8e0152"
            ],
            [
             0.1,
             "#c51b7d"
            ],
            [
             0.2,
             "#de77ae"
            ],
            [
             0.3,
             "#f1b6da"
            ],
            [
             0.4,
             "#fde0ef"
            ],
            [
             0.5,
             "#f7f7f7"
            ],
            [
             0.6,
             "#e6f5d0"
            ],
            [
             0.7,
             "#b8e186"
            ],
            [
             0.8,
             "#7fbc41"
            ],
            [
             0.9,
             "#4d9221"
            ],
            [
             1,
             "#276419"
            ]
           ],
           "sequential": [
            [
             0,
             "#0d0887"
            ],
            [
             0.1111111111111111,
             "#46039f"
            ],
            [
             0.2222222222222222,
             "#7201a8"
            ],
            [
             0.3333333333333333,
             "#9c179e"
            ],
            [
             0.4444444444444444,
             "#bd3786"
            ],
            [
             0.5555555555555556,
             "#d8576b"
            ],
            [
             0.6666666666666666,
             "#ed7953"
            ],
            [
             0.7777777777777778,
             "#fb9f3a"
            ],
            [
             0.8888888888888888,
             "#fdca26"
            ],
            [
             1,
             "#f0f921"
            ]
           ],
           "sequentialminus": [
            [
             0,
             "#0d0887"
            ],
            [
             0.1111111111111111,
             "#46039f"
            ],
            [
             0.2222222222222222,
             "#7201a8"
            ],
            [
             0.3333333333333333,
             "#9c179e"
            ],
            [
             0.4444444444444444,
             "#bd3786"
            ],
            [
             0.5555555555555556,
             "#d8576b"
            ],
            [
             0.6666666666666666,
             "#ed7953"
            ],
            [
             0.7777777777777778,
             "#fb9f3a"
            ],
            [
             0.8888888888888888,
             "#fdca26"
            ],
            [
             1,
             "#f0f921"
            ]
           ]
          },
          "colorway": [
           "#636efa",
           "#EF553B",
           "#00cc96",
           "#ab63fa",
           "#FFA15A",
           "#19d3f3",
           "#FF6692",
           "#B6E880",
           "#FF97FF",
           "#FECB52"
          ],
          "font": {
           "color": "#2a3f5f"
          },
          "geo": {
           "bgcolor": "white",
           "lakecolor": "white",
           "landcolor": "#E5ECF6",
           "showlakes": true,
           "showland": true,
           "subunitcolor": "white"
          },
          "hoverlabel": {
           "align": "left"
          },
          "hovermode": "closest",
          "mapbox": {
           "style": "light"
          },
          "paper_bgcolor": "white",
          "plot_bgcolor": "#E5ECF6",
          "polar": {
           "angularaxis": {
            "gridcolor": "white",
            "linecolor": "white",
            "ticks": ""
           },
           "bgcolor": "#E5ECF6",
           "radialaxis": {
            "gridcolor": "white",
            "linecolor": "white",
            "ticks": ""
           }
          },
          "scene": {
           "xaxis": {
            "backgroundcolor": "#E5ECF6",
            "gridcolor": "white",
            "gridwidth": 2,
            "linecolor": "white",
            "showbackground": true,
            "ticks": "",
            "zerolinecolor": "white"
           },
           "yaxis": {
            "backgroundcolor": "#E5ECF6",
            "gridcolor": "white",
            "gridwidth": 2,
            "linecolor": "white",
            "showbackground": true,
            "ticks": "",
            "zerolinecolor": "white"
           },
           "zaxis": {
            "backgroundcolor": "#E5ECF6",
            "gridcolor": "white",
            "gridwidth": 2,
            "linecolor": "white",
            "showbackground": true,
            "ticks": "",
            "zerolinecolor": "white"
           }
          },
          "shapedefaults": {
           "line": {
            "color": "#2a3f5f"
           }
          },
          "ternary": {
           "aaxis": {
            "gridcolor": "white",
            "linecolor": "white",
            "ticks": ""
           },
           "baxis": {
            "gridcolor": "white",
            "linecolor": "white",
            "ticks": ""
           },
           "bgcolor": "#E5ECF6",
           "caxis": {
            "gridcolor": "white",
            "linecolor": "white",
            "ticks": ""
           }
          },
          "title": {
           "x": 0.05
          },
          "xaxis": {
           "automargin": true,
           "gridcolor": "white",
           "linecolor": "white",
           "ticks": "",
           "title": {
            "standoff": 15
           },
           "zerolinecolor": "white",
           "zerolinewidth": 2
          },
          "yaxis": {
           "automargin": true,
           "gridcolor": "white",
           "linecolor": "white",
           "ticks": "",
           "title": {
            "standoff": 15
           },
           "zerolinecolor": "white",
           "zerolinewidth": 2
          }
         }
        },
        "title": {
         "font": {
          "color": "#4D5663"
         }
        },
        "xaxis": {
         "autorange": true,
         "gridcolor": "#E1E5ED",
         "range": [
          -0.5,
          3.5
         ],
         "showgrid": true,
         "tickfont": {
          "color": "#4D5663"
         },
         "title": {
          "font": {
           "color": "#4D5663"
          },
          "text": ""
         },
         "type": "category",
         "zerolinecolor": "#E1E5ED"
        },
        "yaxis": {
         "autorange": true,
         "gridcolor": "#E1E5ED",
         "range": [
          -0.5,
          3.5
         ],
         "showgrid": true,
         "tickfont": {
          "color": "#4D5663"
         },
         "title": {
          "font": {
           "color": "#4D5663"
          },
          "text": ""
         },
         "type": "category",
         "zerolinecolor": "#E1E5ED"
        }
       }
      },
      "image/png": "[encoded data removed]",
      "text/html": [
       "<div>                            <div id=\"b1e33d22-ca77-4d4f-8c49-eee88e8ad33d\" class=\"plotly-graph-div\" style=\"height:525px; width:100%;\"></div>            <script type=\"text/javascript\">                require([\"plotly\"], function(Plotly) {                    window.PLOTLYENV=window.PLOTLYENV || {};\n",
       "                    window.PLOTLYENV.BASE_URL='https://plot.ly';                                    if (document.getElementById(\"b1e33d22-ca77-4d4f-8c49-eee88e8ad33d\")) {                    Plotly.newPlot(                        \"b1e33d22-ca77-4d4f-8c49-eee88e8ad33d\",                        [{\"colorscale\":[[0.0,\"rgb(252,251,253)\"],[0.125,\"rgb(239,237,245)\"],[0.25,\"rgb(218,218,235)\"],[0.375,\"rgb(188,189,220)\"],[0.5,\"rgb(158,154,200)\"],[0.625,\"rgb(128,125,186)\"],[0.75,\"rgb(106,81,163)\"],[0.875,\"rgb(84,39,143)\"],[1.0,\"rgb(63,0,125)\"]],\"x\":[\"Current Unit Price\",\"Target Unit Price\",\"Quote Unit Price\",\"Quote Delay\"],\"y\":[\"Current Unit Price\",\"Target Unit Price\",\"Quote Unit Price\",\"Quote Delay\"],\"z\":[[1.0,0.9743226110564414,0.8244025065702082,0.1857140937311974],[0.9743226110564414,1.0,0.854573423386085,0.12784399819047776],[0.8244025065702082,0.854573423386085,1.0,-0.011344145581528856],[0.1857140937311974,0.12784399819047776,-0.011344145581528856,1.0]],\"zmax\":1.0,\"zmin\":-0.011344145581528856,\"type\":\"heatmap\"}],                        {\"legend\":{\"bgcolor\":\"#F5F6F9\",\"font\":{\"color\":\"#4D5663\"}},\"paper_bgcolor\":\"#F5F6F9\",\"plot_bgcolor\":\"#F5F6F9\",\"template\":{\"data\":{\"barpolar\":[{\"marker\":{\"line\":{\"color\":\"#E5ECF6\",\"width\":0.5},\"pattern\":{\"fillmode\":\"overlay\",\"size\":10,\"solidity\":0.2}},\"type\":\"barpolar\"}],\"bar\":[{\"error_x\":{\"color\":\"#2a3f5f\"},\"error_y\":{\"color\":\"#2a3f5f\"},\"marker\":{\"line\":{\"color\":\"#E5ECF6\",\"width\":0.5},\"pattern\":{\"fillmode\":\"overlay\",\"size\":10,\"solidity\":0.2}},\"type\":\"bar\"}],\"carpet\":[{\"aaxis\":{\"endlinecolor\":\"#2a3f5f\",\"gridcolor\":\"white\",\"linecolor\":\"white\",\"minorgridcolor\":\"white\",\"startlinecolor\":\"#2a3f5f\"},\"baxis\":{\"endlinecolor\":\"#2a3f5f\",\"gridcolor\":\"white\",\"linecolor\":\"white\",\"minorgridcolor\":\"white\",\"startlinecolor\":\"#2a3f5f\"},\"type\":\"carpet\"}],\"choropleth\":[{\"colorbar\":{\"outlinewidth\":0,\"ticks\":\"\"},\"type\":\"choropleth\"}],\"contourcarpet\":[{\"colorbar\":{\"outlinewidth\":0,\"ticks\":\"\"},\"type\":\"contourcarpet\"}],\"contour\":[{\"colorbar\":{\"outlinewidth\":0,\"ticks\":\"\"},\"colorscale\":[[0.0,\"#0d0887\"],[0.1111111111111111,\"#46039f\"],[0.2222222222222222,\"#7201a8\"],[0.3333333333333333,\"#9c179e\"],[0.4444444444444444,\"#bd3786\"],[0.5555555555555556,\"#d8576b\"],[0.6666666666666666,\"#ed7953\"],[0.7777777777777778,\"#fb9f3a\"],[0.8888888888888888,\"#fdca26\"],[1.0,\"#f0f921\"]],\"type\":\"contour\"}],\"heatmapgl\":[{\"colorbar\":{\"outlinewidth\":0,\"ticks\":\"\"},\"colorscale\":[[0.0,\"#0d0887\"],[0.1111111111111111,\"#46039f\"],[0.2222222222222222,\"#7201a8\"],[0.3333333333333333,\"#9c179e\"],[0.4444444444444444,\"#bd3786\"],[0.5555555555555556,\"#d8576b\"],[0.6666666666666666,\"#ed7953\"],[0.7777777777777778,\"#fb9f3a\"],[0.8888888888888888,\"#fdca26\"],[1.0,\"#f0f921\"]],\"type\":\"heatmapgl\"}],\"heatmap\":[{\"colorbar\":{\"outlinewidth\":0,\"ticks\":\"\"},\"colorscale\":[[0.0,\"#0d0887\"],[0.1111111111111111,\"#46039f\"],[0.2222222222222222,\"#7201a8\"],[0.3333333333333333,\"#9c179e\"],[0.4444444444444444,\"#bd3786\"],[0.5555555555555556,\"#d8576b\"],[0.6666666666666666,\"#ed7953\"],[0.7777777777777778,\"#fb9f3a\"],[0.8888888888888888,\"#fdca26\"],[1.0,\"#f0f921\"]],\"type\":\"heatmap\"}],\"histogram2dcontour\":[{\"colorbar\":{\"outlinewidth\":0,\"ticks\":\"\"},\"colorscale\":[[0.0,\"#0d0887\"],[0.1111111111111111,\"#46039f\"],[0.2222222222222222,\"#7201a8\"],[0.3333333333333333,\"#9c179e\"],[0.4444444444444444,\"#bd3786\"],[0.5555555555555556,\"#d8576b\"],[0.6666666666666666,\"#ed7953\"],[0.7777777777777778,\"#fb9f3a\"],[0.8888888888888888,\"#fdca26\"],[1.0,\"#f0f921\"]],\"type\":\"histogram2dcontour\"}],\"histogram2d\":[{\"colorbar\":{\"outlinewidth\":0,\"ticks\":\"\"},\"colorscale\":[[0.0,\"#0d0887\"],[0.1111111111111111,\"#46039f\"],[0.2222222222222222,\"#7201a8\"],[0.3333333333333333,\"#9c179e\"],[0.4444444444444444,\"#bd3786\"],[0.5555555555555556,\"#d8576b\"],[0.6666666666666666,\"#ed7953\"],[0.7777777777777778,\"#fb9f3a\"],[0.8888888888888888,\"#fdca26\"],[1.0,\"#f0f921\"]],\"type\":\"histogram2d\"}],\"histogram\":[{\"marker\":{\"pattern\":{\"fillmode\":\"overlay\",\"size\":10,\"solidity\":0.2}},\"type\":\"histogram\"}],\"mesh3d\":[{\"colorbar\":{\"outlinewidth\":0,\"ticks\":\"\"},\"type\":\"mesh3d\"}],\"parcoords\":[{\"line\":{\"colorbar\":{\"outlinewidth\":0,\"ticks\":\"\"}},\"type\":\"parcoords\"}],\"pie\":[{\"automargin\":true,\"type\":\"pie\"}],\"scatter3d\":[{\"line\":{\"colorbar\":{\"outlinewidth\":0,\"ticks\":\"\"}},\"marker\":{\"colorbar\":{\"outlinewidth\":0,\"ticks\":\"\"}},\"type\":\"scatter3d\"}],\"scattercarpet\":[{\"marker\":{\"colorbar\":{\"outlinewidth\":0,\"ticks\":\"\"}},\"type\":\"scattercarpet\"}],\"scattergeo\":[{\"marker\":{\"colorbar\":{\"outlinewidth\":0,\"ticks\":\"\"}},\"type\":\"scattergeo\"}],\"scattergl\":[{\"marker\":{\"colorbar\":{\"outlinewidth\":0,\"ticks\":\"\"}},\"type\":\"scattergl\"}],\"scattermapbox\":[{\"marker\":{\"colorbar\":{\"outlinewidth\":0,\"ticks\":\"\"}},\"type\":\"scattermapbox\"}],\"scatterpolargl\":[{\"marker\":{\"colorbar\":{\"outlinewidth\":0,\"ticks\":\"\"}},\"type\":\"scatterpolargl\"}],\"scatterpolar\":[{\"marker\":{\"colorbar\":{\"outlinewidth\":0,\"ticks\":\"\"}},\"type\":\"scatterpolar\"}],\"scatter\":[{\"fillpattern\":{\"fillmode\":\"overlay\",\"size\":10,\"solidity\":0.2},\"type\":\"scatter\"}],\"scatterternary\":[{\"marker\":{\"colorbar\":{\"outlinewidth\":0,\"ticks\":\"\"}},\"type\":\"scatterternary\"}],\"surface\":[{\"colorbar\":{\"outlinewidth\":0,\"ticks\":\"\"},\"colorscale\":[[0.0,\"#0d0887\"],[0.1111111111111111,\"#46039f\"],[0.2222222222222222,\"#7201a8\"],[0.3333333333333333,\"#9c179e\"],[0.4444444444444444,\"#bd3786\"],[0.5555555555555556,\"#d8576b\"],[0.6666666666666666,\"#ed7953\"],[0.7777777777777778,\"#fb9f3a\"],[0.8888888888888888,\"#fdca26\"],[1.0,\"#f0f921\"]],\"type\":\"surface\"}],\"table\":[{\"cells\":{\"fill\":{\"color\":\"#EBF0F8\"},\"line\":{\"color\":\"white\"}},\"header\":{\"fill\":{\"color\":\"#C8D4E3\"},\"line\":{\"color\":\"white\"}},\"type\":\"table\"}]},\"layout\":{\"annotationdefaults\":{\"arrowcolor\":\"#2a3f5f\",\"arrowhead\":0,\"arrowwidth\":1},\"autotypenumbers\":\"strict\",\"coloraxis\":{\"colorbar\":{\"outlinewidth\":0,\"ticks\":\"\"}},\"colorscale\":{\"diverging\":[[0,\"#8e0152\"],[0.1,\"#c51b7d\"],[0.2,\"#de77ae\"],[0.3,\"#f1b6da\"],[0.4,\"#fde0ef\"],[0.5,\"#f7f7f7\"],[0.6,\"#e6f5d0\"],[0.7,\"#b8e186\"],[0.8,\"#7fbc41\"],[0.9,\"#4d9221\"],[1,\"#276419\"]],\"sequential\":[[0.0,\"#0d0887\"],[0.1111111111111111,\"#46039f\"],[0.2222222222222222,\"#7201a8\"],[0.3333333333333333,\"#9c179e\"],[0.4444444444444444,\"#bd3786\"],[0.5555555555555556,\"#d8576b\"],[0.6666666666666666,\"#ed7953\"],[0.7777777777777778,\"#fb9f3a\"],[0.8888888888888888,\"#fdca26\"],[1.0,\"#f0f921\"]],\"sequentialminus\":[[0.0,\"#0d0887\"],[0.1111111111111111,\"#46039f\"],[0.2222222222222222,\"#7201a8\"],[0.3333333333333333,\"#9c179e\"],[0.4444444444444444,\"#bd3786\"],[0.5555555555555556,\"#d8576b\"],[0.6666666666666666,\"#ed7953\"],[0.7777777777777778,\"#fb9f3a\"],[0.8888888888888888,\"#fdca26\"],[1.0,\"#f0f921\"]]},\"colorway\":[\"#636efa\",\"#EF553B\",\"#00cc96\",\"#ab63fa\",\"#FFA15A\",\"#19d3f3\",\"#FF6692\",\"#B6E880\",\"#FF97FF\",\"#FECB52\"],\"font\":{\"color\":\"#2a3f5f\"},\"geo\":{\"bgcolor\":\"white\",\"lakecolor\":\"white\",\"landcolor\":\"#E5ECF6\",\"showlakes\":true,\"showland\":true,\"subunitcolor\":\"white\"},\"hoverlabel\":{\"align\":\"left\"},\"hovermode\":\"closest\",\"mapbox\":{\"style\":\"light\"},\"paper_bgcolor\":\"white\",\"plot_bgcolor\":\"#E5ECF6\",\"polar\":{\"angularaxis\":{\"gridcolor\":\"white\",\"linecolor\":\"white\",\"ticks\":\"\"},\"bgcolor\":\"#E5ECF6\",\"radialaxis\":{\"gridcolor\":\"white\",\"linecolor\":\"white\",\"ticks\":\"\"}},\"scene\":{\"xaxis\":{\"backgroundcolor\":\"#E5ECF6\",\"gridcolor\":\"white\",\"gridwidth\":2,\"linecolor\":\"white\",\"showbackground\":true,\"ticks\":\"\",\"zerolinecolor\":\"white\"},\"yaxis\":{\"backgroundcolor\":\"#E5ECF6\",\"gridcolor\":\"white\",\"gridwidth\":2,\"linecolor\":\"white\",\"showbackground\":true,\"ticks\":\"\",\"zerolinecolor\":\"white\"},\"zaxis\":{\"backgroundcolor\":\"#E5ECF6\",\"gridcolor\":\"white\",\"gridwidth\":2,\"linecolor\":\"white\",\"showbackground\":true,\"ticks\":\"\",\"zerolinecolor\":\"white\"}},\"shapedefaults\":{\"line\":{\"color\":\"#2a3f5f\"}},\"ternary\":{\"aaxis\":{\"gridcolor\":\"white\",\"linecolor\":\"white\",\"ticks\":\"\"},\"baxis\":{\"gridcolor\":\"white\",\"linecolor\":\"white\",\"ticks\":\"\"},\"bgcolor\":\"#E5ECF6\",\"caxis\":{\"gridcolor\":\"white\",\"linecolor\":\"white\",\"ticks\":\"\"}},\"title\":{\"x\":0.05},\"xaxis\":{\"automargin\":true,\"gridcolor\":\"white\",\"linecolor\":\"white\",\"ticks\":\"\",\"title\":{\"standoff\":15},\"zerolinecolor\":\"white\",\"zerolinewidth\":2},\"yaxis\":{\"automargin\":true,\"gridcolor\":\"white\",\"linecolor\":\"white\",\"ticks\":\"\",\"title\":{\"standoff\":15},\"zerolinecolor\":\"white\",\"zerolinewidth\":2}}},\"title\":{\"font\":{\"color\":\"#4D5663\"}},\"xaxis\":{\"gridcolor\":\"#E1E5ED\",\"showgrid\":true,\"tickfont\":{\"color\":\"#4D5663\"},\"title\":{\"font\":{\"color\":\"#4D5663\"},\"text\":\"\"},\"zerolinecolor\":\"#E1E5ED\"},\"yaxis\":{\"gridcolor\":\"#E1E5ED\",\"showgrid\":true,\"tickfont\":{\"color\":\"#4D5663\"},\"title\":{\"font\":{\"color\":\"#4D5663\"},\"text\":\"\"},\"zerolinecolor\":\"#E1E5ED\"}},                        {\"showLink\": true, \"linkText\": \"Export to plot.ly\", \"plotlyServerURL\": \"https://plot.ly\", \"responsive\": true}                    ).then(function(){\n",
       "                            \n",
       "var gd = document.getElementById('b1e33d22-ca77-4d4f-8c49-eee88e8ad33d');\n",
       "var x = new MutationObserver(function (mutations, observer) {{\n",
       "        var display = window.getComputedStyle(gd).display;\n",
       "        if (!display || display === 'none') {{\n",
       "            console.log([gd, 'removed!']);\n",
       "            Plotly.purge(gd);\n",
       "            observer.disconnect();\n",
       "        }}\n",
       "}});\n",
       "\n",
       "// Listen for the removal of the full notebook cells\n",
       "var notebookContainer = gd.closest('#notebook-container');\n",
       "if (notebookContainer) {{\n",
       "    x.observe(notebookContainer, {childList: true});\n",
       "}}\n",
       "\n",
       "// Listen for the clearing of the current output cell\n",
       "var outputEl = gd.closest('.output');\n",
       "if (outputEl) {{\n",
       "    x.observe(outputEl, {childList: true});\n",
       "}}\n",
       "\n",
       "                        })                };                });            </script>        </div>"
      ]
     },
     "metadata": {},
     "output_type": "display_data"
    }
   ],
   "source": [
    "# Obvious observations here. Showing how certain products correlate in price, and how buyers tend to quote close to current price\n",
    "conversion_df[numeric_variables[:-1]].corr().iplot(kind='heatmap',colorscale='purples')"
   ]
  },
  {
   "cell_type": "markdown",
   "id": "f282e1e8-dcf0-4826-b811-d7e88b0fdd04",
   "metadata": {},
   "source": [
    "3. Perform t-test GENERALLY: those who converted and didn't"
   ]
  },
  {
   "cell_type": "code",
   "execution_count": 18,
   "id": "0c7d2f86-c2b5-4619-b144-15be8c86c9c7",
   "metadata": {},
   "outputs": [],
   "source": [
    "conversion_df = merged_df.loc[merged_df['Converted']==1]\n",
    "non_conversion_df = merged_df.loc[merged_df['Converted']==0]"
   ]
  },
  {
   "cell_type": "code",
   "execution_count": 36,
   "id": "ae00e9d7-74b5-48a2-a3f8-6c9decba67f7",
   "metadata": {},
   "outputs": [],
   "source": [
    "# dictionary to store t-test results\n",
    "t_test_results = {}\n",
    "\n",
    "for col in numeric_variables[:-1]:\n",
    "    t_statistic, p_value = stats.ttest_ind(conversion_df[col].fillna(0.0), non_conversion_df[col].fillna(0.0), equal_var=False)\n",
    "    t_test_results[col] = {'t_statistic': t_statistic, 'p_value': p_value}"
   ]
  },
  {
   "cell_type": "code",
   "execution_count": 37,
   "id": "96802798-2e11-4ecc-9722-4f39c6719925",
   "metadata": {},
   "outputs": [
    {
     "data": {
      "text/plain": [
       "{'Current Unit Price': {'t_statistic': 2.82214902915681,\n",
       "  'p_value': 0.0062875833515464},\n",
       " 'Target Unit Price': {'t_statistic': 2.270091637614785,\n",
       "  'p_value': 0.026177293608147887},\n",
       " 'Quote Unit Price': {'t_statistic': -0.01654602739835923,\n",
       "  'p_value': 0.9868411968019684},\n",
       " 'Quote Delay': {'t_statistic': -2.134562969735299,\n",
       "  'p_value': 0.0357484657760908}}"
      ]
     },
     "execution_count": 37,
     "metadata": {},
     "output_type": "execute_result"
    }
   ],
   "source": [
    "t_test_results"
   ]
  },
  {
   "cell_type": "markdown",
   "id": "79390a38-572e-4481-9afa-83a21bb430ca",
   "metadata": {},
   "source": [
    "The above indicates a rejection of the null hypothesis; that there is a statistically significant difference between requests that converted to order and those that didn't. This is true for:\n",
    "\n",
    "- Current Unit Price\n",
    "- Target Unit Price\n",
    "- Quote Delay\n",
    "\n",
    "...based on p-values from the t-test"
   ]
  },
  {
   "cell_type": "markdown",
   "id": "cd158092-ccec-4d3c-98ef-823c06276984",
   "metadata": {},
   "source": [
    "3.5 Perform the t-test SPECIFICALLY: those who converted and those who declined"
   ]
  },
  {
   "cell_type": "code",
   "execution_count": 38,
   "id": "829a37cd-33b2-4d09-bf0e-89445bbafd9c",
   "metadata": {},
   "outputs": [
    {
     "data": {
      "text/plain": [
       "array([nan, 'Available', 'Declined', 'Expired', 'Ordered'], dtype=object)"
      ]
     },
     "execution_count": 38,
     "metadata": {},
     "output_type": "execute_result"
    }
   ],
   "source": [
    "merged_df['Status'].unique()"
   ]
  },
  {
   "cell_type": "code",
   "execution_count": 39,
   "id": "8fba735f-5bd9-4149-8739-91866b528706",
   "metadata": {},
   "outputs": [],
   "source": [
    "# conversion_df as normal\n",
    "declined_conversion_df = merged_df.loc[merged_df['Status']==\"Declined\"]"
   ]
  },
  {
   "cell_type": "code",
   "execution_count": 40,
   "id": "62b8c892-2d1c-4661-858e-61efb81cb10c",
   "metadata": {},
   "outputs": [],
   "source": [
    "# dictionary to store t-test results\n",
    "t_test_results_2 = {}\n",
    "\n",
    "for col in numeric_variables[:-1]:\n",
    "    t_statistic, p_value = stats.ttest_ind(conversion_df[col].fillna(0.0), declined_conversion_df[col].fillna(0.0), equal_var=False)\n",
    "    t_test_results_2[col] = {'t_statistic': t_statistic, 'p_value': p_value}"
   ]
  },
  {
   "cell_type": "code",
   "execution_count": 41,
   "id": "264ef966-5d62-4f9f-a8ab-ac629ec25fa0",
   "metadata": {},
   "outputs": [
    {
     "data": {
      "text/plain": [
       "{'Current Unit Price': {'t_statistic': 0.6123956712024555,\n",
       "  'p_value': 0.546748587081374},\n",
       " 'Target Unit Price': {'t_statistic': 1.7355410668470124,\n",
       "  'p_value': 0.09246177336147934},\n",
       " 'Quote Unit Price': {'t_statistic': -1.7138881709943468,\n",
       "  'p_value': 0.10416506983584559},\n",
       " 'Quote Delay': {'t_statistic': -1.9480179522075325,\n",
       "  'p_value': 0.06833464212789603}}"
      ]
     },
     "execution_count": 41,
     "metadata": {},
     "output_type": "execute_result"
    }
   ],
   "source": [
    "t_test_results_2"
   ]
  },
  {
   "cell_type": "markdown",
   "id": "1bd34e21-f804-426e-b823-18e666bd9eec",
   "metadata": {},
   "source": [
    "The above indicates no solid rejection of the null hypothesis (based on an alpha of 0.05). Though few variables make it close. This is true for:\n",
    "\n",
    "- Target Unit Price\n",
    "- Quote Delay\n",
    "\n",
    "...based on p-values from the t-test\n",
    "\n",
    "#### Observation\n",
    "\n",
    "This (coupled with the general t-test run previously) may suggest that these overlapping variables have an impact on whether or not requests convert eventually to an order. \n",
    "\n",
    "The conclusion I would draw being that reasonable price requests from the buyer, and timely quote submission from the supplier, lead to an increased likelihood to convert."
   ]
  },
  {
   "cell_type": "markdown",
   "id": "11dae090-94ab-40a7-9c1b-d2d8e64e384f",
   "metadata": {},
   "source": [
    "# Further Analysis POI:\n",
    "\n",
    "The below are further steps I would take (time-allowing) to uncover better patterns of the data\n",
    "\n",
    "- Performing a logistic regression with several engineered columns for further insight. Including (but not limited to):\n",
    "- - deltas in prices and how their magnitudes impact results\n",
    "  - counts on the number of requests and quotes (to show if abundance of choice impacts the buyer)\n",
    "- Acquiring contextual data to see if seasonal pressures or market values impacted likelihoods\n",
    "- - this would involve acquiring dated data for requests and quotes.\n",
    "- Further insight into the qualitative columns as opposed to just the numeric columns.\n",
    "\n",
    "#### * PLEASE SEE ATTACHED WORD DOC FOR DETAILS ABOUT INSIGHTS"
   ]
  },
  {
   "cell_type": "code",
   "execution_count": 44,
   "id": "0625a289-9498-4591-8aeb-9e7e833ddc38",
   "metadata": {},
   "outputs": [
    {
     "data": {
      "text/html": [
       "<div>\n",
       "<style scoped>\n",
       "    .dataframe tbody tr th:only-of-type {\n",
       "        vertical-align: middle;\n",
       "    }\n",
       "\n",
       "    .dataframe tbody tr th {\n",
       "        vertical-align: top;\n",
       "    }\n",
       "\n",
       "    .dataframe thead th {\n",
       "        text-align: right;\n",
       "    }\n",
       "</style>\n",
       "<table border=\"1\" class=\"dataframe\">\n",
       "  <thead>\n",
       "    <tr style=\"text-align: right;\">\n",
       "      <th></th>\n",
       "      <th>_id</th>\n",
       "      <th>Request UUID</th>\n",
       "      <th>Request Name</th>\n",
       "      <th>Request Category</th>\n",
       "      <th>Current Unit Price</th>\n",
       "      <th>Target Unit Price</th>\n",
       "      <th>Supply Priority</th>\n",
       "    </tr>\n",
       "  </thead>\n",
       "  <tbody>\n",
       "    <tr>\n",
       "      <th>0</th>\n",
       "      <td>666ade13e6cdb11d64642be2</td>\n",
       "      <td>2a0c4e3e-ad49-4963-8b4d-cd7bc2178265</td>\n",
       "      <td>Dried leaves of Tulsi Vana - Ocimum gratissimum.</td>\n",
       "      <td>Herbs, Spices &amp; Seasonings</td>\n",
       "      <td>10.00</td>\n",
       "      <td>10.00</td>\n",
       "      <td>Quality</td>\n",
       "    </tr>\n",
       "    <tr>\n",
       "      <th>1</th>\n",
       "      <td>666ade13e6cdb11d64642be3</td>\n",
       "      <td>3f37c3c6-fd5e-4fb1-b61d-544a7e5fbd30</td>\n",
       "      <td>Fava Bean Protein Isolate 90%</td>\n",
       "      <td>Additives &amp; Preservatives</td>\n",
       "      <td>6.00</td>\n",
       "      <td>3.00</td>\n",
       "      <td>Price</td>\n",
       "    </tr>\n",
       "    <tr>\n",
       "      <th>3</th>\n",
       "      <td>666ade13e6cdb11d64642be5</td>\n",
       "      <td>4898a734-29ae-4b06-b478-1d64833095a5</td>\n",
       "      <td>inulin</td>\n",
       "      <td>Additives &amp; Preservatives</td>\n",
       "      <td>4.50</td>\n",
       "      <td>4.50</td>\n",
       "      <td>NaN</td>\n",
       "    </tr>\n",
       "    <tr>\n",
       "      <th>4</th>\n",
       "      <td>666ade13e6cdb11d64642be6</td>\n",
       "      <td>6bde3425-a303-409b-8aff-69437c204f4c</td>\n",
       "      <td>Organic Peruvian Cacao Nibs</td>\n",
       "      <td>Nuts, Seeds &amp; Dried Fruit</td>\n",
       "      <td>1.00</td>\n",
       "      <td>0.01</td>\n",
       "      <td>Price</td>\n",
       "    </tr>\n",
       "    <tr>\n",
       "      <th>5</th>\n",
       "      <td>666ade13e6cdb11d64642be7</td>\n",
       "      <td>290b221d-48a9-4a89-a54d-c6bb7afb8e4a</td>\n",
       "      <td>Peruvian Cocoa Butter Wafers</td>\n",
       "      <td>Fats, Oils &amp; Vinegars</td>\n",
       "      <td>0.01</td>\n",
       "      <td>0.01</td>\n",
       "      <td>Price</td>\n",
       "    </tr>\n",
       "    <tr>\n",
       "      <th>...</th>\n",
       "      <td>...</td>\n",
       "      <td>...</td>\n",
       "      <td>...</td>\n",
       "      <td>...</td>\n",
       "      <td>...</td>\n",
       "      <td>...</td>\n",
       "      <td>...</td>\n",
       "    </tr>\n",
       "    <tr>\n",
       "      <th>505</th>\n",
       "      <td>666ade13e6cdb11d64642ddb</td>\n",
       "      <td>6f39a515-609d-4a45-a77a-9e233cffb2aa</td>\n",
       "      <td>Cassava Flour (organic)</td>\n",
       "      <td>Fresh Fruit &amp; Vegetables</td>\n",
       "      <td>3.90</td>\n",
       "      <td>2.00</td>\n",
       "      <td>NaN</td>\n",
       "    </tr>\n",
       "    <tr>\n",
       "      <th>507</th>\n",
       "      <td>666ade13e6cdb11d64642ddd</td>\n",
       "      <td>de2b75d4-d09b-4830-b7b5-8dad4cbb748c</td>\n",
       "      <td>Tabasco Seasoning</td>\n",
       "      <td>Herbs, Spices &amp; Seasonings</td>\n",
       "      <td>11.40</td>\n",
       "      <td>11.20</td>\n",
       "      <td>NaN</td>\n",
       "    </tr>\n",
       "    <tr>\n",
       "      <th>508</th>\n",
       "      <td>666ade13e6cdb11d64642dde</td>\n",
       "      <td>62266ce5-c4b2-4cf2-af7a-e99a2a860223</td>\n",
       "      <td>British Silverside Beef</td>\n",
       "      <td>Meat &amp; Meat Alternatives</td>\n",
       "      <td>6.20</td>\n",
       "      <td>5.40</td>\n",
       "      <td>NaN</td>\n",
       "    </tr>\n",
       "    <tr>\n",
       "      <th>509</th>\n",
       "      <td>666ade13e6cdb11d64642ddf</td>\n",
       "      <td>f426764f-8c18-4cac-bb96-4decdf21c678</td>\n",
       "      <td>Himalayan salt fine</td>\n",
       "      <td>Herbs, Spices &amp; Seasonings</td>\n",
       "      <td>0.40</td>\n",
       "      <td>0.40</td>\n",
       "      <td>NaN</td>\n",
       "    </tr>\n",
       "    <tr>\n",
       "      <th>510</th>\n",
       "      <td>666ade13e6cdb11d64642de0</td>\n",
       "      <td>47331a6a-d647-4466-b141-93748cdada4e</td>\n",
       "      <td>Organic Shelled Hemp seeds</td>\n",
       "      <td>Nuts, Seeds &amp; Dried Fruit</td>\n",
       "      <td>6.50</td>\n",
       "      <td>6.50</td>\n",
       "      <td>NaN</td>\n",
       "    </tr>\n",
       "  </tbody>\n",
       "</table>\n",
       "<p>404 rows × 7 columns</p>\n",
       "</div>"
      ],
      "text/plain": [
       "                          _id                          Request UUID  \\\n",
       "0    666ade13e6cdb11d64642be2  2a0c4e3e-ad49-4963-8b4d-cd7bc2178265   \n",
       "1    666ade13e6cdb11d64642be3  3f37c3c6-fd5e-4fb1-b61d-544a7e5fbd30   \n",
       "3    666ade13e6cdb11d64642be5  4898a734-29ae-4b06-b478-1d64833095a5   \n",
       "4    666ade13e6cdb11d64642be6  6bde3425-a303-409b-8aff-69437c204f4c   \n",
       "5    666ade13e6cdb11d64642be7  290b221d-48a9-4a89-a54d-c6bb7afb8e4a   \n",
       "..                        ...                                   ...   \n",
       "505  666ade13e6cdb11d64642ddb  6f39a515-609d-4a45-a77a-9e233cffb2aa   \n",
       "507  666ade13e6cdb11d64642ddd  de2b75d4-d09b-4830-b7b5-8dad4cbb748c   \n",
       "508  666ade13e6cdb11d64642dde  62266ce5-c4b2-4cf2-af7a-e99a2a860223   \n",
       "509  666ade13e6cdb11d64642ddf  f426764f-8c18-4cac-bb96-4decdf21c678   \n",
       "510  666ade13e6cdb11d64642de0  47331a6a-d647-4466-b141-93748cdada4e   \n",
       "\n",
       "                                         Request Name  \\\n",
       "0    Dried leaves of Tulsi Vana - Ocimum gratissimum.   \n",
       "1                       Fava Bean Protein Isolate 90%   \n",
       "3                                              inulin   \n",
       "4                         Organic Peruvian Cacao Nibs   \n",
       "5                        Peruvian Cocoa Butter Wafers   \n",
       "..                                                ...   \n",
       "505                           Cassava Flour (organic)   \n",
       "507                                 Tabasco Seasoning   \n",
       "508                           British Silverside Beef   \n",
       "509                               Himalayan salt fine   \n",
       "510                        Organic Shelled Hemp seeds   \n",
       "\n",
       "               Request Category  Current Unit Price  Target Unit Price  \\\n",
       "0    Herbs, Spices & Seasonings               10.00              10.00   \n",
       "1     Additives & Preservatives                6.00               3.00   \n",
       "3     Additives & Preservatives                4.50               4.50   \n",
       "4     Nuts, Seeds & Dried Fruit                1.00               0.01   \n",
       "5         Fats, Oils & Vinegars                0.01               0.01   \n",
       "..                          ...                 ...                ...   \n",
       "505    Fresh Fruit & Vegetables                3.90               2.00   \n",
       "507  Herbs, Spices & Seasonings               11.40              11.20   \n",
       "508    Meat & Meat Alternatives                6.20               5.40   \n",
       "509  Herbs, Spices & Seasonings                0.40               0.40   \n",
       "510   Nuts, Seeds & Dried Fruit                6.50               6.50   \n",
       "\n",
       "    Supply Priority  \n",
       "0           Quality  \n",
       "1             Price  \n",
       "3               NaN  \n",
       "4             Price  \n",
       "5             Price  \n",
       "..              ...  \n",
       "505             NaN  \n",
       "507             NaN  \n",
       "508             NaN  \n",
       "509             NaN  \n",
       "510             NaN  \n",
       "\n",
       "[404 rows x 7 columns]"
      ]
     },
     "execution_count": 44,
     "metadata": {},
     "output_type": "execute_result"
    }
   ],
   "source": [
    "requests_df"
   ]
  },
  {
   "cell_type": "code",
   "execution_count": null,
   "id": "700984ae-24f1-46bc-8faa-4ad45d4e5fe5",
   "metadata": {},
   "outputs": [],
   "source": []
  }
 ],
 "metadata": {
  "kernelspec": {
   "display_name": "Python 3 (ipykernel)",
   "language": "python",
   "name": "python3"
  },
  "language_info": {
   "codemirror_mode": {
    "name": "ipython",
    "version": 3
   },
   "file_extension": ".py",
   "mimetype": "text/x-python",
   "name": "python",
   "nbconvert_exporter": "python",
   "pygments_lexer": "ipython3",
   "version": "3.11.7"
  }
 },
 "nbformat": 4,
 "nbformat_minor": 5
}
