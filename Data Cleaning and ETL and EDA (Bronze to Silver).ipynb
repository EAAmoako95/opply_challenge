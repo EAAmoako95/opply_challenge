{
 "cells": [
  {
   "cell_type": "code",
   "execution_count": 1,
   "id": "e04fd146-ac7a-402c-838d-0c2d8a3bae63",
   "metadata": {},
   "outputs": [],
   "source": [
    "import os\n",
    "import pymongo\n",
    "\n",
    "import pandas as pd\n",
    "import numpy as np\n",
    "\n",
    "from opply_resources import collection_payload\n",
    "\n",
    "from scipy.stats import skew\n",
    "from sklearn.preprocessing import RobustScaler"
   ]
  },
  {
   "cell_type": "code",
   "execution_count": 2,
   "id": "ad6faf98-a1b4-41cd-9284-05039ce37b14",
   "metadata": {},
   "outputs": [
    {
     "data": {
      "text/html": [
       "        <script type=\"text/javascript\">\n",
       "        window.PlotlyConfig = {MathJaxConfig: 'local'};\n",
       "        if (window.MathJax && window.MathJax.Hub && window.MathJax.Hub.Config) {window.MathJax.Hub.Config({SVG: {font: \"STIX-Web\"}});}\n",
       "        if (typeof require !== 'undefined') {\n",
       "        require.undef(\"plotly\");\n",
       "        requirejs.config({\n",
       "            paths: {\n",
       "                'plotly': ['https://cdn.plot.ly/plotly-2.12.1.min']\n",
       "            }\n",
       "        });\n",
       "        require(['plotly'], function(Plotly) {\n",
       "            window._Plotly = Plotly;\n",
       "        });\n",
       "        }\n",
       "        </script>\n",
       "        "
      ]
     },
     "metadata": {},
     "output_type": "display_data"
    }
   ],
   "source": [
    "import cufflinks as cf\n",
    "cf.go_offline()"
   ]
  },
  {
   "cell_type": "code",
   "execution_count": 3,
   "id": "160fd21e-9654-460a-9504-608d3a5b613a",
   "metadata": {},
   "outputs": [
    {
     "data": {
      "text/plain": [
       "dict_keys(['quotes_ernest', 'requests_ernest'])"
      ]
     },
     "execution_count": 3,
     "metadata": {},
     "output_type": "execute_result"
    }
   ],
   "source": [
    "collection_payload.keys()"
   ]
  },
  {
   "cell_type": "markdown",
   "id": "5f88bc42-c1bb-4772-b43f-fc3534933766",
   "metadata": {},
   "source": [
    "#### Read in data from collection(s)"
   ]
  },
  {
   "cell_type": "code",
   "execution_count": 4,
   "id": "6251d589-a1dd-4f6f-b183-3099d0770d61",
   "metadata": {},
   "outputs": [],
   "source": [
    "# receive payload\n",
    "quote_collection = collection_payload['quotes_ernest']\n",
    "request_collection = collection_payload['requests_ernest']"
   ]
  },
  {
   "cell_type": "code",
   "execution_count": 5,
   "id": "e06212d2-dd94-45b1-8a75-a79b329f1a2d",
   "metadata": {},
   "outputs": [],
   "source": [
    "# convert to dataframe-friendly format\n",
    "quote_data = list(quote_collection.find())\n",
    "request_data = list(request_collection.find())\n",
    "\n",
    "# ...and then create dataframes\n",
    "quotes_df = pd.DataFrame(quote_data)\n",
    "requests_df = pd.DataFrame(request_data)"
   ]
  },
  {
   "cell_type": "code",
   "execution_count": 6,
   "id": "02713d25-ba2f-45c0-b7a8-bd828555ec79",
   "metadata": {},
   "outputs": [
    {
     "data": {
      "text/html": [
       "<div>\n",
       "<style scoped>\n",
       "    .dataframe tbody tr th:only-of-type {\n",
       "        vertical-align: middle;\n",
       "    }\n",
       "\n",
       "    .dataframe tbody tr th {\n",
       "        vertical-align: top;\n",
       "    }\n",
       "\n",
       "    .dataframe thead th {\n",
       "        text-align: right;\n",
       "    }\n",
       "</style>\n",
       "<table border=\"1\" class=\"dataframe\">\n",
       "  <thead>\n",
       "    <tr style=\"text-align: right;\">\n",
       "      <th></th>\n",
       "      <th>_id</th>\n",
       "      <th>Request UUID</th>\n",
       "      <th>Quote Unit Price</th>\n",
       "      <th>Status</th>\n",
       "      <th>Decline Reason</th>\n",
       "      <th>Documents Provided</th>\n",
       "      <th>Quote Delay</th>\n",
       "    </tr>\n",
       "  </thead>\n",
       "  <tbody>\n",
       "    <tr>\n",
       "      <th>0</th>\n",
       "      <td>666ade13e6cdb11d646428a1</td>\n",
       "      <td>3f37c3c6-fd5e-4fb1-b61d-544a7e5fbd30</td>\n",
       "      <td>7.61</td>\n",
       "      <td>Available</td>\n",
       "      <td>NaN</td>\n",
       "      <td>Yes</td>\n",
       "      <td>2</td>\n",
       "    </tr>\n",
       "    <tr>\n",
       "      <th>1</th>\n",
       "      <td>666ade13e6cdb11d646428a2</td>\n",
       "      <td>3f37c3c6-fd5e-4fb1-b61d-544a7e5fbd30</td>\n",
       "      <td>14.91</td>\n",
       "      <td>Declined</td>\n",
       "      <td>pricing</td>\n",
       "      <td>Yes</td>\n",
       "      <td>0</td>\n",
       "    </tr>\n",
       "  </tbody>\n",
       "</table>\n",
       "</div>"
      ],
      "text/plain": [
       "                        _id                          Request UUID  \\\n",
       "0  666ade13e6cdb11d646428a1  3f37c3c6-fd5e-4fb1-b61d-544a7e5fbd30   \n",
       "1  666ade13e6cdb11d646428a2  3f37c3c6-fd5e-4fb1-b61d-544a7e5fbd30   \n",
       "\n",
       "   Quote Unit Price     Status Decline Reason Documents Provided  Quote Delay  \n",
       "0              7.61  Available            NaN                Yes            2  \n",
       "1             14.91   Declined        pricing                Yes            0  "
      ]
     },
     "execution_count": 6,
     "metadata": {},
     "output_type": "execute_result"
    }
   ],
   "source": [
    "quotes_df.head(2)"
   ]
  },
  {
   "cell_type": "code",
   "execution_count": 7,
   "id": "09f3a346-7215-4d81-86cd-b5b5453a2b90",
   "metadata": {},
   "outputs": [
    {
     "data": {
      "text/html": [
       "<div>\n",
       "<style scoped>\n",
       "    .dataframe tbody tr th:only-of-type {\n",
       "        vertical-align: middle;\n",
       "    }\n",
       "\n",
       "    .dataframe tbody tr th {\n",
       "        vertical-align: top;\n",
       "    }\n",
       "\n",
       "    .dataframe thead th {\n",
       "        text-align: right;\n",
       "    }\n",
       "</style>\n",
       "<table border=\"1\" class=\"dataframe\">\n",
       "  <thead>\n",
       "    <tr style=\"text-align: right;\">\n",
       "      <th></th>\n",
       "      <th>_id</th>\n",
       "      <th>Request UUID</th>\n",
       "      <th>Request Name</th>\n",
       "      <th>Request Category</th>\n",
       "      <th>Current Unit Price</th>\n",
       "      <th>Target Unit Price</th>\n",
       "      <th>Supply Priority</th>\n",
       "    </tr>\n",
       "  </thead>\n",
       "  <tbody>\n",
       "    <tr>\n",
       "      <th>0</th>\n",
       "      <td>666ade13e6cdb11d64642be2</td>\n",
       "      <td>2a0c4e3e-ad49-4963-8b4d-cd7bc2178265</td>\n",
       "      <td>Dried leaves of Tulsi Vana - Ocimum gratissimum.</td>\n",
       "      <td>Herbs, Spices &amp; Seasonings</td>\n",
       "      <td>10.0</td>\n",
       "      <td>10.0</td>\n",
       "      <td>Quality</td>\n",
       "    </tr>\n",
       "    <tr>\n",
       "      <th>1</th>\n",
       "      <td>666ade13e6cdb11d64642be3</td>\n",
       "      <td>3f37c3c6-fd5e-4fb1-b61d-544a7e5fbd30</td>\n",
       "      <td>Fava Bean Protein Isolate 90%</td>\n",
       "      <td>Additives &amp; Preservatives</td>\n",
       "      <td>6.0</td>\n",
       "      <td>3.0</td>\n",
       "      <td>Price</td>\n",
       "    </tr>\n",
       "  </tbody>\n",
       "</table>\n",
       "</div>"
      ],
      "text/plain": [
       "                        _id                          Request UUID  \\\n",
       "0  666ade13e6cdb11d64642be2  2a0c4e3e-ad49-4963-8b4d-cd7bc2178265   \n",
       "1  666ade13e6cdb11d64642be3  3f37c3c6-fd5e-4fb1-b61d-544a7e5fbd30   \n",
       "\n",
       "                                       Request Name  \\\n",
       "0  Dried leaves of Tulsi Vana - Ocimum gratissimum.   \n",
       "1                     Fava Bean Protein Isolate 90%   \n",
       "\n",
       "             Request Category  Current Unit Price  Target Unit Price  \\\n",
       "0  Herbs, Spices & Seasonings                10.0               10.0   \n",
       "1   Additives & Preservatives                 6.0                3.0   \n",
       "\n",
       "  Supply Priority  \n",
       "0         Quality  \n",
       "1           Price  "
      ]
     },
     "execution_count": 7,
     "metadata": {},
     "output_type": "execute_result"
    }
   ],
   "source": [
    "requests_df.head(2)"
   ]
  },
  {
   "cell_type": "markdown",
   "id": "c2d199bf-fbb7-46b4-9e74-32a7e6a2a619",
   "metadata": {},
   "source": [
    "### Perform Data Cleaning"
   ]
  },
  {
   "cell_type": "code",
   "execution_count": 8,
   "id": "b04f1d95-8a73-416d-ac15-7b598516c7db",
   "metadata": {},
   "outputs": [
    {
     "name": "stdout",
     "output_type": "stream",
     "text": [
      "<class 'pandas.core.frame.DataFrame'>\n",
      "RangeIndex: 511 entries, 0 to 510\n",
      "Data columns (total 7 columns):\n",
      " #   Column              Non-Null Count  Dtype  \n",
      "---  ------              --------------  -----  \n",
      " 0   _id                 511 non-null    object \n",
      " 1   Request UUID        511 non-null    object \n",
      " 2   Request Name        511 non-null    object \n",
      " 3   Request Category    500 non-null    object \n",
      " 4   Current Unit Price  511 non-null    float64\n",
      " 5   Target Unit Price   511 non-null    float64\n",
      " 6   Supply Priority     372 non-null    object \n",
      "dtypes: float64(2), object(5)\n",
      "memory usage: 28.1+ KB\n"
     ]
    }
   ],
   "source": [
    "requests_df.info()"
   ]
  },
  {
   "cell_type": "code",
   "execution_count": 9,
   "id": "93e823f7-102f-4fd0-9929-2436f6deb1a2",
   "metadata": {},
   "outputs": [
    {
     "data": {
      "text/html": [
       "<div>\n",
       "<style scoped>\n",
       "    .dataframe tbody tr th:only-of-type {\n",
       "        vertical-align: middle;\n",
       "    }\n",
       "\n",
       "    .dataframe tbody tr th {\n",
       "        vertical-align: top;\n",
       "    }\n",
       "\n",
       "    .dataframe thead th {\n",
       "        text-align: right;\n",
       "    }\n",
       "</style>\n",
       "<table border=\"1\" class=\"dataframe\">\n",
       "  <thead>\n",
       "    <tr style=\"text-align: right;\">\n",
       "      <th></th>\n",
       "      <th>Current Unit Price</th>\n",
       "      <th>Target Unit Price</th>\n",
       "    </tr>\n",
       "  </thead>\n",
       "  <tbody>\n",
       "    <tr>\n",
       "      <th>count</th>\n",
       "      <td>511.000000</td>\n",
       "      <td>511.000000</td>\n",
       "    </tr>\n",
       "    <tr>\n",
       "      <th>mean</th>\n",
       "      <td>39.428787</td>\n",
       "      <td>32.849902</td>\n",
       "    </tr>\n",
       "    <tr>\n",
       "      <th>std</th>\n",
       "      <td>534.629677</td>\n",
       "      <td>445.406012</td>\n",
       "    </tr>\n",
       "    <tr>\n",
       "      <th>min</th>\n",
       "      <td>0.010000</td>\n",
       "      <td>0.010000</td>\n",
       "    </tr>\n",
       "    <tr>\n",
       "      <th>25%</th>\n",
       "      <td>1.665000</td>\n",
       "      <td>1.600000</td>\n",
       "    </tr>\n",
       "    <tr>\n",
       "      <th>50%</th>\n",
       "      <td>4.000000</td>\n",
       "      <td>3.500000</td>\n",
       "    </tr>\n",
       "    <tr>\n",
       "      <th>75%</th>\n",
       "      <td>10.000000</td>\n",
       "      <td>8.900000</td>\n",
       "    </tr>\n",
       "    <tr>\n",
       "      <th>max</th>\n",
       "      <td>12000.000000</td>\n",
       "      <td>10000.000000</td>\n",
       "    </tr>\n",
       "  </tbody>\n",
       "</table>\n",
       "</div>"
      ],
      "text/plain": [
       "       Current Unit Price  Target Unit Price\n",
       "count          511.000000         511.000000\n",
       "mean            39.428787          32.849902\n",
       "std            534.629677         445.406012\n",
       "min              0.010000           0.010000\n",
       "25%              1.665000           1.600000\n",
       "50%              4.000000           3.500000\n",
       "75%             10.000000           8.900000\n",
       "max          12000.000000       10000.000000"
      ]
     },
     "execution_count": 9,
     "metadata": {},
     "output_type": "execute_result"
    }
   ],
   "source": [
    "requests_df.describe()"
   ]
  },
  {
   "cell_type": "code",
   "execution_count": 10,
   "id": "e3337c73-b077-4ec8-84dc-f94efdf95abe",
   "metadata": {},
   "outputs": [
    {
     "data": {
      "text/plain": [
       "{1}"
      ]
     },
     "execution_count": 10,
     "metadata": {},
     "output_type": "execute_result"
    }
   ],
   "source": [
    "set(requests_df['Request UUID'].value_counts()) # check for genuine uniqueness"
   ]
  },
  {
   "cell_type": "code",
   "execution_count": 11,
   "id": "6abf77a7-ba79-44cf-816c-935d790f69f6",
   "metadata": {},
   "outputs": [
    {
     "data": {
      "text/plain": [
       "{1, 2, 3, 4, 5, 6, 7, 8, 9, 10, 12}"
      ]
     },
     "execution_count": 11,
     "metadata": {},
     "output_type": "execute_result"
    }
   ],
   "source": [
    "set(quotes_df['Request UUID'].value_counts()) # lines up with one to many relationship of requests to quotes"
   ]
  },
  {
   "cell_type": "markdown",
   "id": "3ed3cb6b-1ebd-441c-b8e4-762a4a7fd007",
   "metadata": {},
   "source": [
    "##### Inspect outliers via z-score (METHOD PROVED NOT 100% ROBUST)"
   ]
  },
  {
   "cell_type": "code",
   "execution_count": 12,
   "id": "403c1aa6-baee-4165-807a-9e7bf419b48c",
   "metadata": {},
   "outputs": [],
   "source": [
    "def z_score_outlier_inspect(data,variables,threshold=3):\n",
    "    \"\"\"\n",
    "    Simple z-score calculation for outlier detection\n",
    "    \"\"\"\n",
    "    z_score_outlier_indices = {}\n",
    "\n",
    "    for var in variables:\n",
    "        srs = data[var]\n",
    "\n",
    "        mean = np.mean(srs)\n",
    "        std_dev = np.std(srs)\n",
    "        z_scores = np.abs((srs-mean)/std_dev)\n",
    "        outlier_indices = np.where(z_scores > threshold)[0]\n",
    "\n",
    "        z_score_outlier_indices[var] = outlier_indices\n",
    "\n",
    "    return z_score_outlier_indices"
   ]
  },
  {
   "cell_type": "code",
   "execution_count": 13,
   "id": "661ec243-9d1b-4f51-befa-911c007b7979",
   "metadata": {},
   "outputs": [],
   "source": [
    "def outlier_plot(data,detected_outlier_vars):\n",
    "    '''\n",
    "    Return a dictionary of explanatory vars and their associated plots.\n",
    "    '''\n",
    "    return_plots = {}\n",
    "    for var in detected_outlier_vars:\n",
    "        # define base plot\n",
    "        outlier_scatter_plot = data[var].iplot(kind='scatter',mode='markers',asFigure=True, \n",
    "                                              title=f\"Original {var} with Outliers Marked\",\n",
    "                                              xTitle=\"index\",yTitle=f\"{var}\",\n",
    "                                              theme='solar')\n",
    "        # Place markers on chart\n",
    "        for idx in detected_outlier_vars.get(var):\n",
    "            outlier_value = data.iloc[idx][var]\n",
    "            color = \"red\"\n",
    "            outlier_scatter_plot.add_scatter(x=[idx], \n",
    "                                             y=[outlier_value],mode='markers', \n",
    "                                             marker=dict(color=color, size=10, symbol=\"x\"), \n",
    "                                             showlegend=False, name=f\"idx {idx}\")\n",
    "\n",
    "        return_plots[var] = outlier_scatter_plot\n",
    "\n",
    "    return return_plots"
   ]
  },
  {
   "cell_type": "code",
   "execution_count": 14,
   "id": "5e15ad4f-c893-4709-b0fa-5380bf0d2c44",
   "metadata": {},
   "outputs": [],
   "source": [
    "# get dictionary of z_score calculated outliers\n",
    "z_score_outlier_dict_REQUESTS = z_score_outlier_inspect(data=requests_df.loc[requests_df['Current Unit Price']<12000],\n",
    "                                                        variables=['Current Unit Price','Target Unit Price'])\n",
    "\n",
    "# using all values below 12000 above, as it is a clear outlier"
   ]
  },
  {
   "cell_type": "code",
   "execution_count": 15,
   "id": "0b1d0fae-fc35-4ce5-8756-5300b42fd2fb",
   "metadata": {},
   "outputs": [
    {
     "data": {
      "text/plain": [
       "{'Current Unit Price': array([165, 249, 427, 436], dtype=int64),\n",
       " 'Target Unit Price': array([165, 427, 436], dtype=int64)}"
      ]
     },
     "execution_count": 15,
     "metadata": {},
     "output_type": "execute_result"
    }
   ],
   "source": [
    "z_score_outlier_dict_REQUESTS # indices of where outliers are detected as determined above"
   ]
  },
  {
   "cell_type": "code",
   "execution_count": 16,
   "id": "e48c97a8-8e6d-484b-942a-6bc497be5813",
   "metadata": {},
   "outputs": [],
   "source": [
    "# # get dictionary of plots\n",
    "# z_score_plotting_dict_REQUESTS = outlier_plot(data=requests_df,\n",
    "#                                               detected_outlier_vars=z_score_outlier_dict_REQUESTS)\n",
    "# # ...and then plot for visual confirmation\n",
    "# for ky in z_score_plotting_dict_REQUESTS.keys():\n",
    "#     z_score_plotting_dict_REQUESTS[ky].show()"
   ]
  },
  {
   "cell_type": "markdown",
   "id": "0803e9e2-c836-49d2-91f5-2e95c64a96df",
   "metadata": {},
   "source": [
    "##### IQR Outlier detection"
   ]
  },
  {
   "cell_type": "code",
   "execution_count": 17,
   "id": "858b1ab6-813e-4949-ba61-e2d384479c95",
   "metadata": {},
   "outputs": [],
   "source": [
    "def adjust_thresholds_based_on_data(data, variables):\n",
    "    adjusted_thresholds = {}\n",
    "    scaler = RobustScaler()\n",
    "\n",
    "    for var in variables:\n",
    "        srs = data[var].copy()\n",
    "        srs.fillna(0.0, inplace=True)\n",
    "\n",
    "        # normalise the data using RobustScaler\n",
    "        norm_srs = scaler.fit_transform(srs.values.reshape(-1,1)).flatten()\n",
    "\n",
    "        median = np.median(norm_srs)\n",
    "        mad = np.median(np.abs(norm_srs - median))\n",
    "\n",
    "        # adjust outlier detection thresholds based on data characteristics\n",
    "        multiplier = 1.5  # starting multiplier\n",
    "        skewness = skew(norm_srs)\n",
    "        if abs(skewness) > 1.0:\n",
    "            multiplier *= 2.0  # reasonable increase in multiplier for highly skewed data\n",
    "            \n",
    "        # adjust thresholds based on interquartile range (IQR) and multiplier\n",
    "        lower_bound = median - multiplier * mad\n",
    "        upper_bound = median + multiplier * mad\n",
    "        \n",
    "        # Store adjusted thresholds for this variable\n",
    "        adjusted_thresholds[var] = {'lower_bound': lower_bound, 'upper_bound': upper_bound}\n",
    "    \n",
    "    return adjusted_thresholds"
   ]
  },
  {
   "cell_type": "code",
   "execution_count": 18,
   "id": "6f7fd086-e780-4585-8e80-301d892aba19",
   "metadata": {},
   "outputs": [],
   "source": [
    "def IQR_outlier_inspect(data,variables):\n",
    "    \"\"\"\n",
    "    Takes a dataset and a set of variables to iterate through\n",
    "\n",
    "    Breaks the data into individual series' , normalises them and then calculates median, MAD, and IQR\n",
    "\n",
    "    taking into account the 'skewness' of the data.\n",
    "\n",
    "    Returns a nested dict of {key=variable : value = {lower bound, upper bound}}\n",
    "    \"\"\"\n",
    "    detected_variable_outliers = {}\n",
    "\n",
    "    adjusted_thresholds = adjust_thresholds_based_on_data(data=data, variables=variables)\n",
    "\n",
    "    for var in variables:\n",
    "        srs = data[var].copy()\n",
    "        srs.fillna(0.0, inplace=True)\n",
    "        \n",
    "        # norm'ing the data using RobustScaler\n",
    "        scaler = RobustScaler()\n",
    "        norm_srs = scaler.fit_transform(srs.values.reshape(-1, 1)).flatten()\n",
    "        \n",
    "        # adjusted thresholds for this explanatory variable\n",
    "        thresholds = adjusted_thresholds[var]\n",
    "\n",
    "        # detected outliers based on adjusted thresholds\n",
    "        outlier_indices = data[(norm_srs < thresholds['lower_bound']) | (norm_srs > thresholds['upper_bound'])].index\n",
    "\n",
    "        detected_variable_outliers[var] = outlier_indices\n",
    "\n",
    "    # return only non-empty elements\n",
    "    non_empty_elements = {key: value for key, value in detected_variable_outliers.items() if len(value) > 0 and len(value) != len(srs)}\n",
    "\n",
    "    return non_empty_elements"
   ]
  },
  {
   "cell_type": "code",
   "execution_count": 19,
   "id": "58573c93-4902-4a2f-a489-deb853f4e79e",
   "metadata": {},
   "outputs": [],
   "source": [
    "IQR_outlier_dict_REQUESTS = IQR_outlier_inspect(data=requests_df,\n",
    "                                                variables=['Current Unit Price','Target Unit Price'])\n",
    "\n",
    "IQR_outlier_dict_QUOTES = IQR_outlier_inspect(data=quotes_df,variables=['Quote Unit Price','Quote Delay'])"
   ]
  },
  {
   "cell_type": "code",
   "execution_count": 20,
   "id": "dc0e99cd-330f-4af5-b42e-553c14d045f8",
   "metadata": {},
   "outputs": [
    {
     "data": {
      "text/plain": [
       "{'Current Unit Price': Index([  2,   7,   9,  12,  18,  28,  29,  41,  42,  43,\n",
       "        ...\n",
       "        475, 476, 477, 478, 487, 489, 492, 497, 498, 506],\n",
       "       dtype='int64', length=107),\n",
       " 'Target Unit Price': Index([  2,   7,   9,  12,  18,  28,  29,  41,  42,  43,\n",
       "        ...\n",
       "        472, 473, 474, 475, 476, 477, 478, 497, 498, 506],\n",
       "       dtype='int64', length=113)}"
      ]
     },
     "execution_count": 20,
     "metadata": {},
     "output_type": "execute_result"
    }
   ],
   "source": [
    "IQR_outlier_dict_REQUESTS"
   ]
  },
  {
   "cell_type": "code",
   "execution_count": 21,
   "id": "cdf6a74f-0740-4589-86fd-65252f95791d",
   "metadata": {},
   "outputs": [
    {
     "data": {
      "text/plain": [
       "{'Quote Unit Price': Index([  5,   6,  14,  15,  24,  26,  39,  52,  60,  64,\n",
       "        ...\n",
       "        793, 794, 795, 796, 798, 799, 800, 801, 804, 808],\n",
       "       dtype='int64', length=161),\n",
       " 'Quote Delay': Index([  3,  11,  12,  13,  15,  22,  23,  24,  35,  36,\n",
       "        ...\n",
       "        718, 732, 733, 734, 772, 802, 803, 805, 816, 820],\n",
       "       dtype='int64', length=225)}"
      ]
     },
     "execution_count": 21,
     "metadata": {},
     "output_type": "execute_result"
    }
   ],
   "source": [
    "IQR_outlier_dict_QUOTES"
   ]
  },
  {
   "cell_type": "code",
   "execution_count": 22,
   "id": "ebda8451-0678-48a2-ba24-7389cdd8cc18",
   "metadata": {},
   "outputs": [
    {
     "data": {
      "application/vnd.plotly.v1+json": {
       "config": {
        "plotlyServerURL": "https://plot.ly"
       },
       "data": [
        {
         "line": {
          "color": "rgba(255, 153, 51, 1.0)",
          "dash": "solid",
          "shape": "linear",
          "width": 1.3
         },
         "marker": {
          "size": 12,
          "symbol": "circle"
         },
         "mode": "markers",
         "name": "Current Unit Price",
         "text": "",
         "type": "scatter",
         "x": [
          0,
          1,
          2,
          3,
          4,
          5,
          6,
          7,
          8,
          9,
          10,
          11,
          12,
          13,
          14,
          15,
          16,
          17,
          18,
          19,
          20,
          21,
          22,
          23,
          24,
          25,
          26,
          27,
          28,
          29,
          30,
          31,
          32,
          33,
          34,
          35,
          36,
          37,
          38,
          39,
          40,
          41,
          42,
          43,
          44,
          45,
          46,
          47,
          48,
          49,
          50,
          51,
          52,
          53,
          54,
          55,
          56,
          57,
          58,
          59,
          60,
          61,
          62,
          63,
          64,
          65,
          66,
          67,
          68,
          69,
          70,
          71,
          72,
          73,
          74,
          75,
          76,
          77,
          78,
          79,
          80,
          81,
          82,
          83,
          84,
          85,
          86,
          87,
          88,
          89,
          90,
          91,
          92,
          93,
          94,
          95,
          96,
          97,
          98,
          99,
          100,
          101,
          102,
          103,
          104,
          105,
          106,
          107,
          108,
          109,
          110,
          111,
          112,
          113,
          114,
          115,
          116,
          117,
          118,
          119,
          120,
          121,
          122,
          123,
          124,
          125,
          126,
          127,
          128,
          129,
          130,
          131,
          132,
          133,
          134,
          135,
          136,
          137,
          138,
          139,
          140,
          141,
          142,
          143,
          144,
          145,
          146,
          147,
          148,
          149,
          150,
          151,
          152,
          153,
          154,
          155,
          156,
          157,
          158,
          159,
          160,
          161,
          162,
          163,
          164,
          165,
          166,
          167,
          168,
          169,
          170,
          171,
          172,
          173,
          174,
          175,
          176,
          177,
          178,
          179,
          180,
          181,
          182,
          183,
          184,
          185,
          186,
          187,
          188,
          189,
          190,
          191,
          192,
          193,
          194,
          195,
          196,
          197,
          198,
          199,
          200,
          201,
          202,
          203,
          204,
          205,
          206,
          207,
          208,
          209,
          210,
          211,
          212,
          213,
          214,
          215,
          216,
          217,
          218,
          219,
          220,
          221,
          222,
          223,
          224,
          225,
          226,
          227,
          228,
          229,
          230,
          231,
          232,
          233,
          234,
          235,
          236,
          237,
          238,
          239,
          240,
          241,
          242,
          243,
          244,
          245,
          246,
          247,
          248,
          249,
          250,
          251,
          252,
          253,
          254,
          255,
          256,
          257,
          258,
          259,
          260,
          261,
          262,
          263,
          264,
          265,
          266,
          267,
          268,
          269,
          270,
          271,
          272,
          273,
          274,
          275,
          276,
          277,
          278,
          279,
          280,
          281,
          282,
          283,
          284,
          285,
          286,
          287,
          288,
          289,
          290,
          291,
          292,
          293,
          294,
          295,
          296,
          297,
          298,
          299,
          300,
          301,
          302,
          303,
          304,
          305,
          306,
          307,
          308,
          309,
          310,
          311,
          312,
          313,
          314,
          315,
          316,
          317,
          318,
          319,
          320,
          321,
          322,
          323,
          324,
          325,
          326,
          327,
          328,
          329,
          330,
          331,
          332,
          333,
          334,
          335,
          336,
          337,
          338,
          339,
          340,
          341,
          342,
          343,
          344,
          345,
          346,
          347,
          348,
          349,
          350,
          351,
          352,
          353,
          354,
          355,
          356,
          357,
          358,
          359,
          360,
          361,
          362,
          363,
          364,
          365,
          366,
          367,
          368,
          369,
          370,
          371,
          372,
          373,
          374,
          375,
          376,
          377,
          378,
          379,
          380,
          381,
          382,
          383,
          384,
          385,
          386,
          387,
          388,
          389,
          390,
          391,
          392,
          393,
          394,
          395,
          396,
          397,
          398,
          399,
          400,
          401,
          402,
          403,
          404,
          405,
          406,
          407,
          408,
          409,
          410,
          411,
          412,
          413,
          414,
          415,
          416,
          417,
          418,
          419,
          420,
          421,
          422,
          423,
          424,
          425,
          426,
          427,
          428,
          429,
          430,
          431,
          432,
          433,
          434,
          435,
          436,
          437,
          438,
          439,
          440,
          441,
          442,
          443,
          444,
          445,
          446,
          447,
          448,
          449,
          450,
          451,
          452,
          453,
          454,
          455,
          456,
          457,
          458,
          459,
          460,
          461,
          462,
          463,
          464,
          465,
          466,
          467,
          468,
          469,
          470,
          471,
          472,
          473,
          474,
          475,
          476,
          477,
          478,
          479,
          480,
          481,
          482,
          483,
          484,
          485,
          486,
          487,
          488,
          489,
          490,
          491,
          492,
          493,
          494,
          495,
          496,
          497,
          498,
          499,
          500,
          501,
          502,
          503,
          504,
          505,
          506,
          507,
          508,
          509,
          510
         ],
         "y": [
          10,
          6,
          25,
          4.5,
          1,
          0.01,
          1,
          14.77,
          2.98,
          99,
          3,
          0.01,
          48,
          6,
          0.01,
          2.98,
          6,
          1.64,
          12000,
          7.2,
          3.5,
          1.8,
          3,
          4.5,
          2,
          0.01,
          1.07,
          2.45,
          35,
          21,
          2.5,
          3,
          2.7,
          7,
          7,
          7,
          7,
          7,
          2.8,
          8.25,
          1.5,
          20,
          20,
          20,
          1.67,
          0.83,
          1.74,
          11.15,
          16.85,
          1.11,
          20.74,
          42.94,
          2.38,
          2.38,
          16.85,
          12.6,
          4.2,
          22.19,
          2,
          33.5,
          2.98,
          1.29,
          1.32,
          1.14,
          0.86,
          1.7,
          1.43,
          1.12,
          1.38,
          6.3,
          9.47,
          2.52,
          1.9,
          6.3,
          1.35,
          12.49,
          8,
          3.02,
          4.49,
          15.38,
          3.17,
          5.75,
          1.8,
          3.56,
          4.17,
          2,
          9.25,
          6.6,
          15.82,
          9.47,
          2.52,
          1.9,
          6.3,
          8.8,
          2.76,
          15.38,
          1.35,
          3.17,
          12.49,
          8,
          5.89,
          7.3,
          5.75,
          3.02,
          4.49,
          1.8,
          3.56,
          4.17,
          1.4,
          3.3,
          7.26,
          3.3,
          1.96,
          3.78,
          3.5,
          1.8,
          3.05,
          3,
          1.05,
          25,
          5,
          20,
          6.2,
          6.2,
          0.98,
          29.9,
          160,
          3.1,
          1.54,
          0.62,
          5.61,
          4.95,
          2.5,
          4.82,
          0.67,
          0.01,
          0.01,
          0.01,
          0.01,
          0.01,
          0.01,
          0.01,
          0.01,
          0.01,
          0.01,
          0.01,
          0.01,
          0.01,
          0.01,
          0.01,
          3.5,
          3.5,
          0.01,
          0.01,
          0.01,
          0.01,
          0.01,
          11.5,
          4.6,
          5,
          5,
          4.5,
          1,
          2.8,
          0.01,
          0.01,
          1000,
          0.96,
          2.95,
          22.75,
          2.97,
          82,
          13.98,
          8.4,
          7.36,
          8.41,
          34.33,
          15.5,
          13.24,
          24.8,
          5.18,
          48,
          4.6,
          6.64,
          16.7,
          6.72,
          14,
          0.85,
          8,
          8,
          8,
          0.01,
          0.01,
          0.01,
          27,
          2,
          6.9,
          10.5,
          2.5,
          2.5,
          0.08,
          49,
          3.99,
          1.8,
          0.01,
          0.01,
          0.01,
          3,
          12,
          4.5,
          1.66,
          1.66,
          0.01,
          22.99,
          0.01,
          3.3,
          7.62,
          7.2,
          0.01,
          14.26,
          6.5,
          1.52,
          4.08,
          6.5,
          100,
          6.75,
          1.6,
          20,
          1,
          0.01,
          0.01,
          5,
          3.5,
          0.98,
          0.01,
          6,
          1.67,
          0.98,
          3,
          1.95,
          11.5,
          12.05,
          20,
          17.25,
          8.1,
          4,
          6.45,
          6.48,
          4,
          1.74,
          747,
          0.01,
          3.48,
          3.2,
          7.47,
          0.01,
          7.5,
          7.5,
          6.6,
          6.15,
          7.2,
          1.92,
          7.69,
          4.99,
          3.4,
          4.2,
          0.09,
          100,
          100,
          24,
          2.5,
          11.96,
          31,
          4,
          5,
          6.6,
          3.85,
          8,
          22.17,
          18.7,
          13.22,
          15.63,
          90,
          0.01,
          20,
          16,
          18.5,
          3.93,
          1.6,
          6,
          35,
          8,
          25,
          40,
          24,
          20,
          1.89,
          2.25,
          7.98,
          0.01,
          8.48,
          12.05,
          1.8,
          2.3,
          2.25,
          1.89,
          7.49,
          5.44,
          15,
          1.98,
          1,
          1,
          1.55,
          183,
          60,
          36.4,
          49.56,
          1.8,
          200,
          0.84,
          2.3,
          1.6,
          1.33,
          3.45,
          1.75,
          1.5,
          1.68,
          1.04,
          0.88,
          1.78,
          2.7,
          3.62,
          7.6,
          1.9,
          2.4,
          5,
          5,
          1.25,
          4,
          2.4,
          1.97,
          6.5,
          7.01,
          7.05,
          12.05,
          6.23,
          6.34,
          6.27,
          0.84,
          10.66,
          3.35,
          3.35,
          1.18,
          1.01,
          24,
          40,
          16,
          20,
          0.01,
          1.33,
          1.98,
          1.2,
          1.98,
          1.33,
          1.92,
          5.35,
          3,
          1.69,
          1.69,
          3,
          0.01,
          0.01,
          0.01,
          0.01,
          0.01,
          12.56,
          0.01,
          0.01,
          168.78,
          0.01,
          0.01,
          0.01,
          0.01,
          0.01,
          0.01,
          6.34,
          6.23,
          6.27,
          12.05,
          2.24,
          1.97,
          3.9,
          7.01,
          7.05,
          6.5,
          2.4,
          4,
          0.84,
          10.66,
          3.35,
          30.4,
          32.57,
          18,
          1.18,
          2.39,
          6.85,
          4.17,
          1.01,
          2,
          18,
          3.15,
          10,
          10,
          5.73,
          5.75,
          5.55,
          2.25,
          4.1,
          2.7,
          6,
          7,
          1.44,
          3,
          7,
          15,
          12,
          5,
          1.25,
          600,
          1.5,
          2,
          14,
          15.09,
          5.8,
          4.8,
          1.44,
          4,
          600,
          19.99,
          16,
          7,
          6,
          7.5,
          41.95,
          3.6,
          2.66,
          1,
          0.8,
          0.56,
          0.01,
          79,
          14,
          8.5,
          1.34,
          9.57,
          3.4,
          2.27,
          3.8,
          160,
          6.1,
          4.5,
          3.15,
          27,
          38,
          40,
          5,
          61,
          17,
          56,
          13.22,
          20,
          40,
          16.99,
          18.7,
          12.7,
          16,
          22.8,
          16.37,
          16,
          0.6,
          1.95,
          3.68,
          1.9,
          3.8,
          1.38,
          3.05,
          6.1,
          22,
          0.01,
          14,
          0.47,
          8,
          15,
          1,
          0.01,
          0.45,
          0.45,
          31.5,
          15,
          2.16,
          4.42,
          2.27,
          3.4,
          2.75,
          2.75,
          3.9,
          16.6,
          11.4,
          6.2,
          0.4,
          6.5
         ]
        },
        {
         "marker": {
          "color": "red",
          "size": 10,
          "symbol": "x"
         },
         "mode": "markers",
         "name": "idx 2",
         "showlegend": false,
         "type": "scatter",
         "x": [
          2
         ],
         "y": [
          25
         ]
        },
        {
         "marker": {
          "color": "red",
          "size": 10,
          "symbol": "x"
         },
         "mode": "markers",
         "name": "idx 7",
         "showlegend": false,
         "type": "scatter",
         "x": [
          7
         ],
         "y": [
          14.77
         ]
        },
        {
         "marker": {
          "color": "red",
          "size": 10,
          "symbol": "x"
         },
         "mode": "markers",
         "name": "idx 9",
         "showlegend": false,
         "type": "scatter",
         "x": [
          9
         ],
         "y": [
          99
         ]
        },
        {
         "marker": {
          "color": "red",
          "size": 10,
          "symbol": "x"
         },
         "mode": "markers",
         "name": "idx 12",
         "showlegend": false,
         "type": "scatter",
         "x": [
          12
         ],
         "y": [
          48
         ]
        },
        {
         "marker": {
          "color": "red",
          "size": 10,
          "symbol": "x"
         },
         "mode": "markers",
         "name": "idx 18",
         "showlegend": false,
         "type": "scatter",
         "x": [
          18
         ],
         "y": [
          12000
         ]
        },
        {
         "marker": {
          "color": "red",
          "size": 10,
          "symbol": "x"
         },
         "mode": "markers",
         "name": "idx 28",
         "showlegend": false,
         "type": "scatter",
         "x": [
          28
         ],
         "y": [
          35
         ]
        },
        {
         "marker": {
          "color": "red",
          "size": 10,
          "symbol": "x"
         },
         "mode": "markers",
         "name": "idx 29",
         "showlegend": false,
         "type": "scatter",
         "x": [
          29
         ],
         "y": [
          21
         ]
        },
        {
         "marker": {
          "color": "red",
          "size": 10,
          "symbol": "x"
         },
         "mode": "markers",
         "name": "idx 41",
         "showlegend": false,
         "type": "scatter",
         "x": [
          41
         ],
         "y": [
          20
         ]
        },
        {
         "marker": {
          "color": "red",
          "size": 10,
          "symbol": "x"
         },
         "mode": "markers",
         "name": "idx 42",
         "showlegend": false,
         "type": "scatter",
         "x": [
          42
         ],
         "y": [
          20
         ]
        },
        {
         "marker": {
          "color": "red",
          "size": 10,
          "symbol": "x"
         },
         "mode": "markers",
         "name": "idx 43",
         "showlegend": false,
         "type": "scatter",
         "x": [
          43
         ],
         "y": [
          20
         ]
        },
        {
         "marker": {
          "color": "red",
          "size": 10,
          "symbol": "x"
         },
         "mode": "markers",
         "name": "idx 48",
         "showlegend": false,
         "type": "scatter",
         "x": [
          48
         ],
         "y": [
          16.85
         ]
        },
        {
         "marker": {
          "color": "red",
          "size": 10,
          "symbol": "x"
         },
         "mode": "markers",
         "name": "idx 50",
         "showlegend": false,
         "type": "scatter",
         "x": [
          50
         ],
         "y": [
          20.74
         ]
        },
        {
         "marker": {
          "color": "red",
          "size": 10,
          "symbol": "x"
         },
         "mode": "markers",
         "name": "idx 51",
         "showlegend": false,
         "type": "scatter",
         "x": [
          51
         ],
         "y": [
          42.94
         ]
        },
        {
         "marker": {
          "color": "red",
          "size": 10,
          "symbol": "x"
         },
         "mode": "markers",
         "name": "idx 54",
         "showlegend": false,
         "type": "scatter",
         "x": [
          54
         ],
         "y": [
          16.85
         ]
        },
        {
         "marker": {
          "color": "red",
          "size": 10,
          "symbol": "x"
         },
         "mode": "markers",
         "name": "idx 57",
         "showlegend": false,
         "type": "scatter",
         "x": [
          57
         ],
         "y": [
          22.19
         ]
        },
        {
         "marker": {
          "color": "red",
          "size": 10,
          "symbol": "x"
         },
         "mode": "markers",
         "name": "idx 59",
         "showlegend": false,
         "type": "scatter",
         "x": [
          59
         ],
         "y": [
          33.5
         ]
        },
        {
         "marker": {
          "color": "red",
          "size": 10,
          "symbol": "x"
         },
         "mode": "markers",
         "name": "idx 79",
         "showlegend": false,
         "type": "scatter",
         "x": [
          79
         ],
         "y": [
          15.38
         ]
        },
        {
         "marker": {
          "color": "red",
          "size": 10,
          "symbol": "x"
         },
         "mode": "markers",
         "name": "idx 88",
         "showlegend": false,
         "type": "scatter",
         "x": [
          88
         ],
         "y": [
          15.82
         ]
        },
        {
         "marker": {
          "color": "red",
          "size": 10,
          "symbol": "x"
         },
         "mode": "markers",
         "name": "idx 95",
         "showlegend": false,
         "type": "scatter",
         "x": [
          95
         ],
         "y": [
          15.38
         ]
        },
        {
         "marker": {
          "color": "red",
          "size": 10,
          "symbol": "x"
         },
         "mode": "markers",
         "name": "idx 119",
         "showlegend": false,
         "type": "scatter",
         "x": [
          119
         ],
         "y": [
          25
         ]
        },
        {
         "marker": {
          "color": "red",
          "size": 10,
          "symbol": "x"
         },
         "mode": "markers",
         "name": "idx 121",
         "showlegend": false,
         "type": "scatter",
         "x": [
          121
         ],
         "y": [
          20
         ]
        },
        {
         "marker": {
          "color": "red",
          "size": 10,
          "symbol": "x"
         },
         "mode": "markers",
         "name": "idx 125",
         "showlegend": false,
         "type": "scatter",
         "x": [
          125
         ],
         "y": [
          29.9
         ]
        },
        {
         "marker": {
          "color": "red",
          "size": 10,
          "symbol": "x"
         },
         "mode": "markers",
         "name": "idx 126",
         "showlegend": false,
         "type": "scatter",
         "x": [
          126
         ],
         "y": [
          160
         ]
        },
        {
         "marker": {
          "color": "red",
          "size": 10,
          "symbol": "x"
         },
         "mode": "markers",
         "name": "idx 166",
         "showlegend": false,
         "type": "scatter",
         "x": [
          166
         ],
         "y": [
          1000
         ]
        },
        {
         "marker": {
          "color": "red",
          "size": 10,
          "symbol": "x"
         },
         "mode": "markers",
         "name": "idx 169",
         "showlegend": false,
         "type": "scatter",
         "x": [
          169
         ],
         "y": [
          22.75
         ]
        },
        {
         "marker": {
          "color": "red",
          "size": 10,
          "symbol": "x"
         },
         "mode": "markers",
         "name": "idx 171",
         "showlegend": false,
         "type": "scatter",
         "x": [
          171
         ],
         "y": [
          82
         ]
        },
        {
         "marker": {
          "color": "red",
          "size": 10,
          "symbol": "x"
         },
         "mode": "markers",
         "name": "idx 172",
         "showlegend": false,
         "type": "scatter",
         "x": [
          172
         ],
         "y": [
          13.98
         ]
        },
        {
         "marker": {
          "color": "red",
          "size": 10,
          "symbol": "x"
         },
         "mode": "markers",
         "name": "idx 176",
         "showlegend": false,
         "type": "scatter",
         "x": [
          176
         ],
         "y": [
          34.33
         ]
        },
        {
         "marker": {
          "color": "red",
          "size": 10,
          "symbol": "x"
         },
         "mode": "markers",
         "name": "idx 177",
         "showlegend": false,
         "type": "scatter",
         "x": [
          177
         ],
         "y": [
          15.5
         ]
        },
        {
         "marker": {
          "color": "red",
          "size": 10,
          "symbol": "x"
         },
         "mode": "markers",
         "name": "idx 178",
         "showlegend": false,
         "type": "scatter",
         "x": [
          178
         ],
         "y": [
          13.24
         ]
        },
        {
         "marker": {
          "color": "red",
          "size": 10,
          "symbol": "x"
         },
         "mode": "markers",
         "name": "idx 179",
         "showlegend": false,
         "type": "scatter",
         "x": [
          179
         ],
         "y": [
          24.8
         ]
        },
        {
         "marker": {
          "color": "red",
          "size": 10,
          "symbol": "x"
         },
         "mode": "markers",
         "name": "idx 181",
         "showlegend": false,
         "type": "scatter",
         "x": [
          181
         ],
         "y": [
          48
         ]
        },
        {
         "marker": {
          "color": "red",
          "size": 10,
          "symbol": "x"
         },
         "mode": "markers",
         "name": "idx 184",
         "showlegend": false,
         "type": "scatter",
         "x": [
          184
         ],
         "y": [
          16.7
         ]
        },
        {
         "marker": {
          "color": "red",
          "size": 10,
          "symbol": "x"
         },
         "mode": "markers",
         "name": "idx 186",
         "showlegend": false,
         "type": "scatter",
         "x": [
          186
         ],
         "y": [
          14
         ]
        },
        {
         "marker": {
          "color": "red",
          "size": 10,
          "symbol": "x"
         },
         "mode": "markers",
         "name": "idx 194",
         "showlegend": false,
         "type": "scatter",
         "x": [
          194
         ],
         "y": [
          27
         ]
        },
        {
         "marker": {
          "color": "red",
          "size": 10,
          "symbol": "x"
         },
         "mode": "markers",
         "name": "idx 201",
         "showlegend": false,
         "type": "scatter",
         "x": [
          201
         ],
         "y": [
          49
         ]
        },
        {
         "marker": {
          "color": "red",
          "size": 10,
          "symbol": "x"
         },
         "mode": "markers",
         "name": "idx 213",
         "showlegend": false,
         "type": "scatter",
         "x": [
          213
         ],
         "y": [
          22.99
         ]
        },
        {
         "marker": {
          "color": "red",
          "size": 10,
          "symbol": "x"
         },
         "mode": "markers",
         "name": "idx 219",
         "showlegend": false,
         "type": "scatter",
         "x": [
          219
         ],
         "y": [
          14.26
         ]
        },
        {
         "marker": {
          "color": "red",
          "size": 10,
          "symbol": "x"
         },
         "mode": "markers",
         "name": "idx 224",
         "showlegend": false,
         "type": "scatter",
         "x": [
          224
         ],
         "y": [
          100
         ]
        },
        {
         "marker": {
          "color": "red",
          "size": 10,
          "symbol": "x"
         },
         "mode": "markers",
         "name": "idx 227",
         "showlegend": false,
         "type": "scatter",
         "x": [
          227
         ],
         "y": [
          20
         ]
        },
        {
         "marker": {
          "color": "red",
          "size": 10,
          "symbol": "x"
         },
         "mode": "markers",
         "name": "idx 242",
         "showlegend": false,
         "type": "scatter",
         "x": [
          242
         ],
         "y": [
          20
         ]
        },
        {
         "marker": {
          "color": "red",
          "size": 10,
          "symbol": "x"
         },
         "mode": "markers",
         "name": "idx 243",
         "showlegend": false,
         "type": "scatter",
         "x": [
          243
         ],
         "y": [
          17.25
         ]
        },
        {
         "marker": {
          "color": "red",
          "size": 10,
          "symbol": "x"
         },
         "mode": "markers",
         "name": "idx 250",
         "showlegend": false,
         "type": "scatter",
         "x": [
          250
         ],
         "y": [
          747
         ]
        },
        {
         "marker": {
          "color": "red",
          "size": 10,
          "symbol": "x"
         },
         "mode": "markers",
         "name": "idx 267",
         "showlegend": false,
         "type": "scatter",
         "x": [
          267
         ],
         "y": [
          100
         ]
        },
        {
         "marker": {
          "color": "red",
          "size": 10,
          "symbol": "x"
         },
         "mode": "markers",
         "name": "idx 268",
         "showlegend": false,
         "type": "scatter",
         "x": [
          268
         ],
         "y": [
          100
         ]
        },
        {
         "marker": {
          "color": "red",
          "size": 10,
          "symbol": "x"
         },
         "mode": "markers",
         "name": "idx 269",
         "showlegend": false,
         "type": "scatter",
         "x": [
          269
         ],
         "y": [
          24
         ]
        },
        {
         "marker": {
          "color": "red",
          "size": 10,
          "symbol": "x"
         },
         "mode": "markers",
         "name": "idx 272",
         "showlegend": false,
         "type": "scatter",
         "x": [
          272
         ],
         "y": [
          31
         ]
        },
        {
         "marker": {
          "color": "red",
          "size": 10,
          "symbol": "x"
         },
         "mode": "markers",
         "name": "idx 278",
         "showlegend": false,
         "type": "scatter",
         "x": [
          278
         ],
         "y": [
          22.17
         ]
        },
        {
         "marker": {
          "color": "red",
          "size": 10,
          "symbol": "x"
         },
         "mode": "markers",
         "name": "idx 279",
         "showlegend": false,
         "type": "scatter",
         "x": [
          279
         ],
         "y": [
          18.7
         ]
        },
        {
         "marker": {
          "color": "red",
          "size": 10,
          "symbol": "x"
         },
         "mode": "markers",
         "name": "idx 280",
         "showlegend": false,
         "type": "scatter",
         "x": [
          280
         ],
         "y": [
          13.22
         ]
        },
        {
         "marker": {
          "color": "red",
          "size": 10,
          "symbol": "x"
         },
         "mode": "markers",
         "name": "idx 281",
         "showlegend": false,
         "type": "scatter",
         "x": [
          281
         ],
         "y": [
          15.63
         ]
        },
        {
         "marker": {
          "color": "red",
          "size": 10,
          "symbol": "x"
         },
         "mode": "markers",
         "name": "idx 282",
         "showlegend": false,
         "type": "scatter",
         "x": [
          282
         ],
         "y": [
          90
         ]
        },
        {
         "marker": {
          "color": "red",
          "size": 10,
          "symbol": "x"
         },
         "mode": "markers",
         "name": "idx 284",
         "showlegend": false,
         "type": "scatter",
         "x": [
          284
         ],
         "y": [
          20
         ]
        },
        {
         "marker": {
          "color": "red",
          "size": 10,
          "symbol": "x"
         },
         "mode": "markers",
         "name": "idx 285",
         "showlegend": false,
         "type": "scatter",
         "x": [
          285
         ],
         "y": [
          16
         ]
        },
        {
         "marker": {
          "color": "red",
          "size": 10,
          "symbol": "x"
         },
         "mode": "markers",
         "name": "idx 286",
         "showlegend": false,
         "type": "scatter",
         "x": [
          286
         ],
         "y": [
          18.5
         ]
        },
        {
         "marker": {
          "color": "red",
          "size": 10,
          "symbol": "x"
         },
         "mode": "markers",
         "name": "idx 290",
         "showlegend": false,
         "type": "scatter",
         "x": [
          290
         ],
         "y": [
          35
         ]
        },
        {
         "marker": {
          "color": "red",
          "size": 10,
          "symbol": "x"
         },
         "mode": "markers",
         "name": "idx 292",
         "showlegend": false,
         "type": "scatter",
         "x": [
          292
         ],
         "y": [
          25
         ]
        },
        {
         "marker": {
          "color": "red",
          "size": 10,
          "symbol": "x"
         },
         "mode": "markers",
         "name": "idx 293",
         "showlegend": false,
         "type": "scatter",
         "x": [
          293
         ],
         "y": [
          40
         ]
        },
        {
         "marker": {
          "color": "red",
          "size": 10,
          "symbol": "x"
         },
         "mode": "markers",
         "name": "idx 294",
         "showlegend": false,
         "type": "scatter",
         "x": [
          294
         ],
         "y": [
          24
         ]
        },
        {
         "marker": {
          "color": "red",
          "size": 10,
          "symbol": "x"
         },
         "mode": "markers",
         "name": "idx 295",
         "showlegend": false,
         "type": "scatter",
         "x": [
          295
         ],
         "y": [
          20
         ]
        },
        {
         "marker": {
          "color": "red",
          "size": 10,
          "symbol": "x"
         },
         "mode": "markers",
         "name": "idx 308",
         "showlegend": false,
         "type": "scatter",
         "x": [
          308
         ],
         "y": [
          15
         ]
        },
        {
         "marker": {
          "color": "red",
          "size": 10,
          "symbol": "x"
         },
         "mode": "markers",
         "name": "idx 313",
         "showlegend": false,
         "type": "scatter",
         "x": [
          313
         ],
         "y": [
          183
         ]
        },
        {
         "marker": {
          "color": "red",
          "size": 10,
          "symbol": "x"
         },
         "mode": "markers",
         "name": "idx 314",
         "showlegend": false,
         "type": "scatter",
         "x": [
          314
         ],
         "y": [
          60
         ]
        },
        {
         "marker": {
          "color": "red",
          "size": 10,
          "symbol": "x"
         },
         "mode": "markers",
         "name": "idx 315",
         "showlegend": false,
         "type": "scatter",
         "x": [
          315
         ],
         "y": [
          36.4
         ]
        },
        {
         "marker": {
          "color": "red",
          "size": 10,
          "symbol": "x"
         },
         "mode": "markers",
         "name": "idx 316",
         "showlegend": false,
         "type": "scatter",
         "x": [
          316
         ],
         "y": [
          49.56
         ]
        },
        {
         "marker": {
          "color": "red",
          "size": 10,
          "symbol": "x"
         },
         "mode": "markers",
         "name": "idx 318",
         "showlegend": false,
         "type": "scatter",
         "x": [
          318
         ],
         "y": [
          200
         ]
        },
        {
         "marker": {
          "color": "red",
          "size": 10,
          "symbol": "x"
         },
         "mode": "markers",
         "name": "idx 354",
         "showlegend": false,
         "type": "scatter",
         "x": [
          354
         ],
         "y": [
          24
         ]
        },
        {
         "marker": {
          "color": "red",
          "size": 10,
          "symbol": "x"
         },
         "mode": "markers",
         "name": "idx 355",
         "showlegend": false,
         "type": "scatter",
         "x": [
          355
         ],
         "y": [
          40
         ]
        },
        {
         "marker": {
          "color": "red",
          "size": 10,
          "symbol": "x"
         },
         "mode": "markers",
         "name": "idx 356",
         "showlegend": false,
         "type": "scatter",
         "x": [
          356
         ],
         "y": [
          16
         ]
        },
        {
         "marker": {
          "color": "red",
          "size": 10,
          "symbol": "x"
         },
         "mode": "markers",
         "name": "idx 357",
         "showlegend": false,
         "type": "scatter",
         "x": [
          357
         ],
         "y": [
          20
         ]
        },
        {
         "marker": {
          "color": "red",
          "size": 10,
          "symbol": "x"
         },
         "mode": "markers",
         "name": "idx 378",
         "showlegend": false,
         "type": "scatter",
         "x": [
          378
         ],
         "y": [
          168.78
         ]
        },
        {
         "marker": {
          "color": "red",
          "size": 10,
          "symbol": "x"
         },
         "mode": "markers",
         "name": "idx 400",
         "showlegend": false,
         "type": "scatter",
         "x": [
          400
         ],
         "y": [
          30.4
         ]
        },
        {
         "marker": {
          "color": "red",
          "size": 10,
          "symbol": "x"
         },
         "mode": "markers",
         "name": "idx 401",
         "showlegend": false,
         "type": "scatter",
         "x": [
          401
         ],
         "y": [
          32.57
         ]
        },
        {
         "marker": {
          "color": "red",
          "size": 10,
          "symbol": "x"
         },
         "mode": "markers",
         "name": "idx 402",
         "showlegend": false,
         "type": "scatter",
         "x": [
          402
         ],
         "y": [
          18
         ]
        },
        {
         "marker": {
          "color": "red",
          "size": 10,
          "symbol": "x"
         },
         "mode": "markers",
         "name": "idx 409",
         "showlegend": false,
         "type": "scatter",
         "x": [
          409
         ],
         "y": [
          18
         ]
        },
        {
         "marker": {
          "color": "red",
          "size": 10,
          "symbol": "x"
         },
         "mode": "markers",
         "name": "idx 424",
         "showlegend": false,
         "type": "scatter",
         "x": [
          424
         ],
         "y": [
          15
         ]
        },
        {
         "marker": {
          "color": "red",
          "size": 10,
          "symbol": "x"
         },
         "mode": "markers",
         "name": "idx 428",
         "showlegend": false,
         "type": "scatter",
         "x": [
          428
         ],
         "y": [
          600
         ]
        },
        {
         "marker": {
          "color": "red",
          "size": 10,
          "symbol": "x"
         },
         "mode": "markers",
         "name": "idx 431",
         "showlegend": false,
         "type": "scatter",
         "x": [
          431
         ],
         "y": [
          14
         ]
        },
        {
         "marker": {
          "color": "red",
          "size": 10,
          "symbol": "x"
         },
         "mode": "markers",
         "name": "idx 432",
         "showlegend": false,
         "type": "scatter",
         "x": [
          432
         ],
         "y": [
          15.09
         ]
        },
        {
         "marker": {
          "color": "red",
          "size": 10,
          "symbol": "x"
         },
         "mode": "markers",
         "name": "idx 437",
         "showlegend": false,
         "type": "scatter",
         "x": [
          437
         ],
         "y": [
          600
         ]
        },
        {
         "marker": {
          "color": "red",
          "size": 10,
          "symbol": "x"
         },
         "mode": "markers",
         "name": "idx 438",
         "showlegend": false,
         "type": "scatter",
         "x": [
          438
         ],
         "y": [
          19.99
         ]
        },
        {
         "marker": {
          "color": "red",
          "size": 10,
          "symbol": "x"
         },
         "mode": "markers",
         "name": "idx 439",
         "showlegend": false,
         "type": "scatter",
         "x": [
          439
         ],
         "y": [
          16
         ]
        },
        {
         "marker": {
          "color": "red",
          "size": 10,
          "symbol": "x"
         },
         "mode": "markers",
         "name": "idx 443",
         "showlegend": false,
         "type": "scatter",
         "x": [
          443
         ],
         "y": [
          41.95
         ]
        },
        {
         "marker": {
          "color": "red",
          "size": 10,
          "symbol": "x"
         },
         "mode": "markers",
         "name": "idx 450",
         "showlegend": false,
         "type": "scatter",
         "x": [
          450
         ],
         "y": [
          79
         ]
        },
        {
         "marker": {
          "color": "red",
          "size": 10,
          "symbol": "x"
         },
         "mode": "markers",
         "name": "idx 451",
         "showlegend": false,
         "type": "scatter",
         "x": [
          451
         ],
         "y": [
          14
         ]
        },
        {
         "marker": {
          "color": "red",
          "size": 10,
          "symbol": "x"
         },
         "mode": "markers",
         "name": "idx 458",
         "showlegend": false,
         "type": "scatter",
         "x": [
          458
         ],
         "y": [
          160
         ]
        },
        {
         "marker": {
          "color": "red",
          "size": 10,
          "symbol": "x"
         },
         "mode": "markers",
         "name": "idx 462",
         "showlegend": false,
         "type": "scatter",
         "x": [
          462
         ],
         "y": [
          27
         ]
        },
        {
         "marker": {
          "color": "red",
          "size": 10,
          "symbol": "x"
         },
         "mode": "markers",
         "name": "idx 463",
         "showlegend": false,
         "type": "scatter",
         "x": [
          463
         ],
         "y": [
          38
         ]
        },
        {
         "marker": {
          "color": "red",
          "size": 10,
          "symbol": "x"
         },
         "mode": "markers",
         "name": "idx 464",
         "showlegend": false,
         "type": "scatter",
         "x": [
          464
         ],
         "y": [
          40
         ]
        },
        {
         "marker": {
          "color": "red",
          "size": 10,
          "symbol": "x"
         },
         "mode": "markers",
         "name": "idx 466",
         "showlegend": false,
         "type": "scatter",
         "x": [
          466
         ],
         "y": [
          61
         ]
        },
        {
         "marker": {
          "color": "red",
          "size": 10,
          "symbol": "x"
         },
         "mode": "markers",
         "name": "idx 467",
         "showlegend": false,
         "type": "scatter",
         "x": [
          467
         ],
         "y": [
          17
         ]
        },
        {
         "marker": {
          "color": "red",
          "size": 10,
          "symbol": "x"
         },
         "mode": "markers",
         "name": "idx 468",
         "showlegend": false,
         "type": "scatter",
         "x": [
          468
         ],
         "y": [
          56
         ]
        },
        {
         "marker": {
          "color": "red",
          "size": 10,
          "symbol": "x"
         },
         "mode": "markers",
         "name": "idx 469",
         "showlegend": false,
         "type": "scatter",
         "x": [
          469
         ],
         "y": [
          13.22
         ]
        },
        {
         "marker": {
          "color": "red",
          "size": 10,
          "symbol": "x"
         },
         "mode": "markers",
         "name": "idx 470",
         "showlegend": false,
         "type": "scatter",
         "x": [
          470
         ],
         "y": [
          20
         ]
        },
        {
         "marker": {
          "color": "red",
          "size": 10,
          "symbol": "x"
         },
         "mode": "markers",
         "name": "idx 471",
         "showlegend": false,
         "type": "scatter",
         "x": [
          471
         ],
         "y": [
          40
         ]
        },
        {
         "marker": {
          "color": "red",
          "size": 10,
          "symbol": "x"
         },
         "mode": "markers",
         "name": "idx 472",
         "showlegend": false,
         "type": "scatter",
         "x": [
          472
         ],
         "y": [
          16.99
         ]
        },
        {
         "marker": {
          "color": "red",
          "size": 10,
          "symbol": "x"
         },
         "mode": "markers",
         "name": "idx 473",
         "showlegend": false,
         "type": "scatter",
         "x": [
          473
         ],
         "y": [
          18.7
         ]
        },
        {
         "marker": {
          "color": "red",
          "size": 10,
          "symbol": "x"
         },
         "mode": "markers",
         "name": "idx 475",
         "showlegend": false,
         "type": "scatter",
         "x": [
          475
         ],
         "y": [
          16
         ]
        },
        {
         "marker": {
          "color": "red",
          "size": 10,
          "symbol": "x"
         },
         "mode": "markers",
         "name": "idx 476",
         "showlegend": false,
         "type": "scatter",
         "x": [
          476
         ],
         "y": [
          22.8
         ]
        },
        {
         "marker": {
          "color": "red",
          "size": 10,
          "symbol": "x"
         },
         "mode": "markers",
         "name": "idx 477",
         "showlegend": false,
         "type": "scatter",
         "x": [
          477
         ],
         "y": [
          16.37
         ]
        },
        {
         "marker": {
          "color": "red",
          "size": 10,
          "symbol": "x"
         },
         "mode": "markers",
         "name": "idx 478",
         "showlegend": false,
         "type": "scatter",
         "x": [
          478
         ],
         "y": [
          16
         ]
        },
        {
         "marker": {
          "color": "red",
          "size": 10,
          "symbol": "x"
         },
         "mode": "markers",
         "name": "idx 487",
         "showlegend": false,
         "type": "scatter",
         "x": [
          487
         ],
         "y": [
          22
         ]
        },
        {
         "marker": {
          "color": "red",
          "size": 10,
          "symbol": "x"
         },
         "mode": "markers",
         "name": "idx 489",
         "showlegend": false,
         "type": "scatter",
         "x": [
          489
         ],
         "y": [
          14
         ]
        },
        {
         "marker": {
          "color": "red",
          "size": 10,
          "symbol": "x"
         },
         "mode": "markers",
         "name": "idx 492",
         "showlegend": false,
         "type": "scatter",
         "x": [
          492
         ],
         "y": [
          15
         ]
        },
        {
         "marker": {
          "color": "red",
          "size": 10,
          "symbol": "x"
         },
         "mode": "markers",
         "name": "idx 497",
         "showlegend": false,
         "type": "scatter",
         "x": [
          497
         ],
         "y": [
          31.5
         ]
        },
        {
         "marker": {
          "color": "red",
          "size": 10,
          "symbol": "x"
         },
         "mode": "markers",
         "name": "idx 498",
         "showlegend": false,
         "type": "scatter",
         "x": [
          498
         ],
         "y": [
          15
         ]
        },
        {
         "marker": {
          "color": "red",
          "size": 10,
          "symbol": "x"
         },
         "mode": "markers",
         "name": "idx 506",
         "showlegend": false,
         "type": "scatter",
         "x": [
          506
         ],
         "y": [
          16.6
         ]
        }
       ],
       "layout": {
        "autosize": true,
        "legend": {
         "bgcolor": "#151516",
         "font": {
          "color": "#D9D9D9"
         }
        },
        "paper_bgcolor": "#151516",
        "plot_bgcolor": "#151516",
        "template": {
         "data": {
          "bar": [
           {
            "error_x": {
             "color": "#2a3f5f"
            },
            "error_y": {
             "color": "#2a3f5f"
            },
            "marker": {
             "line": {
              "color": "#E5ECF6",
              "width": 0.5
             },
             "pattern": {
              "fillmode": "overlay",
              "size": 10,
              "solidity": 0.2
             }
            },
            "type": "bar"
           }
          ],
          "barpolar": [
           {
            "marker": {
             "line": {
              "color": "#E5ECF6",
              "width": 0.5
             },
             "pattern": {
              "fillmode": "overlay",
              "size": 10,
              "solidity": 0.2
             }
            },
            "type": "barpolar"
           }
          ],
          "carpet": [
           {
            "aaxis": {
             "endlinecolor": "#2a3f5f",
             "gridcolor": "white",
             "linecolor": "white",
             "minorgridcolor": "white",
             "startlinecolor": "#2a3f5f"
            },
            "baxis": {
             "endlinecolor": "#2a3f5f",
             "gridcolor": "white",
             "linecolor": "white",
             "minorgridcolor": "white",
             "startlinecolor": "#2a3f5f"
            },
            "type": "carpet"
           }
          ],
          "choropleth": [
           {
            "colorbar": {
             "outlinewidth": 0,
             "ticks": ""
            },
            "type": "choropleth"
           }
          ],
          "contour": [
           {
            "colorbar": {
             "outlinewidth": 0,
             "ticks": ""
            },
            "colorscale": [
             [
              0,
              "#0d0887"
             ],
             [
              0.1111111111111111,
              "#46039f"
             ],
             [
              0.2222222222222222,
              "#7201a8"
             ],
             [
              0.3333333333333333,
              "#9c179e"
             ],
             [
              0.4444444444444444,
              "#bd3786"
             ],
             [
              0.5555555555555556,
              "#d8576b"
             ],
             [
              0.6666666666666666,
              "#ed7953"
             ],
             [
              0.7777777777777778,
              "#fb9f3a"
             ],
             [
              0.8888888888888888,
              "#fdca26"
             ],
             [
              1,
              "#f0f921"
             ]
            ],
            "type": "contour"
           }
          ],
          "contourcarpet": [
           {
            "colorbar": {
             "outlinewidth": 0,
             "ticks": ""
            },
            "type": "contourcarpet"
           }
          ],
          "heatmap": [
           {
            "colorbar": {
             "outlinewidth": 0,
             "ticks": ""
            },
            "colorscale": [
             [
              0,
              "#0d0887"
             ],
             [
              0.1111111111111111,
              "#46039f"
             ],
             [
              0.2222222222222222,
              "#7201a8"
             ],
             [
              0.3333333333333333,
              "#9c179e"
             ],
             [
              0.4444444444444444,
              "#bd3786"
             ],
             [
              0.5555555555555556,
              "#d8576b"
             ],
             [
              0.6666666666666666,
              "#ed7953"
             ],
             [
              0.7777777777777778,
              "#fb9f3a"
             ],
             [
              0.8888888888888888,
              "#fdca26"
             ],
             [
              1,
              "#f0f921"
             ]
            ],
            "type": "heatmap"
           }
          ],
          "heatmapgl": [
           {
            "colorbar": {
             "outlinewidth": 0,
             "ticks": ""
            },
            "colorscale": [
             [
              0,
              "#0d0887"
             ],
             [
              0.1111111111111111,
              "#46039f"
             ],
             [
              0.2222222222222222,
              "#7201a8"
             ],
             [
              0.3333333333333333,
              "#9c179e"
             ],
             [
              0.4444444444444444,
              "#bd3786"
             ],
             [
              0.5555555555555556,
              "#d8576b"
             ],
             [
              0.6666666666666666,
              "#ed7953"
             ],
             [
              0.7777777777777778,
              "#fb9f3a"
             ],
             [
              0.8888888888888888,
              "#fdca26"
             ],
             [
              1,
              "#f0f921"
             ]
            ],
            "type": "heatmapgl"
           }
          ],
          "histogram": [
           {
            "marker": {
             "pattern": {
              "fillmode": "overlay",
              "size": 10,
              "solidity": 0.2
             }
            },
            "type": "histogram"
           }
          ],
          "histogram2d": [
           {
            "colorbar": {
             "outlinewidth": 0,
             "ticks": ""
            },
            "colorscale": [
             [
              0,
              "#0d0887"
             ],
             [
              0.1111111111111111,
              "#46039f"
             ],
             [
              0.2222222222222222,
              "#7201a8"
             ],
             [
              0.3333333333333333,
              "#9c179e"
             ],
             [
              0.4444444444444444,
              "#bd3786"
             ],
             [
              0.5555555555555556,
              "#d8576b"
             ],
             [
              0.6666666666666666,
              "#ed7953"
             ],
             [
              0.7777777777777778,
              "#fb9f3a"
             ],
             [
              0.8888888888888888,
              "#fdca26"
             ],
             [
              1,
              "#f0f921"
             ]
            ],
            "type": "histogram2d"
           }
          ],
          "histogram2dcontour": [
           {
            "colorbar": {
             "outlinewidth": 0,
             "ticks": ""
            },
            "colorscale": [
             [
              0,
              "#0d0887"
             ],
             [
              0.1111111111111111,
              "#46039f"
             ],
             [
              0.2222222222222222,
              "#7201a8"
             ],
             [
              0.3333333333333333,
              "#9c179e"
             ],
             [
              0.4444444444444444,
              "#bd3786"
             ],
             [
              0.5555555555555556,
              "#d8576b"
             ],
             [
              0.6666666666666666,
              "#ed7953"
             ],
             [
              0.7777777777777778,
              "#fb9f3a"
             ],
             [
              0.8888888888888888,
              "#fdca26"
             ],
             [
              1,
              "#f0f921"
             ]
            ],
            "type": "histogram2dcontour"
           }
          ],
          "mesh3d": [
           {
            "colorbar": {
             "outlinewidth": 0,
             "ticks": ""
            },
            "type": "mesh3d"
           }
          ],
          "parcoords": [
           {
            "line": {
             "colorbar": {
              "outlinewidth": 0,
              "ticks": ""
             }
            },
            "type": "parcoords"
           }
          ],
          "pie": [
           {
            "automargin": true,
            "type": "pie"
           }
          ],
          "scatter": [
           {
            "fillpattern": {
             "fillmode": "overlay",
             "size": 10,
             "solidity": 0.2
            },
            "type": "scatter"
           }
          ],
          "scatter3d": [
           {
            "line": {
             "colorbar": {
              "outlinewidth": 0,
              "ticks": ""
             }
            },
            "marker": {
             "colorbar": {
              "outlinewidth": 0,
              "ticks": ""
             }
            },
            "type": "scatter3d"
           }
          ],
          "scattercarpet": [
           {
            "marker": {
             "colorbar": {
              "outlinewidth": 0,
              "ticks": ""
             }
            },
            "type": "scattercarpet"
           }
          ],
          "scattergeo": [
           {
            "marker": {
             "colorbar": {
              "outlinewidth": 0,
              "ticks": ""
             }
            },
            "type": "scattergeo"
           }
          ],
          "scattergl": [
           {
            "marker": {
             "colorbar": {
              "outlinewidth": 0,
              "ticks": ""
             }
            },
            "type": "scattergl"
           }
          ],
          "scattermapbox": [
           {
            "marker": {
             "colorbar": {
              "outlinewidth": 0,
              "ticks": ""
             }
            },
            "type": "scattermapbox"
           }
          ],
          "scatterpolar": [
           {
            "marker": {
             "colorbar": {
              "outlinewidth": 0,
              "ticks": ""
             }
            },
            "type": "scatterpolar"
           }
          ],
          "scatterpolargl": [
           {
            "marker": {
             "colorbar": {
              "outlinewidth": 0,
              "ticks": ""
             }
            },
            "type": "scatterpolargl"
           }
          ],
          "scatterternary": [
           {
            "marker": {
             "colorbar": {
              "outlinewidth": 0,
              "ticks": ""
             }
            },
            "type": "scatterternary"
           }
          ],
          "surface": [
           {
            "colorbar": {
             "outlinewidth": 0,
             "ticks": ""
            },
            "colorscale": [
             [
              0,
              "#0d0887"
             ],
             [
              0.1111111111111111,
              "#46039f"
             ],
             [
              0.2222222222222222,
              "#7201a8"
             ],
             [
              0.3333333333333333,
              "#9c179e"
             ],
             [
              0.4444444444444444,
              "#bd3786"
             ],
             [
              0.5555555555555556,
              "#d8576b"
             ],
             [
              0.6666666666666666,
              "#ed7953"
             ],
             [
              0.7777777777777778,
              "#fb9f3a"
             ],
             [
              0.8888888888888888,
              "#fdca26"
             ],
             [
              1,
              "#f0f921"
             ]
            ],
            "type": "surface"
           }
          ],
          "table": [
           {
            "cells": {
             "fill": {
              "color": "#EBF0F8"
             },
             "line": {
              "color": "white"
             }
            },
            "header": {
             "fill": {
              "color": "#C8D4E3"
             },
             "line": {
              "color": "white"
             }
            },
            "type": "table"
           }
          ]
         },
         "layout": {
          "annotationdefaults": {
           "arrowcolor": "#2a3f5f",
           "arrowhead": 0,
           "arrowwidth": 1
          },
          "autotypenumbers": "strict",
          "coloraxis": {
           "colorbar": {
            "outlinewidth": 0,
            "ticks": ""
           }
          },
          "colorscale": {
           "diverging": [
            [
             0,
             "#8e0152"
            ],
            [
             0.1,
             "#c51b7d"
            ],
            [
             0.2,
             "#de77ae"
            ],
            [
             0.3,
             "#f1b6da"
            ],
            [
             0.4,
             "#fde0ef"
            ],
            [
             0.5,
             "#f7f7f7"
            ],
            [
             0.6,
             "#e6f5d0"
            ],
            [
             0.7,
             "#b8e186"
            ],
            [
             0.8,
             "#7fbc41"
            ],
            [
             0.9,
             "#4d9221"
            ],
            [
             1,
             "#276419"
            ]
           ],
           "sequential": [
            [
             0,
             "#0d0887"
            ],
            [
             0.1111111111111111,
             "#46039f"
            ],
            [
             0.2222222222222222,
             "#7201a8"
            ],
            [
             0.3333333333333333,
             "#9c179e"
            ],
            [
             0.4444444444444444,
             "#bd3786"
            ],
            [
             0.5555555555555556,
             "#d8576b"
            ],
            [
             0.6666666666666666,
             "#ed7953"
            ],
            [
             0.7777777777777778,
             "#fb9f3a"
            ],
            [
             0.8888888888888888,
             "#fdca26"
            ],
            [
             1,
             "#f0f921"
            ]
           ],
           "sequentialminus": [
            [
             0,
             "#0d0887"
            ],
            [
             0.1111111111111111,
             "#46039f"
            ],
            [
             0.2222222222222222,
             "#7201a8"
            ],
            [
             0.3333333333333333,
             "#9c179e"
            ],
            [
             0.4444444444444444,
             "#bd3786"
            ],
            [
             0.5555555555555556,
             "#d8576b"
            ],
            [
             0.6666666666666666,
             "#ed7953"
            ],
            [
             0.7777777777777778,
             "#fb9f3a"
            ],
            [
             0.8888888888888888,
             "#fdca26"
            ],
            [
             1,
             "#f0f921"
            ]
           ]
          },
          "colorway": [
           "#636efa",
           "#EF553B",
           "#00cc96",
           "#ab63fa",
           "#FFA15A",
           "#19d3f3",
           "#FF6692",
           "#B6E880",
           "#FF97FF",
           "#FECB52"
          ],
          "font": {
           "color": "#2a3f5f"
          },
          "geo": {
           "bgcolor": "white",
           "lakecolor": "white",
           "landcolor": "#E5ECF6",
           "showlakes": true,
           "showland": true,
           "subunitcolor": "white"
          },
          "hoverlabel": {
           "align": "left"
          },
          "hovermode": "closest",
          "mapbox": {
           "style": "light"
          },
          "paper_bgcolor": "white",
          "plot_bgcolor": "#E5ECF6",
          "polar": {
           "angularaxis": {
            "gridcolor": "white",
            "linecolor": "white",
            "ticks": ""
           },
           "bgcolor": "#E5ECF6",
           "radialaxis": {
            "gridcolor": "white",
            "linecolor": "white",
            "ticks": ""
           }
          },
          "scene": {
           "xaxis": {
            "backgroundcolor": "#E5ECF6",
            "gridcolor": "white",
            "gridwidth": 2,
            "linecolor": "white",
            "showbackground": true,
            "ticks": "",
            "zerolinecolor": "white"
           },
           "yaxis": {
            "backgroundcolor": "#E5ECF6",
            "gridcolor": "white",
            "gridwidth": 2,
            "linecolor": "white",
            "showbackground": true,
            "ticks": "",
            "zerolinecolor": "white"
           },
           "zaxis": {
            "backgroundcolor": "#E5ECF6",
            "gridcolor": "white",
            "gridwidth": 2,
            "linecolor": "white",
            "showbackground": true,
            "ticks": "",
            "zerolinecolor": "white"
           }
          },
          "shapedefaults": {
           "line": {
            "color": "#2a3f5f"
           }
          },
          "ternary": {
           "aaxis": {
            "gridcolor": "white",
            "linecolor": "white",
            "ticks": ""
           },
           "baxis": {
            "gridcolor": "white",
            "linecolor": "white",
            "ticks": ""
           },
           "bgcolor": "#E5ECF6",
           "caxis": {
            "gridcolor": "white",
            "linecolor": "white",
            "ticks": ""
           }
          },
          "title": {
           "x": 0.05
          },
          "xaxis": {
           "automargin": true,
           "gridcolor": "white",
           "linecolor": "white",
           "ticks": "",
           "title": {
            "standoff": 15
           },
           "zerolinecolor": "white",
           "zerolinewidth": 2
          },
          "yaxis": {
           "automargin": true,
           "gridcolor": "white",
           "linecolor": "white",
           "ticks": "",
           "title": {
            "standoff": 15
           },
           "zerolinecolor": "white",
           "zerolinewidth": 2
          }
         }
        },
        "title": {
         "font": {
          "color": "#D9D9D9"
         },
         "text": "Original Current Unit Price with Outliers Marked"
        },
        "xaxis": {
         "autorange": true,
         "gridcolor": "#434343",
         "range": [
          -36.54113557358053,
          546.5411355735805
         ],
         "showgrid": true,
         "tickfont": {
          "color": "#C2C2C2"
         },
         "title": {
          "font": {
           "color": "#D9D9D9"
          },
          "text": "index"
         },
         "type": "linear",
         "zerolinecolor": "#666570"
        },
        "yaxis": {
         "autorange": true,
         "gridcolor": "#434343",
         "range": [
          -1346.9276530612244,
          13346.937653061224
         ],
         "showgrid": true,
         "tickfont": {
          "color": "#C2C2C2"
         },
         "title": {
          "font": {
           "color": "#D9D9D9"
          },
          "text": "Current Unit Price"
         },
         "type": "linear",
         "zerolinecolor": "#666570"
        }
       }
      },
      "image/png": "[encoded data removed]",
      "text/html": [
       "<div>                            <div id=\"8f65991f-5e3f-426e-859b-711906d4ad0b\" class=\"plotly-graph-div\" style=\"height:525px; width:100%;\"></div>            <script type=\"text/javascript\">                require([\"plotly\"], function(Plotly) {                    window.PLOTLYENV=window.PLOTLYENV || {};                                    if (document.getElementById(\"8f65991f-5e3f-426e-859b-711906d4ad0b\")) {                    Plotly.newPlot(                        \"8f65991f-5e3f-426e-859b-711906d4ad0b\",                        [{\"line\":{\"color\":\"rgba(255, 153, 51, 1.0)\",\"dash\":\"solid\",\"shape\":\"linear\",\"width\":1.3},\"marker\":{\"size\":12,\"symbol\":\"circle\"},\"mode\":\"markers\",\"name\":\"Current Unit Price\",\"text\":\"\",\"x\":[0,1,2,3,4,5,6,7,8,9,10,11,12,13,14,15,16,17,18,19,20,21,22,23,24,25,26,27,28,29,30,31,32,33,34,35,36,37,38,39,40,41,42,43,44,45,46,47,48,49,50,51,52,53,54,55,56,57,58,59,60,61,62,63,64,65,66,67,68,69,70,71,72,73,74,75,76,77,78,79,80,81,82,83,84,85,86,87,88,89,90,91,92,93,94,95,96,97,98,99,100,101,102,103,104,105,106,107,108,109,110,111,112,113,114,115,116,117,118,119,120,121,122,123,124,125,126,127,128,129,130,131,132,133,134,135,136,137,138,139,140,141,142,143,144,145,146,147,148,149,150,151,152,153,154,155,156,157,158,159,160,161,162,163,164,165,166,167,168,169,170,171,172,173,174,175,176,177,178,179,180,181,182,183,184,185,186,187,188,189,190,191,192,193,194,195,196,197,198,199,200,201,202,203,204,205,206,207,208,209,210,211,212,213,214,215,216,217,218,219,220,221,222,223,224,225,226,227,228,229,230,231,232,233,234,235,236,237,238,239,240,241,242,243,244,245,246,247,248,249,250,251,252,253,254,255,256,257,258,259,260,261,262,263,264,265,266,267,268,269,270,271,272,273,274,275,276,277,278,279,280,281,282,283,284,285,286,287,288,289,290,291,292,293,294,295,296,297,298,299,300,301,302,303,304,305,306,307,308,309,310,311,312,313,314,315,316,317,318,319,320,321,322,323,324,325,326,327,328,329,330,331,332,333,334,335,336,337,338,339,340,341,342,343,344,345,346,347,348,349,350,351,352,353,354,355,356,357,358,359,360,361,362,363,364,365,366,367,368,369,370,371,372,373,374,375,376,377,378,379,380,381,382,383,384,385,386,387,388,389,390,391,392,393,394,395,396,397,398,399,400,401,402,403,404,405,406,407,408,409,410,411,412,413,414,415,416,417,418,419,420,421,422,423,424,425,426,427,428,429,430,431,432,433,434,435,436,437,438,439,440,441,442,443,444,445,446,447,448,449,450,451,452,453,454,455,456,457,458,459,460,461,462,463,464,465,466,467,468,469,470,471,472,473,474,475,476,477,478,479,480,481,482,483,484,485,486,487,488,489,490,491,492,493,494,495,496,497,498,499,500,501,502,503,504,505,506,507,508,509,510],\"y\":[10.0,6.0,25.0,4.5,1.0,0.01,1.0,14.77,2.98,99.0,3.0,0.01,48.0,6.0,0.01,2.98,6.0,1.64,12000.0,7.2,3.5,1.8,3.0,4.5,2.0,0.01,1.07,2.45,35.0,21.0,2.5,3.0,2.7,7.0,7.0,7.0,7.0,7.0,2.8,8.25,1.5,20.0,20.0,20.0,1.67,0.83,1.74,11.15,16.85,1.11,20.74,42.94,2.38,2.38,16.85,12.6,4.2,22.19,2.0,33.5,2.98,1.29,1.32,1.14,0.86,1.7,1.43,1.12,1.38,6.3,9.47,2.52,1.9,6.3,1.35,12.49,8.0,3.02,4.49,15.38,3.17,5.75,1.8,3.56,4.17,2.0,9.25,6.6,15.82,9.47,2.52,1.9,6.3,8.8,2.76,15.38,1.35,3.17,12.49,8.0,5.89,7.3,5.75,3.02,4.49,1.8,3.56,4.17,1.4,3.3,7.26,3.3,1.96,3.78,3.5,1.8,3.05,3.0,1.05,25.0,5.0,20.0,6.2,6.2,0.98,29.9,160.0,3.1,1.54,0.62,5.61,4.95,2.5,4.82,0.67,0.01,0.01,0.01,0.01,0.01,0.01,0.01,0.01,0.01,0.01,0.01,0.01,0.01,0.01,0.01,3.5,3.5,0.01,0.01,0.01,0.01,0.01,11.5,4.6,5.0,5.0,4.5,1.0,2.8,0.01,0.01,1000.0,0.96,2.95,22.75,2.97,82.0,13.98,8.4,7.36,8.41,34.33,15.5,13.24,24.8,5.18,48.0,4.6,6.64,16.7,6.72,14.0,0.85,8.0,8.0,8.0,0.01,0.01,0.01,27.0,2.0,6.9,10.5,2.5,2.5,0.08,49.0,3.99,1.8,0.01,0.01,0.01,3.0,12.0,4.5,1.66,1.66,0.01,22.99,0.01,3.3,7.62,7.2,0.01,14.26,6.5,1.52,4.08,6.5,100.0,6.75,1.6,20.0,1.0,0.01,0.01,5.0,3.5,0.98,0.01,6.0,1.67,0.98,3.0,1.95,11.5,12.05,20.0,17.25,8.1,4.0,6.45,6.48,4.0,1.74,747.0,0.01,3.48,3.2,7.47,0.01,7.5,7.5,6.6,6.15,7.2,1.92,7.69,4.99,3.4,4.2,0.09,100.0,100.0,24.0,2.5,11.96,31.0,4.0,5.0,6.6,3.85,8.0,22.17,18.7,13.22,15.63,90.0,0.01,20.0,16.0,18.5,3.93,1.6,6.0,35.0,8.0,25.0,40.0,24.0,20.0,1.89,2.25,7.98,0.01,8.48,12.05,1.8,2.3,2.25,1.89,7.49,5.44,15.0,1.98,1.0,1.0,1.55,183.0,60.0,36.4,49.56,1.8,200.0,0.84,2.3,1.6,1.33,3.45,1.75,1.5,1.68,1.04,0.88,1.78,2.7,3.62,7.6,1.9,2.4,5.0,5.0,1.25,4.0,2.4,1.97,6.5,7.01,7.05,12.05,6.23,6.34,6.27,0.84,10.66,3.35,3.35,1.18,1.01,24.0,40.0,16.0,20.0,0.01,1.33,1.98,1.2,1.98,1.33,1.92,5.35,3.0,1.69,1.69,3.0,0.01,0.01,0.01,0.01,0.01,12.56,0.01,0.01,168.78,0.01,0.01,0.01,0.01,0.01,0.01,6.34,6.23,6.27,12.05,2.24,1.97,3.9,7.01,7.05,6.5,2.4,4.0,0.84,10.66,3.35,30.4,32.57,18.0,1.18,2.39,6.85,4.17,1.01,2.0,18.0,3.15,10.0,10.0,5.73,5.75,5.55,2.25,4.1,2.7,6.0,7.0,1.44,3.0,7.0,15.0,12.0,5.0,1.25,600.0,1.5,2.0,14.0,15.09,5.8,4.8,1.44,4.0,600.0,19.99,16.0,7.0,6.0,7.5,41.95,3.6,2.66,1.0,0.8,0.56,0.01,79.0,14.0,8.5,1.34,9.57,3.4,2.27,3.8,160.0,6.1,4.5,3.15,27.0,38.0,40.0,5.0,61.0,17.0,56.0,13.22,20.0,40.0,16.99,18.7,12.7,16.0,22.8,16.37,16.0,0.6,1.95,3.68,1.9,3.8,1.38,3.05,6.1,22.0,0.01,14.0,0.47,8.0,15.0,1.0,0.01,0.45,0.45,31.5,15.0,2.16,4.42,2.27,3.4,2.75,2.75,3.9,16.6,11.4,6.2,0.4,6.5],\"type\":\"scatter\"},{\"marker\":{\"color\":\"red\",\"size\":10,\"symbol\":\"x\"},\"mode\":\"markers\",\"name\":\"idx 2\",\"showlegend\":false,\"x\":[2],\"y\":[25.0],\"type\":\"scatter\"},{\"marker\":{\"color\":\"red\",\"size\":10,\"symbol\":\"x\"},\"mode\":\"markers\",\"name\":\"idx 7\",\"showlegend\":false,\"x\":[7],\"y\":[14.77],\"type\":\"scatter\"},{\"marker\":{\"color\":\"red\",\"size\":10,\"symbol\":\"x\"},\"mode\":\"markers\",\"name\":\"idx 9\",\"showlegend\":false,\"x\":[9],\"y\":[99.0],\"type\":\"scatter\"},{\"marker\":{\"color\":\"red\",\"size\":10,\"symbol\":\"x\"},\"mode\":\"markers\",\"name\":\"idx 12\",\"showlegend\":false,\"x\":[12],\"y\":[48.0],\"type\":\"scatter\"},{\"marker\":{\"color\":\"red\",\"size\":10,\"symbol\":\"x\"},\"mode\":\"markers\",\"name\":\"idx 18\",\"showlegend\":false,\"x\":[18],\"y\":[12000.0],\"type\":\"scatter\"},{\"marker\":{\"color\":\"red\",\"size\":10,\"symbol\":\"x\"},\"mode\":\"markers\",\"name\":\"idx 28\",\"showlegend\":false,\"x\":[28],\"y\":[35.0],\"type\":\"scatter\"},{\"marker\":{\"color\":\"red\",\"size\":10,\"symbol\":\"x\"},\"mode\":\"markers\",\"name\":\"idx 29\",\"showlegend\":false,\"x\":[29],\"y\":[21.0],\"type\":\"scatter\"},{\"marker\":{\"color\":\"red\",\"size\":10,\"symbol\":\"x\"},\"mode\":\"markers\",\"name\":\"idx 41\",\"showlegend\":false,\"x\":[41],\"y\":[20.0],\"type\":\"scatter\"},{\"marker\":{\"color\":\"red\",\"size\":10,\"symbol\":\"x\"},\"mode\":\"markers\",\"name\":\"idx 42\",\"showlegend\":false,\"x\":[42],\"y\":[20.0],\"type\":\"scatter\"},{\"marker\":{\"color\":\"red\",\"size\":10,\"symbol\":\"x\"},\"mode\":\"markers\",\"name\":\"idx 43\",\"showlegend\":false,\"x\":[43],\"y\":[20.0],\"type\":\"scatter\"},{\"marker\":{\"color\":\"red\",\"size\":10,\"symbol\":\"x\"},\"mode\":\"markers\",\"name\":\"idx 48\",\"showlegend\":false,\"x\":[48],\"y\":[16.85],\"type\":\"scatter\"},{\"marker\":{\"color\":\"red\",\"size\":10,\"symbol\":\"x\"},\"mode\":\"markers\",\"name\":\"idx 50\",\"showlegend\":false,\"x\":[50],\"y\":[20.74],\"type\":\"scatter\"},{\"marker\":{\"color\":\"red\",\"size\":10,\"symbol\":\"x\"},\"mode\":\"markers\",\"name\":\"idx 51\",\"showlegend\":false,\"x\":[51],\"y\":[42.94],\"type\":\"scatter\"},{\"marker\":{\"color\":\"red\",\"size\":10,\"symbol\":\"x\"},\"mode\":\"markers\",\"name\":\"idx 54\",\"showlegend\":false,\"x\":[54],\"y\":[16.85],\"type\":\"scatter\"},{\"marker\":{\"color\":\"red\",\"size\":10,\"symbol\":\"x\"},\"mode\":\"markers\",\"name\":\"idx 57\",\"showlegend\":false,\"x\":[57],\"y\":[22.19],\"type\":\"scatter\"},{\"marker\":{\"color\":\"red\",\"size\":10,\"symbol\":\"x\"},\"mode\":\"markers\",\"name\":\"idx 59\",\"showlegend\":false,\"x\":[59],\"y\":[33.5],\"type\":\"scatter\"},{\"marker\":{\"color\":\"red\",\"size\":10,\"symbol\":\"x\"},\"mode\":\"markers\",\"name\":\"idx 79\",\"showlegend\":false,\"x\":[79],\"y\":[15.38],\"type\":\"scatter\"},{\"marker\":{\"color\":\"red\",\"size\":10,\"symbol\":\"x\"},\"mode\":\"markers\",\"name\":\"idx 88\",\"showlegend\":false,\"x\":[88],\"y\":[15.82],\"type\":\"scatter\"},{\"marker\":{\"color\":\"red\",\"size\":10,\"symbol\":\"x\"},\"mode\":\"markers\",\"name\":\"idx 95\",\"showlegend\":false,\"x\":[95],\"y\":[15.38],\"type\":\"scatter\"},{\"marker\":{\"color\":\"red\",\"size\":10,\"symbol\":\"x\"},\"mode\":\"markers\",\"name\":\"idx 119\",\"showlegend\":false,\"x\":[119],\"y\":[25.0],\"type\":\"scatter\"},{\"marker\":{\"color\":\"red\",\"size\":10,\"symbol\":\"x\"},\"mode\":\"markers\",\"name\":\"idx 121\",\"showlegend\":false,\"x\":[121],\"y\":[20.0],\"type\":\"scatter\"},{\"marker\":{\"color\":\"red\",\"size\":10,\"symbol\":\"x\"},\"mode\":\"markers\",\"name\":\"idx 125\",\"showlegend\":false,\"x\":[125],\"y\":[29.9],\"type\":\"scatter\"},{\"marker\":{\"color\":\"red\",\"size\":10,\"symbol\":\"x\"},\"mode\":\"markers\",\"name\":\"idx 126\",\"showlegend\":false,\"x\":[126],\"y\":[160.0],\"type\":\"scatter\"},{\"marker\":{\"color\":\"red\",\"size\":10,\"symbol\":\"x\"},\"mode\":\"markers\",\"name\":\"idx 166\",\"showlegend\":false,\"x\":[166],\"y\":[1000.0],\"type\":\"scatter\"},{\"marker\":{\"color\":\"red\",\"size\":10,\"symbol\":\"x\"},\"mode\":\"markers\",\"name\":\"idx 169\",\"showlegend\":false,\"x\":[169],\"y\":[22.75],\"type\":\"scatter\"},{\"marker\":{\"color\":\"red\",\"size\":10,\"symbol\":\"x\"},\"mode\":\"markers\",\"name\":\"idx 171\",\"showlegend\":false,\"x\":[171],\"y\":[82.0],\"type\":\"scatter\"},{\"marker\":{\"color\":\"red\",\"size\":10,\"symbol\":\"x\"},\"mode\":\"markers\",\"name\":\"idx 172\",\"showlegend\":false,\"x\":[172],\"y\":[13.98],\"type\":\"scatter\"},{\"marker\":{\"color\":\"red\",\"size\":10,\"symbol\":\"x\"},\"mode\":\"markers\",\"name\":\"idx 176\",\"showlegend\":false,\"x\":[176],\"y\":[34.33],\"type\":\"scatter\"},{\"marker\":{\"color\":\"red\",\"size\":10,\"symbol\":\"x\"},\"mode\":\"markers\",\"name\":\"idx 177\",\"showlegend\":false,\"x\":[177],\"y\":[15.5],\"type\":\"scatter\"},{\"marker\":{\"color\":\"red\",\"size\":10,\"symbol\":\"x\"},\"mode\":\"markers\",\"name\":\"idx 178\",\"showlegend\":false,\"x\":[178],\"y\":[13.24],\"type\":\"scatter\"},{\"marker\":{\"color\":\"red\",\"size\":10,\"symbol\":\"x\"},\"mode\":\"markers\",\"name\":\"idx 179\",\"showlegend\":false,\"x\":[179],\"y\":[24.8],\"type\":\"scatter\"},{\"marker\":{\"color\":\"red\",\"size\":10,\"symbol\":\"x\"},\"mode\":\"markers\",\"name\":\"idx 181\",\"showlegend\":false,\"x\":[181],\"y\":[48.0],\"type\":\"scatter\"},{\"marker\":{\"color\":\"red\",\"size\":10,\"symbol\":\"x\"},\"mode\":\"markers\",\"name\":\"idx 184\",\"showlegend\":false,\"x\":[184],\"y\":[16.7],\"type\":\"scatter\"},{\"marker\":{\"color\":\"red\",\"size\":10,\"symbol\":\"x\"},\"mode\":\"markers\",\"name\":\"idx 186\",\"showlegend\":false,\"x\":[186],\"y\":[14.0],\"type\":\"scatter\"},{\"marker\":{\"color\":\"red\",\"size\":10,\"symbol\":\"x\"},\"mode\":\"markers\",\"name\":\"idx 194\",\"showlegend\":false,\"x\":[194],\"y\":[27.0],\"type\":\"scatter\"},{\"marker\":{\"color\":\"red\",\"size\":10,\"symbol\":\"x\"},\"mode\":\"markers\",\"name\":\"idx 201\",\"showlegend\":false,\"x\":[201],\"y\":[49.0],\"type\":\"scatter\"},{\"marker\":{\"color\":\"red\",\"size\":10,\"symbol\":\"x\"},\"mode\":\"markers\",\"name\":\"idx 213\",\"showlegend\":false,\"x\":[213],\"y\":[22.99],\"type\":\"scatter\"},{\"marker\":{\"color\":\"red\",\"size\":10,\"symbol\":\"x\"},\"mode\":\"markers\",\"name\":\"idx 219\",\"showlegend\":false,\"x\":[219],\"y\":[14.26],\"type\":\"scatter\"},{\"marker\":{\"color\":\"red\",\"size\":10,\"symbol\":\"x\"},\"mode\":\"markers\",\"name\":\"idx 224\",\"showlegend\":false,\"x\":[224],\"y\":[100.0],\"type\":\"scatter\"},{\"marker\":{\"color\":\"red\",\"size\":10,\"symbol\":\"x\"},\"mode\":\"markers\",\"name\":\"idx 227\",\"showlegend\":false,\"x\":[227],\"y\":[20.0],\"type\":\"scatter\"},{\"marker\":{\"color\":\"red\",\"size\":10,\"symbol\":\"x\"},\"mode\":\"markers\",\"name\":\"idx 242\",\"showlegend\":false,\"x\":[242],\"y\":[20.0],\"type\":\"scatter\"},{\"marker\":{\"color\":\"red\",\"size\":10,\"symbol\":\"x\"},\"mode\":\"markers\",\"name\":\"idx 243\",\"showlegend\":false,\"x\":[243],\"y\":[17.25],\"type\":\"scatter\"},{\"marker\":{\"color\":\"red\",\"size\":10,\"symbol\":\"x\"},\"mode\":\"markers\",\"name\":\"idx 250\",\"showlegend\":false,\"x\":[250],\"y\":[747.0],\"type\":\"scatter\"},{\"marker\":{\"color\":\"red\",\"size\":10,\"symbol\":\"x\"},\"mode\":\"markers\",\"name\":\"idx 267\",\"showlegend\":false,\"x\":[267],\"y\":[100.0],\"type\":\"scatter\"},{\"marker\":{\"color\":\"red\",\"size\":10,\"symbol\":\"x\"},\"mode\":\"markers\",\"name\":\"idx 268\",\"showlegend\":false,\"x\":[268],\"y\":[100.0],\"type\":\"scatter\"},{\"marker\":{\"color\":\"red\",\"size\":10,\"symbol\":\"x\"},\"mode\":\"markers\",\"name\":\"idx 269\",\"showlegend\":false,\"x\":[269],\"y\":[24.0],\"type\":\"scatter\"},{\"marker\":{\"color\":\"red\",\"size\":10,\"symbol\":\"x\"},\"mode\":\"markers\",\"name\":\"idx 272\",\"showlegend\":false,\"x\":[272],\"y\":[31.0],\"type\":\"scatter\"},{\"marker\":{\"color\":\"red\",\"size\":10,\"symbol\":\"x\"},\"mode\":\"markers\",\"name\":\"idx 278\",\"showlegend\":false,\"x\":[278],\"y\":[22.17],\"type\":\"scatter\"},{\"marker\":{\"color\":\"red\",\"size\":10,\"symbol\":\"x\"},\"mode\":\"markers\",\"name\":\"idx 279\",\"showlegend\":false,\"x\":[279],\"y\":[18.7],\"type\":\"scatter\"},{\"marker\":{\"color\":\"red\",\"size\":10,\"symbol\":\"x\"},\"mode\":\"markers\",\"name\":\"idx 280\",\"showlegend\":false,\"x\":[280],\"y\":[13.22],\"type\":\"scatter\"},{\"marker\":{\"color\":\"red\",\"size\":10,\"symbol\":\"x\"},\"mode\":\"markers\",\"name\":\"idx 281\",\"showlegend\":false,\"x\":[281],\"y\":[15.63],\"type\":\"scatter\"},{\"marker\":{\"color\":\"red\",\"size\":10,\"symbol\":\"x\"},\"mode\":\"markers\",\"name\":\"idx 282\",\"showlegend\":false,\"x\":[282],\"y\":[90.0],\"type\":\"scatter\"},{\"marker\":{\"color\":\"red\",\"size\":10,\"symbol\":\"x\"},\"mode\":\"markers\",\"name\":\"idx 284\",\"showlegend\":false,\"x\":[284],\"y\":[20.0],\"type\":\"scatter\"},{\"marker\":{\"color\":\"red\",\"size\":10,\"symbol\":\"x\"},\"mode\":\"markers\",\"name\":\"idx 285\",\"showlegend\":false,\"x\":[285],\"y\":[16.0],\"type\":\"scatter\"},{\"marker\":{\"color\":\"red\",\"size\":10,\"symbol\":\"x\"},\"mode\":\"markers\",\"name\":\"idx 286\",\"showlegend\":false,\"x\":[286],\"y\":[18.5],\"type\":\"scatter\"},{\"marker\":{\"color\":\"red\",\"size\":10,\"symbol\":\"x\"},\"mode\":\"markers\",\"name\":\"idx 290\",\"showlegend\":false,\"x\":[290],\"y\":[35.0],\"type\":\"scatter\"},{\"marker\":{\"color\":\"red\",\"size\":10,\"symbol\":\"x\"},\"mode\":\"markers\",\"name\":\"idx 292\",\"showlegend\":false,\"x\":[292],\"y\":[25.0],\"type\":\"scatter\"},{\"marker\":{\"color\":\"red\",\"size\":10,\"symbol\":\"x\"},\"mode\":\"markers\",\"name\":\"idx 293\",\"showlegend\":false,\"x\":[293],\"y\":[40.0],\"type\":\"scatter\"},{\"marker\":{\"color\":\"red\",\"size\":10,\"symbol\":\"x\"},\"mode\":\"markers\",\"name\":\"idx 294\",\"showlegend\":false,\"x\":[294],\"y\":[24.0],\"type\":\"scatter\"},{\"marker\":{\"color\":\"red\",\"size\":10,\"symbol\":\"x\"},\"mode\":\"markers\",\"name\":\"idx 295\",\"showlegend\":false,\"x\":[295],\"y\":[20.0],\"type\":\"scatter\"},{\"marker\":{\"color\":\"red\",\"size\":10,\"symbol\":\"x\"},\"mode\":\"markers\",\"name\":\"idx 308\",\"showlegend\":false,\"x\":[308],\"y\":[15.0],\"type\":\"scatter\"},{\"marker\":{\"color\":\"red\",\"size\":10,\"symbol\":\"x\"},\"mode\":\"markers\",\"name\":\"idx 313\",\"showlegend\":false,\"x\":[313],\"y\":[183.0],\"type\":\"scatter\"},{\"marker\":{\"color\":\"red\",\"size\":10,\"symbol\":\"x\"},\"mode\":\"markers\",\"name\":\"idx 314\",\"showlegend\":false,\"x\":[314],\"y\":[60.0],\"type\":\"scatter\"},{\"marker\":{\"color\":\"red\",\"size\":10,\"symbol\":\"x\"},\"mode\":\"markers\",\"name\":\"idx 315\",\"showlegend\":false,\"x\":[315],\"y\":[36.4],\"type\":\"scatter\"},{\"marker\":{\"color\":\"red\",\"size\":10,\"symbol\":\"x\"},\"mode\":\"markers\",\"name\":\"idx 316\",\"showlegend\":false,\"x\":[316],\"y\":[49.56],\"type\":\"scatter\"},{\"marker\":{\"color\":\"red\",\"size\":10,\"symbol\":\"x\"},\"mode\":\"markers\",\"name\":\"idx 318\",\"showlegend\":false,\"x\":[318],\"y\":[200.0],\"type\":\"scatter\"},{\"marker\":{\"color\":\"red\",\"size\":10,\"symbol\":\"x\"},\"mode\":\"markers\",\"name\":\"idx 354\",\"showlegend\":false,\"x\":[354],\"y\":[24.0],\"type\":\"scatter\"},{\"marker\":{\"color\":\"red\",\"size\":10,\"symbol\":\"x\"},\"mode\":\"markers\",\"name\":\"idx 355\",\"showlegend\":false,\"x\":[355],\"y\":[40.0],\"type\":\"scatter\"},{\"marker\":{\"color\":\"red\",\"size\":10,\"symbol\":\"x\"},\"mode\":\"markers\",\"name\":\"idx 356\",\"showlegend\":false,\"x\":[356],\"y\":[16.0],\"type\":\"scatter\"},{\"marker\":{\"color\":\"red\",\"size\":10,\"symbol\":\"x\"},\"mode\":\"markers\",\"name\":\"idx 357\",\"showlegend\":false,\"x\":[357],\"y\":[20.0],\"type\":\"scatter\"},{\"marker\":{\"color\":\"red\",\"size\":10,\"symbol\":\"x\"},\"mode\":\"markers\",\"name\":\"idx 378\",\"showlegend\":false,\"x\":[378],\"y\":[168.78],\"type\":\"scatter\"},{\"marker\":{\"color\":\"red\",\"size\":10,\"symbol\":\"x\"},\"mode\":\"markers\",\"name\":\"idx 400\",\"showlegend\":false,\"x\":[400],\"y\":[30.4],\"type\":\"scatter\"},{\"marker\":{\"color\":\"red\",\"size\":10,\"symbol\":\"x\"},\"mode\":\"markers\",\"name\":\"idx 401\",\"showlegend\":false,\"x\":[401],\"y\":[32.57],\"type\":\"scatter\"},{\"marker\":{\"color\":\"red\",\"size\":10,\"symbol\":\"x\"},\"mode\":\"markers\",\"name\":\"idx 402\",\"showlegend\":false,\"x\":[402],\"y\":[18.0],\"type\":\"scatter\"},{\"marker\":{\"color\":\"red\",\"size\":10,\"symbol\":\"x\"},\"mode\":\"markers\",\"name\":\"idx 409\",\"showlegend\":false,\"x\":[409],\"y\":[18.0],\"type\":\"scatter\"},{\"marker\":{\"color\":\"red\",\"size\":10,\"symbol\":\"x\"},\"mode\":\"markers\",\"name\":\"idx 424\",\"showlegend\":false,\"x\":[424],\"y\":[15.0],\"type\":\"scatter\"},{\"marker\":{\"color\":\"red\",\"size\":10,\"symbol\":\"x\"},\"mode\":\"markers\",\"name\":\"idx 428\",\"showlegend\":false,\"x\":[428],\"y\":[600.0],\"type\":\"scatter\"},{\"marker\":{\"color\":\"red\",\"size\":10,\"symbol\":\"x\"},\"mode\":\"markers\",\"name\":\"idx 431\",\"showlegend\":false,\"x\":[431],\"y\":[14.0],\"type\":\"scatter\"},{\"marker\":{\"color\":\"red\",\"size\":10,\"symbol\":\"x\"},\"mode\":\"markers\",\"name\":\"idx 432\",\"showlegend\":false,\"x\":[432],\"y\":[15.09],\"type\":\"scatter\"},{\"marker\":{\"color\":\"red\",\"size\":10,\"symbol\":\"x\"},\"mode\":\"markers\",\"name\":\"idx 437\",\"showlegend\":false,\"x\":[437],\"y\":[600.0],\"type\":\"scatter\"},{\"marker\":{\"color\":\"red\",\"size\":10,\"symbol\":\"x\"},\"mode\":\"markers\",\"name\":\"idx 438\",\"showlegend\":false,\"x\":[438],\"y\":[19.99],\"type\":\"scatter\"},{\"marker\":{\"color\":\"red\",\"size\":10,\"symbol\":\"x\"},\"mode\":\"markers\",\"name\":\"idx 439\",\"showlegend\":false,\"x\":[439],\"y\":[16.0],\"type\":\"scatter\"},{\"marker\":{\"color\":\"red\",\"size\":10,\"symbol\":\"x\"},\"mode\":\"markers\",\"name\":\"idx 443\",\"showlegend\":false,\"x\":[443],\"y\":[41.95],\"type\":\"scatter\"},{\"marker\":{\"color\":\"red\",\"size\":10,\"symbol\":\"x\"},\"mode\":\"markers\",\"name\":\"idx 450\",\"showlegend\":false,\"x\":[450],\"y\":[79.0],\"type\":\"scatter\"},{\"marker\":{\"color\":\"red\",\"size\":10,\"symbol\":\"x\"},\"mode\":\"markers\",\"name\":\"idx 451\",\"showlegend\":false,\"x\":[451],\"y\":[14.0],\"type\":\"scatter\"},{\"marker\":{\"color\":\"red\",\"size\":10,\"symbol\":\"x\"},\"mode\":\"markers\",\"name\":\"idx 458\",\"showlegend\":false,\"x\":[458],\"y\":[160.0],\"type\":\"scatter\"},{\"marker\":{\"color\":\"red\",\"size\":10,\"symbol\":\"x\"},\"mode\":\"markers\",\"name\":\"idx 462\",\"showlegend\":false,\"x\":[462],\"y\":[27.0],\"type\":\"scatter\"},{\"marker\":{\"color\":\"red\",\"size\":10,\"symbol\":\"x\"},\"mode\":\"markers\",\"name\":\"idx 463\",\"showlegend\":false,\"x\":[463],\"y\":[38.0],\"type\":\"scatter\"},{\"marker\":{\"color\":\"red\",\"size\":10,\"symbol\":\"x\"},\"mode\":\"markers\",\"name\":\"idx 464\",\"showlegend\":false,\"x\":[464],\"y\":[40.0],\"type\":\"scatter\"},{\"marker\":{\"color\":\"red\",\"size\":10,\"symbol\":\"x\"},\"mode\":\"markers\",\"name\":\"idx 466\",\"showlegend\":false,\"x\":[466],\"y\":[61.0],\"type\":\"scatter\"},{\"marker\":{\"color\":\"red\",\"size\":10,\"symbol\":\"x\"},\"mode\":\"markers\",\"name\":\"idx 467\",\"showlegend\":false,\"x\":[467],\"y\":[17.0],\"type\":\"scatter\"},{\"marker\":{\"color\":\"red\",\"size\":10,\"symbol\":\"x\"},\"mode\":\"markers\",\"name\":\"idx 468\",\"showlegend\":false,\"x\":[468],\"y\":[56.0],\"type\":\"scatter\"},{\"marker\":{\"color\":\"red\",\"size\":10,\"symbol\":\"x\"},\"mode\":\"markers\",\"name\":\"idx 469\",\"showlegend\":false,\"x\":[469],\"y\":[13.22],\"type\":\"scatter\"},{\"marker\":{\"color\":\"red\",\"size\":10,\"symbol\":\"x\"},\"mode\":\"markers\",\"name\":\"idx 470\",\"showlegend\":false,\"x\":[470],\"y\":[20.0],\"type\":\"scatter\"},{\"marker\":{\"color\":\"red\",\"size\":10,\"symbol\":\"x\"},\"mode\":\"markers\",\"name\":\"idx 471\",\"showlegend\":false,\"x\":[471],\"y\":[40.0],\"type\":\"scatter\"},{\"marker\":{\"color\":\"red\",\"size\":10,\"symbol\":\"x\"},\"mode\":\"markers\",\"name\":\"idx 472\",\"showlegend\":false,\"x\":[472],\"y\":[16.99],\"type\":\"scatter\"},{\"marker\":{\"color\":\"red\",\"size\":10,\"symbol\":\"x\"},\"mode\":\"markers\",\"name\":\"idx 473\",\"showlegend\":false,\"x\":[473],\"y\":[18.7],\"type\":\"scatter\"},{\"marker\":{\"color\":\"red\",\"size\":10,\"symbol\":\"x\"},\"mode\":\"markers\",\"name\":\"idx 475\",\"showlegend\":false,\"x\":[475],\"y\":[16.0],\"type\":\"scatter\"},{\"marker\":{\"color\":\"red\",\"size\":10,\"symbol\":\"x\"},\"mode\":\"markers\",\"name\":\"idx 476\",\"showlegend\":false,\"x\":[476],\"y\":[22.8],\"type\":\"scatter\"},{\"marker\":{\"color\":\"red\",\"size\":10,\"symbol\":\"x\"},\"mode\":\"markers\",\"name\":\"idx 477\",\"showlegend\":false,\"x\":[477],\"y\":[16.37],\"type\":\"scatter\"},{\"marker\":{\"color\":\"red\",\"size\":10,\"symbol\":\"x\"},\"mode\":\"markers\",\"name\":\"idx 478\",\"showlegend\":false,\"x\":[478],\"y\":[16.0],\"type\":\"scatter\"},{\"marker\":{\"color\":\"red\",\"size\":10,\"symbol\":\"x\"},\"mode\":\"markers\",\"name\":\"idx 487\",\"showlegend\":false,\"x\":[487],\"y\":[22.0],\"type\":\"scatter\"},{\"marker\":{\"color\":\"red\",\"size\":10,\"symbol\":\"x\"},\"mode\":\"markers\",\"name\":\"idx 489\",\"showlegend\":false,\"x\":[489],\"y\":[14.0],\"type\":\"scatter\"},{\"marker\":{\"color\":\"red\",\"size\":10,\"symbol\":\"x\"},\"mode\":\"markers\",\"name\":\"idx 492\",\"showlegend\":false,\"x\":[492],\"y\":[15.0],\"type\":\"scatter\"},{\"marker\":{\"color\":\"red\",\"size\":10,\"symbol\":\"x\"},\"mode\":\"markers\",\"name\":\"idx 497\",\"showlegend\":false,\"x\":[497],\"y\":[31.5],\"type\":\"scatter\"},{\"marker\":{\"color\":\"red\",\"size\":10,\"symbol\":\"x\"},\"mode\":\"markers\",\"name\":\"idx 498\",\"showlegend\":false,\"x\":[498],\"y\":[15.0],\"type\":\"scatter\"},{\"marker\":{\"color\":\"red\",\"size\":10,\"symbol\":\"x\"},\"mode\":\"markers\",\"name\":\"idx 506\",\"showlegend\":false,\"x\":[506],\"y\":[16.6],\"type\":\"scatter\"}],                        {\"legend\":{\"bgcolor\":\"#151516\",\"font\":{\"color\":\"#D9D9D9\"}},\"paper_bgcolor\":\"#151516\",\"plot_bgcolor\":\"#151516\",\"title\":{\"text\":\"Original Current Unit Price with Outliers Marked\",\"font\":{\"color\":\"#D9D9D9\"}},\"xaxis\":{\"gridcolor\":\"#434343\",\"showgrid\":true,\"tickfont\":{\"color\":\"#C2C2C2\"},\"title\":{\"text\":\"index\",\"font\":{\"color\":\"#D9D9D9\"}},\"zerolinecolor\":\"#666570\"},\"yaxis\":{\"gridcolor\":\"#434343\",\"showgrid\":true,\"tickfont\":{\"color\":\"#C2C2C2\"},\"title\":{\"text\":\"Current Unit Price\",\"font\":{\"color\":\"#D9D9D9\"}},\"zerolinecolor\":\"#666570\"},\"template\":{\"data\":{\"histogram2dcontour\":[{\"type\":\"histogram2dcontour\",\"colorbar\":{\"outlinewidth\":0,\"ticks\":\"\"},\"colorscale\":[[0.0,\"#0d0887\"],[0.1111111111111111,\"#46039f\"],[0.2222222222222222,\"#7201a8\"],[0.3333333333333333,\"#9c179e\"],[0.4444444444444444,\"#bd3786\"],[0.5555555555555556,\"#d8576b\"],[0.6666666666666666,\"#ed7953\"],[0.7777777777777778,\"#fb9f3a\"],[0.8888888888888888,\"#fdca26\"],[1.0,\"#f0f921\"]]}],\"choropleth\":[{\"type\":\"choropleth\",\"colorbar\":{\"outlinewidth\":0,\"ticks\":\"\"}}],\"histogram2d\":[{\"type\":\"histogram2d\",\"colorbar\":{\"outlinewidth\":0,\"ticks\":\"\"},\"colorscale\":[[0.0,\"#0d0887\"],[0.1111111111111111,\"#46039f\"],[0.2222222222222222,\"#7201a8\"],[0.3333333333333333,\"#9c179e\"],[0.4444444444444444,\"#bd3786\"],[0.5555555555555556,\"#d8576b\"],[0.6666666666666666,\"#ed7953\"],[0.7777777777777778,\"#fb9f3a\"],[0.8888888888888888,\"#fdca26\"],[1.0,\"#f0f921\"]]}],\"heatmap\":[{\"type\":\"heatmap\",\"colorbar\":{\"outlinewidth\":0,\"ticks\":\"\"},\"colorscale\":[[0.0,\"#0d0887\"],[0.1111111111111111,\"#46039f\"],[0.2222222222222222,\"#7201a8\"],[0.3333333333333333,\"#9c179e\"],[0.4444444444444444,\"#bd3786\"],[0.5555555555555556,\"#d8576b\"],[0.6666666666666666,\"#ed7953\"],[0.7777777777777778,\"#fb9f3a\"],[0.8888888888888888,\"#fdca26\"],[1.0,\"#f0f921\"]]}],\"heatmapgl\":[{\"type\":\"heatmapgl\",\"colorbar\":{\"outlinewidth\":0,\"ticks\":\"\"},\"colorscale\":[[0.0,\"#0d0887\"],[0.1111111111111111,\"#46039f\"],[0.2222222222222222,\"#7201a8\"],[0.3333333333333333,\"#9c179e\"],[0.4444444444444444,\"#bd3786\"],[0.5555555555555556,\"#d8576b\"],[0.6666666666666666,\"#ed7953\"],[0.7777777777777778,\"#fb9f3a\"],[0.8888888888888888,\"#fdca26\"],[1.0,\"#f0f921\"]]}],\"contourcarpet\":[{\"type\":\"contourcarpet\",\"colorbar\":{\"outlinewidth\":0,\"ticks\":\"\"}}],\"contour\":[{\"type\":\"contour\",\"colorbar\":{\"outlinewidth\":0,\"ticks\":\"\"},\"colorscale\":[[0.0,\"#0d0887\"],[0.1111111111111111,\"#46039f\"],[0.2222222222222222,\"#7201a8\"],[0.3333333333333333,\"#9c179e\"],[0.4444444444444444,\"#bd3786\"],[0.5555555555555556,\"#d8576b\"],[0.6666666666666666,\"#ed7953\"],[0.7777777777777778,\"#fb9f3a\"],[0.8888888888888888,\"#fdca26\"],[1.0,\"#f0f921\"]]}],\"surface\":[{\"type\":\"surface\",\"colorbar\":{\"outlinewidth\":0,\"ticks\":\"\"},\"colorscale\":[[0.0,\"#0d0887\"],[0.1111111111111111,\"#46039f\"],[0.2222222222222222,\"#7201a8\"],[0.3333333333333333,\"#9c179e\"],[0.4444444444444444,\"#bd3786\"],[0.5555555555555556,\"#d8576b\"],[0.6666666666666666,\"#ed7953\"],[0.7777777777777778,\"#fb9f3a\"],[0.8888888888888888,\"#fdca26\"],[1.0,\"#f0f921\"]]}],\"mesh3d\":[{\"type\":\"mesh3d\",\"colorbar\":{\"outlinewidth\":0,\"ticks\":\"\"}}],\"scatter\":[{\"fillpattern\":{\"fillmode\":\"overlay\",\"size\":10,\"solidity\":0.2},\"type\":\"scatter\"}],\"parcoords\":[{\"type\":\"parcoords\",\"line\":{\"colorbar\":{\"outlinewidth\":0,\"ticks\":\"\"}}}],\"scatterpolargl\":[{\"type\":\"scatterpolargl\",\"marker\":{\"colorbar\":{\"outlinewidth\":0,\"ticks\":\"\"}}}],\"bar\":[{\"error_x\":{\"color\":\"#2a3f5f\"},\"error_y\":{\"color\":\"#2a3f5f\"},\"marker\":{\"line\":{\"color\":\"#E5ECF6\",\"width\":0.5},\"pattern\":{\"fillmode\":\"overlay\",\"size\":10,\"solidity\":0.2}},\"type\":\"bar\"}],\"scattergeo\":[{\"type\":\"scattergeo\",\"marker\":{\"colorbar\":{\"outlinewidth\":0,\"ticks\":\"\"}}}],\"scatterpolar\":[{\"type\":\"scatterpolar\",\"marker\":{\"colorbar\":{\"outlinewidth\":0,\"ticks\":\"\"}}}],\"histogram\":[{\"marker\":{\"pattern\":{\"fillmode\":\"overlay\",\"size\":10,\"solidity\":0.2}},\"type\":\"histogram\"}],\"scattergl\":[{\"type\":\"scattergl\",\"marker\":{\"colorbar\":{\"outlinewidth\":0,\"ticks\":\"\"}}}],\"scatter3d\":[{\"type\":\"scatter3d\",\"line\":{\"colorbar\":{\"outlinewidth\":0,\"ticks\":\"\"}},\"marker\":{\"colorbar\":{\"outlinewidth\":0,\"ticks\":\"\"}}}],\"scattermapbox\":[{\"type\":\"scattermapbox\",\"marker\":{\"colorbar\":{\"outlinewidth\":0,\"ticks\":\"\"}}}],\"scatterternary\":[{\"type\":\"scatterternary\",\"marker\":{\"colorbar\":{\"outlinewidth\":0,\"ticks\":\"\"}}}],\"scattercarpet\":[{\"type\":\"scattercarpet\",\"marker\":{\"colorbar\":{\"outlinewidth\":0,\"ticks\":\"\"}}}],\"carpet\":[{\"aaxis\":{\"endlinecolor\":\"#2a3f5f\",\"gridcolor\":\"white\",\"linecolor\":\"white\",\"minorgridcolor\":\"white\",\"startlinecolor\":\"#2a3f5f\"},\"baxis\":{\"endlinecolor\":\"#2a3f5f\",\"gridcolor\":\"white\",\"linecolor\":\"white\",\"minorgridcolor\":\"white\",\"startlinecolor\":\"#2a3f5f\"},\"type\":\"carpet\"}],\"table\":[{\"cells\":{\"fill\":{\"color\":\"#EBF0F8\"},\"line\":{\"color\":\"white\"}},\"header\":{\"fill\":{\"color\":\"#C8D4E3\"},\"line\":{\"color\":\"white\"}},\"type\":\"table\"}],\"barpolar\":[{\"marker\":{\"line\":{\"color\":\"#E5ECF6\",\"width\":0.5},\"pattern\":{\"fillmode\":\"overlay\",\"size\":10,\"solidity\":0.2}},\"type\":\"barpolar\"}],\"pie\":[{\"automargin\":true,\"type\":\"pie\"}]},\"layout\":{\"autotypenumbers\":\"strict\",\"colorway\":[\"#636efa\",\"#EF553B\",\"#00cc96\",\"#ab63fa\",\"#FFA15A\",\"#19d3f3\",\"#FF6692\",\"#B6E880\",\"#FF97FF\",\"#FECB52\"],\"font\":{\"color\":\"#2a3f5f\"},\"hovermode\":\"closest\",\"hoverlabel\":{\"align\":\"left\"},\"paper_bgcolor\":\"white\",\"plot_bgcolor\":\"#E5ECF6\",\"polar\":{\"bgcolor\":\"#E5ECF6\",\"angularaxis\":{\"gridcolor\":\"white\",\"linecolor\":\"white\",\"ticks\":\"\"},\"radialaxis\":{\"gridcolor\":\"white\",\"linecolor\":\"white\",\"ticks\":\"\"}},\"ternary\":{\"bgcolor\":\"#E5ECF6\",\"aaxis\":{\"gridcolor\":\"white\",\"linecolor\":\"white\",\"ticks\":\"\"},\"baxis\":{\"gridcolor\":\"white\",\"linecolor\":\"white\",\"ticks\":\"\"},\"caxis\":{\"gridcolor\":\"white\",\"linecolor\":\"white\",\"ticks\":\"\"}},\"coloraxis\":{\"colorbar\":{\"outlinewidth\":0,\"ticks\":\"\"}},\"colorscale\":{\"sequential\":[[0.0,\"#0d0887\"],[0.1111111111111111,\"#46039f\"],[0.2222222222222222,\"#7201a8\"],[0.3333333333333333,\"#9c179e\"],[0.4444444444444444,\"#bd3786\"],[0.5555555555555556,\"#d8576b\"],[0.6666666666666666,\"#ed7953\"],[0.7777777777777778,\"#fb9f3a\"],[0.8888888888888888,\"#fdca26\"],[1.0,\"#f0f921\"]],\"sequentialminus\":[[0.0,\"#0d0887\"],[0.1111111111111111,\"#46039f\"],[0.2222222222222222,\"#7201a8\"],[0.3333333333333333,\"#9c179e\"],[0.4444444444444444,\"#bd3786\"],[0.5555555555555556,\"#d8576b\"],[0.6666666666666666,\"#ed7953\"],[0.7777777777777778,\"#fb9f3a\"],[0.8888888888888888,\"#fdca26\"],[1.0,\"#f0f921\"]],\"diverging\":[[0,\"#8e0152\"],[0.1,\"#c51b7d\"],[0.2,\"#de77ae\"],[0.3,\"#f1b6da\"],[0.4,\"#fde0ef\"],[0.5,\"#f7f7f7\"],[0.6,\"#e6f5d0\"],[0.7,\"#b8e186\"],[0.8,\"#7fbc41\"],[0.9,\"#4d9221\"],[1,\"#276419\"]]},\"xaxis\":{\"gridcolor\":\"white\",\"linecolor\":\"white\",\"ticks\":\"\",\"title\":{\"standoff\":15},\"zerolinecolor\":\"white\",\"automargin\":true,\"zerolinewidth\":2},\"yaxis\":{\"gridcolor\":\"white\",\"linecolor\":\"white\",\"ticks\":\"\",\"title\":{\"standoff\":15},\"zerolinecolor\":\"white\",\"automargin\":true,\"zerolinewidth\":2},\"scene\":{\"xaxis\":{\"backgroundcolor\":\"#E5ECF6\",\"gridcolor\":\"white\",\"linecolor\":\"white\",\"showbackground\":true,\"ticks\":\"\",\"zerolinecolor\":\"white\",\"gridwidth\":2},\"yaxis\":{\"backgroundcolor\":\"#E5ECF6\",\"gridcolor\":\"white\",\"linecolor\":\"white\",\"showbackground\":true,\"ticks\":\"\",\"zerolinecolor\":\"white\",\"gridwidth\":2},\"zaxis\":{\"backgroundcolor\":\"#E5ECF6\",\"gridcolor\":\"white\",\"linecolor\":\"white\",\"showbackground\":true,\"ticks\":\"\",\"zerolinecolor\":\"white\",\"gridwidth\":2}},\"shapedefaults\":{\"line\":{\"color\":\"#2a3f5f\"}},\"annotationdefaults\":{\"arrowcolor\":\"#2a3f5f\",\"arrowhead\":0,\"arrowwidth\":1},\"geo\":{\"bgcolor\":\"white\",\"landcolor\":\"#E5ECF6\",\"subunitcolor\":\"white\",\"showland\":true,\"showlakes\":true,\"lakecolor\":\"white\"},\"title\":{\"x\":0.05},\"mapbox\":{\"style\":\"light\"}}}},                        {\"responsive\": true}                    ).then(function(){\n",
       "                            \n",
       "var gd = document.getElementById('8f65991f-5e3f-426e-859b-711906d4ad0b');\n",
       "var x = new MutationObserver(function (mutations, observer) {{\n",
       "        var display = window.getComputedStyle(gd).display;\n",
       "        if (!display || display === 'none') {{\n",
       "            console.log([gd, 'removed!']);\n",
       "            Plotly.purge(gd);\n",
       "            observer.disconnect();\n",
       "        }}\n",
       "}});\n",
       "\n",
       "// Listen for the removal of the full notebook cells\n",
       "var notebookContainer = gd.closest('#notebook-container');\n",
       "if (notebookContainer) {{\n",
       "    x.observe(notebookContainer, {childList: true});\n",
       "}}\n",
       "\n",
       "// Listen for the clearing of the current output cell\n",
       "var outputEl = gd.closest('.output');\n",
       "if (outputEl) {{\n",
       "    x.observe(outputEl, {childList: true});\n",
       "}}\n",
       "\n",
       "                        })                };                });            </script>        </div>"
      ]
     },
     "metadata": {},
     "output_type": "display_data"
    },
    {
     "data": {
      "application/vnd.plotly.v1+json": {
       "config": {
        "plotlyServerURL": "https://plot.ly"
       },
       "data": [
        {
         "line": {
          "color": "rgba(255, 153, 51, 1.0)",
          "dash": "solid",
          "shape": "linear",
          "width": 1.3
         },
         "marker": {
          "size": 12,
          "symbol": "circle"
         },
         "mode": "markers",
         "name": "Target Unit Price",
         "text": "",
         "type": "scatter",
         "x": [
          0,
          1,
          2,
          3,
          4,
          5,
          6,
          7,
          8,
          9,
          10,
          11,
          12,
          13,
          14,
          15,
          16,
          17,
          18,
          19,
          20,
          21,
          22,
          23,
          24,
          25,
          26,
          27,
          28,
          29,
          30,
          31,
          32,
          33,
          34,
          35,
          36,
          37,
          38,
          39,
          40,
          41,
          42,
          43,
          44,
          45,
          46,
          47,
          48,
          49,
          50,
          51,
          52,
          53,
          54,
          55,
          56,
          57,
          58,
          59,
          60,
          61,
          62,
          63,
          64,
          65,
          66,
          67,
          68,
          69,
          70,
          71,
          72,
          73,
          74,
          75,
          76,
          77,
          78,
          79,
          80,
          81,
          82,
          83,
          84,
          85,
          86,
          87,
          88,
          89,
          90,
          91,
          92,
          93,
          94,
          95,
          96,
          97,
          98,
          99,
          100,
          101,
          102,
          103,
          104,
          105,
          106,
          107,
          108,
          109,
          110,
          111,
          112,
          113,
          114,
          115,
          116,
          117,
          118,
          119,
          120,
          121,
          122,
          123,
          124,
          125,
          126,
          127,
          128,
          129,
          130,
          131,
          132,
          133,
          134,
          135,
          136,
          137,
          138,
          139,
          140,
          141,
          142,
          143,
          144,
          145,
          146,
          147,
          148,
          149,
          150,
          151,
          152,
          153,
          154,
          155,
          156,
          157,
          158,
          159,
          160,
          161,
          162,
          163,
          164,
          165,
          166,
          167,
          168,
          169,
          170,
          171,
          172,
          173,
          174,
          175,
          176,
          177,
          178,
          179,
          180,
          181,
          182,
          183,
          184,
          185,
          186,
          187,
          188,
          189,
          190,
          191,
          192,
          193,
          194,
          195,
          196,
          197,
          198,
          199,
          200,
          201,
          202,
          203,
          204,
          205,
          206,
          207,
          208,
          209,
          210,
          211,
          212,
          213,
          214,
          215,
          216,
          217,
          218,
          219,
          220,
          221,
          222,
          223,
          224,
          225,
          226,
          227,
          228,
          229,
          230,
          231,
          232,
          233,
          234,
          235,
          236,
          237,
          238,
          239,
          240,
          241,
          242,
          243,
          244,
          245,
          246,
          247,
          248,
          249,
          250,
          251,
          252,
          253,
          254,
          255,
          256,
          257,
          258,
          259,
          260,
          261,
          262,
          263,
          264,
          265,
          266,
          267,
          268,
          269,
          270,
          271,
          272,
          273,
          274,
          275,
          276,
          277,
          278,
          279,
          280,
          281,
          282,
          283,
          284,
          285,
          286,
          287,
          288,
          289,
          290,
          291,
          292,
          293,
          294,
          295,
          296,
          297,
          298,
          299,
          300,
          301,
          302,
          303,
          304,
          305,
          306,
          307,
          308,
          309,
          310,
          311,
          312,
          313,
          314,
          315,
          316,
          317,
          318,
          319,
          320,
          321,
          322,
          323,
          324,
          325,
          326,
          327,
          328,
          329,
          330,
          331,
          332,
          333,
          334,
          335,
          336,
          337,
          338,
          339,
          340,
          341,
          342,
          343,
          344,
          345,
          346,
          347,
          348,
          349,
          350,
          351,
          352,
          353,
          354,
          355,
          356,
          357,
          358,
          359,
          360,
          361,
          362,
          363,
          364,
          365,
          366,
          367,
          368,
          369,
          370,
          371,
          372,
          373,
          374,
          375,
          376,
          377,
          378,
          379,
          380,
          381,
          382,
          383,
          384,
          385,
          386,
          387,
          388,
          389,
          390,
          391,
          392,
          393,
          394,
          395,
          396,
          397,
          398,
          399,
          400,
          401,
          402,
          403,
          404,
          405,
          406,
          407,
          408,
          409,
          410,
          411,
          412,
          413,
          414,
          415,
          416,
          417,
          418,
          419,
          420,
          421,
          422,
          423,
          424,
          425,
          426,
          427,
          428,
          429,
          430,
          431,
          432,
          433,
          434,
          435,
          436,
          437,
          438,
          439,
          440,
          441,
          442,
          443,
          444,
          445,
          446,
          447,
          448,
          449,
          450,
          451,
          452,
          453,
          454,
          455,
          456,
          457,
          458,
          459,
          460,
          461,
          462,
          463,
          464,
          465,
          466,
          467,
          468,
          469,
          470,
          471,
          472,
          473,
          474,
          475,
          476,
          477,
          478,
          479,
          480,
          481,
          482,
          483,
          484,
          485,
          486,
          487,
          488,
          489,
          490,
          491,
          492,
          493,
          494,
          495,
          496,
          497,
          498,
          499,
          500,
          501,
          502,
          503,
          504,
          505,
          506,
          507,
          508,
          509,
          510
         ],
         "y": [
          10,
          3,
          20,
          4.5,
          0.01,
          0.01,
          0.01,
          14.77,
          2.98,
          99,
          2.75,
          0.01,
          35,
          3,
          0.01,
          2.98,
          6,
          1.64,
          10000,
          7.2,
          3.5,
          1.8,
          3,
          4.5,
          1.5,
          3,
          1.07,
          2.45,
          25,
          21,
          2.45,
          3,
          2.3,
          6.5,
          6.5,
          6.5,
          6.5,
          6.5,
          2.1,
          7,
          1.1,
          20,
          20,
          20,
          16.67,
          8.33,
          1.58,
          9.8,
          16.85,
          0.9,
          20.74,
          42.94,
          2.38,
          2.38,
          16.85,
          11.5,
          4.2,
          19,
          1.6,
          30,
          2.5,
          1.29,
          1.32,
          1.14,
          0.86,
          1.7,
          1.43,
          1.12,
          1,
          4,
          9.47,
          2.52,
          1.9,
          6.3,
          1.35,
          12.49,
          8,
          3.02,
          4.49,
          12,
          3.17,
          5,
          1.75,
          3.5,
          4,
          1.8,
          9.25,
          6.6,
          15.82,
          9.47,
          2.52,
          1.9,
          6.3,
          8.8,
          2.76,
          15.38,
          1.35,
          3.17,
          12.49,
          8,
          5.89,
          7.3,
          5.75,
          3.02,
          4.49,
          1.8,
          3.56,
          4.17,
          1.4,
          3.3,
          7.26,
          3.3,
          1.96,
          3.8,
          3.5,
          1.8,
          2.8,
          3,
          1.05,
          20,
          4,
          10,
          6.2,
          6.2,
          0.95,
          24,
          120,
          2.5,
          1.2,
          0.48,
          4.8,
          4,
          2,
          4,
          0.53,
          0.01,
          0.01,
          0.01,
          0.01,
          0.01,
          0.01,
          0.01,
          0.01,
          0.01,
          0.01,
          0.01,
          0.01,
          0.01,
          0.01,
          0.01,
          3.5,
          3,
          0.01,
          0.01,
          0.01,
          0.01,
          0.01,
          10,
          4.6,
          5,
          4,
          4.5,
          1,
          1.5,
          2.5,
          2.5,
          1000,
          0.96,
          2.95,
          22.75,
          2.97,
          82,
          13.98,
          8.4,
          7.36,
          8.41,
          34.33,
          15.5,
          13.24,
          24.8,
          5.18,
          35,
          4.35,
          6,
          12,
          6,
          12,
          1.5,
          3.5,
          3.5,
          3.5,
          3,
          3,
          3,
          22,
          2,
          3,
          7.5,
          1,
          1.5,
          0.06,
          39,
          2.99,
          1.5,
          0.01,
          0.01,
          0.01,
          3,
          12,
          4.5,
          1.66,
          1.66,
          4.9,
          22.99,
          2.5,
          3.1,
          7.62,
          7.2,
          5.32,
          12,
          6.5,
          1.26,
          4.08,
          6.5,
          92,
          6.7,
          1.2,
          8,
          1,
          14,
          15,
          4,
          3.5,
          0.98,
          4.5,
          4,
          1.6,
          0.98,
          2.3,
          1.55,
          7.5,
          11.3,
          17,
          15,
          9,
          3,
          5,
          6.48,
          4.1,
          1.6,
          7.45,
          0.95,
          3.46,
          3,
          7.45,
          65,
          7.5,
          7.5,
          6.6,
          6.15,
          0.01,
          1.9,
          7.55,
          4.95,
          3.35,
          4.2,
          0.1,
          90,
          90,
          22,
          2.5,
          10,
          29,
          3,
          5,
          5.8,
          2.5,
          8,
          22,
          19,
          14,
          15.63,
          90,
          20,
          20,
          16,
          13.5,
          3.5,
          1.5,
          5,
          30,
          6,
          23,
          35,
          22,
          15,
          1.8,
          1.8,
          7.96,
          0.01,
          8.48,
          11.3,
          1.5,
          1.9,
          1.8,
          1.8,
          5.5,
          5.44,
          12.5,
          1.5,
          1,
          1,
          1.05,
          120,
          50,
          34,
          40,
          1.5,
          180,
          0.5,
          1.7,
          1.4,
          1,
          3.2,
          1.25,
          1.35,
          1.48,
          1.04,
          0.88,
          1.6,
          1.9,
          3.1,
          6.35,
          1.5,
          2,
          3.08,
          3,
          1.2,
          3.8,
          2.2,
          1.85,
          6,
          6.5,
          6.5,
          11.3,
          5.75,
          5.85,
          5.75,
          0.75,
          9.5,
          3,
          3,
          1.08,
          0.9,
          24,
          40,
          16,
          20,
          18.2,
          1.33,
          1.98,
          1.2,
          1.98,
          1.33,
          1.92,
          5.35,
          3,
          1.69,
          1.69,
          3,
          0.01,
          0.01,
          0.01,
          0.01,
          0.01,
          12.3,
          0.01,
          0.01,
          160,
          0.01,
          0.01,
          0.01,
          0.01,
          0.01,
          0.01,
          5.85,
          5.75,
          5.75,
          11.3,
          2,
          1.8,
          3.5,
          6.5,
          6.5,
          6,
          2.2,
          3.8,
          0.75,
          9.5,
          3,
          28,
          30,
          16.75,
          1.08,
          2.1,
          6.2,
          3.8,
          0.9,
          2.65,
          16,
          3,
          6.7,
          7,
          5,
          5.3,
          5.15,
          2,
          3.5,
          2.5,
          5.5,
          6.5,
          0.9,
          2,
          6,
          8,
          8,
          4,
          1.2,
          500,
          1.35,
          0.5,
          5,
          7.84,
          2.5,
          3,
          0.9,
          3,
          500,
          14.99,
          10,
          7,
          4,
          7,
          35,
          3,
          2,
          0.72,
          0.64,
          0.47,
          0.01,
          60,
          12,
          8.5,
          1.2,
          9,
          3.1,
          2.1,
          3.2,
          150,
          4.2,
          2.5,
          1.8,
          25,
          38,
          40,
          5,
          61,
          17,
          56,
          13.22,
          20,
          40,
          16.99,
          18.7,
          12.7,
          16,
          18,
          16.37,
          16,
          0.6,
          1.87,
          3.65,
          1.5,
          2,
          1.1,
          3.1,
          6.1,
          10,
          0.01,
          5,
          0.3,
          5,
          8,
          0.8,
          0.01,
          0.62,
          0.62,
          27,
          14,
          1.9,
          2,
          2,
          2,
          2,
          2,
          2,
          16,
          11.2,
          5.4,
          0.4,
          6.5
         ]
        },
        {
         "marker": {
          "color": "red",
          "size": 10,
          "symbol": "x"
         },
         "mode": "markers",
         "name": "idx 2",
         "showlegend": false,
         "type": "scatter",
         "x": [
          2
         ],
         "y": [
          20
         ]
        },
        {
         "marker": {
          "color": "red",
          "size": 10,
          "symbol": "x"
         },
         "mode": "markers",
         "name": "idx 7",
         "showlegend": false,
         "type": "scatter",
         "x": [
          7
         ],
         "y": [
          14.77
         ]
        },
        {
         "marker": {
          "color": "red",
          "size": 10,
          "symbol": "x"
         },
         "mode": "markers",
         "name": "idx 9",
         "showlegend": false,
         "type": "scatter",
         "x": [
          9
         ],
         "y": [
          99
         ]
        },
        {
         "marker": {
          "color": "red",
          "size": 10,
          "symbol": "x"
         },
         "mode": "markers",
         "name": "idx 12",
         "showlegend": false,
         "type": "scatter",
         "x": [
          12
         ],
         "y": [
          35
         ]
        },
        {
         "marker": {
          "color": "red",
          "size": 10,
          "symbol": "x"
         },
         "mode": "markers",
         "name": "idx 18",
         "showlegend": false,
         "type": "scatter",
         "x": [
          18
         ],
         "y": [
          10000
         ]
        },
        {
         "marker": {
          "color": "red",
          "size": 10,
          "symbol": "x"
         },
         "mode": "markers",
         "name": "idx 28",
         "showlegend": false,
         "type": "scatter",
         "x": [
          28
         ],
         "y": [
          25
         ]
        },
        {
         "marker": {
          "color": "red",
          "size": 10,
          "symbol": "x"
         },
         "mode": "markers",
         "name": "idx 29",
         "showlegend": false,
         "type": "scatter",
         "x": [
          29
         ],
         "y": [
          21
         ]
        },
        {
         "marker": {
          "color": "red",
          "size": 10,
          "symbol": "x"
         },
         "mode": "markers",
         "name": "idx 41",
         "showlegend": false,
         "type": "scatter",
         "x": [
          41
         ],
         "y": [
          20
         ]
        },
        {
         "marker": {
          "color": "red",
          "size": 10,
          "symbol": "x"
         },
         "mode": "markers",
         "name": "idx 42",
         "showlegend": false,
         "type": "scatter",
         "x": [
          42
         ],
         "y": [
          20
         ]
        },
        {
         "marker": {
          "color": "red",
          "size": 10,
          "symbol": "x"
         },
         "mode": "markers",
         "name": "idx 43",
         "showlegend": false,
         "type": "scatter",
         "x": [
          43
         ],
         "y": [
          20
         ]
        },
        {
         "marker": {
          "color": "red",
          "size": 10,
          "symbol": "x"
         },
         "mode": "markers",
         "name": "idx 44",
         "showlegend": false,
         "type": "scatter",
         "x": [
          44
         ],
         "y": [
          16.67
         ]
        },
        {
         "marker": {
          "color": "red",
          "size": 10,
          "symbol": "x"
         },
         "mode": "markers",
         "name": "idx 48",
         "showlegend": false,
         "type": "scatter",
         "x": [
          48
         ],
         "y": [
          16.85
         ]
        },
        {
         "marker": {
          "color": "red",
          "size": 10,
          "symbol": "x"
         },
         "mode": "markers",
         "name": "idx 50",
         "showlegend": false,
         "type": "scatter",
         "x": [
          50
         ],
         "y": [
          20.74
         ]
        },
        {
         "marker": {
          "color": "red",
          "size": 10,
          "symbol": "x"
         },
         "mode": "markers",
         "name": "idx 51",
         "showlegend": false,
         "type": "scatter",
         "x": [
          51
         ],
         "y": [
          42.94
         ]
        },
        {
         "marker": {
          "color": "red",
          "size": 10,
          "symbol": "x"
         },
         "mode": "markers",
         "name": "idx 54",
         "showlegend": false,
         "type": "scatter",
         "x": [
          54
         ],
         "y": [
          16.85
         ]
        },
        {
         "marker": {
          "color": "red",
          "size": 10,
          "symbol": "x"
         },
         "mode": "markers",
         "name": "idx 55",
         "showlegend": false,
         "type": "scatter",
         "x": [
          55
         ],
         "y": [
          11.5
         ]
        },
        {
         "marker": {
          "color": "red",
          "size": 10,
          "symbol": "x"
         },
         "mode": "markers",
         "name": "idx 57",
         "showlegend": false,
         "type": "scatter",
         "x": [
          57
         ],
         "y": [
          19
         ]
        },
        {
         "marker": {
          "color": "red",
          "size": 10,
          "symbol": "x"
         },
         "mode": "markers",
         "name": "idx 59",
         "showlegend": false,
         "type": "scatter",
         "x": [
          59
         ],
         "y": [
          30
         ]
        },
        {
         "marker": {
          "color": "red",
          "size": 10,
          "symbol": "x"
         },
         "mode": "markers",
         "name": "idx 75",
         "showlegend": false,
         "type": "scatter",
         "x": [
          75
         ],
         "y": [
          12.49
         ]
        },
        {
         "marker": {
          "color": "red",
          "size": 10,
          "symbol": "x"
         },
         "mode": "markers",
         "name": "idx 79",
         "showlegend": false,
         "type": "scatter",
         "x": [
          79
         ],
         "y": [
          12
         ]
        },
        {
         "marker": {
          "color": "red",
          "size": 10,
          "symbol": "x"
         },
         "mode": "markers",
         "name": "idx 88",
         "showlegend": false,
         "type": "scatter",
         "x": [
          88
         ],
         "y": [
          15.82
         ]
        },
        {
         "marker": {
          "color": "red",
          "size": 10,
          "symbol": "x"
         },
         "mode": "markers",
         "name": "idx 95",
         "showlegend": false,
         "type": "scatter",
         "x": [
          95
         ],
         "y": [
          15.38
         ]
        },
        {
         "marker": {
          "color": "red",
          "size": 10,
          "symbol": "x"
         },
         "mode": "markers",
         "name": "idx 98",
         "showlegend": false,
         "type": "scatter",
         "x": [
          98
         ],
         "y": [
          12.49
         ]
        },
        {
         "marker": {
          "color": "red",
          "size": 10,
          "symbol": "x"
         },
         "mode": "markers",
         "name": "idx 119",
         "showlegend": false,
         "type": "scatter",
         "x": [
          119
         ],
         "y": [
          20
         ]
        },
        {
         "marker": {
          "color": "red",
          "size": 10,
          "symbol": "x"
         },
         "mode": "markers",
         "name": "idx 125",
         "showlegend": false,
         "type": "scatter",
         "x": [
          125
         ],
         "y": [
          24
         ]
        },
        {
         "marker": {
          "color": "red",
          "size": 10,
          "symbol": "x"
         },
         "mode": "markers",
         "name": "idx 126",
         "showlegend": false,
         "type": "scatter",
         "x": [
          126
         ],
         "y": [
          120
         ]
        },
        {
         "marker": {
          "color": "red",
          "size": 10,
          "symbol": "x"
         },
         "mode": "markers",
         "name": "idx 166",
         "showlegend": false,
         "type": "scatter",
         "x": [
          166
         ],
         "y": [
          1000
         ]
        },
        {
         "marker": {
          "color": "red",
          "size": 10,
          "symbol": "x"
         },
         "mode": "markers",
         "name": "idx 169",
         "showlegend": false,
         "type": "scatter",
         "x": [
          169
         ],
         "y": [
          22.75
         ]
        },
        {
         "marker": {
          "color": "red",
          "size": 10,
          "symbol": "x"
         },
         "mode": "markers",
         "name": "idx 171",
         "showlegend": false,
         "type": "scatter",
         "x": [
          171
         ],
         "y": [
          82
         ]
        },
        {
         "marker": {
          "color": "red",
          "size": 10,
          "symbol": "x"
         },
         "mode": "markers",
         "name": "idx 172",
         "showlegend": false,
         "type": "scatter",
         "x": [
          172
         ],
         "y": [
          13.98
         ]
        },
        {
         "marker": {
          "color": "red",
          "size": 10,
          "symbol": "x"
         },
         "mode": "markers",
         "name": "idx 176",
         "showlegend": false,
         "type": "scatter",
         "x": [
          176
         ],
         "y": [
          34.33
         ]
        },
        {
         "marker": {
          "color": "red",
          "size": 10,
          "symbol": "x"
         },
         "mode": "markers",
         "name": "idx 177",
         "showlegend": false,
         "type": "scatter",
         "x": [
          177
         ],
         "y": [
          15.5
         ]
        },
        {
         "marker": {
          "color": "red",
          "size": 10,
          "symbol": "x"
         },
         "mode": "markers",
         "name": "idx 178",
         "showlegend": false,
         "type": "scatter",
         "x": [
          178
         ],
         "y": [
          13.24
         ]
        },
        {
         "marker": {
          "color": "red",
          "size": 10,
          "symbol": "x"
         },
         "mode": "markers",
         "name": "idx 179",
         "showlegend": false,
         "type": "scatter",
         "x": [
          179
         ],
         "y": [
          24.8
         ]
        },
        {
         "marker": {
          "color": "red",
          "size": 10,
          "symbol": "x"
         },
         "mode": "markers",
         "name": "idx 181",
         "showlegend": false,
         "type": "scatter",
         "x": [
          181
         ],
         "y": [
          35
         ]
        },
        {
         "marker": {
          "color": "red",
          "size": 10,
          "symbol": "x"
         },
         "mode": "markers",
         "name": "idx 184",
         "showlegend": false,
         "type": "scatter",
         "x": [
          184
         ],
         "y": [
          12
         ]
        },
        {
         "marker": {
          "color": "red",
          "size": 10,
          "symbol": "x"
         },
         "mode": "markers",
         "name": "idx 186",
         "showlegend": false,
         "type": "scatter",
         "x": [
          186
         ],
         "y": [
          12
         ]
        },
        {
         "marker": {
          "color": "red",
          "size": 10,
          "symbol": "x"
         },
         "mode": "markers",
         "name": "idx 194",
         "showlegend": false,
         "type": "scatter",
         "x": [
          194
         ],
         "y": [
          22
         ]
        },
        {
         "marker": {
          "color": "red",
          "size": 10,
          "symbol": "x"
         },
         "mode": "markers",
         "name": "idx 201",
         "showlegend": false,
         "type": "scatter",
         "x": [
          201
         ],
         "y": [
          39
         ]
        },
        {
         "marker": {
          "color": "red",
          "size": 10,
          "symbol": "x"
         },
         "mode": "markers",
         "name": "idx 208",
         "showlegend": false,
         "type": "scatter",
         "x": [
          208
         ],
         "y": [
          12
         ]
        },
        {
         "marker": {
          "color": "red",
          "size": 10,
          "symbol": "x"
         },
         "mode": "markers",
         "name": "idx 213",
         "showlegend": false,
         "type": "scatter",
         "x": [
          213
         ],
         "y": [
          22.99
         ]
        },
        {
         "marker": {
          "color": "red",
          "size": 10,
          "symbol": "x"
         },
         "mode": "markers",
         "name": "idx 219",
         "showlegend": false,
         "type": "scatter",
         "x": [
          219
         ],
         "y": [
          12
         ]
        },
        {
         "marker": {
          "color": "red",
          "size": 10,
          "symbol": "x"
         },
         "mode": "markers",
         "name": "idx 224",
         "showlegend": false,
         "type": "scatter",
         "x": [
          224
         ],
         "y": [
          92
         ]
        },
        {
         "marker": {
          "color": "red",
          "size": 10,
          "symbol": "x"
         },
         "mode": "markers",
         "name": "idx 229",
         "showlegend": false,
         "type": "scatter",
         "x": [
          229
         ],
         "y": [
          14
         ]
        },
        {
         "marker": {
          "color": "red",
          "size": 10,
          "symbol": "x"
         },
         "mode": "markers",
         "name": "idx 230",
         "showlegend": false,
         "type": "scatter",
         "x": [
          230
         ],
         "y": [
          15
         ]
        },
        {
         "marker": {
          "color": "red",
          "size": 10,
          "symbol": "x"
         },
         "mode": "markers",
         "name": "idx 241",
         "showlegend": false,
         "type": "scatter",
         "x": [
          241
         ],
         "y": [
          11.3
         ]
        },
        {
         "marker": {
          "color": "red",
          "size": 10,
          "symbol": "x"
         },
         "mode": "markers",
         "name": "idx 242",
         "showlegend": false,
         "type": "scatter",
         "x": [
          242
         ],
         "y": [
          17
         ]
        },
        {
         "marker": {
          "color": "red",
          "size": 10,
          "symbol": "x"
         },
         "mode": "markers",
         "name": "idx 243",
         "showlegend": false,
         "type": "scatter",
         "x": [
          243
         ],
         "y": [
          15
         ]
        },
        {
         "marker": {
          "color": "red",
          "size": 10,
          "symbol": "x"
         },
         "mode": "markers",
         "name": "idx 255",
         "showlegend": false,
         "type": "scatter",
         "x": [
          255
         ],
         "y": [
          65
         ]
        },
        {
         "marker": {
          "color": "red",
          "size": 10,
          "symbol": "x"
         },
         "mode": "markers",
         "name": "idx 267",
         "showlegend": false,
         "type": "scatter",
         "x": [
          267
         ],
         "y": [
          90
         ]
        },
        {
         "marker": {
          "color": "red",
          "size": 10,
          "symbol": "x"
         },
         "mode": "markers",
         "name": "idx 268",
         "showlegend": false,
         "type": "scatter",
         "x": [
          268
         ],
         "y": [
          90
         ]
        },
        {
         "marker": {
          "color": "red",
          "size": 10,
          "symbol": "x"
         },
         "mode": "markers",
         "name": "idx 269",
         "showlegend": false,
         "type": "scatter",
         "x": [
          269
         ],
         "y": [
          22
         ]
        },
        {
         "marker": {
          "color": "red",
          "size": 10,
          "symbol": "x"
         },
         "mode": "markers",
         "name": "idx 272",
         "showlegend": false,
         "type": "scatter",
         "x": [
          272
         ],
         "y": [
          29
         ]
        },
        {
         "marker": {
          "color": "red",
          "size": 10,
          "symbol": "x"
         },
         "mode": "markers",
         "name": "idx 278",
         "showlegend": false,
         "type": "scatter",
         "x": [
          278
         ],
         "y": [
          22
         ]
        },
        {
         "marker": {
          "color": "red",
          "size": 10,
          "symbol": "x"
         },
         "mode": "markers",
         "name": "idx 279",
         "showlegend": false,
         "type": "scatter",
         "x": [
          279
         ],
         "y": [
          19
         ]
        },
        {
         "marker": {
          "color": "red",
          "size": 10,
          "symbol": "x"
         },
         "mode": "markers",
         "name": "idx 280",
         "showlegend": false,
         "type": "scatter",
         "x": [
          280
         ],
         "y": [
          14
         ]
        },
        {
         "marker": {
          "color": "red",
          "size": 10,
          "symbol": "x"
         },
         "mode": "markers",
         "name": "idx 281",
         "showlegend": false,
         "type": "scatter",
         "x": [
          281
         ],
         "y": [
          15.63
         ]
        },
        {
         "marker": {
          "color": "red",
          "size": 10,
          "symbol": "x"
         },
         "mode": "markers",
         "name": "idx 282",
         "showlegend": false,
         "type": "scatter",
         "x": [
          282
         ],
         "y": [
          90
         ]
        },
        {
         "marker": {
          "color": "red",
          "size": 10,
          "symbol": "x"
         },
         "mode": "markers",
         "name": "idx 283",
         "showlegend": false,
         "type": "scatter",
         "x": [
          283
         ],
         "y": [
          20
         ]
        },
        {
         "marker": {
          "color": "red",
          "size": 10,
          "symbol": "x"
         },
         "mode": "markers",
         "name": "idx 284",
         "showlegend": false,
         "type": "scatter",
         "x": [
          284
         ],
         "y": [
          20
         ]
        },
        {
         "marker": {
          "color": "red",
          "size": 10,
          "symbol": "x"
         },
         "mode": "markers",
         "name": "idx 285",
         "showlegend": false,
         "type": "scatter",
         "x": [
          285
         ],
         "y": [
          16
         ]
        },
        {
         "marker": {
          "color": "red",
          "size": 10,
          "symbol": "x"
         },
         "mode": "markers",
         "name": "idx 286",
         "showlegend": false,
         "type": "scatter",
         "x": [
          286
         ],
         "y": [
          13.5
         ]
        },
        {
         "marker": {
          "color": "red",
          "size": 10,
          "symbol": "x"
         },
         "mode": "markers",
         "name": "idx 290",
         "showlegend": false,
         "type": "scatter",
         "x": [
          290
         ],
         "y": [
          30
         ]
        },
        {
         "marker": {
          "color": "red",
          "size": 10,
          "symbol": "x"
         },
         "mode": "markers",
         "name": "idx 292",
         "showlegend": false,
         "type": "scatter",
         "x": [
          292
         ],
         "y": [
          23
         ]
        },
        {
         "marker": {
          "color": "red",
          "size": 10,
          "symbol": "x"
         },
         "mode": "markers",
         "name": "idx 293",
         "showlegend": false,
         "type": "scatter",
         "x": [
          293
         ],
         "y": [
          35
         ]
        },
        {
         "marker": {
          "color": "red",
          "size": 10,
          "symbol": "x"
         },
         "mode": "markers",
         "name": "idx 294",
         "showlegend": false,
         "type": "scatter",
         "x": [
          294
         ],
         "y": [
          22
         ]
        },
        {
         "marker": {
          "color": "red",
          "size": 10,
          "symbol": "x"
         },
         "mode": "markers",
         "name": "idx 295",
         "showlegend": false,
         "type": "scatter",
         "x": [
          295
         ],
         "y": [
          15
         ]
        },
        {
         "marker": {
          "color": "red",
          "size": 10,
          "symbol": "x"
         },
         "mode": "markers",
         "name": "idx 301",
         "showlegend": false,
         "type": "scatter",
         "x": [
          301
         ],
         "y": [
          11.3
         ]
        },
        {
         "marker": {
          "color": "red",
          "size": 10,
          "symbol": "x"
         },
         "mode": "markers",
         "name": "idx 308",
         "showlegend": false,
         "type": "scatter",
         "x": [
          308
         ],
         "y": [
          12.5
         ]
        },
        {
         "marker": {
          "color": "red",
          "size": 10,
          "symbol": "x"
         },
         "mode": "markers",
         "name": "idx 313",
         "showlegend": false,
         "type": "scatter",
         "x": [
          313
         ],
         "y": [
          120
         ]
        },
        {
         "marker": {
          "color": "red",
          "size": 10,
          "symbol": "x"
         },
         "mode": "markers",
         "name": "idx 314",
         "showlegend": false,
         "type": "scatter",
         "x": [
          314
         ],
         "y": [
          50
         ]
        },
        {
         "marker": {
          "color": "red",
          "size": 10,
          "symbol": "x"
         },
         "mode": "markers",
         "name": "idx 315",
         "showlegend": false,
         "type": "scatter",
         "x": [
          315
         ],
         "y": [
          34
         ]
        },
        {
         "marker": {
          "color": "red",
          "size": 10,
          "symbol": "x"
         },
         "mode": "markers",
         "name": "idx 316",
         "showlegend": false,
         "type": "scatter",
         "x": [
          316
         ],
         "y": [
          40
         ]
        },
        {
         "marker": {
          "color": "red",
          "size": 10,
          "symbol": "x"
         },
         "mode": "markers",
         "name": "idx 318",
         "showlegend": false,
         "type": "scatter",
         "x": [
          318
         ],
         "y": [
          180
         ]
        },
        {
         "marker": {
          "color": "red",
          "size": 10,
          "symbol": "x"
         },
         "mode": "markers",
         "name": "idx 344",
         "showlegend": false,
         "type": "scatter",
         "x": [
          344
         ],
         "y": [
          11.3
         ]
        },
        {
         "marker": {
          "color": "red",
          "size": 10,
          "symbol": "x"
         },
         "mode": "markers",
         "name": "idx 354",
         "showlegend": false,
         "type": "scatter",
         "x": [
          354
         ],
         "y": [
          24
         ]
        },
        {
         "marker": {
          "color": "red",
          "size": 10,
          "symbol": "x"
         },
         "mode": "markers",
         "name": "idx 355",
         "showlegend": false,
         "type": "scatter",
         "x": [
          355
         ],
         "y": [
          40
         ]
        },
        {
         "marker": {
          "color": "red",
          "size": 10,
          "symbol": "x"
         },
         "mode": "markers",
         "name": "idx 356",
         "showlegend": false,
         "type": "scatter",
         "x": [
          356
         ],
         "y": [
          16
         ]
        },
        {
         "marker": {
          "color": "red",
          "size": 10,
          "symbol": "x"
         },
         "mode": "markers",
         "name": "idx 357",
         "showlegend": false,
         "type": "scatter",
         "x": [
          357
         ],
         "y": [
          20
         ]
        },
        {
         "marker": {
          "color": "red",
          "size": 10,
          "symbol": "x"
         },
         "mode": "markers",
         "name": "idx 358",
         "showlegend": false,
         "type": "scatter",
         "x": [
          358
         ],
         "y": [
          18.2
         ]
        },
        {
         "marker": {
          "color": "red",
          "size": 10,
          "symbol": "x"
         },
         "mode": "markers",
         "name": "idx 375",
         "showlegend": false,
         "type": "scatter",
         "x": [
          375
         ],
         "y": [
          12.3
         ]
        },
        {
         "marker": {
          "color": "red",
          "size": 10,
          "symbol": "x"
         },
         "mode": "markers",
         "name": "idx 378",
         "showlegend": false,
         "type": "scatter",
         "x": [
          378
         ],
         "y": [
          160
         ]
        },
        {
         "marker": {
          "color": "red",
          "size": 10,
          "symbol": "x"
         },
         "mode": "markers",
         "name": "idx 388",
         "showlegend": false,
         "type": "scatter",
         "x": [
          388
         ],
         "y": [
          11.3
         ]
        },
        {
         "marker": {
          "color": "red",
          "size": 10,
          "symbol": "x"
         },
         "mode": "markers",
         "name": "idx 400",
         "showlegend": false,
         "type": "scatter",
         "x": [
          400
         ],
         "y": [
          28
         ]
        },
        {
         "marker": {
          "color": "red",
          "size": 10,
          "symbol": "x"
         },
         "mode": "markers",
         "name": "idx 401",
         "showlegend": false,
         "type": "scatter",
         "x": [
          401
         ],
         "y": [
          30
         ]
        },
        {
         "marker": {
          "color": "red",
          "size": 10,
          "symbol": "x"
         },
         "mode": "markers",
         "name": "idx 402",
         "showlegend": false,
         "type": "scatter",
         "x": [
          402
         ],
         "y": [
          16.75
         ]
        },
        {
         "marker": {
          "color": "red",
          "size": 10,
          "symbol": "x"
         },
         "mode": "markers",
         "name": "idx 409",
         "showlegend": false,
         "type": "scatter",
         "x": [
          409
         ],
         "y": [
          16
         ]
        },
        {
         "marker": {
          "color": "red",
          "size": 10,
          "symbol": "x"
         },
         "mode": "markers",
         "name": "idx 428",
         "showlegend": false,
         "type": "scatter",
         "x": [
          428
         ],
         "y": [
          500
         ]
        },
        {
         "marker": {
          "color": "red",
          "size": 10,
          "symbol": "x"
         },
         "mode": "markers",
         "name": "idx 437",
         "showlegend": false,
         "type": "scatter",
         "x": [
          437
         ],
         "y": [
          500
         ]
        },
        {
         "marker": {
          "color": "red",
          "size": 10,
          "symbol": "x"
         },
         "mode": "markers",
         "name": "idx 438",
         "showlegend": false,
         "type": "scatter",
         "x": [
          438
         ],
         "y": [
          14.99
         ]
        },
        {
         "marker": {
          "color": "red",
          "size": 10,
          "symbol": "x"
         },
         "mode": "markers",
         "name": "idx 443",
         "showlegend": false,
         "type": "scatter",
         "x": [
          443
         ],
         "y": [
          35
         ]
        },
        {
         "marker": {
          "color": "red",
          "size": 10,
          "symbol": "x"
         },
         "mode": "markers",
         "name": "idx 450",
         "showlegend": false,
         "type": "scatter",
         "x": [
          450
         ],
         "y": [
          60
         ]
        },
        {
         "marker": {
          "color": "red",
          "size": 10,
          "symbol": "x"
         },
         "mode": "markers",
         "name": "idx 451",
         "showlegend": false,
         "type": "scatter",
         "x": [
          451
         ],
         "y": [
          12
         ]
        },
        {
         "marker": {
          "color": "red",
          "size": 10,
          "symbol": "x"
         },
         "mode": "markers",
         "name": "idx 458",
         "showlegend": false,
         "type": "scatter",
         "x": [
          458
         ],
         "y": [
          150
         ]
        },
        {
         "marker": {
          "color": "red",
          "size": 10,
          "symbol": "x"
         },
         "mode": "markers",
         "name": "idx 462",
         "showlegend": false,
         "type": "scatter",
         "x": [
          462
         ],
         "y": [
          25
         ]
        },
        {
         "marker": {
          "color": "red",
          "size": 10,
          "symbol": "x"
         },
         "mode": "markers",
         "name": "idx 463",
         "showlegend": false,
         "type": "scatter",
         "x": [
          463
         ],
         "y": [
          38
         ]
        },
        {
         "marker": {
          "color": "red",
          "size": 10,
          "symbol": "x"
         },
         "mode": "markers",
         "name": "idx 464",
         "showlegend": false,
         "type": "scatter",
         "x": [
          464
         ],
         "y": [
          40
         ]
        },
        {
         "marker": {
          "color": "red",
          "size": 10,
          "symbol": "x"
         },
         "mode": "markers",
         "name": "idx 466",
         "showlegend": false,
         "type": "scatter",
         "x": [
          466
         ],
         "y": [
          61
         ]
        },
        {
         "marker": {
          "color": "red",
          "size": 10,
          "symbol": "x"
         },
         "mode": "markers",
         "name": "idx 467",
         "showlegend": false,
         "type": "scatter",
         "x": [
          467
         ],
         "y": [
          17
         ]
        },
        {
         "marker": {
          "color": "red",
          "size": 10,
          "symbol": "x"
         },
         "mode": "markers",
         "name": "idx 468",
         "showlegend": false,
         "type": "scatter",
         "x": [
          468
         ],
         "y": [
          56
         ]
        },
        {
         "marker": {
          "color": "red",
          "size": 10,
          "symbol": "x"
         },
         "mode": "markers",
         "name": "idx 469",
         "showlegend": false,
         "type": "scatter",
         "x": [
          469
         ],
         "y": [
          13.22
         ]
        },
        {
         "marker": {
          "color": "red",
          "size": 10,
          "symbol": "x"
         },
         "mode": "markers",
         "name": "idx 470",
         "showlegend": false,
         "type": "scatter",
         "x": [
          470
         ],
         "y": [
          20
         ]
        },
        {
         "marker": {
          "color": "red",
          "size": 10,
          "symbol": "x"
         },
         "mode": "markers",
         "name": "idx 471",
         "showlegend": false,
         "type": "scatter",
         "x": [
          471
         ],
         "y": [
          40
         ]
        },
        {
         "marker": {
          "color": "red",
          "size": 10,
          "symbol": "x"
         },
         "mode": "markers",
         "name": "idx 472",
         "showlegend": false,
         "type": "scatter",
         "x": [
          472
         ],
         "y": [
          16.99
         ]
        },
        {
         "marker": {
          "color": "red",
          "size": 10,
          "symbol": "x"
         },
         "mode": "markers",
         "name": "idx 473",
         "showlegend": false,
         "type": "scatter",
         "x": [
          473
         ],
         "y": [
          18.7
         ]
        },
        {
         "marker": {
          "color": "red",
          "size": 10,
          "symbol": "x"
         },
         "mode": "markers",
         "name": "idx 474",
         "showlegend": false,
         "type": "scatter",
         "x": [
          474
         ],
         "y": [
          12.7
         ]
        },
        {
         "marker": {
          "color": "red",
          "size": 10,
          "symbol": "x"
         },
         "mode": "markers",
         "name": "idx 475",
         "showlegend": false,
         "type": "scatter",
         "x": [
          475
         ],
         "y": [
          16
         ]
        },
        {
         "marker": {
          "color": "red",
          "size": 10,
          "symbol": "x"
         },
         "mode": "markers",
         "name": "idx 476",
         "showlegend": false,
         "type": "scatter",
         "x": [
          476
         ],
         "y": [
          18
         ]
        },
        {
         "marker": {
          "color": "red",
          "size": 10,
          "symbol": "x"
         },
         "mode": "markers",
         "name": "idx 477",
         "showlegend": false,
         "type": "scatter",
         "x": [
          477
         ],
         "y": [
          16.37
         ]
        },
        {
         "marker": {
          "color": "red",
          "size": 10,
          "symbol": "x"
         },
         "mode": "markers",
         "name": "idx 478",
         "showlegend": false,
         "type": "scatter",
         "x": [
          478
         ],
         "y": [
          16
         ]
        },
        {
         "marker": {
          "color": "red",
          "size": 10,
          "symbol": "x"
         },
         "mode": "markers",
         "name": "idx 497",
         "showlegend": false,
         "type": "scatter",
         "x": [
          497
         ],
         "y": [
          27
         ]
        },
        {
         "marker": {
          "color": "red",
          "size": 10,
          "symbol": "x"
         },
         "mode": "markers",
         "name": "idx 498",
         "showlegend": false,
         "type": "scatter",
         "x": [
          498
         ],
         "y": [
          14
         ]
        },
        {
         "marker": {
          "color": "red",
          "size": 10,
          "symbol": "x"
         },
         "mode": "markers",
         "name": "idx 506",
         "showlegend": false,
         "type": "scatter",
         "x": [
          506
         ],
         "y": [
          16
         ]
        }
       ],
       "layout": {
        "autosize": true,
        "legend": {
         "bgcolor": "#151516",
         "font": {
          "color": "#D9D9D9"
         }
        },
        "paper_bgcolor": "#151516",
        "plot_bgcolor": "#151516",
        "template": {
         "data": {
          "bar": [
           {
            "error_x": {
             "color": "#2a3f5f"
            },
            "error_y": {
             "color": "#2a3f5f"
            },
            "marker": {
             "line": {
              "color": "#E5ECF6",
              "width": 0.5
             },
             "pattern": {
              "fillmode": "overlay",
              "size": 10,
              "solidity": 0.2
             }
            },
            "type": "bar"
           }
          ],
          "barpolar": [
           {
            "marker": {
             "line": {
              "color": "#E5ECF6",
              "width": 0.5
             },
             "pattern": {
              "fillmode": "overlay",
              "size": 10,
              "solidity": 0.2
             }
            },
            "type": "barpolar"
           }
          ],
          "carpet": [
           {
            "aaxis": {
             "endlinecolor": "#2a3f5f",
             "gridcolor": "white",
             "linecolor": "white",
             "minorgridcolor": "white",
             "startlinecolor": "#2a3f5f"
            },
            "baxis": {
             "endlinecolor": "#2a3f5f",
             "gridcolor": "white",
             "linecolor": "white",
             "minorgridcolor": "white",
             "startlinecolor": "#2a3f5f"
            },
            "type": "carpet"
           }
          ],
          "choropleth": [
           {
            "colorbar": {
             "outlinewidth": 0,
             "ticks": ""
            },
            "type": "choropleth"
           }
          ],
          "contour": [
           {
            "colorbar": {
             "outlinewidth": 0,
             "ticks": ""
            },
            "colorscale": [
             [
              0,
              "#0d0887"
             ],
             [
              0.1111111111111111,
              "#46039f"
             ],
             [
              0.2222222222222222,
              "#7201a8"
             ],
             [
              0.3333333333333333,
              "#9c179e"
             ],
             [
              0.4444444444444444,
              "#bd3786"
             ],
             [
              0.5555555555555556,
              "#d8576b"
             ],
             [
              0.6666666666666666,
              "#ed7953"
             ],
             [
              0.7777777777777778,
              "#fb9f3a"
             ],
             [
              0.8888888888888888,
              "#fdca26"
             ],
             [
              1,
              "#f0f921"
             ]
            ],
            "type": "contour"
           }
          ],
          "contourcarpet": [
           {
            "colorbar": {
             "outlinewidth": 0,
             "ticks": ""
            },
            "type": "contourcarpet"
           }
          ],
          "heatmap": [
           {
            "colorbar": {
             "outlinewidth": 0,
             "ticks": ""
            },
            "colorscale": [
             [
              0,
              "#0d0887"
             ],
             [
              0.1111111111111111,
              "#46039f"
             ],
             [
              0.2222222222222222,
              "#7201a8"
             ],
             [
              0.3333333333333333,
              "#9c179e"
             ],
             [
              0.4444444444444444,
              "#bd3786"
             ],
             [
              0.5555555555555556,
              "#d8576b"
             ],
             [
              0.6666666666666666,
              "#ed7953"
             ],
             [
              0.7777777777777778,
              "#fb9f3a"
             ],
             [
              0.8888888888888888,
              "#fdca26"
             ],
             [
              1,
              "#f0f921"
             ]
            ],
            "type": "heatmap"
           }
          ],
          "heatmapgl": [
           {
            "colorbar": {
             "outlinewidth": 0,
             "ticks": ""
            },
            "colorscale": [
             [
              0,
              "#0d0887"
             ],
             [
              0.1111111111111111,
              "#46039f"
             ],
             [
              0.2222222222222222,
              "#7201a8"
             ],
             [
              0.3333333333333333,
              "#9c179e"
             ],
             [
              0.4444444444444444,
              "#bd3786"
             ],
             [
              0.5555555555555556,
              "#d8576b"
             ],
             [
              0.6666666666666666,
              "#ed7953"
             ],
             [
              0.7777777777777778,
              "#fb9f3a"
             ],
             [
              0.8888888888888888,
              "#fdca26"
             ],
             [
              1,
              "#f0f921"
             ]
            ],
            "type": "heatmapgl"
           }
          ],
          "histogram": [
           {
            "marker": {
             "pattern": {
              "fillmode": "overlay",
              "size": 10,
              "solidity": 0.2
             }
            },
            "type": "histogram"
           }
          ],
          "histogram2d": [
           {
            "colorbar": {
             "outlinewidth": 0,
             "ticks": ""
            },
            "colorscale": [
             [
              0,
              "#0d0887"
             ],
             [
              0.1111111111111111,
              "#46039f"
             ],
             [
              0.2222222222222222,
              "#7201a8"
             ],
             [
              0.3333333333333333,
              "#9c179e"
             ],
             [
              0.4444444444444444,
              "#bd3786"
             ],
             [
              0.5555555555555556,
              "#d8576b"
             ],
             [
              0.6666666666666666,
              "#ed7953"
             ],
             [
              0.7777777777777778,
              "#fb9f3a"
             ],
             [
              0.8888888888888888,
              "#fdca26"
             ],
             [
              1,
              "#f0f921"
             ]
            ],
            "type": "histogram2d"
           }
          ],
          "histogram2dcontour": [
           {
            "colorbar": {
             "outlinewidth": 0,
             "ticks": ""
            },
            "colorscale": [
             [
              0,
              "#0d0887"
             ],
             [
              0.1111111111111111,
              "#46039f"
             ],
             [
              0.2222222222222222,
              "#7201a8"
             ],
             [
              0.3333333333333333,
              "#9c179e"
             ],
             [
              0.4444444444444444,
              "#bd3786"
             ],
             [
              0.5555555555555556,
              "#d8576b"
             ],
             [
              0.6666666666666666,
              "#ed7953"
             ],
             [
              0.7777777777777778,
              "#fb9f3a"
             ],
             [
              0.8888888888888888,
              "#fdca26"
             ],
             [
              1,
              "#f0f921"
             ]
            ],
            "type": "histogram2dcontour"
           }
          ],
          "mesh3d": [
           {
            "colorbar": {
             "outlinewidth": 0,
             "ticks": ""
            },
            "type": "mesh3d"
           }
          ],
          "parcoords": [
           {
            "line": {
             "colorbar": {
              "outlinewidth": 0,
              "ticks": ""
             }
            },
            "type": "parcoords"
           }
          ],
          "pie": [
           {
            "automargin": true,
            "type": "pie"
           }
          ],
          "scatter": [
           {
            "fillpattern": {
             "fillmode": "overlay",
             "size": 10,
             "solidity": 0.2
            },
            "type": "scatter"
           }
          ],
          "scatter3d": [
           {
            "line": {
             "colorbar": {
              "outlinewidth": 0,
              "ticks": ""
             }
            },
            "marker": {
             "colorbar": {
              "outlinewidth": 0,
              "ticks": ""
             }
            },
            "type": "scatter3d"
           }
          ],
          "scattercarpet": [
           {
            "marker": {
             "colorbar": {
              "outlinewidth": 0,
              "ticks": ""
             }
            },
            "type": "scattercarpet"
           }
          ],
          "scattergeo": [
           {
            "marker": {
             "colorbar": {
              "outlinewidth": 0,
              "ticks": ""
             }
            },
            "type": "scattergeo"
           }
          ],
          "scattergl": [
           {
            "marker": {
             "colorbar": {
              "outlinewidth": 0,
              "ticks": ""
             }
            },
            "type": "scattergl"
           }
          ],
          "scattermapbox": [
           {
            "marker": {
             "colorbar": {
              "outlinewidth": 0,
              "ticks": ""
             }
            },
            "type": "scattermapbox"
           }
          ],
          "scatterpolar": [
           {
            "marker": {
             "colorbar": {
              "outlinewidth": 0,
              "ticks": ""
             }
            },
            "type": "scatterpolar"
           }
          ],
          "scatterpolargl": [
           {
            "marker": {
             "colorbar": {
              "outlinewidth": 0,
              "ticks": ""
             }
            },
            "type": "scatterpolargl"
           }
          ],
          "scatterternary": [
           {
            "marker": {
             "colorbar": {
              "outlinewidth": 0,
              "ticks": ""
             }
            },
            "type": "scatterternary"
           }
          ],
          "surface": [
           {
            "colorbar": {
             "outlinewidth": 0,
             "ticks": ""
            },
            "colorscale": [
             [
              0,
              "#0d0887"
             ],
             [
              0.1111111111111111,
              "#46039f"
             ],
             [
              0.2222222222222222,
              "#7201a8"
             ],
             [
              0.3333333333333333,
              "#9c179e"
             ],
             [
              0.4444444444444444,
              "#bd3786"
             ],
             [
              0.5555555555555556,
              "#d8576b"
             ],
             [
              0.6666666666666666,
              "#ed7953"
             ],
             [
              0.7777777777777778,
              "#fb9f3a"
             ],
             [
              0.8888888888888888,
              "#fdca26"
             ],
             [
              1,
              "#f0f921"
             ]
            ],
            "type": "surface"
           }
          ],
          "table": [
           {
            "cells": {
             "fill": {
              "color": "#EBF0F8"
             },
             "line": {
              "color": "white"
             }
            },
            "header": {
             "fill": {
              "color": "#C8D4E3"
             },
             "line": {
              "color": "white"
             }
            },
            "type": "table"
           }
          ]
         },
         "layout": {
          "annotationdefaults": {
           "arrowcolor": "#2a3f5f",
           "arrowhead": 0,
           "arrowwidth": 1
          },
          "autotypenumbers": "strict",
          "coloraxis": {
           "colorbar": {
            "outlinewidth": 0,
            "ticks": ""
           }
          },
          "colorscale": {
           "diverging": [
            [
             0,
             "#8e0152"
            ],
            [
             0.1,
             "#c51b7d"
            ],
            [
             0.2,
             "#de77ae"
            ],
            [
             0.3,
             "#f1b6da"
            ],
            [
             0.4,
             "#fde0ef"
            ],
            [
             0.5,
             "#f7f7f7"
            ],
            [
             0.6,
             "#e6f5d0"
            ],
            [
             0.7,
             "#b8e186"
            ],
            [
             0.8,
             "#7fbc41"
            ],
            [
             0.9,
             "#4d9221"
            ],
            [
             1,
             "#276419"
            ]
           ],
           "sequential": [
            [
             0,
             "#0d0887"
            ],
            [
             0.1111111111111111,
             "#46039f"
            ],
            [
             0.2222222222222222,
             "#7201a8"
            ],
            [
             0.3333333333333333,
             "#9c179e"
            ],
            [
             0.4444444444444444,
             "#bd3786"
            ],
            [
             0.5555555555555556,
             "#d8576b"
            ],
            [
             0.6666666666666666,
             "#ed7953"
            ],
            [
             0.7777777777777778,
             "#fb9f3a"
            ],
            [
             0.8888888888888888,
             "#fdca26"
            ],
            [
             1,
             "#f0f921"
            ]
           ],
           "sequentialminus": [
            [
             0,
             "#0d0887"
            ],
            [
             0.1111111111111111,
             "#46039f"
            ],
            [
             0.2222222222222222,
             "#7201a8"
            ],
            [
             0.3333333333333333,
             "#9c179e"
            ],
            [
             0.4444444444444444,
             "#bd3786"
            ],
            [
             0.5555555555555556,
             "#d8576b"
            ],
            [
             0.6666666666666666,
             "#ed7953"
            ],
            [
             0.7777777777777778,
             "#fb9f3a"
            ],
            [
             0.8888888888888888,
             "#fdca26"
            ],
            [
             1,
             "#f0f921"
            ]
           ]
          },
          "colorway": [
           "#636efa",
           "#EF553B",
           "#00cc96",
           "#ab63fa",
           "#FFA15A",
           "#19d3f3",
           "#FF6692",
           "#B6E880",
           "#FF97FF",
           "#FECB52"
          ],
          "font": {
           "color": "#2a3f5f"
          },
          "geo": {
           "bgcolor": "white",
           "lakecolor": "white",
           "landcolor": "#E5ECF6",
           "showlakes": true,
           "showland": true,
           "subunitcolor": "white"
          },
          "hoverlabel": {
           "align": "left"
          },
          "hovermode": "closest",
          "mapbox": {
           "style": "light"
          },
          "paper_bgcolor": "white",
          "plot_bgcolor": "#E5ECF6",
          "polar": {
           "angularaxis": {
            "gridcolor": "white",
            "linecolor": "white",
            "ticks": ""
           },
           "bgcolor": "#E5ECF6",
           "radialaxis": {
            "gridcolor": "white",
            "linecolor": "white",
            "ticks": ""
           }
          },
          "scene": {
           "xaxis": {
            "backgroundcolor": "#E5ECF6",
            "gridcolor": "white",
            "gridwidth": 2,
            "linecolor": "white",
            "showbackground": true,
            "ticks": "",
            "zerolinecolor": "white"
           },
           "yaxis": {
            "backgroundcolor": "#E5ECF6",
            "gridcolor": "white",
            "gridwidth": 2,
            "linecolor": "white",
            "showbackground": true,
            "ticks": "",
            "zerolinecolor": "white"
           },
           "zaxis": {
            "backgroundcolor": "#E5ECF6",
            "gridcolor": "white",
            "gridwidth": 2,
            "linecolor": "white",
            "showbackground": true,
            "ticks": "",
            "zerolinecolor": "white"
           }
          },
          "shapedefaults": {
           "line": {
            "color": "#2a3f5f"
           }
          },
          "ternary": {
           "aaxis": {
            "gridcolor": "white",
            "linecolor": "white",
            "ticks": ""
           },
           "baxis": {
            "gridcolor": "white",
            "linecolor": "white",
            "ticks": ""
           },
           "bgcolor": "#E5ECF6",
           "caxis": {
            "gridcolor": "white",
            "linecolor": "white",
            "ticks": ""
           }
          },
          "title": {
           "x": 0.05
          },
          "xaxis": {
           "automargin": true,
           "gridcolor": "white",
           "linecolor": "white",
           "ticks": "",
           "title": {
            "standoff": 15
           },
           "zerolinecolor": "white",
           "zerolinewidth": 2
          },
          "yaxis": {
           "automargin": true,
           "gridcolor": "white",
           "linecolor": "white",
           "ticks": "",
           "title": {
            "standoff": 15
           },
           "zerolinecolor": "white",
           "zerolinewidth": 2
          }
         }
        },
        "title": {
         "font": {
          "color": "#D9D9D9"
         },
         "text": "Original Target Unit Price with Outliers Marked"
        },
        "xaxis": {
         "autorange": true,
         "gridcolor": "#434343",
         "range": [
          -36.44247281053235,
          546.4424728105323
         ],
         "showgrid": true,
         "tickfont": {
          "color": "#C2C2C2"
         },
         "title": {
          "font": {
           "color": "#D9D9D9"
          },
          "text": "index"
         },
         "type": "linear",
         "zerolinecolor": "#666570"
        },
        "yaxis": {
         "autorange": true,
         "gridcolor": "#434343",
         "range": [
          -1122.437857142857,
          11122.447857142857
         ],
         "showgrid": true,
         "tickfont": {
          "color": "#C2C2C2"
         },
         "title": {
          "font": {
           "color": "#D9D9D9"
          },
          "text": "Target Unit Price"
         },
         "type": "linear",
         "zerolinecolor": "#666570"
        }
       }
      },
      "image/png": "[encoded data removed]",
      "text/html": [
       "<div>                            <div id=\"a95a3ce5-a83a-4142-a6b3-13f57f0a5909\" class=\"plotly-graph-div\" style=\"height:525px; width:100%;\"></div>            <script type=\"text/javascript\">                require([\"plotly\"], function(Plotly) {                    window.PLOTLYENV=window.PLOTLYENV || {};                                    if (document.getElementById(\"a95a3ce5-a83a-4142-a6b3-13f57f0a5909\")) {                    Plotly.newPlot(                        \"a95a3ce5-a83a-4142-a6b3-13f57f0a5909\",                        [{\"line\":{\"color\":\"rgba(255, 153, 51, 1.0)\",\"dash\":\"solid\",\"shape\":\"linear\",\"width\":1.3},\"marker\":{\"size\":12,\"symbol\":\"circle\"},\"mode\":\"markers\",\"name\":\"Target Unit Price\",\"text\":\"\",\"x\":[0,1,2,3,4,5,6,7,8,9,10,11,12,13,14,15,16,17,18,19,20,21,22,23,24,25,26,27,28,29,30,31,32,33,34,35,36,37,38,39,40,41,42,43,44,45,46,47,48,49,50,51,52,53,54,55,56,57,58,59,60,61,62,63,64,65,66,67,68,69,70,71,72,73,74,75,76,77,78,79,80,81,82,83,84,85,86,87,88,89,90,91,92,93,94,95,96,97,98,99,100,101,102,103,104,105,106,107,108,109,110,111,112,113,114,115,116,117,118,119,120,121,122,123,124,125,126,127,128,129,130,131,132,133,134,135,136,137,138,139,140,141,142,143,144,145,146,147,148,149,150,151,152,153,154,155,156,157,158,159,160,161,162,163,164,165,166,167,168,169,170,171,172,173,174,175,176,177,178,179,180,181,182,183,184,185,186,187,188,189,190,191,192,193,194,195,196,197,198,199,200,201,202,203,204,205,206,207,208,209,210,211,212,213,214,215,216,217,218,219,220,221,222,223,224,225,226,227,228,229,230,231,232,233,234,235,236,237,238,239,240,241,242,243,244,245,246,247,248,249,250,251,252,253,254,255,256,257,258,259,260,261,262,263,264,265,266,267,268,269,270,271,272,273,274,275,276,277,278,279,280,281,282,283,284,285,286,287,288,289,290,291,292,293,294,295,296,297,298,299,300,301,302,303,304,305,306,307,308,309,310,311,312,313,314,315,316,317,318,319,320,321,322,323,324,325,326,327,328,329,330,331,332,333,334,335,336,337,338,339,340,341,342,343,344,345,346,347,348,349,350,351,352,353,354,355,356,357,358,359,360,361,362,363,364,365,366,367,368,369,370,371,372,373,374,375,376,377,378,379,380,381,382,383,384,385,386,387,388,389,390,391,392,393,394,395,396,397,398,399,400,401,402,403,404,405,406,407,408,409,410,411,412,413,414,415,416,417,418,419,420,421,422,423,424,425,426,427,428,429,430,431,432,433,434,435,436,437,438,439,440,441,442,443,444,445,446,447,448,449,450,451,452,453,454,455,456,457,458,459,460,461,462,463,464,465,466,467,468,469,470,471,472,473,474,475,476,477,478,479,480,481,482,483,484,485,486,487,488,489,490,491,492,493,494,495,496,497,498,499,500,501,502,503,504,505,506,507,508,509,510],\"y\":[10.0,3.0,20.0,4.5,0.01,0.01,0.01,14.77,2.98,99.0,2.75,0.01,35.0,3.0,0.01,2.98,6.0,1.64,10000.0,7.2,3.5,1.8,3.0,4.5,1.5,3.0,1.07,2.45,25.0,21.0,2.45,3.0,2.3,6.5,6.5,6.5,6.5,6.5,2.1,7.0,1.1,20.0,20.0,20.0,16.67,8.33,1.58,9.8,16.85,0.9,20.74,42.94,2.38,2.38,16.85,11.5,4.2,19.0,1.6,30.0,2.5,1.29,1.32,1.14,0.86,1.7,1.43,1.12,1.0,4.0,9.47,2.52,1.9,6.3,1.35,12.49,8.0,3.02,4.49,12.0,3.17,5.0,1.75,3.5,4.0,1.8,9.25,6.6,15.82,9.47,2.52,1.9,6.3,8.8,2.76,15.38,1.35,3.17,12.49,8.0,5.89,7.3,5.75,3.02,4.49,1.8,3.56,4.17,1.4,3.3,7.26,3.3,1.96,3.8,3.5,1.8,2.8,3.0,1.05,20.0,4.0,10.0,6.2,6.2,0.95,24.0,120.0,2.5,1.2,0.48,4.8,4.0,2.0,4.0,0.53,0.01,0.01,0.01,0.01,0.01,0.01,0.01,0.01,0.01,0.01,0.01,0.01,0.01,0.01,0.01,3.5,3.0,0.01,0.01,0.01,0.01,0.01,10.0,4.6,5.0,4.0,4.5,1.0,1.5,2.5,2.5,1000.0,0.96,2.95,22.75,2.97,82.0,13.98,8.4,7.36,8.41,34.33,15.5,13.24,24.8,5.18,35.0,4.35,6.0,12.0,6.0,12.0,1.5,3.5,3.5,3.5,3.0,3.0,3.0,22.0,2.0,3.0,7.5,1.0,1.5,0.06,39.0,2.99,1.5,0.01,0.01,0.01,3.0,12.0,4.5,1.66,1.66,4.9,22.99,2.5,3.1,7.62,7.2,5.32,12.0,6.5,1.26,4.08,6.5,92.0,6.7,1.2,8.0,1.0,14.0,15.0,4.0,3.5,0.98,4.5,4.0,1.6,0.98,2.3,1.55,7.5,11.3,17.0,15.0,9.0,3.0,5.0,6.48,4.1,1.6,7.45,0.95,3.46,3.0,7.45,65.0,7.5,7.5,6.6,6.15,0.01,1.9,7.55,4.95,3.35,4.2,0.1,90.0,90.0,22.0,2.5,10.0,29.0,3.0,5.0,5.8,2.5,8.0,22.0,19.0,14.0,15.63,90.0,20.0,20.0,16.0,13.5,3.5,1.5,5.0,30.0,6.0,23.0,35.0,22.0,15.0,1.8,1.8,7.96,0.01,8.48,11.3,1.5,1.9,1.8,1.8,5.5,5.44,12.5,1.5,1.0,1.0,1.05,120.0,50.0,34.0,40.0,1.5,180.0,0.5,1.7,1.4,1.0,3.2,1.25,1.35,1.48,1.04,0.88,1.6,1.9,3.1,6.35,1.5,2.0,3.08,3.0,1.2,3.8,2.2,1.85,6.0,6.5,6.5,11.3,5.75,5.85,5.75,0.75,9.5,3.0,3.0,1.08,0.9,24.0,40.0,16.0,20.0,18.2,1.33,1.98,1.2,1.98,1.33,1.92,5.35,3.0,1.69,1.69,3.0,0.01,0.01,0.01,0.01,0.01,12.3,0.01,0.01,160.0,0.01,0.01,0.01,0.01,0.01,0.01,5.85,5.75,5.75,11.3,2.0,1.8,3.5,6.5,6.5,6.0,2.2,3.8,0.75,9.5,3.0,28.0,30.0,16.75,1.08,2.1,6.2,3.8,0.9,2.65,16.0,3.0,6.7,7.0,5.0,5.3,5.15,2.0,3.5,2.5,5.5,6.5,0.9,2.0,6.0,8.0,8.0,4.0,1.2,500.0,1.35,0.5,5.0,7.84,2.5,3.0,0.9,3.0,500.0,14.99,10.0,7.0,4.0,7.0,35.0,3.0,2.0,0.72,0.64,0.47,0.01,60.0,12.0,8.5,1.2,9.0,3.1,2.1,3.2,150.0,4.2,2.5,1.8,25.0,38.0,40.0,5.0,61.0,17.0,56.0,13.22,20.0,40.0,16.99,18.7,12.7,16.0,18.0,16.37,16.0,0.6,1.87,3.65,1.5,2.0,1.1,3.1,6.1,10.0,0.01,5.0,0.3,5.0,8.0,0.8,0.01,0.62,0.62,27.0,14.0,1.9,2.0,2.0,2.0,2.0,2.0,2.0,16.0,11.2,5.4,0.4,6.5],\"type\":\"scatter\"},{\"marker\":{\"color\":\"red\",\"size\":10,\"symbol\":\"x\"},\"mode\":\"markers\",\"name\":\"idx 2\",\"showlegend\":false,\"x\":[2],\"y\":[20.0],\"type\":\"scatter\"},{\"marker\":{\"color\":\"red\",\"size\":10,\"symbol\":\"x\"},\"mode\":\"markers\",\"name\":\"idx 7\",\"showlegend\":false,\"x\":[7],\"y\":[14.77],\"type\":\"scatter\"},{\"marker\":{\"color\":\"red\",\"size\":10,\"symbol\":\"x\"},\"mode\":\"markers\",\"name\":\"idx 9\",\"showlegend\":false,\"x\":[9],\"y\":[99.0],\"type\":\"scatter\"},{\"marker\":{\"color\":\"red\",\"size\":10,\"symbol\":\"x\"},\"mode\":\"markers\",\"name\":\"idx 12\",\"showlegend\":false,\"x\":[12],\"y\":[35.0],\"type\":\"scatter\"},{\"marker\":{\"color\":\"red\",\"size\":10,\"symbol\":\"x\"},\"mode\":\"markers\",\"name\":\"idx 18\",\"showlegend\":false,\"x\":[18],\"y\":[10000.0],\"type\":\"scatter\"},{\"marker\":{\"color\":\"red\",\"size\":10,\"symbol\":\"x\"},\"mode\":\"markers\",\"name\":\"idx 28\",\"showlegend\":false,\"x\":[28],\"y\":[25.0],\"type\":\"scatter\"},{\"marker\":{\"color\":\"red\",\"size\":10,\"symbol\":\"x\"},\"mode\":\"markers\",\"name\":\"idx 29\",\"showlegend\":false,\"x\":[29],\"y\":[21.0],\"type\":\"scatter\"},{\"marker\":{\"color\":\"red\",\"size\":10,\"symbol\":\"x\"},\"mode\":\"markers\",\"name\":\"idx 41\",\"showlegend\":false,\"x\":[41],\"y\":[20.0],\"type\":\"scatter\"},{\"marker\":{\"color\":\"red\",\"size\":10,\"symbol\":\"x\"},\"mode\":\"markers\",\"name\":\"idx 42\",\"showlegend\":false,\"x\":[42],\"y\":[20.0],\"type\":\"scatter\"},{\"marker\":{\"color\":\"red\",\"size\":10,\"symbol\":\"x\"},\"mode\":\"markers\",\"name\":\"idx 43\",\"showlegend\":false,\"x\":[43],\"y\":[20.0],\"type\":\"scatter\"},{\"marker\":{\"color\":\"red\",\"size\":10,\"symbol\":\"x\"},\"mode\":\"markers\",\"name\":\"idx 44\",\"showlegend\":false,\"x\":[44],\"y\":[16.67],\"type\":\"scatter\"},{\"marker\":{\"color\":\"red\",\"size\":10,\"symbol\":\"x\"},\"mode\":\"markers\",\"name\":\"idx 48\",\"showlegend\":false,\"x\":[48],\"y\":[16.85],\"type\":\"scatter\"},{\"marker\":{\"color\":\"red\",\"size\":10,\"symbol\":\"x\"},\"mode\":\"markers\",\"name\":\"idx 50\",\"showlegend\":false,\"x\":[50],\"y\":[20.74],\"type\":\"scatter\"},{\"marker\":{\"color\":\"red\",\"size\":10,\"symbol\":\"x\"},\"mode\":\"markers\",\"name\":\"idx 51\",\"showlegend\":false,\"x\":[51],\"y\":[42.94],\"type\":\"scatter\"},{\"marker\":{\"color\":\"red\",\"size\":10,\"symbol\":\"x\"},\"mode\":\"markers\",\"name\":\"idx 54\",\"showlegend\":false,\"x\":[54],\"y\":[16.85],\"type\":\"scatter\"},{\"marker\":{\"color\":\"red\",\"size\":10,\"symbol\":\"x\"},\"mode\":\"markers\",\"name\":\"idx 55\",\"showlegend\":false,\"x\":[55],\"y\":[11.5],\"type\":\"scatter\"},{\"marker\":{\"color\":\"red\",\"size\":10,\"symbol\":\"x\"},\"mode\":\"markers\",\"name\":\"idx 57\",\"showlegend\":false,\"x\":[57],\"y\":[19.0],\"type\":\"scatter\"},{\"marker\":{\"color\":\"red\",\"size\":10,\"symbol\":\"x\"},\"mode\":\"markers\",\"name\":\"idx 59\",\"showlegend\":false,\"x\":[59],\"y\":[30.0],\"type\":\"scatter\"},{\"marker\":{\"color\":\"red\",\"size\":10,\"symbol\":\"x\"},\"mode\":\"markers\",\"name\":\"idx 75\",\"showlegend\":false,\"x\":[75],\"y\":[12.49],\"type\":\"scatter\"},{\"marker\":{\"color\":\"red\",\"size\":10,\"symbol\":\"x\"},\"mode\":\"markers\",\"name\":\"idx 79\",\"showlegend\":false,\"x\":[79],\"y\":[12.0],\"type\":\"scatter\"},{\"marker\":{\"color\":\"red\",\"size\":10,\"symbol\":\"x\"},\"mode\":\"markers\",\"name\":\"idx 88\",\"showlegend\":false,\"x\":[88],\"y\":[15.82],\"type\":\"scatter\"},{\"marker\":{\"color\":\"red\",\"size\":10,\"symbol\":\"x\"},\"mode\":\"markers\",\"name\":\"idx 95\",\"showlegend\":false,\"x\":[95],\"y\":[15.38],\"type\":\"scatter\"},{\"marker\":{\"color\":\"red\",\"size\":10,\"symbol\":\"x\"},\"mode\":\"markers\",\"name\":\"idx 98\",\"showlegend\":false,\"x\":[98],\"y\":[12.49],\"type\":\"scatter\"},{\"marker\":{\"color\":\"red\",\"size\":10,\"symbol\":\"x\"},\"mode\":\"markers\",\"name\":\"idx 119\",\"showlegend\":false,\"x\":[119],\"y\":[20.0],\"type\":\"scatter\"},{\"marker\":{\"color\":\"red\",\"size\":10,\"symbol\":\"x\"},\"mode\":\"markers\",\"name\":\"idx 125\",\"showlegend\":false,\"x\":[125],\"y\":[24.0],\"type\":\"scatter\"},{\"marker\":{\"color\":\"red\",\"size\":10,\"symbol\":\"x\"},\"mode\":\"markers\",\"name\":\"idx 126\",\"showlegend\":false,\"x\":[126],\"y\":[120.0],\"type\":\"scatter\"},{\"marker\":{\"color\":\"red\",\"size\":10,\"symbol\":\"x\"},\"mode\":\"markers\",\"name\":\"idx 166\",\"showlegend\":false,\"x\":[166],\"y\":[1000.0],\"type\":\"scatter\"},{\"marker\":{\"color\":\"red\",\"size\":10,\"symbol\":\"x\"},\"mode\":\"markers\",\"name\":\"idx 169\",\"showlegend\":false,\"x\":[169],\"y\":[22.75],\"type\":\"scatter\"},{\"marker\":{\"color\":\"red\",\"size\":10,\"symbol\":\"x\"},\"mode\":\"markers\",\"name\":\"idx 171\",\"showlegend\":false,\"x\":[171],\"y\":[82.0],\"type\":\"scatter\"},{\"marker\":{\"color\":\"red\",\"size\":10,\"symbol\":\"x\"},\"mode\":\"markers\",\"name\":\"idx 172\",\"showlegend\":false,\"x\":[172],\"y\":[13.98],\"type\":\"scatter\"},{\"marker\":{\"color\":\"red\",\"size\":10,\"symbol\":\"x\"},\"mode\":\"markers\",\"name\":\"idx 176\",\"showlegend\":false,\"x\":[176],\"y\":[34.33],\"type\":\"scatter\"},{\"marker\":{\"color\":\"red\",\"size\":10,\"symbol\":\"x\"},\"mode\":\"markers\",\"name\":\"idx 177\",\"showlegend\":false,\"x\":[177],\"y\":[15.5],\"type\":\"scatter\"},{\"marker\":{\"color\":\"red\",\"size\":10,\"symbol\":\"x\"},\"mode\":\"markers\",\"name\":\"idx 178\",\"showlegend\":false,\"x\":[178],\"y\":[13.24],\"type\":\"scatter\"},{\"marker\":{\"color\":\"red\",\"size\":10,\"symbol\":\"x\"},\"mode\":\"markers\",\"name\":\"idx 179\",\"showlegend\":false,\"x\":[179],\"y\":[24.8],\"type\":\"scatter\"},{\"marker\":{\"color\":\"red\",\"size\":10,\"symbol\":\"x\"},\"mode\":\"markers\",\"name\":\"idx 181\",\"showlegend\":false,\"x\":[181],\"y\":[35.0],\"type\":\"scatter\"},{\"marker\":{\"color\":\"red\",\"size\":10,\"symbol\":\"x\"},\"mode\":\"markers\",\"name\":\"idx 184\",\"showlegend\":false,\"x\":[184],\"y\":[12.0],\"type\":\"scatter\"},{\"marker\":{\"color\":\"red\",\"size\":10,\"symbol\":\"x\"},\"mode\":\"markers\",\"name\":\"idx 186\",\"showlegend\":false,\"x\":[186],\"y\":[12.0],\"type\":\"scatter\"},{\"marker\":{\"color\":\"red\",\"size\":10,\"symbol\":\"x\"},\"mode\":\"markers\",\"name\":\"idx 194\",\"showlegend\":false,\"x\":[194],\"y\":[22.0],\"type\":\"scatter\"},{\"marker\":{\"color\":\"red\",\"size\":10,\"symbol\":\"x\"},\"mode\":\"markers\",\"name\":\"idx 201\",\"showlegend\":false,\"x\":[201],\"y\":[39.0],\"type\":\"scatter\"},{\"marker\":{\"color\":\"red\",\"size\":10,\"symbol\":\"x\"},\"mode\":\"markers\",\"name\":\"idx 208\",\"showlegend\":false,\"x\":[208],\"y\":[12.0],\"type\":\"scatter\"},{\"marker\":{\"color\":\"red\",\"size\":10,\"symbol\":\"x\"},\"mode\":\"markers\",\"name\":\"idx 213\",\"showlegend\":false,\"x\":[213],\"y\":[22.99],\"type\":\"scatter\"},{\"marker\":{\"color\":\"red\",\"size\":10,\"symbol\":\"x\"},\"mode\":\"markers\",\"name\":\"idx 219\",\"showlegend\":false,\"x\":[219],\"y\":[12.0],\"type\":\"scatter\"},{\"marker\":{\"color\":\"red\",\"size\":10,\"symbol\":\"x\"},\"mode\":\"markers\",\"name\":\"idx 224\",\"showlegend\":false,\"x\":[224],\"y\":[92.0],\"type\":\"scatter\"},{\"marker\":{\"color\":\"red\",\"size\":10,\"symbol\":\"x\"},\"mode\":\"markers\",\"name\":\"idx 229\",\"showlegend\":false,\"x\":[229],\"y\":[14.0],\"type\":\"scatter\"},{\"marker\":{\"color\":\"red\",\"size\":10,\"symbol\":\"x\"},\"mode\":\"markers\",\"name\":\"idx 230\",\"showlegend\":false,\"x\":[230],\"y\":[15.0],\"type\":\"scatter\"},{\"marker\":{\"color\":\"red\",\"size\":10,\"symbol\":\"x\"},\"mode\":\"markers\",\"name\":\"idx 241\",\"showlegend\":false,\"x\":[241],\"y\":[11.3],\"type\":\"scatter\"},{\"marker\":{\"color\":\"red\",\"size\":10,\"symbol\":\"x\"},\"mode\":\"markers\",\"name\":\"idx 242\",\"showlegend\":false,\"x\":[242],\"y\":[17.0],\"type\":\"scatter\"},{\"marker\":{\"color\":\"red\",\"size\":10,\"symbol\":\"x\"},\"mode\":\"markers\",\"name\":\"idx 243\",\"showlegend\":false,\"x\":[243],\"y\":[15.0],\"type\":\"scatter\"},{\"marker\":{\"color\":\"red\",\"size\":10,\"symbol\":\"x\"},\"mode\":\"markers\",\"name\":\"idx 255\",\"showlegend\":false,\"x\":[255],\"y\":[65.0],\"type\":\"scatter\"},{\"marker\":{\"color\":\"red\",\"size\":10,\"symbol\":\"x\"},\"mode\":\"markers\",\"name\":\"idx 267\",\"showlegend\":false,\"x\":[267],\"y\":[90.0],\"type\":\"scatter\"},{\"marker\":{\"color\":\"red\",\"size\":10,\"symbol\":\"x\"},\"mode\":\"markers\",\"name\":\"idx 268\",\"showlegend\":false,\"x\":[268],\"y\":[90.0],\"type\":\"scatter\"},{\"marker\":{\"color\":\"red\",\"size\":10,\"symbol\":\"x\"},\"mode\":\"markers\",\"name\":\"idx 269\",\"showlegend\":false,\"x\":[269],\"y\":[22.0],\"type\":\"scatter\"},{\"marker\":{\"color\":\"red\",\"size\":10,\"symbol\":\"x\"},\"mode\":\"markers\",\"name\":\"idx 272\",\"showlegend\":false,\"x\":[272],\"y\":[29.0],\"type\":\"scatter\"},{\"marker\":{\"color\":\"red\",\"size\":10,\"symbol\":\"x\"},\"mode\":\"markers\",\"name\":\"idx 278\",\"showlegend\":false,\"x\":[278],\"y\":[22.0],\"type\":\"scatter\"},{\"marker\":{\"color\":\"red\",\"size\":10,\"symbol\":\"x\"},\"mode\":\"markers\",\"name\":\"idx 279\",\"showlegend\":false,\"x\":[279],\"y\":[19.0],\"type\":\"scatter\"},{\"marker\":{\"color\":\"red\",\"size\":10,\"symbol\":\"x\"},\"mode\":\"markers\",\"name\":\"idx 280\",\"showlegend\":false,\"x\":[280],\"y\":[14.0],\"type\":\"scatter\"},{\"marker\":{\"color\":\"red\",\"size\":10,\"symbol\":\"x\"},\"mode\":\"markers\",\"name\":\"idx 281\",\"showlegend\":false,\"x\":[281],\"y\":[15.63],\"type\":\"scatter\"},{\"marker\":{\"color\":\"red\",\"size\":10,\"symbol\":\"x\"},\"mode\":\"markers\",\"name\":\"idx 282\",\"showlegend\":false,\"x\":[282],\"y\":[90.0],\"type\":\"scatter\"},{\"marker\":{\"color\":\"red\",\"size\":10,\"symbol\":\"x\"},\"mode\":\"markers\",\"name\":\"idx 283\",\"showlegend\":false,\"x\":[283],\"y\":[20.0],\"type\":\"scatter\"},{\"marker\":{\"color\":\"red\",\"size\":10,\"symbol\":\"x\"},\"mode\":\"markers\",\"name\":\"idx 284\",\"showlegend\":false,\"x\":[284],\"y\":[20.0],\"type\":\"scatter\"},{\"marker\":{\"color\":\"red\",\"size\":10,\"symbol\":\"x\"},\"mode\":\"markers\",\"name\":\"idx 285\",\"showlegend\":false,\"x\":[285],\"y\":[16.0],\"type\":\"scatter\"},{\"marker\":{\"color\":\"red\",\"size\":10,\"symbol\":\"x\"},\"mode\":\"markers\",\"name\":\"idx 286\",\"showlegend\":false,\"x\":[286],\"y\":[13.5],\"type\":\"scatter\"},{\"marker\":{\"color\":\"red\",\"size\":10,\"symbol\":\"x\"},\"mode\":\"markers\",\"name\":\"idx 290\",\"showlegend\":false,\"x\":[290],\"y\":[30.0],\"type\":\"scatter\"},{\"marker\":{\"color\":\"red\",\"size\":10,\"symbol\":\"x\"},\"mode\":\"markers\",\"name\":\"idx 292\",\"showlegend\":false,\"x\":[292],\"y\":[23.0],\"type\":\"scatter\"},{\"marker\":{\"color\":\"red\",\"size\":10,\"symbol\":\"x\"},\"mode\":\"markers\",\"name\":\"idx 293\",\"showlegend\":false,\"x\":[293],\"y\":[35.0],\"type\":\"scatter\"},{\"marker\":{\"color\":\"red\",\"size\":10,\"symbol\":\"x\"},\"mode\":\"markers\",\"name\":\"idx 294\",\"showlegend\":false,\"x\":[294],\"y\":[22.0],\"type\":\"scatter\"},{\"marker\":{\"color\":\"red\",\"size\":10,\"symbol\":\"x\"},\"mode\":\"markers\",\"name\":\"idx 295\",\"showlegend\":false,\"x\":[295],\"y\":[15.0],\"type\":\"scatter\"},{\"marker\":{\"color\":\"red\",\"size\":10,\"symbol\":\"x\"},\"mode\":\"markers\",\"name\":\"idx 301\",\"showlegend\":false,\"x\":[301],\"y\":[11.3],\"type\":\"scatter\"},{\"marker\":{\"color\":\"red\",\"size\":10,\"symbol\":\"x\"},\"mode\":\"markers\",\"name\":\"idx 308\",\"showlegend\":false,\"x\":[308],\"y\":[12.5],\"type\":\"scatter\"},{\"marker\":{\"color\":\"red\",\"size\":10,\"symbol\":\"x\"},\"mode\":\"markers\",\"name\":\"idx 313\",\"showlegend\":false,\"x\":[313],\"y\":[120.0],\"type\":\"scatter\"},{\"marker\":{\"color\":\"red\",\"size\":10,\"symbol\":\"x\"},\"mode\":\"markers\",\"name\":\"idx 314\",\"showlegend\":false,\"x\":[314],\"y\":[50.0],\"type\":\"scatter\"},{\"marker\":{\"color\":\"red\",\"size\":10,\"symbol\":\"x\"},\"mode\":\"markers\",\"name\":\"idx 315\",\"showlegend\":false,\"x\":[315],\"y\":[34.0],\"type\":\"scatter\"},{\"marker\":{\"color\":\"red\",\"size\":10,\"symbol\":\"x\"},\"mode\":\"markers\",\"name\":\"idx 316\",\"showlegend\":false,\"x\":[316],\"y\":[40.0],\"type\":\"scatter\"},{\"marker\":{\"color\":\"red\",\"size\":10,\"symbol\":\"x\"},\"mode\":\"markers\",\"name\":\"idx 318\",\"showlegend\":false,\"x\":[318],\"y\":[180.0],\"type\":\"scatter\"},{\"marker\":{\"color\":\"red\",\"size\":10,\"symbol\":\"x\"},\"mode\":\"markers\",\"name\":\"idx 344\",\"showlegend\":false,\"x\":[344],\"y\":[11.3],\"type\":\"scatter\"},{\"marker\":{\"color\":\"red\",\"size\":10,\"symbol\":\"x\"},\"mode\":\"markers\",\"name\":\"idx 354\",\"showlegend\":false,\"x\":[354],\"y\":[24.0],\"type\":\"scatter\"},{\"marker\":{\"color\":\"red\",\"size\":10,\"symbol\":\"x\"},\"mode\":\"markers\",\"name\":\"idx 355\",\"showlegend\":false,\"x\":[355],\"y\":[40.0],\"type\":\"scatter\"},{\"marker\":{\"color\":\"red\",\"size\":10,\"symbol\":\"x\"},\"mode\":\"markers\",\"name\":\"idx 356\",\"showlegend\":false,\"x\":[356],\"y\":[16.0],\"type\":\"scatter\"},{\"marker\":{\"color\":\"red\",\"size\":10,\"symbol\":\"x\"},\"mode\":\"markers\",\"name\":\"idx 357\",\"showlegend\":false,\"x\":[357],\"y\":[20.0],\"type\":\"scatter\"},{\"marker\":{\"color\":\"red\",\"size\":10,\"symbol\":\"x\"},\"mode\":\"markers\",\"name\":\"idx 358\",\"showlegend\":false,\"x\":[358],\"y\":[18.2],\"type\":\"scatter\"},{\"marker\":{\"color\":\"red\",\"size\":10,\"symbol\":\"x\"},\"mode\":\"markers\",\"name\":\"idx 375\",\"showlegend\":false,\"x\":[375],\"y\":[12.3],\"type\":\"scatter\"},{\"marker\":{\"color\":\"red\",\"size\":10,\"symbol\":\"x\"},\"mode\":\"markers\",\"name\":\"idx 378\",\"showlegend\":false,\"x\":[378],\"y\":[160.0],\"type\":\"scatter\"},{\"marker\":{\"color\":\"red\",\"size\":10,\"symbol\":\"x\"},\"mode\":\"markers\",\"name\":\"idx 388\",\"showlegend\":false,\"x\":[388],\"y\":[11.3],\"type\":\"scatter\"},{\"marker\":{\"color\":\"red\",\"size\":10,\"symbol\":\"x\"},\"mode\":\"markers\",\"name\":\"idx 400\",\"showlegend\":false,\"x\":[400],\"y\":[28.0],\"type\":\"scatter\"},{\"marker\":{\"color\":\"red\",\"size\":10,\"symbol\":\"x\"},\"mode\":\"markers\",\"name\":\"idx 401\",\"showlegend\":false,\"x\":[401],\"y\":[30.0],\"type\":\"scatter\"},{\"marker\":{\"color\":\"red\",\"size\":10,\"symbol\":\"x\"},\"mode\":\"markers\",\"name\":\"idx 402\",\"showlegend\":false,\"x\":[402],\"y\":[16.75],\"type\":\"scatter\"},{\"marker\":{\"color\":\"red\",\"size\":10,\"symbol\":\"x\"},\"mode\":\"markers\",\"name\":\"idx 409\",\"showlegend\":false,\"x\":[409],\"y\":[16.0],\"type\":\"scatter\"},{\"marker\":{\"color\":\"red\",\"size\":10,\"symbol\":\"x\"},\"mode\":\"markers\",\"name\":\"idx 428\",\"showlegend\":false,\"x\":[428],\"y\":[500.0],\"type\":\"scatter\"},{\"marker\":{\"color\":\"red\",\"size\":10,\"symbol\":\"x\"},\"mode\":\"markers\",\"name\":\"idx 437\",\"showlegend\":false,\"x\":[437],\"y\":[500.0],\"type\":\"scatter\"},{\"marker\":{\"color\":\"red\",\"size\":10,\"symbol\":\"x\"},\"mode\":\"markers\",\"name\":\"idx 438\",\"showlegend\":false,\"x\":[438],\"y\":[14.99],\"type\":\"scatter\"},{\"marker\":{\"color\":\"red\",\"size\":10,\"symbol\":\"x\"},\"mode\":\"markers\",\"name\":\"idx 443\",\"showlegend\":false,\"x\":[443],\"y\":[35.0],\"type\":\"scatter\"},{\"marker\":{\"color\":\"red\",\"size\":10,\"symbol\":\"x\"},\"mode\":\"markers\",\"name\":\"idx 450\",\"showlegend\":false,\"x\":[450],\"y\":[60.0],\"type\":\"scatter\"},{\"marker\":{\"color\":\"red\",\"size\":10,\"symbol\":\"x\"},\"mode\":\"markers\",\"name\":\"idx 451\",\"showlegend\":false,\"x\":[451],\"y\":[12.0],\"type\":\"scatter\"},{\"marker\":{\"color\":\"red\",\"size\":10,\"symbol\":\"x\"},\"mode\":\"markers\",\"name\":\"idx 458\",\"showlegend\":false,\"x\":[458],\"y\":[150.0],\"type\":\"scatter\"},{\"marker\":{\"color\":\"red\",\"size\":10,\"symbol\":\"x\"},\"mode\":\"markers\",\"name\":\"idx 462\",\"showlegend\":false,\"x\":[462],\"y\":[25.0],\"type\":\"scatter\"},{\"marker\":{\"color\":\"red\",\"size\":10,\"symbol\":\"x\"},\"mode\":\"markers\",\"name\":\"idx 463\",\"showlegend\":false,\"x\":[463],\"y\":[38.0],\"type\":\"scatter\"},{\"marker\":{\"color\":\"red\",\"size\":10,\"symbol\":\"x\"},\"mode\":\"markers\",\"name\":\"idx 464\",\"showlegend\":false,\"x\":[464],\"y\":[40.0],\"type\":\"scatter\"},{\"marker\":{\"color\":\"red\",\"size\":10,\"symbol\":\"x\"},\"mode\":\"markers\",\"name\":\"idx 466\",\"showlegend\":false,\"x\":[466],\"y\":[61.0],\"type\":\"scatter\"},{\"marker\":{\"color\":\"red\",\"size\":10,\"symbol\":\"x\"},\"mode\":\"markers\",\"name\":\"idx 467\",\"showlegend\":false,\"x\":[467],\"y\":[17.0],\"type\":\"scatter\"},{\"marker\":{\"color\":\"red\",\"size\":10,\"symbol\":\"x\"},\"mode\":\"markers\",\"name\":\"idx 468\",\"showlegend\":false,\"x\":[468],\"y\":[56.0],\"type\":\"scatter\"},{\"marker\":{\"color\":\"red\",\"size\":10,\"symbol\":\"x\"},\"mode\":\"markers\",\"name\":\"idx 469\",\"showlegend\":false,\"x\":[469],\"y\":[13.22],\"type\":\"scatter\"},{\"marker\":{\"color\":\"red\",\"size\":10,\"symbol\":\"x\"},\"mode\":\"markers\",\"name\":\"idx 470\",\"showlegend\":false,\"x\":[470],\"y\":[20.0],\"type\":\"scatter\"},{\"marker\":{\"color\":\"red\",\"size\":10,\"symbol\":\"x\"},\"mode\":\"markers\",\"name\":\"idx 471\",\"showlegend\":false,\"x\":[471],\"y\":[40.0],\"type\":\"scatter\"},{\"marker\":{\"color\":\"red\",\"size\":10,\"symbol\":\"x\"},\"mode\":\"markers\",\"name\":\"idx 472\",\"showlegend\":false,\"x\":[472],\"y\":[16.99],\"type\":\"scatter\"},{\"marker\":{\"color\":\"red\",\"size\":10,\"symbol\":\"x\"},\"mode\":\"markers\",\"name\":\"idx 473\",\"showlegend\":false,\"x\":[473],\"y\":[18.7],\"type\":\"scatter\"},{\"marker\":{\"color\":\"red\",\"size\":10,\"symbol\":\"x\"},\"mode\":\"markers\",\"name\":\"idx 474\",\"showlegend\":false,\"x\":[474],\"y\":[12.7],\"type\":\"scatter\"},{\"marker\":{\"color\":\"red\",\"size\":10,\"symbol\":\"x\"},\"mode\":\"markers\",\"name\":\"idx 475\",\"showlegend\":false,\"x\":[475],\"y\":[16.0],\"type\":\"scatter\"},{\"marker\":{\"color\":\"red\",\"size\":10,\"symbol\":\"x\"},\"mode\":\"markers\",\"name\":\"idx 476\",\"showlegend\":false,\"x\":[476],\"y\":[18.0],\"type\":\"scatter\"},{\"marker\":{\"color\":\"red\",\"size\":10,\"symbol\":\"x\"},\"mode\":\"markers\",\"name\":\"idx 477\",\"showlegend\":false,\"x\":[477],\"y\":[16.37],\"type\":\"scatter\"},{\"marker\":{\"color\":\"red\",\"size\":10,\"symbol\":\"x\"},\"mode\":\"markers\",\"name\":\"idx 478\",\"showlegend\":false,\"x\":[478],\"y\":[16.0],\"type\":\"scatter\"},{\"marker\":{\"color\":\"red\",\"size\":10,\"symbol\":\"x\"},\"mode\":\"markers\",\"name\":\"idx 497\",\"showlegend\":false,\"x\":[497],\"y\":[27.0],\"type\":\"scatter\"},{\"marker\":{\"color\":\"red\",\"size\":10,\"symbol\":\"x\"},\"mode\":\"markers\",\"name\":\"idx 498\",\"showlegend\":false,\"x\":[498],\"y\":[14.0],\"type\":\"scatter\"},{\"marker\":{\"color\":\"red\",\"size\":10,\"symbol\":\"x\"},\"mode\":\"markers\",\"name\":\"idx 506\",\"showlegend\":false,\"x\":[506],\"y\":[16.0],\"type\":\"scatter\"}],                        {\"legend\":{\"bgcolor\":\"#151516\",\"font\":{\"color\":\"#D9D9D9\"}},\"paper_bgcolor\":\"#151516\",\"plot_bgcolor\":\"#151516\",\"title\":{\"text\":\"Original Target Unit Price with Outliers Marked\",\"font\":{\"color\":\"#D9D9D9\"}},\"xaxis\":{\"gridcolor\":\"#434343\",\"showgrid\":true,\"tickfont\":{\"color\":\"#C2C2C2\"},\"title\":{\"text\":\"index\",\"font\":{\"color\":\"#D9D9D9\"}},\"zerolinecolor\":\"#666570\"},\"yaxis\":{\"gridcolor\":\"#434343\",\"showgrid\":true,\"tickfont\":{\"color\":\"#C2C2C2\"},\"title\":{\"text\":\"Target Unit Price\",\"font\":{\"color\":\"#D9D9D9\"}},\"zerolinecolor\":\"#666570\"},\"template\":{\"data\":{\"histogram2dcontour\":[{\"type\":\"histogram2dcontour\",\"colorbar\":{\"outlinewidth\":0,\"ticks\":\"\"},\"colorscale\":[[0.0,\"#0d0887\"],[0.1111111111111111,\"#46039f\"],[0.2222222222222222,\"#7201a8\"],[0.3333333333333333,\"#9c179e\"],[0.4444444444444444,\"#bd3786\"],[0.5555555555555556,\"#d8576b\"],[0.6666666666666666,\"#ed7953\"],[0.7777777777777778,\"#fb9f3a\"],[0.8888888888888888,\"#fdca26\"],[1.0,\"#f0f921\"]]}],\"choropleth\":[{\"type\":\"choropleth\",\"colorbar\":{\"outlinewidth\":0,\"ticks\":\"\"}}],\"histogram2d\":[{\"type\":\"histogram2d\",\"colorbar\":{\"outlinewidth\":0,\"ticks\":\"\"},\"colorscale\":[[0.0,\"#0d0887\"],[0.1111111111111111,\"#46039f\"],[0.2222222222222222,\"#7201a8\"],[0.3333333333333333,\"#9c179e\"],[0.4444444444444444,\"#bd3786\"],[0.5555555555555556,\"#d8576b\"],[0.6666666666666666,\"#ed7953\"],[0.7777777777777778,\"#fb9f3a\"],[0.8888888888888888,\"#fdca26\"],[1.0,\"#f0f921\"]]}],\"heatmap\":[{\"type\":\"heatmap\",\"colorbar\":{\"outlinewidth\":0,\"ticks\":\"\"},\"colorscale\":[[0.0,\"#0d0887\"],[0.1111111111111111,\"#46039f\"],[0.2222222222222222,\"#7201a8\"],[0.3333333333333333,\"#9c179e\"],[0.4444444444444444,\"#bd3786\"],[0.5555555555555556,\"#d8576b\"],[0.6666666666666666,\"#ed7953\"],[0.7777777777777778,\"#fb9f3a\"],[0.8888888888888888,\"#fdca26\"],[1.0,\"#f0f921\"]]}],\"heatmapgl\":[{\"type\":\"heatmapgl\",\"colorbar\":{\"outlinewidth\":0,\"ticks\":\"\"},\"colorscale\":[[0.0,\"#0d0887\"],[0.1111111111111111,\"#46039f\"],[0.2222222222222222,\"#7201a8\"],[0.3333333333333333,\"#9c179e\"],[0.4444444444444444,\"#bd3786\"],[0.5555555555555556,\"#d8576b\"],[0.6666666666666666,\"#ed7953\"],[0.7777777777777778,\"#fb9f3a\"],[0.8888888888888888,\"#fdca26\"],[1.0,\"#f0f921\"]]}],\"contourcarpet\":[{\"type\":\"contourcarpet\",\"colorbar\":{\"outlinewidth\":0,\"ticks\":\"\"}}],\"contour\":[{\"type\":\"contour\",\"colorbar\":{\"outlinewidth\":0,\"ticks\":\"\"},\"colorscale\":[[0.0,\"#0d0887\"],[0.1111111111111111,\"#46039f\"],[0.2222222222222222,\"#7201a8\"],[0.3333333333333333,\"#9c179e\"],[0.4444444444444444,\"#bd3786\"],[0.5555555555555556,\"#d8576b\"],[0.6666666666666666,\"#ed7953\"],[0.7777777777777778,\"#fb9f3a\"],[0.8888888888888888,\"#fdca26\"],[1.0,\"#f0f921\"]]}],\"surface\":[{\"type\":\"surface\",\"colorbar\":{\"outlinewidth\":0,\"ticks\":\"\"},\"colorscale\":[[0.0,\"#0d0887\"],[0.1111111111111111,\"#46039f\"],[0.2222222222222222,\"#7201a8\"],[0.3333333333333333,\"#9c179e\"],[0.4444444444444444,\"#bd3786\"],[0.5555555555555556,\"#d8576b\"],[0.6666666666666666,\"#ed7953\"],[0.7777777777777778,\"#fb9f3a\"],[0.8888888888888888,\"#fdca26\"],[1.0,\"#f0f921\"]]}],\"mesh3d\":[{\"type\":\"mesh3d\",\"colorbar\":{\"outlinewidth\":0,\"ticks\":\"\"}}],\"scatter\":[{\"fillpattern\":{\"fillmode\":\"overlay\",\"size\":10,\"solidity\":0.2},\"type\":\"scatter\"}],\"parcoords\":[{\"type\":\"parcoords\",\"line\":{\"colorbar\":{\"outlinewidth\":0,\"ticks\":\"\"}}}],\"scatterpolargl\":[{\"type\":\"scatterpolargl\",\"marker\":{\"colorbar\":{\"outlinewidth\":0,\"ticks\":\"\"}}}],\"bar\":[{\"error_x\":{\"color\":\"#2a3f5f\"},\"error_y\":{\"color\":\"#2a3f5f\"},\"marker\":{\"line\":{\"color\":\"#E5ECF6\",\"width\":0.5},\"pattern\":{\"fillmode\":\"overlay\",\"size\":10,\"solidity\":0.2}},\"type\":\"bar\"}],\"scattergeo\":[{\"type\":\"scattergeo\",\"marker\":{\"colorbar\":{\"outlinewidth\":0,\"ticks\":\"\"}}}],\"scatterpolar\":[{\"type\":\"scatterpolar\",\"marker\":{\"colorbar\":{\"outlinewidth\":0,\"ticks\":\"\"}}}],\"histogram\":[{\"marker\":{\"pattern\":{\"fillmode\":\"overlay\",\"size\":10,\"solidity\":0.2}},\"type\":\"histogram\"}],\"scattergl\":[{\"type\":\"scattergl\",\"marker\":{\"colorbar\":{\"outlinewidth\":0,\"ticks\":\"\"}}}],\"scatter3d\":[{\"type\":\"scatter3d\",\"line\":{\"colorbar\":{\"outlinewidth\":0,\"ticks\":\"\"}},\"marker\":{\"colorbar\":{\"outlinewidth\":0,\"ticks\":\"\"}}}],\"scattermapbox\":[{\"type\":\"scattermapbox\",\"marker\":{\"colorbar\":{\"outlinewidth\":0,\"ticks\":\"\"}}}],\"scatterternary\":[{\"type\":\"scatterternary\",\"marker\":{\"colorbar\":{\"outlinewidth\":0,\"ticks\":\"\"}}}],\"scattercarpet\":[{\"type\":\"scattercarpet\",\"marker\":{\"colorbar\":{\"outlinewidth\":0,\"ticks\":\"\"}}}],\"carpet\":[{\"aaxis\":{\"endlinecolor\":\"#2a3f5f\",\"gridcolor\":\"white\",\"linecolor\":\"white\",\"minorgridcolor\":\"white\",\"startlinecolor\":\"#2a3f5f\"},\"baxis\":{\"endlinecolor\":\"#2a3f5f\",\"gridcolor\":\"white\",\"linecolor\":\"white\",\"minorgridcolor\":\"white\",\"startlinecolor\":\"#2a3f5f\"},\"type\":\"carpet\"}],\"table\":[{\"cells\":{\"fill\":{\"color\":\"#EBF0F8\"},\"line\":{\"color\":\"white\"}},\"header\":{\"fill\":{\"color\":\"#C8D4E3\"},\"line\":{\"color\":\"white\"}},\"type\":\"table\"}],\"barpolar\":[{\"marker\":{\"line\":{\"color\":\"#E5ECF6\",\"width\":0.5},\"pattern\":{\"fillmode\":\"overlay\",\"size\":10,\"solidity\":0.2}},\"type\":\"barpolar\"}],\"pie\":[{\"automargin\":true,\"type\":\"pie\"}]},\"layout\":{\"autotypenumbers\":\"strict\",\"colorway\":[\"#636efa\",\"#EF553B\",\"#00cc96\",\"#ab63fa\",\"#FFA15A\",\"#19d3f3\",\"#FF6692\",\"#B6E880\",\"#FF97FF\",\"#FECB52\"],\"font\":{\"color\":\"#2a3f5f\"},\"hovermode\":\"closest\",\"hoverlabel\":{\"align\":\"left\"},\"paper_bgcolor\":\"white\",\"plot_bgcolor\":\"#E5ECF6\",\"polar\":{\"bgcolor\":\"#E5ECF6\",\"angularaxis\":{\"gridcolor\":\"white\",\"linecolor\":\"white\",\"ticks\":\"\"},\"radialaxis\":{\"gridcolor\":\"white\",\"linecolor\":\"white\",\"ticks\":\"\"}},\"ternary\":{\"bgcolor\":\"#E5ECF6\",\"aaxis\":{\"gridcolor\":\"white\",\"linecolor\":\"white\",\"ticks\":\"\"},\"baxis\":{\"gridcolor\":\"white\",\"linecolor\":\"white\",\"ticks\":\"\"},\"caxis\":{\"gridcolor\":\"white\",\"linecolor\":\"white\",\"ticks\":\"\"}},\"coloraxis\":{\"colorbar\":{\"outlinewidth\":0,\"ticks\":\"\"}},\"colorscale\":{\"sequential\":[[0.0,\"#0d0887\"],[0.1111111111111111,\"#46039f\"],[0.2222222222222222,\"#7201a8\"],[0.3333333333333333,\"#9c179e\"],[0.4444444444444444,\"#bd3786\"],[0.5555555555555556,\"#d8576b\"],[0.6666666666666666,\"#ed7953\"],[0.7777777777777778,\"#fb9f3a\"],[0.8888888888888888,\"#fdca26\"],[1.0,\"#f0f921\"]],\"sequentialminus\":[[0.0,\"#0d0887\"],[0.1111111111111111,\"#46039f\"],[0.2222222222222222,\"#7201a8\"],[0.3333333333333333,\"#9c179e\"],[0.4444444444444444,\"#bd3786\"],[0.5555555555555556,\"#d8576b\"],[0.6666666666666666,\"#ed7953\"],[0.7777777777777778,\"#fb9f3a\"],[0.8888888888888888,\"#fdca26\"],[1.0,\"#f0f921\"]],\"diverging\":[[0,\"#8e0152\"],[0.1,\"#c51b7d\"],[0.2,\"#de77ae\"],[0.3,\"#f1b6da\"],[0.4,\"#fde0ef\"],[0.5,\"#f7f7f7\"],[0.6,\"#e6f5d0\"],[0.7,\"#b8e186\"],[0.8,\"#7fbc41\"],[0.9,\"#4d9221\"],[1,\"#276419\"]]},\"xaxis\":{\"gridcolor\":\"white\",\"linecolor\":\"white\",\"ticks\":\"\",\"title\":{\"standoff\":15},\"zerolinecolor\":\"white\",\"automargin\":true,\"zerolinewidth\":2},\"yaxis\":{\"gridcolor\":\"white\",\"linecolor\":\"white\",\"ticks\":\"\",\"title\":{\"standoff\":15},\"zerolinecolor\":\"white\",\"automargin\":true,\"zerolinewidth\":2},\"scene\":{\"xaxis\":{\"backgroundcolor\":\"#E5ECF6\",\"gridcolor\":\"white\",\"linecolor\":\"white\",\"showbackground\":true,\"ticks\":\"\",\"zerolinecolor\":\"white\",\"gridwidth\":2},\"yaxis\":{\"backgroundcolor\":\"#E5ECF6\",\"gridcolor\":\"white\",\"linecolor\":\"white\",\"showbackground\":true,\"ticks\":\"\",\"zerolinecolor\":\"white\",\"gridwidth\":2},\"zaxis\":{\"backgroundcolor\":\"#E5ECF6\",\"gridcolor\":\"white\",\"linecolor\":\"white\",\"showbackground\":true,\"ticks\":\"\",\"zerolinecolor\":\"white\",\"gridwidth\":2}},\"shapedefaults\":{\"line\":{\"color\":\"#2a3f5f\"}},\"annotationdefaults\":{\"arrowcolor\":\"#2a3f5f\",\"arrowhead\":0,\"arrowwidth\":1},\"geo\":{\"bgcolor\":\"white\",\"landcolor\":\"#E5ECF6\",\"subunitcolor\":\"white\",\"showland\":true,\"showlakes\":true,\"lakecolor\":\"white\"},\"title\":{\"x\":0.05},\"mapbox\":{\"style\":\"light\"}}}},                        {\"responsive\": true}                    ).then(function(){\n",
       "                            \n",
       "var gd = document.getElementById('a95a3ce5-a83a-4142-a6b3-13f57f0a5909');\n",
       "var x = new MutationObserver(function (mutations, observer) {{\n",
       "        var display = window.getComputedStyle(gd).display;\n",
       "        if (!display || display === 'none') {{\n",
       "            console.log([gd, 'removed!']);\n",
       "            Plotly.purge(gd);\n",
       "            observer.disconnect();\n",
       "        }}\n",
       "}});\n",
       "\n",
       "// Listen for the removal of the full notebook cells\n",
       "var notebookContainer = gd.closest('#notebook-container');\n",
       "if (notebookContainer) {{\n",
       "    x.observe(notebookContainer, {childList: true});\n",
       "}}\n",
       "\n",
       "// Listen for the clearing of the current output cell\n",
       "var outputEl = gd.closest('.output');\n",
       "if (outputEl) {{\n",
       "    x.observe(outputEl, {childList: true});\n",
       "}}\n",
       "\n",
       "                        })                };                });            </script>        </div>"
      ]
     },
     "metadata": {},
     "output_type": "display_data"
    }
   ],
   "source": [
    "# get dictionary of plots\n",
    "IQR_plotting_dict_REQUESTS = outlier_plot(data=requests_df,\n",
    "                                          detected_outlier_vars=IQR_outlier_dict_REQUESTS)\n",
    "# ...and then plot for visual confirmation\n",
    "for ky in IQR_plotting_dict_REQUESTS.keys():\n",
    "    IQR_plotting_dict_REQUESTS[ky].show()"
   ]
  },
  {
   "cell_type": "code",
   "execution_count": 23,
   "id": "d1ce1f1e-4196-48f7-ab92-a0e823aab6cd",
   "metadata": {},
   "outputs": [
    {
     "data": {
      "application/vnd.plotly.v1+json": {
       "config": {
        "plotlyServerURL": "https://plot.ly"
       },
       "data": [
        {
         "line": {
          "color": "rgba(255, 153, 51, 1.0)",
          "dash": "solid",
          "shape": "linear",
          "width": 1.3
         },
         "marker": {
          "size": 12,
          "symbol": "circle"
         },
         "mode": "markers",
         "name": "Quote Unit Price",
         "text": "",
         "type": "scatter",
         "x": [
          0,
          1,
          2,
          3,
          4,
          5,
          6,
          7,
          8,
          9,
          10,
          11,
          12,
          13,
          14,
          15,
          16,
          17,
          18,
          19,
          20,
          21,
          22,
          23,
          24,
          25,
          26,
          27,
          28,
          29,
          30,
          31,
          32,
          33,
          34,
          35,
          36,
          37,
          38,
          39,
          40,
          41,
          42,
          43,
          44,
          45,
          46,
          47,
          48,
          49,
          50,
          51,
          52,
          53,
          54,
          55,
          56,
          57,
          58,
          59,
          60,
          61,
          62,
          63,
          64,
          65,
          66,
          67,
          68,
          69,
          70,
          71,
          72,
          73,
          74,
          75,
          76,
          77,
          78,
          79,
          80,
          81,
          82,
          83,
          84,
          85,
          86,
          87,
          88,
          89,
          90,
          91,
          92,
          93,
          94,
          95,
          96,
          97,
          98,
          99,
          100,
          101,
          102,
          103,
          104,
          105,
          106,
          107,
          108,
          109,
          110,
          111,
          112,
          113,
          114,
          115,
          116,
          117,
          118,
          119,
          120,
          121,
          122,
          123,
          124,
          125,
          126,
          127,
          128,
          129,
          130,
          131,
          132,
          133,
          134,
          135,
          136,
          137,
          138,
          139,
          140,
          141,
          142,
          143,
          144,
          145,
          146,
          147,
          148,
          149,
          150,
          151,
          152,
          153,
          154,
          155,
          156,
          157,
          158,
          159,
          160,
          161,
          162,
          163,
          164,
          165,
          166,
          167,
          168,
          169,
          170,
          171,
          172,
          173,
          174,
          175,
          176,
          177,
          178,
          179,
          180,
          181,
          182,
          183,
          184,
          185,
          186,
          187,
          188,
          189,
          190,
          191,
          192,
          193,
          194,
          195,
          196,
          197,
          198,
          199,
          200,
          201,
          202,
          203,
          204,
          205,
          206,
          207,
          208,
          209,
          210,
          211,
          212,
          213,
          214,
          215,
          216,
          217,
          218,
          219,
          220,
          221,
          222,
          223,
          224,
          225,
          226,
          227,
          228,
          229,
          230,
          231,
          232,
          233,
          234,
          235,
          236,
          237,
          238,
          239,
          240,
          241,
          242,
          243,
          244,
          245,
          246,
          247,
          248,
          249,
          250,
          251,
          252,
          253,
          254,
          255,
          256,
          257,
          258,
          259,
          260,
          261,
          262,
          263,
          264,
          265,
          266,
          267,
          268,
          269,
          270,
          271,
          272,
          273,
          274,
          275,
          276,
          277,
          278,
          279,
          280,
          281,
          282,
          283,
          284,
          285,
          286,
          287,
          288,
          289,
          290,
          291,
          292,
          293,
          294,
          295,
          296,
          297,
          298,
          299,
          300,
          301,
          302,
          303,
          304,
          305,
          306,
          307,
          308,
          309,
          310,
          311,
          312,
          313,
          314,
          315,
          316,
          317,
          318,
          319,
          320,
          321,
          322,
          323,
          324,
          325,
          326,
          327,
          328,
          329,
          330,
          331,
          332,
          333,
          334,
          335,
          336,
          337,
          338,
          339,
          340,
          341,
          342,
          343,
          344,
          345,
          346,
          347,
          348,
          349,
          350,
          351,
          352,
          353,
          354,
          355,
          356,
          357,
          358,
          359,
          360,
          361,
          362,
          363,
          364,
          365,
          366,
          367,
          368,
          369,
          370,
          371,
          372,
          373,
          374,
          375,
          376,
          377,
          378,
          379,
          380,
          381,
          382,
          383,
          384,
          385,
          386,
          387,
          388,
          389,
          390,
          391,
          392,
          393,
          394,
          395,
          396,
          397,
          398,
          399,
          400,
          401,
          402,
          403,
          404,
          405,
          406,
          407,
          408,
          409,
          410,
          411,
          412,
          413,
          414,
          415,
          416,
          417,
          418,
          419,
          420,
          421,
          422,
          423,
          424,
          425,
          426,
          427,
          428,
          429,
          430,
          431,
          432,
          433,
          434,
          435,
          436,
          437,
          438,
          439,
          440,
          441,
          442,
          443,
          444,
          445,
          446,
          447,
          448,
          449,
          450,
          451,
          452,
          453,
          454,
          455,
          456,
          457,
          458,
          459,
          460,
          461,
          462,
          463,
          464,
          465,
          466,
          467,
          468,
          469,
          470,
          471,
          472,
          473,
          474,
          475,
          476,
          477,
          478,
          479,
          480,
          481,
          482,
          483,
          484,
          485,
          486,
          487,
          488,
          489,
          490,
          491,
          492,
          493,
          494,
          495,
          496,
          497,
          498,
          499,
          500,
          501,
          502,
          503,
          504,
          505,
          506,
          507,
          508,
          509,
          510,
          511,
          512,
          513,
          514,
          515,
          516,
          517,
          518,
          519,
          520,
          521,
          522,
          523,
          524,
          525,
          526,
          527,
          528,
          529,
          530,
          531,
          532,
          533,
          534,
          535,
          536,
          537,
          538,
          539,
          540,
          541,
          542,
          543,
          544,
          545,
          546,
          547,
          548,
          549,
          550,
          551,
          552,
          553,
          554,
          555,
          556,
          557,
          558,
          559,
          560,
          561,
          562,
          563,
          564,
          565,
          566,
          567,
          568,
          569,
          570,
          571,
          572,
          573,
          574,
          575,
          576,
          577,
          578,
          579,
          580,
          581,
          582,
          583,
          584,
          585,
          586,
          587,
          588,
          589,
          590,
          591,
          592,
          593,
          594,
          595,
          596,
          597,
          598,
          599,
          600,
          601,
          602,
          603,
          604,
          605,
          606,
          607,
          608,
          609,
          610,
          611,
          612,
          613,
          614,
          615,
          616,
          617,
          618,
          619,
          620,
          621,
          622,
          623,
          624,
          625,
          626,
          627,
          628,
          629,
          630,
          631,
          632,
          633,
          634,
          635,
          636,
          637,
          638,
          639,
          640,
          641,
          642,
          643,
          644,
          645,
          646,
          647,
          648,
          649,
          650,
          651,
          652,
          653,
          654,
          655,
          656,
          657,
          658,
          659,
          660,
          661,
          662,
          663,
          664,
          665,
          666,
          667,
          668,
          669,
          670,
          671,
          672,
          673,
          674,
          675,
          676,
          677,
          678,
          679,
          680,
          681,
          682,
          683,
          684,
          685,
          686,
          687,
          688,
          689,
          690,
          691,
          692,
          693,
          694,
          695,
          696,
          697,
          698,
          699,
          700,
          701,
          702,
          703,
          704,
          705,
          706,
          707,
          708,
          709,
          710,
          711,
          712,
          713,
          714,
          715,
          716,
          717,
          718,
          719,
          720,
          721,
          722,
          723,
          724,
          725,
          726,
          727,
          728,
          729,
          730,
          731,
          732,
          733,
          734,
          735,
          736,
          737,
          738,
          739,
          740,
          741,
          742,
          743,
          744,
          745,
          746,
          747,
          748,
          749,
          750,
          751,
          752,
          753,
          754,
          755,
          756,
          757,
          758,
          759,
          760,
          761,
          762,
          763,
          764,
          765,
          766,
          767,
          768,
          769,
          770,
          771,
          772,
          773,
          774,
          775,
          776,
          777,
          778,
          779,
          780,
          781,
          782,
          783,
          784,
          785,
          786,
          787,
          788,
          789,
          790,
          791,
          792,
          793,
          794,
          795,
          796,
          797,
          798,
          799,
          800,
          801,
          802,
          803,
          804,
          805,
          806,
          807,
          808,
          809,
          810,
          811,
          812,
          813,
          814,
          815,
          816,
          817,
          818,
          819,
          820,
          821,
          822,
          823,
          824,
          825,
          826,
          827,
          828,
          829,
          830,
          831,
          832
         ],
         "y": [
          7.61,
          14.91,
          4.91,
          7,
          5.41,
          29.92,
          24.15,
          9.98,
          8.82,
          3.34,
          2.62,
          6.32,
          6.65,
          6.17,
          17.81,
          173.25,
          1.11,
          15.75,
          8.12,
          2.89,
          1.68,
          3.99,
          13.54,
          5.4,
          23.23,
          4.43,
          49.35,
          8.08,
          2.6,
          8.1,
          15.22,
          5.98,
          7.2,
          5.54,
          2.73,
          2.1,
          5.04,
          1,
          3.73,
          47.25,
          3.94,
          4.72,
          3.36,
          3.38,
          4.91,
          3.68,
          10.29,
          9.45,
          6.3,
          3.68,
          3.68,
          12.6,
          59.43,
          1.32,
          2.72,
          1.07,
          4.72,
          7.35,
          4.72,
          7.88,
          223.12,
          15.33,
          10.82,
          4.24,
          21.89,
          22.68,
          2.03,
          3.41,
          17.54,
          4.72,
          7.14,
          2.27,
          1.42,
          1.02,
          6.94,
          23.2,
          1,
          2.68,
          119.52,
          90.48,
          144.09,
          11.5,
          118.41,
          5.78,
          15.75,
          4.41,
          19.57,
          10.89,
          1067.24,
          19.41,
          11.44,
          24.69,
          3.15,
          5.25,
          12.84,
          13,
          5.36,
          6.36,
          3.17,
          6.35,
          2.78,
          7.89,
          6.98,
          16.06,
          1.73,
          1.91,
          17.3,
          11.02,
          15.74,
          3.36,
          1.1,
          6.54,
          23.65,
          8.21,
          4.25,
          21,
          4.16,
          1.08,
          1.08,
          3.34,
          2.26,
          17.88,
          3.48,
          5.45,
          6.3,
          14.72,
          6.66,
          18.45,
          11.35,
          4.97,
          7.14,
          4.24,
          13.17,
          1.26,
          10.29,
          9.45,
          24.15,
          3.02,
          4.15,
          4.72,
          3.83,
          12.08,
          9.19,
          2.2,
          3.45,
          14.37,
          16.29,
          16.56,
          3.19,
          4.14,
          2.06,
          4.48,
          3.99,
          9.03,
          2.92,
          4.94,
          3.68,
          14.86,
          8.72,
          5.46,
          0.82,
          2.15,
          10.82,
          9.14,
          15.33,
          5.22,
          35.91,
          5.04,
          13.64,
          2.22,
          20.9,
          1.03,
          5.78,
          5.83,
          18.69,
          8.92,
          7.31,
          12.15,
          26.28,
          4.16,
          5.53,
          4.2,
          3.53,
          20.53,
          31.69,
          14.73,
          17.96,
          15.02,
          15.41,
          3.85,
          7.82,
          4.2,
          2.34,
          14.42,
          1.43,
          4.45,
          2.06,
          5.88,
          2.3,
          4.48,
          4.2,
          5.84,
          3.95,
          5.36,
          3.26,
          5.04,
          11.13,
          5.18,
          5.91,
          7.9,
          2.37,
          7.22,
          6.91,
          17.06,
          14.86,
          3.32,
          3.06,
          6.36,
          5.72,
          2.57,
          9.76,
          4.89,
          8.02,
          4.92,
          2.14,
          5.55,
          5.25,
          3.31,
          2.39,
          1.94,
          2.42,
          5.01,
          4.2,
          2.05,
          6.46,
          5.67,
          7.3,
          9.18,
          8.99,
          33.6,
          33.6,
          3.68,
          7.88,
          1.05,
          47.25,
          2.52,
          4.15,
          2.98,
          3.36,
          4.5,
          3.57,
          3.41,
          44.1,
          2.37,
          3.96,
          16.33,
          1.97,
          25.2,
          9.41,
          58.59,
          1.44,
          5.24,
          1.73,
          14.49,
          2.65,
          6.14,
          1173.1,
          1.02,
          6.14,
          18.9,
          8.92,
          42,
          4,
          18.36,
          17.88,
          7.06,
          6.38,
          11.84,
          9.11,
          14.07,
          5.09,
          4.7,
          5.55,
          13.01,
          13.39,
          29.4,
          3.52,
          3.41,
          79.87,
          7.6,
          8.11,
          4.53,
          22.84,
          20.99,
          8.66,
          7.42,
          17.1,
          11.09,
          6.31,
          5.63,
          6.36,
          19.54,
          15.04,
          4.99,
          2.42,
          11.92,
          3.68,
          10.08,
          10.87,
          4.15,
          16.36,
          3.96,
          5.89,
          36.63,
          5.02,
          21.5,
          19.02,
          11.71,
          6.04,
          12.81,
          7.24,
          6.72,
          7.82,
          5.41,
          5.41,
          6.51,
          14.68,
          6.51,
          15.8,
          11.5,
          12.7,
          9.36,
          3.46,
          2.94,
          3.83,
          3.41,
          3.1,
          8.61,
          1.04,
          5880,
          5.37,
          8.08,
          5.36,
          3.68,
          1857.33,
          4.88,
          13.65,
          4.07,
          3.1,
          0.92,
          3.36,
          3.69,
          1.78,
          3,
          3.1,
          4.1,
          2.91,
          2.09,
          8.92,
          3990,
          5.25,
          6.09,
          4.68,
          3.51,
          3.73,
          3.45,
          4.57,
          3.28,
          7.02,
          1.85,
          4.88,
          11.55,
          0.61,
          5.98,
          5.93,
          11.81,
          36.75,
          24.99,
          3.19,
          13.82,
          46.55,
          1.09,
          2.15,
          2.99,
          4882.5,
          4410,
          1.42,
          94.5,
          9.98,
          12.08,
          80.85,
          1.36,
          5.25,
          12.6,
          10.11,
          2.57,
          1.3,
          1.07,
          1.07,
          2.5,
          5.86,
          42,
          12.86,
          5.98,
          21,
          4.1,
          4.33,
          7.56,
          2.1,
          3.49,
          2.79,
          7.58,
          10.76,
          9.14,
          11.02,
          4.37,
          14.49,
          10.5,
          15.75,
          9.87,
          7.48,
          1.74,
          1.58,
          1.1,
          7.04,
          2.62,
          3.96,
          1.58,
          4.88,
          16.64,
          1.68,
          12.08,
          7.62,
          7.14,
          0.99,
          10.5,
          17.46,
          35.28,
          55.12,
          3.59,
          7.62,
          8.46,
          2.68,
          10.97,
          5.1,
          4.25,
          3.12,
          1.7,
          3.83,
          5.51,
          3.26,
          12.08,
          36.02,
          2.09,
          15.64,
          11.92,
          82.38,
          59.39,
          4.1,
          5.16,
          4.3,
          1.39,
          6.09,
          2.36,
          22.05,
          22.05,
          2.08,
          89.25,
          3.29,
          5.22,
          8.95,
          5.54,
          12.39,
          11.02,
          103.99,
          3.99,
          3.07,
          6.18,
          1.16,
          5.2,
          3.78,
          16.34,
          8.82,
          58.75,
          6.2,
          7.55,
          2.9,
          12.97,
          11.02,
          5.04,
          18.9,
          11.55,
          25.15,
          12.39,
          5.25,
          5.46,
          1.5,
          11.51,
          8.47,
          4.26,
          8.4,
          5.94,
          6.14,
          45.52,
          6.09,
          1.67,
          12.6,
          3.96,
          7.53,
          2.78,
          14.7,
          2.94,
          6.1,
          1.84,
          6.67,
          3.83,
          68.25,
          3.68,
          1.73,
          6.82,
          4.3,
          7.55,
          4.62,
          2.62,
          7.47,
          1.7,
          2.92,
          5.51,
          7.72,
          3.31,
          3.41,
          7.51,
          2.05,
          1.16,
          1.87,
          27.3,
          7.47,
          106.04,
          96.1,
          18.99,
          12.32,
          2.37,
          5.12,
          2.31,
          1.87,
          1.61,
          7.5,
          6.6,
          6.15,
          9.93,
          2.37,
          2.15,
          2.57,
          2.1,
          5.78,
          5.14,
          9.87,
          3.49,
          2.59,
          4.95,
          2.85,
          6.08,
          4.2,
          1.68,
          5.25,
          4.41,
          1.66,
          0.37,
          0.12,
          4.37,
          1.58,
          1.93,
          7.95,
          9.4,
          47.25,
          1.53,
          2.04,
          12.08,
          10.22,
          26.32,
          14.21,
          30.24,
          13.39,
          15.75,
          23.1,
          27.62,
          20.43,
          14.42,
          34.65,
          23.36,
          9.4,
          15.7,
          5.46,
          5.93,
          12.23,
          37.75,
          17.85,
          16.28,
          27.82,
          17.85,
          6.1,
          27.3,
          12.08,
          1.68,
          9.03,
          4.72,
          20.48,
          11.29,
          4.13,
          32.55,
          6.26,
          28.56,
          52.5,
          50.4,
          1.66,
          6.82,
          0.99,
          1.02,
          89.47,
          8.4,
          8.4,
          10.5,
          1.44,
          6.14,
          18.85,
          18.85,
          34.23,
          2.05,
          1.42,
          9.7,
          6.57,
          8.01,
          7.73,
          8.84,
          3.76,
          4.99,
          6.27,
          1.76,
          14.52,
          1.76,
          2.4,
          4.37,
          1.47,
          6.3,
          1.04,
          1.04,
          1.38,
          1.76,
          20.95,
          8.56,
          5.41,
          5.51,
          17.32,
          2.58,
          5.9,
          5.67,
          2.58,
          1.27,
          2.47,
          3.94,
          4.67,
          2.68,
          1.52,
          1.89,
          2.68,
          6.14,
          40.32,
          8.82,
          1.42,
          2.49,
          3.97,
          2.97,
          1.54,
          2.31,
          4.61,
          6.71,
          1.31,
          8.5,
          6.88,
          2.78,
          6.09,
          2.62,
          6.14,
          4.46,
          3.96,
          23.62,
          38.64,
          24.15,
          1.73,
          7.61,
          1.43,
          46.2,
          56.18,
          6.77,
          39.9,
          19.42,
          6.09,
          13.12,
          23.1,
          176.52,
          15.42,
          59.16,
          27.88,
          63,
          132.3,
          78.75,
          71.92,
          3.46,
          2.78,
          5.36,
          1.03,
          6.4,
          4.02,
          5.56,
          13.23,
          12.81,
          5.67,
          3.99,
          918.75,
          10.96,
          4.11,
          10.91,
          5.51,
          6.58,
          3.15,
          4.2,
          9.98,
          14.82,
          8.08,
          3.95,
          149.35,
          1.51,
          0.98,
          1,
          4.37,
          3.59,
          1.38,
          7.3,
          7.3,
          7.3,
          8.92,
          862.05,
          1291.5,
          819,
          0.82,
          2.16,
          8.56,
          6.45,
          3.88,
          414.75,
          37.8,
          17.06,
          5.29,
          4.07,
          2.41,
          54,
          0.64,
          9.67,
          84.7,
          82.5,
          72.6,
          73.18,
          15.03,
          9.9,
          18.7,
          155.79,
          4.85,
          11.3,
          121,
          2.75,
          143,
          5.06,
          3.52,
          384.94,
          4.2,
          29.46,
          40.64,
          7.91,
          317.9,
          24.2,
          22.38,
          22.38,
          23.6,
          27.83,
          42.9,
          25.3,
          13.09,
          20.57,
          22.99,
          14.52,
          18.76,
          27.83,
          12.1,
          20.9,
          24.88,
          30.25,
          26.4,
          15.4,
          44,
          167.19,
          22,
          21.98,
          3.28,
          3.08,
          4839.94,
          1.92,
          11.69,
          2.75,
          26.87,
          5.32,
          3.39,
          5.83,
          8.8,
          6,
          6.98,
          0.02,
          11.26,
          16.5,
          1.35,
          3.48,
          0.94,
          8.25,
          0.86,
          0.86,
          0.94,
          0.88,
          9.64,
          1.48,
          0.94,
          0.88,
          0.86,
          1.69,
          10.94
         ]
        },
        {
         "marker": {
          "color": "red",
          "size": 10,
          "symbol": "x"
         },
         "mode": "markers",
         "name": "idx 5",
         "showlegend": false,
         "type": "scatter",
         "x": [
          5
         ],
         "y": [
          29.92
         ]
        },
        {
         "marker": {
          "color": "red",
          "size": 10,
          "symbol": "x"
         },
         "mode": "markers",
         "name": "idx 6",
         "showlegend": false,
         "type": "scatter",
         "x": [
          6
         ],
         "y": [
          24.15
         ]
        },
        {
         "marker": {
          "color": "red",
          "size": 10,
          "symbol": "x"
         },
         "mode": "markers",
         "name": "idx 14",
         "showlegend": false,
         "type": "scatter",
         "x": [
          14
         ],
         "y": [
          17.81
         ]
        },
        {
         "marker": {
          "color": "red",
          "size": 10,
          "symbol": "x"
         },
         "mode": "markers",
         "name": "idx 15",
         "showlegend": false,
         "type": "scatter",
         "x": [
          15
         ],
         "y": [
          173.25
         ]
        },
        {
         "marker": {
          "color": "red",
          "size": 10,
          "symbol": "x"
         },
         "mode": "markers",
         "name": "idx 24",
         "showlegend": false,
         "type": "scatter",
         "x": [
          24
         ],
         "y": [
          23.23
         ]
        },
        {
         "marker": {
          "color": "red",
          "size": 10,
          "symbol": "x"
         },
         "mode": "markers",
         "name": "idx 26",
         "showlegend": false,
         "type": "scatter",
         "x": [
          26
         ],
         "y": [
          49.35
         ]
        },
        {
         "marker": {
          "color": "red",
          "size": 10,
          "symbol": "x"
         },
         "mode": "markers",
         "name": "idx 39",
         "showlegend": false,
         "type": "scatter",
         "x": [
          39
         ],
         "y": [
          47.25
         ]
        },
        {
         "marker": {
          "color": "red",
          "size": 10,
          "symbol": "x"
         },
         "mode": "markers",
         "name": "idx 52",
         "showlegend": false,
         "type": "scatter",
         "x": [
          52
         ],
         "y": [
          59.43
         ]
        },
        {
         "marker": {
          "color": "red",
          "size": 10,
          "symbol": "x"
         },
         "mode": "markers",
         "name": "idx 60",
         "showlegend": false,
         "type": "scatter",
         "x": [
          60
         ],
         "y": [
          223.12
         ]
        },
        {
         "marker": {
          "color": "red",
          "size": 10,
          "symbol": "x"
         },
         "mode": "markers",
         "name": "idx 64",
         "showlegend": false,
         "type": "scatter",
         "x": [
          64
         ],
         "y": [
          21.89
         ]
        },
        {
         "marker": {
          "color": "red",
          "size": 10,
          "symbol": "x"
         },
         "mode": "markers",
         "name": "idx 65",
         "showlegend": false,
         "type": "scatter",
         "x": [
          65
         ],
         "y": [
          22.68
         ]
        },
        {
         "marker": {
          "color": "red",
          "size": 10,
          "symbol": "x"
         },
         "mode": "markers",
         "name": "idx 75",
         "showlegend": false,
         "type": "scatter",
         "x": [
          75
         ],
         "y": [
          23.2
         ]
        },
        {
         "marker": {
          "color": "red",
          "size": 10,
          "symbol": "x"
         },
         "mode": "markers",
         "name": "idx 78",
         "showlegend": false,
         "type": "scatter",
         "x": [
          78
         ],
         "y": [
          119.52
         ]
        },
        {
         "marker": {
          "color": "red",
          "size": 10,
          "symbol": "x"
         },
         "mode": "markers",
         "name": "idx 79",
         "showlegend": false,
         "type": "scatter",
         "x": [
          79
         ],
         "y": [
          90.48
         ]
        },
        {
         "marker": {
          "color": "red",
          "size": 10,
          "symbol": "x"
         },
         "mode": "markers",
         "name": "idx 80",
         "showlegend": false,
         "type": "scatter",
         "x": [
          80
         ],
         "y": [
          144.09
         ]
        },
        {
         "marker": {
          "color": "red",
          "size": 10,
          "symbol": "x"
         },
         "mode": "markers",
         "name": "idx 82",
         "showlegend": false,
         "type": "scatter",
         "x": [
          82
         ],
         "y": [
          118.41
         ]
        },
        {
         "marker": {
          "color": "red",
          "size": 10,
          "symbol": "x"
         },
         "mode": "markers",
         "name": "idx 86",
         "showlegend": false,
         "type": "scatter",
         "x": [
          86
         ],
         "y": [
          19.57
         ]
        },
        {
         "marker": {
          "color": "red",
          "size": 10,
          "symbol": "x"
         },
         "mode": "markers",
         "name": "idx 88",
         "showlegend": false,
         "type": "scatter",
         "x": [
          88
         ],
         "y": [
          1067.24
         ]
        },
        {
         "marker": {
          "color": "red",
          "size": 10,
          "symbol": "x"
         },
         "mode": "markers",
         "name": "idx 89",
         "showlegend": false,
         "type": "scatter",
         "x": [
          89
         ],
         "y": [
          19.41
         ]
        },
        {
         "marker": {
          "color": "red",
          "size": 10,
          "symbol": "x"
         },
         "mode": "markers",
         "name": "idx 91",
         "showlegend": false,
         "type": "scatter",
         "x": [
          91
         ],
         "y": [
          24.69
         ]
        },
        {
         "marker": {
          "color": "red",
          "size": 10,
          "symbol": "x"
         },
         "mode": "markers",
         "name": "idx 112",
         "showlegend": false,
         "type": "scatter",
         "x": [
          112
         ],
         "y": [
          23.65
         ]
        },
        {
         "marker": {
          "color": "red",
          "size": 10,
          "symbol": "x"
         },
         "mode": "markers",
         "name": "idx 115",
         "showlegend": false,
         "type": "scatter",
         "x": [
          115
         ],
         "y": [
          21
         ]
        },
        {
         "marker": {
          "color": "red",
          "size": 10,
          "symbol": "x"
         },
         "mode": "markers",
         "name": "idx 121",
         "showlegend": false,
         "type": "scatter",
         "x": [
          121
         ],
         "y": [
          17.88
         ]
        },
        {
         "marker": {
          "color": "red",
          "size": 10,
          "symbol": "x"
         },
         "mode": "markers",
         "name": "idx 127",
         "showlegend": false,
         "type": "scatter",
         "x": [
          127
         ],
         "y": [
          18.45
         ]
        },
        {
         "marker": {
          "color": "red",
          "size": 10,
          "symbol": "x"
         },
         "mode": "markers",
         "name": "idx 136",
         "showlegend": false,
         "type": "scatter",
         "x": [
          136
         ],
         "y": [
          24.15
         ]
        },
        {
         "marker": {
          "color": "red",
          "size": 10,
          "symbol": "x"
         },
         "mode": "markers",
         "name": "idx 166",
         "showlegend": false,
         "type": "scatter",
         "x": [
          166
         ],
         "y": [
          35.91
         ]
        },
        {
         "marker": {
          "color": "red",
          "size": 10,
          "symbol": "x"
         },
         "mode": "markers",
         "name": "idx 170",
         "showlegend": false,
         "type": "scatter",
         "x": [
          170
         ],
         "y": [
          20.9
         ]
        },
        {
         "marker": {
          "color": "red",
          "size": 10,
          "symbol": "x"
         },
         "mode": "markers",
         "name": "idx 174",
         "showlegend": false,
         "type": "scatter",
         "x": [
          174
         ],
         "y": [
          18.69
         ]
        },
        {
         "marker": {
          "color": "red",
          "size": 10,
          "symbol": "x"
         },
         "mode": "markers",
         "name": "idx 178",
         "showlegend": false,
         "type": "scatter",
         "x": [
          178
         ],
         "y": [
          26.28
         ]
        },
        {
         "marker": {
          "color": "red",
          "size": 10,
          "symbol": "x"
         },
         "mode": "markers",
         "name": "idx 183",
         "showlegend": false,
         "type": "scatter",
         "x": [
          183
         ],
         "y": [
          20.53
         ]
        },
        {
         "marker": {
          "color": "red",
          "size": 10,
          "symbol": "x"
         },
         "mode": "markers",
         "name": "idx 184",
         "showlegend": false,
         "type": "scatter",
         "x": [
          184
         ],
         "y": [
          31.69
         ]
        },
        {
         "marker": {
          "color": "red",
          "size": 10,
          "symbol": "x"
         },
         "mode": "markers",
         "name": "idx 186",
         "showlegend": false,
         "type": "scatter",
         "x": [
          186
         ],
         "y": [
          17.96
         ]
        },
        {
         "marker": {
          "color": "red",
          "size": 10,
          "symbol": "x"
         },
         "mode": "markers",
         "name": "idx 239",
         "showlegend": false,
         "type": "scatter",
         "x": [
          239
         ],
         "y": [
          33.6
         ]
        },
        {
         "marker": {
          "color": "red",
          "size": 10,
          "symbol": "x"
         },
         "mode": "markers",
         "name": "idx 240",
         "showlegend": false,
         "type": "scatter",
         "x": [
          240
         ],
         "y": [
          33.6
         ]
        },
        {
         "marker": {
          "color": "red",
          "size": 10,
          "symbol": "x"
         },
         "mode": "markers",
         "name": "idx 244",
         "showlegend": false,
         "type": "scatter",
         "x": [
          244
         ],
         "y": [
          47.25
         ]
        },
        {
         "marker": {
          "color": "red",
          "size": 10,
          "symbol": "x"
         },
         "mode": "markers",
         "name": "idx 252",
         "showlegend": false,
         "type": "scatter",
         "x": [
          252
         ],
         "y": [
          44.1
         ]
        },
        {
         "marker": {
          "color": "red",
          "size": 10,
          "symbol": "x"
         },
         "mode": "markers",
         "name": "idx 257",
         "showlegend": false,
         "type": "scatter",
         "x": [
          257
         ],
         "y": [
          25.2
         ]
        },
        {
         "marker": {
          "color": "red",
          "size": 10,
          "symbol": "x"
         },
         "mode": "markers",
         "name": "idx 259",
         "showlegend": false,
         "type": "scatter",
         "x": [
          259
         ],
         "y": [
          58.59
         ]
        },
        {
         "marker": {
          "color": "red",
          "size": 10,
          "symbol": "x"
         },
         "mode": "markers",
         "name": "idx 266",
         "showlegend": false,
         "type": "scatter",
         "x": [
          266
         ],
         "y": [
          1173.1
         ]
        },
        {
         "marker": {
          "color": "red",
          "size": 10,
          "symbol": "x"
         },
         "mode": "markers",
         "name": "idx 269",
         "showlegend": false,
         "type": "scatter",
         "x": [
          269
         ],
         "y": [
          18.9
         ]
        },
        {
         "marker": {
          "color": "red",
          "size": 10,
          "symbol": "x"
         },
         "mode": "markers",
         "name": "idx 271",
         "showlegend": false,
         "type": "scatter",
         "x": [
          271
         ],
         "y": [
          42
         ]
        },
        {
         "marker": {
          "color": "red",
          "size": 10,
          "symbol": "x"
         },
         "mode": "markers",
         "name": "idx 273",
         "showlegend": false,
         "type": "scatter",
         "x": [
          273
         ],
         "y": [
          18.36
         ]
        },
        {
         "marker": {
          "color": "red",
          "size": 10,
          "symbol": "x"
         },
         "mode": "markers",
         "name": "idx 274",
         "showlegend": false,
         "type": "scatter",
         "x": [
          274
         ],
         "y": [
          17.88
         ]
        },
        {
         "marker": {
          "color": "red",
          "size": 10,
          "symbol": "x"
         },
         "mode": "markers",
         "name": "idx 285",
         "showlegend": false,
         "type": "scatter",
         "x": [
          285
         ],
         "y": [
          29.4
         ]
        },
        {
         "marker": {
          "color": "red",
          "size": 10,
          "symbol": "x"
         },
         "mode": "markers",
         "name": "idx 288",
         "showlegend": false,
         "type": "scatter",
         "x": [
          288
         ],
         "y": [
          79.87
         ]
        },
        {
         "marker": {
          "color": "red",
          "size": 10,
          "symbol": "x"
         },
         "mode": "markers",
         "name": "idx 292",
         "showlegend": false,
         "type": "scatter",
         "x": [
          292
         ],
         "y": [
          22.84
         ]
        },
        {
         "marker": {
          "color": "red",
          "size": 10,
          "symbol": "x"
         },
         "mode": "markers",
         "name": "idx 293",
         "showlegend": false,
         "type": "scatter",
         "x": [
          293
         ],
         "y": [
          20.99
         ]
        },
        {
         "marker": {
          "color": "red",
          "size": 10,
          "symbol": "x"
         },
         "mode": "markers",
         "name": "idx 301",
         "showlegend": false,
         "type": "scatter",
         "x": [
          301
         ],
         "y": [
          19.54
         ]
        },
        {
         "marker": {
          "color": "red",
          "size": 10,
          "symbol": "x"
         },
         "mode": "markers",
         "name": "idx 313",
         "showlegend": false,
         "type": "scatter",
         "x": [
          313
         ],
         "y": [
          36.63
         ]
        },
        {
         "marker": {
          "color": "red",
          "size": 10,
          "symbol": "x"
         },
         "mode": "markers",
         "name": "idx 315",
         "showlegend": false,
         "type": "scatter",
         "x": [
          315
         ],
         "y": [
          21.5
         ]
        },
        {
         "marker": {
          "color": "red",
          "size": 10,
          "symbol": "x"
         },
         "mode": "markers",
         "name": "idx 316",
         "showlegend": false,
         "type": "scatter",
         "x": [
          316
         ],
         "y": [
          19.02
         ]
        },
        {
         "marker": {
          "color": "red",
          "size": 10,
          "symbol": "x"
         },
         "mode": "markers",
         "name": "idx 339",
         "showlegend": false,
         "type": "scatter",
         "x": [
          339
         ],
         "y": [
          5880
         ]
        },
        {
         "marker": {
          "color": "red",
          "size": 10,
          "symbol": "x"
         },
         "mode": "markers",
         "name": "idx 344",
         "showlegend": false,
         "type": "scatter",
         "x": [
          344
         ],
         "y": [
          1857.33
         ]
        },
        {
         "marker": {
          "color": "red",
          "size": 10,
          "symbol": "x"
         },
         "mode": "markers",
         "name": "idx 359",
         "showlegend": false,
         "type": "scatter",
         "x": [
          359
         ],
         "y": [
          3990
         ]
        },
        {
         "marker": {
          "color": "red",
          "size": 10,
          "symbol": "x"
         },
         "mode": "markers",
         "name": "idx 376",
         "showlegend": false,
         "type": "scatter",
         "x": [
          376
         ],
         "y": [
          36.75
         ]
        },
        {
         "marker": {
          "color": "red",
          "size": 10,
          "symbol": "x"
         },
         "mode": "markers",
         "name": "idx 377",
         "showlegend": false,
         "type": "scatter",
         "x": [
          377
         ],
         "y": [
          24.99
         ]
        },
        {
         "marker": {
          "color": "red",
          "size": 10,
          "symbol": "x"
         },
         "mode": "markers",
         "name": "idx 380",
         "showlegend": false,
         "type": "scatter",
         "x": [
          380
         ],
         "y": [
          46.55
         ]
        },
        {
         "marker": {
          "color": "red",
          "size": 10,
          "symbol": "x"
         },
         "mode": "markers",
         "name": "idx 384",
         "showlegend": false,
         "type": "scatter",
         "x": [
          384
         ],
         "y": [
          4882.5
         ]
        },
        {
         "marker": {
          "color": "red",
          "size": 10,
          "symbol": "x"
         },
         "mode": "markers",
         "name": "idx 385",
         "showlegend": false,
         "type": "scatter",
         "x": [
          385
         ],
         "y": [
          4410
         ]
        },
        {
         "marker": {
          "color": "red",
          "size": 10,
          "symbol": "x"
         },
         "mode": "markers",
         "name": "idx 387",
         "showlegend": false,
         "type": "scatter",
         "x": [
          387
         ],
         "y": [
          94.5
         ]
        },
        {
         "marker": {
          "color": "red",
          "size": 10,
          "symbol": "x"
         },
         "mode": "markers",
         "name": "idx 390",
         "showlegend": false,
         "type": "scatter",
         "x": [
          390
         ],
         "y": [
          80.85
         ]
        },
        {
         "marker": {
          "color": "red",
          "size": 10,
          "symbol": "x"
         },
         "mode": "markers",
         "name": "idx 401",
         "showlegend": false,
         "type": "scatter",
         "x": [
          401
         ],
         "y": [
          42
         ]
        },
        {
         "marker": {
          "color": "red",
          "size": 10,
          "symbol": "x"
         },
         "mode": "markers",
         "name": "idx 404",
         "showlegend": false,
         "type": "scatter",
         "x": [
          404
         ],
         "y": [
          21
         ]
        },
        {
         "marker": {
          "color": "red",
          "size": 10,
          "symbol": "x"
         },
         "mode": "markers",
         "name": "idx 437",
         "showlegend": false,
         "type": "scatter",
         "x": [
          437
         ],
         "y": [
          35.28
         ]
        },
        {
         "marker": {
          "color": "red",
          "size": 10,
          "symbol": "x"
         },
         "mode": "markers",
         "name": "idx 438",
         "showlegend": false,
         "type": "scatter",
         "x": [
          438
         ],
         "y": [
          55.12
         ]
        },
        {
         "marker": {
          "color": "red",
          "size": 10,
          "symbol": "x"
         },
         "mode": "markers",
         "name": "idx 452",
         "showlegend": false,
         "type": "scatter",
         "x": [
          452
         ],
         "y": [
          36.02
         ]
        },
        {
         "marker": {
          "color": "red",
          "size": 10,
          "symbol": "x"
         },
         "mode": "markers",
         "name": "idx 456",
         "showlegend": false,
         "type": "scatter",
         "x": [
          456
         ],
         "y": [
          82.38
         ]
        },
        {
         "marker": {
          "color": "red",
          "size": 10,
          "symbol": "x"
         },
         "mode": "markers",
         "name": "idx 457",
         "showlegend": false,
         "type": "scatter",
         "x": [
          457
         ],
         "y": [
          59.39
         ]
        },
        {
         "marker": {
          "color": "red",
          "size": 10,
          "symbol": "x"
         },
         "mode": "markers",
         "name": "idx 464",
         "showlegend": false,
         "type": "scatter",
         "x": [
          464
         ],
         "y": [
          22.05
         ]
        },
        {
         "marker": {
          "color": "red",
          "size": 10,
          "symbol": "x"
         },
         "mode": "markers",
         "name": "idx 465",
         "showlegend": false,
         "type": "scatter",
         "x": [
          465
         ],
         "y": [
          22.05
         ]
        },
        {
         "marker": {
          "color": "red",
          "size": 10,
          "symbol": "x"
         },
         "mode": "markers",
         "name": "idx 467",
         "showlegend": false,
         "type": "scatter",
         "x": [
          467
         ],
         "y": [
          89.25
         ]
        },
        {
         "marker": {
          "color": "red",
          "size": 10,
          "symbol": "x"
         },
         "mode": "markers",
         "name": "idx 474",
         "showlegend": false,
         "type": "scatter",
         "x": [
          474
         ],
         "y": [
          103.99
         ]
        },
        {
         "marker": {
          "color": "red",
          "size": 10,
          "symbol": "x"
         },
         "mode": "markers",
         "name": "idx 483",
         "showlegend": false,
         "type": "scatter",
         "x": [
          483
         ],
         "y": [
          58.75
         ]
        },
        {
         "marker": {
          "color": "red",
          "size": 10,
          "symbol": "x"
         },
         "mode": "markers",
         "name": "idx 490",
         "showlegend": false,
         "type": "scatter",
         "x": [
          490
         ],
         "y": [
          18.9
         ]
        },
        {
         "marker": {
          "color": "red",
          "size": 10,
          "symbol": "x"
         },
         "mode": "markers",
         "name": "idx 492",
         "showlegend": false,
         "type": "scatter",
         "x": [
          492
         ],
         "y": [
          25.15
         ]
        },
        {
         "marker": {
          "color": "red",
          "size": 10,
          "symbol": "x"
         },
         "mode": "markers",
         "name": "idx 503",
         "showlegend": false,
         "type": "scatter",
         "x": [
          503
         ],
         "y": [
          45.52
         ]
        },
        {
         "marker": {
          "color": "red",
          "size": 10,
          "symbol": "x"
         },
         "mode": "markers",
         "name": "idx 516",
         "showlegend": false,
         "type": "scatter",
         "x": [
          516
         ],
         "y": [
          68.25
         ]
        },
        {
         "marker": {
          "color": "red",
          "size": 10,
          "symbol": "x"
         },
         "mode": "markers",
         "name": "idx 535",
         "showlegend": false,
         "type": "scatter",
         "x": [
          535
         ],
         "y": [
          27.3
         ]
        },
        {
         "marker": {
          "color": "red",
          "size": 10,
          "symbol": "x"
         },
         "mode": "markers",
         "name": "idx 537",
         "showlegend": false,
         "type": "scatter",
         "x": [
          537
         ],
         "y": [
          106.04
         ]
        },
        {
         "marker": {
          "color": "red",
          "size": 10,
          "symbol": "x"
         },
         "mode": "markers",
         "name": "idx 538",
         "showlegend": false,
         "type": "scatter",
         "x": [
          538
         ],
         "y": [
          96.1
         ]
        },
        {
         "marker": {
          "color": "red",
          "size": 10,
          "symbol": "x"
         },
         "mode": "markers",
         "name": "idx 539",
         "showlegend": false,
         "type": "scatter",
         "x": [
          539
         ],
         "y": [
          18.99
         ]
        },
        {
         "marker": {
          "color": "red",
          "size": 10,
          "symbol": "x"
         },
         "mode": "markers",
         "name": "idx 574",
         "showlegend": false,
         "type": "scatter",
         "x": [
          574
         ],
         "y": [
          47.25
         ]
        },
        {
         "marker": {
          "color": "red",
          "size": 10,
          "symbol": "x"
         },
         "mode": "markers",
         "name": "idx 579",
         "showlegend": false,
         "type": "scatter",
         "x": [
          579
         ],
         "y": [
          26.32
         ]
        },
        {
         "marker": {
          "color": "red",
          "size": 10,
          "symbol": "x"
         },
         "mode": "markers",
         "name": "idx 581",
         "showlegend": false,
         "type": "scatter",
         "x": [
          581
         ],
         "y": [
          30.24
         ]
        },
        {
         "marker": {
          "color": "red",
          "size": 10,
          "symbol": "x"
         },
         "mode": "markers",
         "name": "idx 584",
         "showlegend": false,
         "type": "scatter",
         "x": [
          584
         ],
         "y": [
          23.1
         ]
        },
        {
         "marker": {
          "color": "red",
          "size": 10,
          "symbol": "x"
         },
         "mode": "markers",
         "name": "idx 585",
         "showlegend": false,
         "type": "scatter",
         "x": [
          585
         ],
         "y": [
          27.62
         ]
        },
        {
         "marker": {
          "color": "red",
          "size": 10,
          "symbol": "x"
         },
         "mode": "markers",
         "name": "idx 586",
         "showlegend": false,
         "type": "scatter",
         "x": [
          586
         ],
         "y": [
          20.43
         ]
        },
        {
         "marker": {
          "color": "red",
          "size": 10,
          "symbol": "x"
         },
         "mode": "markers",
         "name": "idx 588",
         "showlegend": false,
         "type": "scatter",
         "x": [
          588
         ],
         "y": [
          34.65
         ]
        },
        {
         "marker": {
          "color": "red",
          "size": 10,
          "symbol": "x"
         },
         "mode": "markers",
         "name": "idx 589",
         "showlegend": false,
         "type": "scatter",
         "x": [
          589
         ],
         "y": [
          23.36
         ]
        },
        {
         "marker": {
          "color": "red",
          "size": 10,
          "symbol": "x"
         },
         "mode": "markers",
         "name": "idx 595",
         "showlegend": false,
         "type": "scatter",
         "x": [
          595
         ],
         "y": [
          37.75
         ]
        },
        {
         "marker": {
          "color": "red",
          "size": 10,
          "symbol": "x"
         },
         "mode": "markers",
         "name": "idx 596",
         "showlegend": false,
         "type": "scatter",
         "x": [
          596
         ],
         "y": [
          17.85
         ]
        },
        {
         "marker": {
          "color": "red",
          "size": 10,
          "symbol": "x"
         },
         "mode": "markers",
         "name": "idx 598",
         "showlegend": false,
         "type": "scatter",
         "x": [
          598
         ],
         "y": [
          27.82
         ]
        },
        {
         "marker": {
          "color": "red",
          "size": 10,
          "symbol": "x"
         },
         "mode": "markers",
         "name": "idx 599",
         "showlegend": false,
         "type": "scatter",
         "x": [
          599
         ],
         "y": [
          17.85
         ]
        },
        {
         "marker": {
          "color": "red",
          "size": 10,
          "symbol": "x"
         },
         "mode": "markers",
         "name": "idx 601",
         "showlegend": false,
         "type": "scatter",
         "x": [
          601
         ],
         "y": [
          27.3
         ]
        },
        {
         "marker": {
          "color": "red",
          "size": 10,
          "symbol": "x"
         },
         "mode": "markers",
         "name": "idx 606",
         "showlegend": false,
         "type": "scatter",
         "x": [
          606
         ],
         "y": [
          20.48
         ]
        },
        {
         "marker": {
          "color": "red",
          "size": 10,
          "symbol": "x"
         },
         "mode": "markers",
         "name": "idx 609",
         "showlegend": false,
         "type": "scatter",
         "x": [
          609
         ],
         "y": [
          32.55
         ]
        },
        {
         "marker": {
          "color": "red",
          "size": 10,
          "symbol": "x"
         },
         "mode": "markers",
         "name": "idx 611",
         "showlegend": false,
         "type": "scatter",
         "x": [
          611
         ],
         "y": [
          28.56
         ]
        },
        {
         "marker": {
          "color": "red",
          "size": 10,
          "symbol": "x"
         },
         "mode": "markers",
         "name": "idx 612",
         "showlegend": false,
         "type": "scatter",
         "x": [
          612
         ],
         "y": [
          52.5
         ]
        },
        {
         "marker": {
          "color": "red",
          "size": 10,
          "symbol": "x"
         },
         "mode": "markers",
         "name": "idx 613",
         "showlegend": false,
         "type": "scatter",
         "x": [
          613
         ],
         "y": [
          50.4
         ]
        },
        {
         "marker": {
          "color": "red",
          "size": 10,
          "symbol": "x"
         },
         "mode": "markers",
         "name": "idx 618",
         "showlegend": false,
         "type": "scatter",
         "x": [
          618
         ],
         "y": [
          89.47
         ]
        },
        {
         "marker": {
          "color": "red",
          "size": 10,
          "symbol": "x"
         },
         "mode": "markers",
         "name": "idx 624",
         "showlegend": false,
         "type": "scatter",
         "x": [
          624
         ],
         "y": [
          18.85
         ]
        },
        {
         "marker": {
          "color": "red",
          "size": 10,
          "symbol": "x"
         },
         "mode": "markers",
         "name": "idx 625",
         "showlegend": false,
         "type": "scatter",
         "x": [
          625
         ],
         "y": [
          18.85
         ]
        },
        {
         "marker": {
          "color": "red",
          "size": 10,
          "symbol": "x"
         },
         "mode": "markers",
         "name": "idx 626",
         "showlegend": false,
         "type": "scatter",
         "x": [
          626
         ],
         "y": [
          34.23
         ]
        },
        {
         "marker": {
          "color": "red",
          "size": 10,
          "symbol": "x"
         },
         "mode": "markers",
         "name": "idx 648",
         "showlegend": false,
         "type": "scatter",
         "x": [
          648
         ],
         "y": [
          20.95
         ]
        },
        {
         "marker": {
          "color": "red",
          "size": 10,
          "symbol": "x"
         },
         "mode": "markers",
         "name": "idx 666",
         "showlegend": false,
         "type": "scatter",
         "x": [
          666
         ],
         "y": [
          40.32
         ]
        },
        {
         "marker": {
          "color": "red",
          "size": 10,
          "symbol": "x"
         },
         "mode": "markers",
         "name": "idx 685",
         "showlegend": false,
         "type": "scatter",
         "x": [
          685
         ],
         "y": [
          23.62
         ]
        },
        {
         "marker": {
          "color": "red",
          "size": 10,
          "symbol": "x"
         },
         "mode": "markers",
         "name": "idx 686",
         "showlegend": false,
         "type": "scatter",
         "x": [
          686
         ],
         "y": [
          38.64
         ]
        },
        {
         "marker": {
          "color": "red",
          "size": 10,
          "symbol": "x"
         },
         "mode": "markers",
         "name": "idx 687",
         "showlegend": false,
         "type": "scatter",
         "x": [
          687
         ],
         "y": [
          24.15
         ]
        },
        {
         "marker": {
          "color": "red",
          "size": 10,
          "symbol": "x"
         },
         "mode": "markers",
         "name": "idx 691",
         "showlegend": false,
         "type": "scatter",
         "x": [
          691
         ],
         "y": [
          46.2
         ]
        },
        {
         "marker": {
          "color": "red",
          "size": 10,
          "symbol": "x"
         },
         "mode": "markers",
         "name": "idx 692",
         "showlegend": false,
         "type": "scatter",
         "x": [
          692
         ],
         "y": [
          56.18
         ]
        },
        {
         "marker": {
          "color": "red",
          "size": 10,
          "symbol": "x"
         },
         "mode": "markers",
         "name": "idx 694",
         "showlegend": false,
         "type": "scatter",
         "x": [
          694
         ],
         "y": [
          39.9
         ]
        },
        {
         "marker": {
          "color": "red",
          "size": 10,
          "symbol": "x"
         },
         "mode": "markers",
         "name": "idx 695",
         "showlegend": false,
         "type": "scatter",
         "x": [
          695
         ],
         "y": [
          19.42
         ]
        },
        {
         "marker": {
          "color": "red",
          "size": 10,
          "symbol": "x"
         },
         "mode": "markers",
         "name": "idx 698",
         "showlegend": false,
         "type": "scatter",
         "x": [
          698
         ],
         "y": [
          23.1
         ]
        },
        {
         "marker": {
          "color": "red",
          "size": 10,
          "symbol": "x"
         },
         "mode": "markers",
         "name": "idx 699",
         "showlegend": false,
         "type": "scatter",
         "x": [
          699
         ],
         "y": [
          176.52
         ]
        },
        {
         "marker": {
          "color": "red",
          "size": 10,
          "symbol": "x"
         },
         "mode": "markers",
         "name": "idx 701",
         "showlegend": false,
         "type": "scatter",
         "x": [
          701
         ],
         "y": [
          59.16
         ]
        },
        {
         "marker": {
          "color": "red",
          "size": 10,
          "symbol": "x"
         },
         "mode": "markers",
         "name": "idx 702",
         "showlegend": false,
         "type": "scatter",
         "x": [
          702
         ],
         "y": [
          27.88
         ]
        },
        {
         "marker": {
          "color": "red",
          "size": 10,
          "symbol": "x"
         },
         "mode": "markers",
         "name": "idx 703",
         "showlegend": false,
         "type": "scatter",
         "x": [
          703
         ],
         "y": [
          63
         ]
        },
        {
         "marker": {
          "color": "red",
          "size": 10,
          "symbol": "x"
         },
         "mode": "markers",
         "name": "idx 704",
         "showlegend": false,
         "type": "scatter",
         "x": [
          704
         ],
         "y": [
          132.3
         ]
        },
        {
         "marker": {
          "color": "red",
          "size": 10,
          "symbol": "x"
         },
         "mode": "markers",
         "name": "idx 705",
         "showlegend": false,
         "type": "scatter",
         "x": [
          705
         ],
         "y": [
          78.75
         ]
        },
        {
         "marker": {
          "color": "red",
          "size": 10,
          "symbol": "x"
         },
         "mode": "markers",
         "name": "idx 706",
         "showlegend": false,
         "type": "scatter",
         "x": [
          706
         ],
         "y": [
          71.92
         ]
        },
        {
         "marker": {
          "color": "red",
          "size": 10,
          "symbol": "x"
         },
         "mode": "markers",
         "name": "idx 718",
         "showlegend": false,
         "type": "scatter",
         "x": [
          718
         ],
         "y": [
          918.75
         ]
        },
        {
         "marker": {
          "color": "red",
          "size": 10,
          "symbol": "x"
         },
         "mode": "markers",
         "name": "idx 730",
         "showlegend": false,
         "type": "scatter",
         "x": [
          730
         ],
         "y": [
          149.35
         ]
        },
        {
         "marker": {
          "color": "red",
          "size": 10,
          "symbol": "x"
         },
         "mode": "markers",
         "name": "idx 741",
         "showlegend": false,
         "type": "scatter",
         "x": [
          741
         ],
         "y": [
          862.05
         ]
        },
        {
         "marker": {
          "color": "red",
          "size": 10,
          "symbol": "x"
         },
         "mode": "markers",
         "name": "idx 742",
         "showlegend": false,
         "type": "scatter",
         "x": [
          742
         ],
         "y": [
          1291.5
         ]
        },
        {
         "marker": {
          "color": "red",
          "size": 10,
          "symbol": "x"
         },
         "mode": "markers",
         "name": "idx 743",
         "showlegend": false,
         "type": "scatter",
         "x": [
          743
         ],
         "y": [
          819
         ]
        },
        {
         "marker": {
          "color": "red",
          "size": 10,
          "symbol": "x"
         },
         "mode": "markers",
         "name": "idx 749",
         "showlegend": false,
         "type": "scatter",
         "x": [
          749
         ],
         "y": [
          414.75
         ]
        },
        {
         "marker": {
          "color": "red",
          "size": 10,
          "symbol": "x"
         },
         "mode": "markers",
         "name": "idx 750",
         "showlegend": false,
         "type": "scatter",
         "x": [
          750
         ],
         "y": [
          37.8
         ]
        },
        {
         "marker": {
          "color": "red",
          "size": 10,
          "symbol": "x"
         },
         "mode": "markers",
         "name": "idx 755",
         "showlegend": false,
         "type": "scatter",
         "x": [
          755
         ],
         "y": [
          54
         ]
        },
        {
         "marker": {
          "color": "red",
          "size": 10,
          "symbol": "x"
         },
         "mode": "markers",
         "name": "idx 758",
         "showlegend": false,
         "type": "scatter",
         "x": [
          758
         ],
         "y": [
          84.7
         ]
        },
        {
         "marker": {
          "color": "red",
          "size": 10,
          "symbol": "x"
         },
         "mode": "markers",
         "name": "idx 759",
         "showlegend": false,
         "type": "scatter",
         "x": [
          759
         ],
         "y": [
          82.5
         ]
        },
        {
         "marker": {
          "color": "red",
          "size": 10,
          "symbol": "x"
         },
         "mode": "markers",
         "name": "idx 760",
         "showlegend": false,
         "type": "scatter",
         "x": [
          760
         ],
         "y": [
          72.6
         ]
        },
        {
         "marker": {
          "color": "red",
          "size": 10,
          "symbol": "x"
         },
         "mode": "markers",
         "name": "idx 761",
         "showlegend": false,
         "type": "scatter",
         "x": [
          761
         ],
         "y": [
          73.18
         ]
        },
        {
         "marker": {
          "color": "red",
          "size": 10,
          "symbol": "x"
         },
         "mode": "markers",
         "name": "idx 764",
         "showlegend": false,
         "type": "scatter",
         "x": [
          764
         ],
         "y": [
          18.7
         ]
        },
        {
         "marker": {
          "color": "red",
          "size": 10,
          "symbol": "x"
         },
         "mode": "markers",
         "name": "idx 765",
         "showlegend": false,
         "type": "scatter",
         "x": [
          765
         ],
         "y": [
          155.79
         ]
        },
        {
         "marker": {
          "color": "red",
          "size": 10,
          "symbol": "x"
         },
         "mode": "markers",
         "name": "idx 768",
         "showlegend": false,
         "type": "scatter",
         "x": [
          768
         ],
         "y": [
          121
         ]
        },
        {
         "marker": {
          "color": "red",
          "size": 10,
          "symbol": "x"
         },
         "mode": "markers",
         "name": "idx 770",
         "showlegend": false,
         "type": "scatter",
         "x": [
          770
         ],
         "y": [
          143
         ]
        },
        {
         "marker": {
          "color": "red",
          "size": 10,
          "symbol": "x"
         },
         "mode": "markers",
         "name": "idx 773",
         "showlegend": false,
         "type": "scatter",
         "x": [
          773
         ],
         "y": [
          384.94
         ]
        },
        {
         "marker": {
          "color": "red",
          "size": 10,
          "symbol": "x"
         },
         "mode": "markers",
         "name": "idx 775",
         "showlegend": false,
         "type": "scatter",
         "x": [
          775
         ],
         "y": [
          29.46
         ]
        },
        {
         "marker": {
          "color": "red",
          "size": 10,
          "symbol": "x"
         },
         "mode": "markers",
         "name": "idx 776",
         "showlegend": false,
         "type": "scatter",
         "x": [
          776
         ],
         "y": [
          40.64
         ]
        },
        {
         "marker": {
          "color": "red",
          "size": 10,
          "symbol": "x"
         },
         "mode": "markers",
         "name": "idx 778",
         "showlegend": false,
         "type": "scatter",
         "x": [
          778
         ],
         "y": [
          317.9
         ]
        },
        {
         "marker": {
          "color": "red",
          "size": 10,
          "symbol": "x"
         },
         "mode": "markers",
         "name": "idx 779",
         "showlegend": false,
         "type": "scatter",
         "x": [
          779
         ],
         "y": [
          24.2
         ]
        },
        {
         "marker": {
          "color": "red",
          "size": 10,
          "symbol": "x"
         },
         "mode": "markers",
         "name": "idx 780",
         "showlegend": false,
         "type": "scatter",
         "x": [
          780
         ],
         "y": [
          22.38
         ]
        },
        {
         "marker": {
          "color": "red",
          "size": 10,
          "symbol": "x"
         },
         "mode": "markers",
         "name": "idx 781",
         "showlegend": false,
         "type": "scatter",
         "x": [
          781
         ],
         "y": [
          22.38
         ]
        },
        {
         "marker": {
          "color": "red",
          "size": 10,
          "symbol": "x"
         },
         "mode": "markers",
         "name": "idx 782",
         "showlegend": false,
         "type": "scatter",
         "x": [
          782
         ],
         "y": [
          23.6
         ]
        },
        {
         "marker": {
          "color": "red",
          "size": 10,
          "symbol": "x"
         },
         "mode": "markers",
         "name": "idx 783",
         "showlegend": false,
         "type": "scatter",
         "x": [
          783
         ],
         "y": [
          27.83
         ]
        },
        {
         "marker": {
          "color": "red",
          "size": 10,
          "symbol": "x"
         },
         "mode": "markers",
         "name": "idx 784",
         "showlegend": false,
         "type": "scatter",
         "x": [
          784
         ],
         "y": [
          42.9
         ]
        },
        {
         "marker": {
          "color": "red",
          "size": 10,
          "symbol": "x"
         },
         "mode": "markers",
         "name": "idx 785",
         "showlegend": false,
         "type": "scatter",
         "x": [
          785
         ],
         "y": [
          25.3
         ]
        },
        {
         "marker": {
          "color": "red",
          "size": 10,
          "symbol": "x"
         },
         "mode": "markers",
         "name": "idx 787",
         "showlegend": false,
         "type": "scatter",
         "x": [
          787
         ],
         "y": [
          20.57
         ]
        },
        {
         "marker": {
          "color": "red",
          "size": 10,
          "symbol": "x"
         },
         "mode": "markers",
         "name": "idx 788",
         "showlegend": false,
         "type": "scatter",
         "x": [
          788
         ],
         "y": [
          22.99
         ]
        },
        {
         "marker": {
          "color": "red",
          "size": 10,
          "symbol": "x"
         },
         "mode": "markers",
         "name": "idx 790",
         "showlegend": false,
         "type": "scatter",
         "x": [
          790
         ],
         "y": [
          18.76
         ]
        },
        {
         "marker": {
          "color": "red",
          "size": 10,
          "symbol": "x"
         },
         "mode": "markers",
         "name": "idx 791",
         "showlegend": false,
         "type": "scatter",
         "x": [
          791
         ],
         "y": [
          27.83
         ]
        },
        {
         "marker": {
          "color": "red",
          "size": 10,
          "symbol": "x"
         },
         "mode": "markers",
         "name": "idx 793",
         "showlegend": false,
         "type": "scatter",
         "x": [
          793
         ],
         "y": [
          20.9
         ]
        },
        {
         "marker": {
          "color": "red",
          "size": 10,
          "symbol": "x"
         },
         "mode": "markers",
         "name": "idx 794",
         "showlegend": false,
         "type": "scatter",
         "x": [
          794
         ],
         "y": [
          24.88
         ]
        },
        {
         "marker": {
          "color": "red",
          "size": 10,
          "symbol": "x"
         },
         "mode": "markers",
         "name": "idx 795",
         "showlegend": false,
         "type": "scatter",
         "x": [
          795
         ],
         "y": [
          30.25
         ]
        },
        {
         "marker": {
          "color": "red",
          "size": 10,
          "symbol": "x"
         },
         "mode": "markers",
         "name": "idx 796",
         "showlegend": false,
         "type": "scatter",
         "x": [
          796
         ],
         "y": [
          26.4
         ]
        },
        {
         "marker": {
          "color": "red",
          "size": 10,
          "symbol": "x"
         },
         "mode": "markers",
         "name": "idx 798",
         "showlegend": false,
         "type": "scatter",
         "x": [
          798
         ],
         "y": [
          44
         ]
        },
        {
         "marker": {
          "color": "red",
          "size": 10,
          "symbol": "x"
         },
         "mode": "markers",
         "name": "idx 799",
         "showlegend": false,
         "type": "scatter",
         "x": [
          799
         ],
         "y": [
          167.19
         ]
        },
        {
         "marker": {
          "color": "red",
          "size": 10,
          "symbol": "x"
         },
         "mode": "markers",
         "name": "idx 800",
         "showlegend": false,
         "type": "scatter",
         "x": [
          800
         ],
         "y": [
          22
         ]
        },
        {
         "marker": {
          "color": "red",
          "size": 10,
          "symbol": "x"
         },
         "mode": "markers",
         "name": "idx 801",
         "showlegend": false,
         "type": "scatter",
         "x": [
          801
         ],
         "y": [
          21.98
         ]
        },
        {
         "marker": {
          "color": "red",
          "size": 10,
          "symbol": "x"
         },
         "mode": "markers",
         "name": "idx 804",
         "showlegend": false,
         "type": "scatter",
         "x": [
          804
         ],
         "y": [
          4839.94
         ]
        },
        {
         "marker": {
          "color": "red",
          "size": 10,
          "symbol": "x"
         },
         "mode": "markers",
         "name": "idx 808",
         "showlegend": false,
         "type": "scatter",
         "x": [
          808
         ],
         "y": [
          26.87
         ]
        }
       ],
       "layout": {
        "autosize": true,
        "legend": {
         "bgcolor": "#151516",
         "font": {
          "color": "#D9D9D9"
         }
        },
        "paper_bgcolor": "#151516",
        "plot_bgcolor": "#151516",
        "template": {
         "data": {
          "bar": [
           {
            "error_x": {
             "color": "#2a3f5f"
            },
            "error_y": {
             "color": "#2a3f5f"
            },
            "marker": {
             "line": {
              "color": "#E5ECF6",
              "width": 0.5
             },
             "pattern": {
              "fillmode": "overlay",
              "size": 10,
              "solidity": 0.2
             }
            },
            "type": "bar"
           }
          ],
          "barpolar": [
           {
            "marker": {
             "line": {
              "color": "#E5ECF6",
              "width": 0.5
             },
             "pattern": {
              "fillmode": "overlay",
              "size": 10,
              "solidity": 0.2
             }
            },
            "type": "barpolar"
           }
          ],
          "carpet": [
           {
            "aaxis": {
             "endlinecolor": "#2a3f5f",
             "gridcolor": "white",
             "linecolor": "white",
             "minorgridcolor": "white",
             "startlinecolor": "#2a3f5f"
            },
            "baxis": {
             "endlinecolor": "#2a3f5f",
             "gridcolor": "white",
             "linecolor": "white",
             "minorgridcolor": "white",
             "startlinecolor": "#2a3f5f"
            },
            "type": "carpet"
           }
          ],
          "choropleth": [
           {
            "colorbar": {
             "outlinewidth": 0,
             "ticks": ""
            },
            "type": "choropleth"
           }
          ],
          "contour": [
           {
            "colorbar": {
             "outlinewidth": 0,
             "ticks": ""
            },
            "colorscale": [
             [
              0,
              "#0d0887"
             ],
             [
              0.1111111111111111,
              "#46039f"
             ],
             [
              0.2222222222222222,
              "#7201a8"
             ],
             [
              0.3333333333333333,
              "#9c179e"
             ],
             [
              0.4444444444444444,
              "#bd3786"
             ],
             [
              0.5555555555555556,
              "#d8576b"
             ],
             [
              0.6666666666666666,
              "#ed7953"
             ],
             [
              0.7777777777777778,
              "#fb9f3a"
             ],
             [
              0.8888888888888888,
              "#fdca26"
             ],
             [
              1,
              "#f0f921"
             ]
            ],
            "type": "contour"
           }
          ],
          "contourcarpet": [
           {
            "colorbar": {
             "outlinewidth": 0,
             "ticks": ""
            },
            "type": "contourcarpet"
           }
          ],
          "heatmap": [
           {
            "colorbar": {
             "outlinewidth": 0,
             "ticks": ""
            },
            "colorscale": [
             [
              0,
              "#0d0887"
             ],
             [
              0.1111111111111111,
              "#46039f"
             ],
             [
              0.2222222222222222,
              "#7201a8"
             ],
             [
              0.3333333333333333,
              "#9c179e"
             ],
             [
              0.4444444444444444,
              "#bd3786"
             ],
             [
              0.5555555555555556,
              "#d8576b"
             ],
             [
              0.6666666666666666,
              "#ed7953"
             ],
             [
              0.7777777777777778,
              "#fb9f3a"
             ],
             [
              0.8888888888888888,
              "#fdca26"
             ],
             [
              1,
              "#f0f921"
             ]
            ],
            "type": "heatmap"
           }
          ],
          "heatmapgl": [
           {
            "colorbar": {
             "outlinewidth": 0,
             "ticks": ""
            },
            "colorscale": [
             [
              0,
              "#0d0887"
             ],
             [
              0.1111111111111111,
              "#46039f"
             ],
             [
              0.2222222222222222,
              "#7201a8"
             ],
             [
              0.3333333333333333,
              "#9c179e"
             ],
             [
              0.4444444444444444,
              "#bd3786"
             ],
             [
              0.5555555555555556,
              "#d8576b"
             ],
             [
              0.6666666666666666,
              "#ed7953"
             ],
             [
              0.7777777777777778,
              "#fb9f3a"
             ],
             [
              0.8888888888888888,
              "#fdca26"
             ],
             [
              1,
              "#f0f921"
             ]
            ],
            "type": "heatmapgl"
           }
          ],
          "histogram": [
           {
            "marker": {
             "pattern": {
              "fillmode": "overlay",
              "size": 10,
              "solidity": 0.2
             }
            },
            "type": "histogram"
           }
          ],
          "histogram2d": [
           {
            "colorbar": {
             "outlinewidth": 0,
             "ticks": ""
            },
            "colorscale": [
             [
              0,
              "#0d0887"
             ],
             [
              0.1111111111111111,
              "#46039f"
             ],
             [
              0.2222222222222222,
              "#7201a8"
             ],
             [
              0.3333333333333333,
              "#9c179e"
             ],
             [
              0.4444444444444444,
              "#bd3786"
             ],
             [
              0.5555555555555556,
              "#d8576b"
             ],
             [
              0.6666666666666666,
              "#ed7953"
             ],
             [
              0.7777777777777778,
              "#fb9f3a"
             ],
             [
              0.8888888888888888,
              "#fdca26"
             ],
             [
              1,
              "#f0f921"
             ]
            ],
            "type": "histogram2d"
           }
          ],
          "histogram2dcontour": [
           {
            "colorbar": {
             "outlinewidth": 0,
             "ticks": ""
            },
            "colorscale": [
             [
              0,
              "#0d0887"
             ],
             [
              0.1111111111111111,
              "#46039f"
             ],
             [
              0.2222222222222222,
              "#7201a8"
             ],
             [
              0.3333333333333333,
              "#9c179e"
             ],
             [
              0.4444444444444444,
              "#bd3786"
             ],
             [
              0.5555555555555556,
              "#d8576b"
             ],
             [
              0.6666666666666666,
              "#ed7953"
             ],
             [
              0.7777777777777778,
              "#fb9f3a"
             ],
             [
              0.8888888888888888,
              "#fdca26"
             ],
             [
              1,
              "#f0f921"
             ]
            ],
            "type": "histogram2dcontour"
           }
          ],
          "mesh3d": [
           {
            "colorbar": {
             "outlinewidth": 0,
             "ticks": ""
            },
            "type": "mesh3d"
           }
          ],
          "parcoords": [
           {
            "line": {
             "colorbar": {
              "outlinewidth": 0,
              "ticks": ""
             }
            },
            "type": "parcoords"
           }
          ],
          "pie": [
           {
            "automargin": true,
            "type": "pie"
           }
          ],
          "scatter": [
           {
            "fillpattern": {
             "fillmode": "overlay",
             "size": 10,
             "solidity": 0.2
            },
            "type": "scatter"
           }
          ],
          "scatter3d": [
           {
            "line": {
             "colorbar": {
              "outlinewidth": 0,
              "ticks": ""
             }
            },
            "marker": {
             "colorbar": {
              "outlinewidth": 0,
              "ticks": ""
             }
            },
            "type": "scatter3d"
           }
          ],
          "scattercarpet": [
           {
            "marker": {
             "colorbar": {
              "outlinewidth": 0,
              "ticks": ""
             }
            },
            "type": "scattercarpet"
           }
          ],
          "scattergeo": [
           {
            "marker": {
             "colorbar": {
              "outlinewidth": 0,
              "ticks": ""
             }
            },
            "type": "scattergeo"
           }
          ],
          "scattergl": [
           {
            "marker": {
             "colorbar": {
              "outlinewidth": 0,
              "ticks": ""
             }
            },
            "type": "scattergl"
           }
          ],
          "scattermapbox": [
           {
            "marker": {
             "colorbar": {
              "outlinewidth": 0,
              "ticks": ""
             }
            },
            "type": "scattermapbox"
           }
          ],
          "scatterpolar": [
           {
            "marker": {
             "colorbar": {
              "outlinewidth": 0,
              "ticks": ""
             }
            },
            "type": "scatterpolar"
           }
          ],
          "scatterpolargl": [
           {
            "marker": {
             "colorbar": {
              "outlinewidth": 0,
              "ticks": ""
             }
            },
            "type": "scatterpolargl"
           }
          ],
          "scatterternary": [
           {
            "marker": {
             "colorbar": {
              "outlinewidth": 0,
              "ticks": ""
             }
            },
            "type": "scatterternary"
           }
          ],
          "surface": [
           {
            "colorbar": {
             "outlinewidth": 0,
             "ticks": ""
            },
            "colorscale": [
             [
              0,
              "#0d0887"
             ],
             [
              0.1111111111111111,
              "#46039f"
             ],
             [
              0.2222222222222222,
              "#7201a8"
             ],
             [
              0.3333333333333333,
              "#9c179e"
             ],
             [
              0.4444444444444444,
              "#bd3786"
             ],
             [
              0.5555555555555556,
              "#d8576b"
             ],
             [
              0.6666666666666666,
              "#ed7953"
             ],
             [
              0.7777777777777778,
              "#fb9f3a"
             ],
             [
              0.8888888888888888,
              "#fdca26"
             ],
             [
              1,
              "#f0f921"
             ]
            ],
            "type": "surface"
           }
          ],
          "table": [
           {
            "cells": {
             "fill": {
              "color": "#EBF0F8"
             },
             "line": {
              "color": "white"
             }
            },
            "header": {
             "fill": {
              "color": "#C8D4E3"
             },
             "line": {
              "color": "white"
             }
            },
            "type": "table"
           }
          ]
         },
         "layout": {
          "annotationdefaults": {
           "arrowcolor": "#2a3f5f",
           "arrowhead": 0,
           "arrowwidth": 1
          },
          "autotypenumbers": "strict",
          "coloraxis": {
           "colorbar": {
            "outlinewidth": 0,
            "ticks": ""
           }
          },
          "colorscale": {
           "diverging": [
            [
             0,
             "#8e0152"
            ],
            [
             0.1,
             "#c51b7d"
            ],
            [
             0.2,
             "#de77ae"
            ],
            [
             0.3,
             "#f1b6da"
            ],
            [
             0.4,
             "#fde0ef"
            ],
            [
             0.5,
             "#f7f7f7"
            ],
            [
             0.6,
             "#e6f5d0"
            ],
            [
             0.7,
             "#b8e186"
            ],
            [
             0.8,
             "#7fbc41"
            ],
            [
             0.9,
             "#4d9221"
            ],
            [
             1,
             "#276419"
            ]
           ],
           "sequential": [
            [
             0,
             "#0d0887"
            ],
            [
             0.1111111111111111,
             "#46039f"
            ],
            [
             0.2222222222222222,
             "#7201a8"
            ],
            [
             0.3333333333333333,
             "#9c179e"
            ],
            [
             0.4444444444444444,
             "#bd3786"
            ],
            [
             0.5555555555555556,
             "#d8576b"
            ],
            [
             0.6666666666666666,
             "#ed7953"
            ],
            [
             0.7777777777777778,
             "#fb9f3a"
            ],
            [
             0.8888888888888888,
             "#fdca26"
            ],
            [
             1,
             "#f0f921"
            ]
           ],
           "sequentialminus": [
            [
             0,
             "#0d0887"
            ],
            [
             0.1111111111111111,
             "#46039f"
            ],
            [
             0.2222222222222222,
             "#7201a8"
            ],
            [
             0.3333333333333333,
             "#9c179e"
            ],
            [
             0.4444444444444444,
             "#bd3786"
            ],
            [
             0.5555555555555556,
             "#d8576b"
            ],
            [
             0.6666666666666666,
             "#ed7953"
            ],
            [
             0.7777777777777778,
             "#fb9f3a"
            ],
            [
             0.8888888888888888,
             "#fdca26"
            ],
            [
             1,
             "#f0f921"
            ]
           ]
          },
          "colorway": [
           "#636efa",
           "#EF553B",
           "#00cc96",
           "#ab63fa",
           "#FFA15A",
           "#19d3f3",
           "#FF6692",
           "#B6E880",
           "#FF97FF",
           "#FECB52"
          ],
          "font": {
           "color": "#2a3f5f"
          },
          "geo": {
           "bgcolor": "white",
           "lakecolor": "white",
           "landcolor": "#E5ECF6",
           "showlakes": true,
           "showland": true,
           "subunitcolor": "white"
          },
          "hoverlabel": {
           "align": "left"
          },
          "hovermode": "closest",
          "mapbox": {
           "style": "light"
          },
          "paper_bgcolor": "white",
          "plot_bgcolor": "#E5ECF6",
          "polar": {
           "angularaxis": {
            "gridcolor": "white",
            "linecolor": "white",
            "ticks": ""
           },
           "bgcolor": "#E5ECF6",
           "radialaxis": {
            "gridcolor": "white",
            "linecolor": "white",
            "ticks": ""
           }
          },
          "scene": {
           "xaxis": {
            "backgroundcolor": "#E5ECF6",
            "gridcolor": "white",
            "gridwidth": 2,
            "linecolor": "white",
            "showbackground": true,
            "ticks": "",
            "zerolinecolor": "white"
           },
           "yaxis": {
            "backgroundcolor": "#E5ECF6",
            "gridcolor": "white",
            "gridwidth": 2,
            "linecolor": "white",
            "showbackground": true,
            "ticks": "",
            "zerolinecolor": "white"
           },
           "zaxis": {
            "backgroundcolor": "#E5ECF6",
            "gridcolor": "white",
            "gridwidth": 2,
            "linecolor": "white",
            "showbackground": true,
            "ticks": "",
            "zerolinecolor": "white"
           }
          },
          "shapedefaults": {
           "line": {
            "color": "#2a3f5f"
           }
          },
          "ternary": {
           "aaxis": {
            "gridcolor": "white",
            "linecolor": "white",
            "ticks": ""
           },
           "baxis": {
            "gridcolor": "white",
            "linecolor": "white",
            "ticks": ""
           },
           "bgcolor": "#E5ECF6",
           "caxis": {
            "gridcolor": "white",
            "linecolor": "white",
            "ticks": ""
           }
          },
          "title": {
           "x": 0.05
          },
          "xaxis": {
           "automargin": true,
           "gridcolor": "white",
           "linecolor": "white",
           "ticks": "",
           "title": {
            "standoff": 15
           },
           "zerolinecolor": "white",
           "zerolinewidth": 2
          },
          "yaxis": {
           "automargin": true,
           "gridcolor": "white",
           "linecolor": "white",
           "ticks": "",
           "title": {
            "standoff": 15
           },
           "zerolinecolor": "white",
           "zerolinewidth": 2
          }
         }
        },
        "title": {
         "font": {
          "color": "#D9D9D9"
         },
         "text": "Original Quote Unit Price with Outliers Marked"
        },
        "xaxis": {
         "autorange": true,
         "gridcolor": "#434343",
         "range": [
          -59.405970716866314,
          891.4059707168664
         ],
         "showgrid": true,
         "tickfont": {
          "color": "#C2C2C2"
         },
         "title": {
          "font": {
           "color": "#D9D9D9"
          },
          "text": "index"
         },
         "type": "linear",
         "zerolinecolor": "#666570"
        },
        "yaxis": {
         "autorange": true,
         "gridcolor": "#434343",
         "range": [
          -659.9777551020408,
          6539.997755102041
         ],
         "showgrid": true,
         "tickfont": {
          "color": "#C2C2C2"
         },
         "title": {
          "font": {
           "color": "#D9D9D9"
          },
          "text": "Quote Unit Price"
         },
         "type": "linear",
         "zerolinecolor": "#666570"
        }
       }
      },
      "image/png": "[encoded data removed]",
      "text/html": [
       "<div>                            <div id=\"a64ef901-4c70-4707-95a4-1aac6c2b0b5b\" class=\"plotly-graph-div\" style=\"height:525px; width:100%;\"></div>            <script type=\"text/javascript\">                require([\"plotly\"], function(Plotly) {                    window.PLOTLYENV=window.PLOTLYENV || {};                                    if (document.getElementById(\"a64ef901-4c70-4707-95a4-1aac6c2b0b5b\")) {                    Plotly.newPlot(                        \"a64ef901-4c70-4707-95a4-1aac6c2b0b5b\",                        [{\"line\":{\"color\":\"rgba(255, 153, 51, 1.0)\",\"dash\":\"solid\",\"shape\":\"linear\",\"width\":1.3},\"marker\":{\"size\":12,\"symbol\":\"circle\"},\"mode\":\"markers\",\"name\":\"Quote Unit Price\",\"text\":\"\",\"x\":[0,1,2,3,4,5,6,7,8,9,10,11,12,13,14,15,16,17,18,19,20,21,22,23,24,25,26,27,28,29,30,31,32,33,34,35,36,37,38,39,40,41,42,43,44,45,46,47,48,49,50,51,52,53,54,55,56,57,58,59,60,61,62,63,64,65,66,67,68,69,70,71,72,73,74,75,76,77,78,79,80,81,82,83,84,85,86,87,88,89,90,91,92,93,94,95,96,97,98,99,100,101,102,103,104,105,106,107,108,109,110,111,112,113,114,115,116,117,118,119,120,121,122,123,124,125,126,127,128,129,130,131,132,133,134,135,136,137,138,139,140,141,142,143,144,145,146,147,148,149,150,151,152,153,154,155,156,157,158,159,160,161,162,163,164,165,166,167,168,169,170,171,172,173,174,175,176,177,178,179,180,181,182,183,184,185,186,187,188,189,190,191,192,193,194,195,196,197,198,199,200,201,202,203,204,205,206,207,208,209,210,211,212,213,214,215,216,217,218,219,220,221,222,223,224,225,226,227,228,229,230,231,232,233,234,235,236,237,238,239,240,241,242,243,244,245,246,247,248,249,250,251,252,253,254,255,256,257,258,259,260,261,262,263,264,265,266,267,268,269,270,271,272,273,274,275,276,277,278,279,280,281,282,283,284,285,286,287,288,289,290,291,292,293,294,295,296,297,298,299,300,301,302,303,304,305,306,307,308,309,310,311,312,313,314,315,316,317,318,319,320,321,322,323,324,325,326,327,328,329,330,331,332,333,334,335,336,337,338,339,340,341,342,343,344,345,346,347,348,349,350,351,352,353,354,355,356,357,358,359,360,361,362,363,364,365,366,367,368,369,370,371,372,373,374,375,376,377,378,379,380,381,382,383,384,385,386,387,388,389,390,391,392,393,394,395,396,397,398,399,400,401,402,403,404,405,406,407,408,409,410,411,412,413,414,415,416,417,418,419,420,421,422,423,424,425,426,427,428,429,430,431,432,433,434,435,436,437,438,439,440,441,442,443,444,445,446,447,448,449,450,451,452,453,454,455,456,457,458,459,460,461,462,463,464,465,466,467,468,469,470,471,472,473,474,475,476,477,478,479,480,481,482,483,484,485,486,487,488,489,490,491,492,493,494,495,496,497,498,499,500,501,502,503,504,505,506,507,508,509,510,511,512,513,514,515,516,517,518,519,520,521,522,523,524,525,526,527,528,529,530,531,532,533,534,535,536,537,538,539,540,541,542,543,544,545,546,547,548,549,550,551,552,553,554,555,556,557,558,559,560,561,562,563,564,565,566,567,568,569,570,571,572,573,574,575,576,577,578,579,580,581,582,583,584,585,586,587,588,589,590,591,592,593,594,595,596,597,598,599,600,601,602,603,604,605,606,607,608,609,610,611,612,613,614,615,616,617,618,619,620,621,622,623,624,625,626,627,628,629,630,631,632,633,634,635,636,637,638,639,640,641,642,643,644,645,646,647,648,649,650,651,652,653,654,655,656,657,658,659,660,661,662,663,664,665,666,667,668,669,670,671,672,673,674,675,676,677,678,679,680,681,682,683,684,685,686,687,688,689,690,691,692,693,694,695,696,697,698,699,700,701,702,703,704,705,706,707,708,709,710,711,712,713,714,715,716,717,718,719,720,721,722,723,724,725,726,727,728,729,730,731,732,733,734,735,736,737,738,739,740,741,742,743,744,745,746,747,748,749,750,751,752,753,754,755,756,757,758,759,760,761,762,763,764,765,766,767,768,769,770,771,772,773,774,775,776,777,778,779,780,781,782,783,784,785,786,787,788,789,790,791,792,793,794,795,796,797,798,799,800,801,802,803,804,805,806,807,808,809,810,811,812,813,814,815,816,817,818,819,820,821,822,823,824,825,826,827,828,829,830,831,832],\"y\":[7.61,14.91,4.91,7.0,5.41,29.92,24.15,9.98,8.82,3.34,2.62,6.32,6.65,6.17,17.81,173.25,1.11,15.75,8.12,2.89,1.68,3.99,13.54,5.4,23.23,4.43,49.35,8.08,2.6,8.1,15.22,5.98,7.2,5.54,2.73,2.1,5.04,1.0,3.73,47.25,3.94,4.72,3.36,3.38,4.91,3.68,10.29,9.45,6.3,3.68,3.68,12.6,59.43,1.32,2.72,1.07,4.72,7.35,4.72,7.88,223.12,15.33,10.82,4.24,21.89,22.68,2.03,3.41,17.54,4.72,7.14,2.27,1.42,1.02,6.94,23.2,1.0,2.68,119.52,90.48,144.09,11.5,118.41,5.78,15.75,4.41,19.57,10.89,1067.24,19.41,11.44,24.69,3.15,5.25,12.84,13.0,5.36,6.36,3.17,6.35,2.78,7.89,6.98,16.06,1.73,1.91,17.3,11.02,15.74,3.36,1.1,6.54,23.65,8.21,4.25,21.0,4.16,1.08,1.08,3.34,2.26,17.88,3.48,5.45,6.3,14.72,6.66,18.45,11.35,4.97,7.14,4.24,13.17,1.26,10.29,9.45,24.15,3.02,4.15,4.72,3.83,12.08,9.19,2.2,3.45,14.37,16.29,16.56,3.19,4.14,2.06,4.48,3.99,9.03,2.92,4.94,3.68,14.86,8.72,5.46,0.82,2.15,10.82,9.14,15.33,5.22,35.91,5.04,13.64,2.22,20.9,1.03,5.78,5.83,18.69,8.92,7.31,12.15,26.28,4.16,5.53,4.2,3.53,20.53,31.69,14.73,17.96,15.02,15.41,3.85,7.82,4.2,2.34,14.42,1.43,4.45,2.06,5.88,2.3,4.48,4.2,5.84,3.95,5.36,3.26,5.04,11.13,5.18,5.91,7.9,2.37,7.22,6.91,17.06,14.86,3.32,3.06,6.36,5.72,2.57,9.76,4.89,8.02,4.92,2.14,5.55,5.25,3.31,2.39,1.94,2.42,5.01,4.2,2.05,6.46,5.67,7.3,9.18,8.99,33.6,33.6,3.68,7.88,1.05,47.25,2.52,4.15,2.98,3.36,4.5,3.57,3.41,44.1,2.37,3.96,16.33,1.97,25.2,9.41,58.59,1.44,5.24,1.73,14.49,2.65,6.14,1173.1,1.02,6.14,18.9,8.92,42.0,4.0,18.36,17.88,7.06,6.38,11.84,9.11,14.07,5.09,4.7,5.55,13.01,13.39,29.4,3.52,3.41,79.87,7.6,8.11,4.53,22.84,20.99,8.66,7.42,17.1,11.09,6.31,5.63,6.36,19.54,15.04,4.99,2.42,11.92,3.68,10.08,10.87,4.15,16.36,3.96,5.89,36.63,5.02,21.5,19.02,11.71,6.04,12.81,7.24,6.72,7.82,5.41,5.41,6.51,14.68,6.51,15.8,11.5,12.7,9.36,3.46,2.94,3.83,3.41,3.1,8.61,1.04,5880.0,5.37,8.08,5.36,3.68,1857.33,4.88,13.65,4.07,3.1,0.92,3.36,3.69,1.78,3.0,3.1,4.1,2.91,2.09,8.92,3990.0,5.25,6.09,4.68,3.51,3.73,3.45,4.57,3.28,7.02,1.85,4.88,11.55,0.61,5.98,5.93,11.81,36.75,24.99,3.19,13.82,46.55,1.09,2.15,2.99,4882.5,4410.0,1.42,94.5,9.98,12.08,80.85,1.36,5.25,12.6,10.11,2.57,1.3,1.07,1.07,2.5,5.86,42.0,12.86,5.98,21.0,4.1,4.33,7.56,2.1,3.49,2.79,7.58,10.76,9.14,11.02,4.37,14.49,10.5,15.75,9.87,7.48,1.74,1.58,1.1,7.04,2.62,3.96,1.58,4.88,16.64,1.68,12.08,7.62,7.14,0.99,10.5,17.46,35.28,55.12,3.59,7.62,8.46,2.68,10.97,5.1,4.25,3.12,1.7,3.83,5.51,3.26,12.08,36.02,2.09,15.64,11.92,82.38,59.39,4.1,5.16,4.3,1.39,6.09,2.36,22.05,22.05,2.08,89.25,3.29,5.22,8.95,5.54,12.39,11.02,103.99,3.99,3.07,6.18,1.16,5.2,3.78,16.34,8.82,58.75,6.2,7.55,2.9,12.97,11.02,5.04,18.9,11.55,25.15,12.39,5.25,5.46,1.5,11.51,8.47,4.26,8.4,5.94,6.14,45.52,6.09,1.67,12.6,3.96,7.53,2.78,14.7,2.94,6.1,1.84,6.67,3.83,68.25,3.68,1.73,6.82,4.3,7.55,4.62,2.62,7.47,1.7,2.92,5.51,7.72,3.31,3.41,7.51,2.05,1.16,1.87,27.3,7.47,106.04,96.1,18.99,12.32,2.37,5.12,2.31,1.87,1.61,7.5,6.6,6.15,9.93,2.37,2.15,2.57,2.1,5.78,5.14,9.87,3.49,2.59,4.95,2.85,6.08,4.2,1.68,5.25,4.41,1.66,0.37,0.12,4.37,1.58,1.93,7.95,9.4,47.25,1.53,2.04,12.08,10.22,26.32,14.21,30.24,13.39,15.75,23.1,27.62,20.43,14.42,34.65,23.36,9.4,15.7,5.46,5.93,12.23,37.75,17.85,16.28,27.82,17.85,6.1,27.3,12.08,1.68,9.03,4.72,20.48,11.29,4.13,32.55,6.26,28.56,52.5,50.4,1.66,6.82,0.99,1.02,89.47,8.4,8.4,10.5,1.44,6.14,18.85,18.85,34.23,2.05,1.42,9.7,6.57,8.01,7.73,8.84,3.76,4.99,6.27,1.76,14.52,1.76,2.4,4.37,1.47,6.3,1.04,1.04,1.38,1.76,20.95,8.56,5.41,5.51,17.32,2.58,5.9,5.67,2.58,1.27,2.47,3.94,4.67,2.68,1.52,1.89,2.68,6.14,40.32,8.82,1.42,2.49,3.97,2.97,1.54,2.31,4.61,6.71,1.31,8.5,6.88,2.78,6.09,2.62,6.14,4.46,3.96,23.62,38.64,24.15,1.73,7.61,1.43,46.2,56.18,6.77,39.9,19.42,6.09,13.12,23.1,176.52,15.42,59.16,27.88,63.0,132.3,78.75,71.92,3.46,2.78,5.36,1.03,6.4,4.02,5.56,13.23,12.81,5.67,3.99,918.75,10.96,4.11,10.91,5.51,6.58,3.15,4.2,9.98,14.82,8.08,3.95,149.35,1.51,0.98,1.0,4.37,3.59,1.38,7.3,7.3,7.3,8.92,862.05,1291.5,819.0,0.82,2.16,8.56,6.45,3.88,414.75,37.8,17.06,5.29,4.07,2.41,54.0,0.64,9.67,84.7,82.5,72.6,73.18,15.03,9.9,18.7,155.79,4.85,11.3,121.0,2.75,143.0,5.06,3.52,384.94,4.2,29.46,40.64,7.91,317.9,24.2,22.38,22.38,23.6,27.83,42.9,25.3,13.09,20.57,22.99,14.52,18.76,27.83,12.1,20.9,24.88,30.25,26.4,15.4,44.0,167.19,22.0,21.98,3.28,3.08,4839.94,1.92,11.69,2.75,26.87,5.32,3.39,5.83,8.8,6.0,6.98,0.02,11.26,16.5,1.35,3.48,0.94,8.25,0.86,0.86,0.94,0.88,9.64,1.48,0.94,0.88,0.86,1.69,10.94],\"type\":\"scatter\"},{\"marker\":{\"color\":\"red\",\"size\":10,\"symbol\":\"x\"},\"mode\":\"markers\",\"name\":\"idx 5\",\"showlegend\":false,\"x\":[5],\"y\":[29.92],\"type\":\"scatter\"},{\"marker\":{\"color\":\"red\",\"size\":10,\"symbol\":\"x\"},\"mode\":\"markers\",\"name\":\"idx 6\",\"showlegend\":false,\"x\":[6],\"y\":[24.15],\"type\":\"scatter\"},{\"marker\":{\"color\":\"red\",\"size\":10,\"symbol\":\"x\"},\"mode\":\"markers\",\"name\":\"idx 14\",\"showlegend\":false,\"x\":[14],\"y\":[17.81],\"type\":\"scatter\"},{\"marker\":{\"color\":\"red\",\"size\":10,\"symbol\":\"x\"},\"mode\":\"markers\",\"name\":\"idx 15\",\"showlegend\":false,\"x\":[15],\"y\":[173.25],\"type\":\"scatter\"},{\"marker\":{\"color\":\"red\",\"size\":10,\"symbol\":\"x\"},\"mode\":\"markers\",\"name\":\"idx 24\",\"showlegend\":false,\"x\":[24],\"y\":[23.23],\"type\":\"scatter\"},{\"marker\":{\"color\":\"red\",\"size\":10,\"symbol\":\"x\"},\"mode\":\"markers\",\"name\":\"idx 26\",\"showlegend\":false,\"x\":[26],\"y\":[49.35],\"type\":\"scatter\"},{\"marker\":{\"color\":\"red\",\"size\":10,\"symbol\":\"x\"},\"mode\":\"markers\",\"name\":\"idx 39\",\"showlegend\":false,\"x\":[39],\"y\":[47.25],\"type\":\"scatter\"},{\"marker\":{\"color\":\"red\",\"size\":10,\"symbol\":\"x\"},\"mode\":\"markers\",\"name\":\"idx 52\",\"showlegend\":false,\"x\":[52],\"y\":[59.43],\"type\":\"scatter\"},{\"marker\":{\"color\":\"red\",\"size\":10,\"symbol\":\"x\"},\"mode\":\"markers\",\"name\":\"idx 60\",\"showlegend\":false,\"x\":[60],\"y\":[223.12],\"type\":\"scatter\"},{\"marker\":{\"color\":\"red\",\"size\":10,\"symbol\":\"x\"},\"mode\":\"markers\",\"name\":\"idx 64\",\"showlegend\":false,\"x\":[64],\"y\":[21.89],\"type\":\"scatter\"},{\"marker\":{\"color\":\"red\",\"size\":10,\"symbol\":\"x\"},\"mode\":\"markers\",\"name\":\"idx 65\",\"showlegend\":false,\"x\":[65],\"y\":[22.68],\"type\":\"scatter\"},{\"marker\":{\"color\":\"red\",\"size\":10,\"symbol\":\"x\"},\"mode\":\"markers\",\"name\":\"idx 75\",\"showlegend\":false,\"x\":[75],\"y\":[23.2],\"type\":\"scatter\"},{\"marker\":{\"color\":\"red\",\"size\":10,\"symbol\":\"x\"},\"mode\":\"markers\",\"name\":\"idx 78\",\"showlegend\":false,\"x\":[78],\"y\":[119.52],\"type\":\"scatter\"},{\"marker\":{\"color\":\"red\",\"size\":10,\"symbol\":\"x\"},\"mode\":\"markers\",\"name\":\"idx 79\",\"showlegend\":false,\"x\":[79],\"y\":[90.48],\"type\":\"scatter\"},{\"marker\":{\"color\":\"red\",\"size\":10,\"symbol\":\"x\"},\"mode\":\"markers\",\"name\":\"idx 80\",\"showlegend\":false,\"x\":[80],\"y\":[144.09],\"type\":\"scatter\"},{\"marker\":{\"color\":\"red\",\"size\":10,\"symbol\":\"x\"},\"mode\":\"markers\",\"name\":\"idx 82\",\"showlegend\":false,\"x\":[82],\"y\":[118.41],\"type\":\"scatter\"},{\"marker\":{\"color\":\"red\",\"size\":10,\"symbol\":\"x\"},\"mode\":\"markers\",\"name\":\"idx 86\",\"showlegend\":false,\"x\":[86],\"y\":[19.57],\"type\":\"scatter\"},{\"marker\":{\"color\":\"red\",\"size\":10,\"symbol\":\"x\"},\"mode\":\"markers\",\"name\":\"idx 88\",\"showlegend\":false,\"x\":[88],\"y\":[1067.24],\"type\":\"scatter\"},{\"marker\":{\"color\":\"red\",\"size\":10,\"symbol\":\"x\"},\"mode\":\"markers\",\"name\":\"idx 89\",\"showlegend\":false,\"x\":[89],\"y\":[19.41],\"type\":\"scatter\"},{\"marker\":{\"color\":\"red\",\"size\":10,\"symbol\":\"x\"},\"mode\":\"markers\",\"name\":\"idx 91\",\"showlegend\":false,\"x\":[91],\"y\":[24.69],\"type\":\"scatter\"},{\"marker\":{\"color\":\"red\",\"size\":10,\"symbol\":\"x\"},\"mode\":\"markers\",\"name\":\"idx 112\",\"showlegend\":false,\"x\":[112],\"y\":[23.65],\"type\":\"scatter\"},{\"marker\":{\"color\":\"red\",\"size\":10,\"symbol\":\"x\"},\"mode\":\"markers\",\"name\":\"idx 115\",\"showlegend\":false,\"x\":[115],\"y\":[21.0],\"type\":\"scatter\"},{\"marker\":{\"color\":\"red\",\"size\":10,\"symbol\":\"x\"},\"mode\":\"markers\",\"name\":\"idx 121\",\"showlegend\":false,\"x\":[121],\"y\":[17.88],\"type\":\"scatter\"},{\"marker\":{\"color\":\"red\",\"size\":10,\"symbol\":\"x\"},\"mode\":\"markers\",\"name\":\"idx 127\",\"showlegend\":false,\"x\":[127],\"y\":[18.45],\"type\":\"scatter\"},{\"marker\":{\"color\":\"red\",\"size\":10,\"symbol\":\"x\"},\"mode\":\"markers\",\"name\":\"idx 136\",\"showlegend\":false,\"x\":[136],\"y\":[24.15],\"type\":\"scatter\"},{\"marker\":{\"color\":\"red\",\"size\":10,\"symbol\":\"x\"},\"mode\":\"markers\",\"name\":\"idx 166\",\"showlegend\":false,\"x\":[166],\"y\":[35.91],\"type\":\"scatter\"},{\"marker\":{\"color\":\"red\",\"size\":10,\"symbol\":\"x\"},\"mode\":\"markers\",\"name\":\"idx 170\",\"showlegend\":false,\"x\":[170],\"y\":[20.9],\"type\":\"scatter\"},{\"marker\":{\"color\":\"red\",\"size\":10,\"symbol\":\"x\"},\"mode\":\"markers\",\"name\":\"idx 174\",\"showlegend\":false,\"x\":[174],\"y\":[18.69],\"type\":\"scatter\"},{\"marker\":{\"color\":\"red\",\"size\":10,\"symbol\":\"x\"},\"mode\":\"markers\",\"name\":\"idx 178\",\"showlegend\":false,\"x\":[178],\"y\":[26.28],\"type\":\"scatter\"},{\"marker\":{\"color\":\"red\",\"size\":10,\"symbol\":\"x\"},\"mode\":\"markers\",\"name\":\"idx 183\",\"showlegend\":false,\"x\":[183],\"y\":[20.53],\"type\":\"scatter\"},{\"marker\":{\"color\":\"red\",\"size\":10,\"symbol\":\"x\"},\"mode\":\"markers\",\"name\":\"idx 184\",\"showlegend\":false,\"x\":[184],\"y\":[31.69],\"type\":\"scatter\"},{\"marker\":{\"color\":\"red\",\"size\":10,\"symbol\":\"x\"},\"mode\":\"markers\",\"name\":\"idx 186\",\"showlegend\":false,\"x\":[186],\"y\":[17.96],\"type\":\"scatter\"},{\"marker\":{\"color\":\"red\",\"size\":10,\"symbol\":\"x\"},\"mode\":\"markers\",\"name\":\"idx 239\",\"showlegend\":false,\"x\":[239],\"y\":[33.6],\"type\":\"scatter\"},{\"marker\":{\"color\":\"red\",\"size\":10,\"symbol\":\"x\"},\"mode\":\"markers\",\"name\":\"idx 240\",\"showlegend\":false,\"x\":[240],\"y\":[33.6],\"type\":\"scatter\"},{\"marker\":{\"color\":\"red\",\"size\":10,\"symbol\":\"x\"},\"mode\":\"markers\",\"name\":\"idx 244\",\"showlegend\":false,\"x\":[244],\"y\":[47.25],\"type\":\"scatter\"},{\"marker\":{\"color\":\"red\",\"size\":10,\"symbol\":\"x\"},\"mode\":\"markers\",\"name\":\"idx 252\",\"showlegend\":false,\"x\":[252],\"y\":[44.1],\"type\":\"scatter\"},{\"marker\":{\"color\":\"red\",\"size\":10,\"symbol\":\"x\"},\"mode\":\"markers\",\"name\":\"idx 257\",\"showlegend\":false,\"x\":[257],\"y\":[25.2],\"type\":\"scatter\"},{\"marker\":{\"color\":\"red\",\"size\":10,\"symbol\":\"x\"},\"mode\":\"markers\",\"name\":\"idx 259\",\"showlegend\":false,\"x\":[259],\"y\":[58.59],\"type\":\"scatter\"},{\"marker\":{\"color\":\"red\",\"size\":10,\"symbol\":\"x\"},\"mode\":\"markers\",\"name\":\"idx 266\",\"showlegend\":false,\"x\":[266],\"y\":[1173.1],\"type\":\"scatter\"},{\"marker\":{\"color\":\"red\",\"size\":10,\"symbol\":\"x\"},\"mode\":\"markers\",\"name\":\"idx 269\",\"showlegend\":false,\"x\":[269],\"y\":[18.9],\"type\":\"scatter\"},{\"marker\":{\"color\":\"red\",\"size\":10,\"symbol\":\"x\"},\"mode\":\"markers\",\"name\":\"idx 271\",\"showlegend\":false,\"x\":[271],\"y\":[42.0],\"type\":\"scatter\"},{\"marker\":{\"color\":\"red\",\"size\":10,\"symbol\":\"x\"},\"mode\":\"markers\",\"name\":\"idx 273\",\"showlegend\":false,\"x\":[273],\"y\":[18.36],\"type\":\"scatter\"},{\"marker\":{\"color\":\"red\",\"size\":10,\"symbol\":\"x\"},\"mode\":\"markers\",\"name\":\"idx 274\",\"showlegend\":false,\"x\":[274],\"y\":[17.88],\"type\":\"scatter\"},{\"marker\":{\"color\":\"red\",\"size\":10,\"symbol\":\"x\"},\"mode\":\"markers\",\"name\":\"idx 285\",\"showlegend\":false,\"x\":[285],\"y\":[29.4],\"type\":\"scatter\"},{\"marker\":{\"color\":\"red\",\"size\":10,\"symbol\":\"x\"},\"mode\":\"markers\",\"name\":\"idx 288\",\"showlegend\":false,\"x\":[288],\"y\":[79.87],\"type\":\"scatter\"},{\"marker\":{\"color\":\"red\",\"size\":10,\"symbol\":\"x\"},\"mode\":\"markers\",\"name\":\"idx 292\",\"showlegend\":false,\"x\":[292],\"y\":[22.84],\"type\":\"scatter\"},{\"marker\":{\"color\":\"red\",\"size\":10,\"symbol\":\"x\"},\"mode\":\"markers\",\"name\":\"idx 293\",\"showlegend\":false,\"x\":[293],\"y\":[20.99],\"type\":\"scatter\"},{\"marker\":{\"color\":\"red\",\"size\":10,\"symbol\":\"x\"},\"mode\":\"markers\",\"name\":\"idx 301\",\"showlegend\":false,\"x\":[301],\"y\":[19.54],\"type\":\"scatter\"},{\"marker\":{\"color\":\"red\",\"size\":10,\"symbol\":\"x\"},\"mode\":\"markers\",\"name\":\"idx 313\",\"showlegend\":false,\"x\":[313],\"y\":[36.63],\"type\":\"scatter\"},{\"marker\":{\"color\":\"red\",\"size\":10,\"symbol\":\"x\"},\"mode\":\"markers\",\"name\":\"idx 315\",\"showlegend\":false,\"x\":[315],\"y\":[21.5],\"type\":\"scatter\"},{\"marker\":{\"color\":\"red\",\"size\":10,\"symbol\":\"x\"},\"mode\":\"markers\",\"name\":\"idx 316\",\"showlegend\":false,\"x\":[316],\"y\":[19.02],\"type\":\"scatter\"},{\"marker\":{\"color\":\"red\",\"size\":10,\"symbol\":\"x\"},\"mode\":\"markers\",\"name\":\"idx 339\",\"showlegend\":false,\"x\":[339],\"y\":[5880.0],\"type\":\"scatter\"},{\"marker\":{\"color\":\"red\",\"size\":10,\"symbol\":\"x\"},\"mode\":\"markers\",\"name\":\"idx 344\",\"showlegend\":false,\"x\":[344],\"y\":[1857.33],\"type\":\"scatter\"},{\"marker\":{\"color\":\"red\",\"size\":10,\"symbol\":\"x\"},\"mode\":\"markers\",\"name\":\"idx 359\",\"showlegend\":false,\"x\":[359],\"y\":[3990.0],\"type\":\"scatter\"},{\"marker\":{\"color\":\"red\",\"size\":10,\"symbol\":\"x\"},\"mode\":\"markers\",\"name\":\"idx 376\",\"showlegend\":false,\"x\":[376],\"y\":[36.75],\"type\":\"scatter\"},{\"marker\":{\"color\":\"red\",\"size\":10,\"symbol\":\"x\"},\"mode\":\"markers\",\"name\":\"idx 377\",\"showlegend\":false,\"x\":[377],\"y\":[24.99],\"type\":\"scatter\"},{\"marker\":{\"color\":\"red\",\"size\":10,\"symbol\":\"x\"},\"mode\":\"markers\",\"name\":\"idx 380\",\"showlegend\":false,\"x\":[380],\"y\":[46.55],\"type\":\"scatter\"},{\"marker\":{\"color\":\"red\",\"size\":10,\"symbol\":\"x\"},\"mode\":\"markers\",\"name\":\"idx 384\",\"showlegend\":false,\"x\":[384],\"y\":[4882.5],\"type\":\"scatter\"},{\"marker\":{\"color\":\"red\",\"size\":10,\"symbol\":\"x\"},\"mode\":\"markers\",\"name\":\"idx 385\",\"showlegend\":false,\"x\":[385],\"y\":[4410.0],\"type\":\"scatter\"},{\"marker\":{\"color\":\"red\",\"size\":10,\"symbol\":\"x\"},\"mode\":\"markers\",\"name\":\"idx 387\",\"showlegend\":false,\"x\":[387],\"y\":[94.5],\"type\":\"scatter\"},{\"marker\":{\"color\":\"red\",\"size\":10,\"symbol\":\"x\"},\"mode\":\"markers\",\"name\":\"idx 390\",\"showlegend\":false,\"x\":[390],\"y\":[80.85],\"type\":\"scatter\"},{\"marker\":{\"color\":\"red\",\"size\":10,\"symbol\":\"x\"},\"mode\":\"markers\",\"name\":\"idx 401\",\"showlegend\":false,\"x\":[401],\"y\":[42.0],\"type\":\"scatter\"},{\"marker\":{\"color\":\"red\",\"size\":10,\"symbol\":\"x\"},\"mode\":\"markers\",\"name\":\"idx 404\",\"showlegend\":false,\"x\":[404],\"y\":[21.0],\"type\":\"scatter\"},{\"marker\":{\"color\":\"red\",\"size\":10,\"symbol\":\"x\"},\"mode\":\"markers\",\"name\":\"idx 437\",\"showlegend\":false,\"x\":[437],\"y\":[35.28],\"type\":\"scatter\"},{\"marker\":{\"color\":\"red\",\"size\":10,\"symbol\":\"x\"},\"mode\":\"markers\",\"name\":\"idx 438\",\"showlegend\":false,\"x\":[438],\"y\":[55.12],\"type\":\"scatter\"},{\"marker\":{\"color\":\"red\",\"size\":10,\"symbol\":\"x\"},\"mode\":\"markers\",\"name\":\"idx 452\",\"showlegend\":false,\"x\":[452],\"y\":[36.02],\"type\":\"scatter\"},{\"marker\":{\"color\":\"red\",\"size\":10,\"symbol\":\"x\"},\"mode\":\"markers\",\"name\":\"idx 456\",\"showlegend\":false,\"x\":[456],\"y\":[82.38],\"type\":\"scatter\"},{\"marker\":{\"color\":\"red\",\"size\":10,\"symbol\":\"x\"},\"mode\":\"markers\",\"name\":\"idx 457\",\"showlegend\":false,\"x\":[457],\"y\":[59.39],\"type\":\"scatter\"},{\"marker\":{\"color\":\"red\",\"size\":10,\"symbol\":\"x\"},\"mode\":\"markers\",\"name\":\"idx 464\",\"showlegend\":false,\"x\":[464],\"y\":[22.05],\"type\":\"scatter\"},{\"marker\":{\"color\":\"red\",\"size\":10,\"symbol\":\"x\"},\"mode\":\"markers\",\"name\":\"idx 465\",\"showlegend\":false,\"x\":[465],\"y\":[22.05],\"type\":\"scatter\"},{\"marker\":{\"color\":\"red\",\"size\":10,\"symbol\":\"x\"},\"mode\":\"markers\",\"name\":\"idx 467\",\"showlegend\":false,\"x\":[467],\"y\":[89.25],\"type\":\"scatter\"},{\"marker\":{\"color\":\"red\",\"size\":10,\"symbol\":\"x\"},\"mode\":\"markers\",\"name\":\"idx 474\",\"showlegend\":false,\"x\":[474],\"y\":[103.99],\"type\":\"scatter\"},{\"marker\":{\"color\":\"red\",\"size\":10,\"symbol\":\"x\"},\"mode\":\"markers\",\"name\":\"idx 483\",\"showlegend\":false,\"x\":[483],\"y\":[58.75],\"type\":\"scatter\"},{\"marker\":{\"color\":\"red\",\"size\":10,\"symbol\":\"x\"},\"mode\":\"markers\",\"name\":\"idx 490\",\"showlegend\":false,\"x\":[490],\"y\":[18.9],\"type\":\"scatter\"},{\"marker\":{\"color\":\"red\",\"size\":10,\"symbol\":\"x\"},\"mode\":\"markers\",\"name\":\"idx 492\",\"showlegend\":false,\"x\":[492],\"y\":[25.15],\"type\":\"scatter\"},{\"marker\":{\"color\":\"red\",\"size\":10,\"symbol\":\"x\"},\"mode\":\"markers\",\"name\":\"idx 503\",\"showlegend\":false,\"x\":[503],\"y\":[45.52],\"type\":\"scatter\"},{\"marker\":{\"color\":\"red\",\"size\":10,\"symbol\":\"x\"},\"mode\":\"markers\",\"name\":\"idx 516\",\"showlegend\":false,\"x\":[516],\"y\":[68.25],\"type\":\"scatter\"},{\"marker\":{\"color\":\"red\",\"size\":10,\"symbol\":\"x\"},\"mode\":\"markers\",\"name\":\"idx 535\",\"showlegend\":false,\"x\":[535],\"y\":[27.3],\"type\":\"scatter\"},{\"marker\":{\"color\":\"red\",\"size\":10,\"symbol\":\"x\"},\"mode\":\"markers\",\"name\":\"idx 537\",\"showlegend\":false,\"x\":[537],\"y\":[106.04],\"type\":\"scatter\"},{\"marker\":{\"color\":\"red\",\"size\":10,\"symbol\":\"x\"},\"mode\":\"markers\",\"name\":\"idx 538\",\"showlegend\":false,\"x\":[538],\"y\":[96.1],\"type\":\"scatter\"},{\"marker\":{\"color\":\"red\",\"size\":10,\"symbol\":\"x\"},\"mode\":\"markers\",\"name\":\"idx 539\",\"showlegend\":false,\"x\":[539],\"y\":[18.99],\"type\":\"scatter\"},{\"marker\":{\"color\":\"red\",\"size\":10,\"symbol\":\"x\"},\"mode\":\"markers\",\"name\":\"idx 574\",\"showlegend\":false,\"x\":[574],\"y\":[47.25],\"type\":\"scatter\"},{\"marker\":{\"color\":\"red\",\"size\":10,\"symbol\":\"x\"},\"mode\":\"markers\",\"name\":\"idx 579\",\"showlegend\":false,\"x\":[579],\"y\":[26.32],\"type\":\"scatter\"},{\"marker\":{\"color\":\"red\",\"size\":10,\"symbol\":\"x\"},\"mode\":\"markers\",\"name\":\"idx 581\",\"showlegend\":false,\"x\":[581],\"y\":[30.24],\"type\":\"scatter\"},{\"marker\":{\"color\":\"red\",\"size\":10,\"symbol\":\"x\"},\"mode\":\"markers\",\"name\":\"idx 584\",\"showlegend\":false,\"x\":[584],\"y\":[23.1],\"type\":\"scatter\"},{\"marker\":{\"color\":\"red\",\"size\":10,\"symbol\":\"x\"},\"mode\":\"markers\",\"name\":\"idx 585\",\"showlegend\":false,\"x\":[585],\"y\":[27.62],\"type\":\"scatter\"},{\"marker\":{\"color\":\"red\",\"size\":10,\"symbol\":\"x\"},\"mode\":\"markers\",\"name\":\"idx 586\",\"showlegend\":false,\"x\":[586],\"y\":[20.43],\"type\":\"scatter\"},{\"marker\":{\"color\":\"red\",\"size\":10,\"symbol\":\"x\"},\"mode\":\"markers\",\"name\":\"idx 588\",\"showlegend\":false,\"x\":[588],\"y\":[34.65],\"type\":\"scatter\"},{\"marker\":{\"color\":\"red\",\"size\":10,\"symbol\":\"x\"},\"mode\":\"markers\",\"name\":\"idx 589\",\"showlegend\":false,\"x\":[589],\"y\":[23.36],\"type\":\"scatter\"},{\"marker\":{\"color\":\"red\",\"size\":10,\"symbol\":\"x\"},\"mode\":\"markers\",\"name\":\"idx 595\",\"showlegend\":false,\"x\":[595],\"y\":[37.75],\"type\":\"scatter\"},{\"marker\":{\"color\":\"red\",\"size\":10,\"symbol\":\"x\"},\"mode\":\"markers\",\"name\":\"idx 596\",\"showlegend\":false,\"x\":[596],\"y\":[17.85],\"type\":\"scatter\"},{\"marker\":{\"color\":\"red\",\"size\":10,\"symbol\":\"x\"},\"mode\":\"markers\",\"name\":\"idx 598\",\"showlegend\":false,\"x\":[598],\"y\":[27.82],\"type\":\"scatter\"},{\"marker\":{\"color\":\"red\",\"size\":10,\"symbol\":\"x\"},\"mode\":\"markers\",\"name\":\"idx 599\",\"showlegend\":false,\"x\":[599],\"y\":[17.85],\"type\":\"scatter\"},{\"marker\":{\"color\":\"red\",\"size\":10,\"symbol\":\"x\"},\"mode\":\"markers\",\"name\":\"idx 601\",\"showlegend\":false,\"x\":[601],\"y\":[27.3],\"type\":\"scatter\"},{\"marker\":{\"color\":\"red\",\"size\":10,\"symbol\":\"x\"},\"mode\":\"markers\",\"name\":\"idx 606\",\"showlegend\":false,\"x\":[606],\"y\":[20.48],\"type\":\"scatter\"},{\"marker\":{\"color\":\"red\",\"size\":10,\"symbol\":\"x\"},\"mode\":\"markers\",\"name\":\"idx 609\",\"showlegend\":false,\"x\":[609],\"y\":[32.55],\"type\":\"scatter\"},{\"marker\":{\"color\":\"red\",\"size\":10,\"symbol\":\"x\"},\"mode\":\"markers\",\"name\":\"idx 611\",\"showlegend\":false,\"x\":[611],\"y\":[28.56],\"type\":\"scatter\"},{\"marker\":{\"color\":\"red\",\"size\":10,\"symbol\":\"x\"},\"mode\":\"markers\",\"name\":\"idx 612\",\"showlegend\":false,\"x\":[612],\"y\":[52.5],\"type\":\"scatter\"},{\"marker\":{\"color\":\"red\",\"size\":10,\"symbol\":\"x\"},\"mode\":\"markers\",\"name\":\"idx 613\",\"showlegend\":false,\"x\":[613],\"y\":[50.4],\"type\":\"scatter\"},{\"marker\":{\"color\":\"red\",\"size\":10,\"symbol\":\"x\"},\"mode\":\"markers\",\"name\":\"idx 618\",\"showlegend\":false,\"x\":[618],\"y\":[89.47],\"type\":\"scatter\"},{\"marker\":{\"color\":\"red\",\"size\":10,\"symbol\":\"x\"},\"mode\":\"markers\",\"name\":\"idx 624\",\"showlegend\":false,\"x\":[624],\"y\":[18.85],\"type\":\"scatter\"},{\"marker\":{\"color\":\"red\",\"size\":10,\"symbol\":\"x\"},\"mode\":\"markers\",\"name\":\"idx 625\",\"showlegend\":false,\"x\":[625],\"y\":[18.85],\"type\":\"scatter\"},{\"marker\":{\"color\":\"red\",\"size\":10,\"symbol\":\"x\"},\"mode\":\"markers\",\"name\":\"idx 626\",\"showlegend\":false,\"x\":[626],\"y\":[34.23],\"type\":\"scatter\"},{\"marker\":{\"color\":\"red\",\"size\":10,\"symbol\":\"x\"},\"mode\":\"markers\",\"name\":\"idx 648\",\"showlegend\":false,\"x\":[648],\"y\":[20.95],\"type\":\"scatter\"},{\"marker\":{\"color\":\"red\",\"size\":10,\"symbol\":\"x\"},\"mode\":\"markers\",\"name\":\"idx 666\",\"showlegend\":false,\"x\":[666],\"y\":[40.32],\"type\":\"scatter\"},{\"marker\":{\"color\":\"red\",\"size\":10,\"symbol\":\"x\"},\"mode\":\"markers\",\"name\":\"idx 685\",\"showlegend\":false,\"x\":[685],\"y\":[23.62],\"type\":\"scatter\"},{\"marker\":{\"color\":\"red\",\"size\":10,\"symbol\":\"x\"},\"mode\":\"markers\",\"name\":\"idx 686\",\"showlegend\":false,\"x\":[686],\"y\":[38.64],\"type\":\"scatter\"},{\"marker\":{\"color\":\"red\",\"size\":10,\"symbol\":\"x\"},\"mode\":\"markers\",\"name\":\"idx 687\",\"showlegend\":false,\"x\":[687],\"y\":[24.15],\"type\":\"scatter\"},{\"marker\":{\"color\":\"red\",\"size\":10,\"symbol\":\"x\"},\"mode\":\"markers\",\"name\":\"idx 691\",\"showlegend\":false,\"x\":[691],\"y\":[46.2],\"type\":\"scatter\"},{\"marker\":{\"color\":\"red\",\"size\":10,\"symbol\":\"x\"},\"mode\":\"markers\",\"name\":\"idx 692\",\"showlegend\":false,\"x\":[692],\"y\":[56.18],\"type\":\"scatter\"},{\"marker\":{\"color\":\"red\",\"size\":10,\"symbol\":\"x\"},\"mode\":\"markers\",\"name\":\"idx 694\",\"showlegend\":false,\"x\":[694],\"y\":[39.9],\"type\":\"scatter\"},{\"marker\":{\"color\":\"red\",\"size\":10,\"symbol\":\"x\"},\"mode\":\"markers\",\"name\":\"idx 695\",\"showlegend\":false,\"x\":[695],\"y\":[19.42],\"type\":\"scatter\"},{\"marker\":{\"color\":\"red\",\"size\":10,\"symbol\":\"x\"},\"mode\":\"markers\",\"name\":\"idx 698\",\"showlegend\":false,\"x\":[698],\"y\":[23.1],\"type\":\"scatter\"},{\"marker\":{\"color\":\"red\",\"size\":10,\"symbol\":\"x\"},\"mode\":\"markers\",\"name\":\"idx 699\",\"showlegend\":false,\"x\":[699],\"y\":[176.52],\"type\":\"scatter\"},{\"marker\":{\"color\":\"red\",\"size\":10,\"symbol\":\"x\"},\"mode\":\"markers\",\"name\":\"idx 701\",\"showlegend\":false,\"x\":[701],\"y\":[59.16],\"type\":\"scatter\"},{\"marker\":{\"color\":\"red\",\"size\":10,\"symbol\":\"x\"},\"mode\":\"markers\",\"name\":\"idx 702\",\"showlegend\":false,\"x\":[702],\"y\":[27.88],\"type\":\"scatter\"},{\"marker\":{\"color\":\"red\",\"size\":10,\"symbol\":\"x\"},\"mode\":\"markers\",\"name\":\"idx 703\",\"showlegend\":false,\"x\":[703],\"y\":[63.0],\"type\":\"scatter\"},{\"marker\":{\"color\":\"red\",\"size\":10,\"symbol\":\"x\"},\"mode\":\"markers\",\"name\":\"idx 704\",\"showlegend\":false,\"x\":[704],\"y\":[132.3],\"type\":\"scatter\"},{\"marker\":{\"color\":\"red\",\"size\":10,\"symbol\":\"x\"},\"mode\":\"markers\",\"name\":\"idx 705\",\"showlegend\":false,\"x\":[705],\"y\":[78.75],\"type\":\"scatter\"},{\"marker\":{\"color\":\"red\",\"size\":10,\"symbol\":\"x\"},\"mode\":\"markers\",\"name\":\"idx 706\",\"showlegend\":false,\"x\":[706],\"y\":[71.92],\"type\":\"scatter\"},{\"marker\":{\"color\":\"red\",\"size\":10,\"symbol\":\"x\"},\"mode\":\"markers\",\"name\":\"idx 718\",\"showlegend\":false,\"x\":[718],\"y\":[918.75],\"type\":\"scatter\"},{\"marker\":{\"color\":\"red\",\"size\":10,\"symbol\":\"x\"},\"mode\":\"markers\",\"name\":\"idx 730\",\"showlegend\":false,\"x\":[730],\"y\":[149.35],\"type\":\"scatter\"},{\"marker\":{\"color\":\"red\",\"size\":10,\"symbol\":\"x\"},\"mode\":\"markers\",\"name\":\"idx 741\",\"showlegend\":false,\"x\":[741],\"y\":[862.05],\"type\":\"scatter\"},{\"marker\":{\"color\":\"red\",\"size\":10,\"symbol\":\"x\"},\"mode\":\"markers\",\"name\":\"idx 742\",\"showlegend\":false,\"x\":[742],\"y\":[1291.5],\"type\":\"scatter\"},{\"marker\":{\"color\":\"red\",\"size\":10,\"symbol\":\"x\"},\"mode\":\"markers\",\"name\":\"idx 743\",\"showlegend\":false,\"x\":[743],\"y\":[819.0],\"type\":\"scatter\"},{\"marker\":{\"color\":\"red\",\"size\":10,\"symbol\":\"x\"},\"mode\":\"markers\",\"name\":\"idx 749\",\"showlegend\":false,\"x\":[749],\"y\":[414.75],\"type\":\"scatter\"},{\"marker\":{\"color\":\"red\",\"size\":10,\"symbol\":\"x\"},\"mode\":\"markers\",\"name\":\"idx 750\",\"showlegend\":false,\"x\":[750],\"y\":[37.8],\"type\":\"scatter\"},{\"marker\":{\"color\":\"red\",\"size\":10,\"symbol\":\"x\"},\"mode\":\"markers\",\"name\":\"idx 755\",\"showlegend\":false,\"x\":[755],\"y\":[54.0],\"type\":\"scatter\"},{\"marker\":{\"color\":\"red\",\"size\":10,\"symbol\":\"x\"},\"mode\":\"markers\",\"name\":\"idx 758\",\"showlegend\":false,\"x\":[758],\"y\":[84.7],\"type\":\"scatter\"},{\"marker\":{\"color\":\"red\",\"size\":10,\"symbol\":\"x\"},\"mode\":\"markers\",\"name\":\"idx 759\",\"showlegend\":false,\"x\":[759],\"y\":[82.5],\"type\":\"scatter\"},{\"marker\":{\"color\":\"red\",\"size\":10,\"symbol\":\"x\"},\"mode\":\"markers\",\"name\":\"idx 760\",\"showlegend\":false,\"x\":[760],\"y\":[72.6],\"type\":\"scatter\"},{\"marker\":{\"color\":\"red\",\"size\":10,\"symbol\":\"x\"},\"mode\":\"markers\",\"name\":\"idx 761\",\"showlegend\":false,\"x\":[761],\"y\":[73.18],\"type\":\"scatter\"},{\"marker\":{\"color\":\"red\",\"size\":10,\"symbol\":\"x\"},\"mode\":\"markers\",\"name\":\"idx 764\",\"showlegend\":false,\"x\":[764],\"y\":[18.7],\"type\":\"scatter\"},{\"marker\":{\"color\":\"red\",\"size\":10,\"symbol\":\"x\"},\"mode\":\"markers\",\"name\":\"idx 765\",\"showlegend\":false,\"x\":[765],\"y\":[155.79],\"type\":\"scatter\"},{\"marker\":{\"color\":\"red\",\"size\":10,\"symbol\":\"x\"},\"mode\":\"markers\",\"name\":\"idx 768\",\"showlegend\":false,\"x\":[768],\"y\":[121.0],\"type\":\"scatter\"},{\"marker\":{\"color\":\"red\",\"size\":10,\"symbol\":\"x\"},\"mode\":\"markers\",\"name\":\"idx 770\",\"showlegend\":false,\"x\":[770],\"y\":[143.0],\"type\":\"scatter\"},{\"marker\":{\"color\":\"red\",\"size\":10,\"symbol\":\"x\"},\"mode\":\"markers\",\"name\":\"idx 773\",\"showlegend\":false,\"x\":[773],\"y\":[384.94],\"type\":\"scatter\"},{\"marker\":{\"color\":\"red\",\"size\":10,\"symbol\":\"x\"},\"mode\":\"markers\",\"name\":\"idx 775\",\"showlegend\":false,\"x\":[775],\"y\":[29.46],\"type\":\"scatter\"},{\"marker\":{\"color\":\"red\",\"size\":10,\"symbol\":\"x\"},\"mode\":\"markers\",\"name\":\"idx 776\",\"showlegend\":false,\"x\":[776],\"y\":[40.64],\"type\":\"scatter\"},{\"marker\":{\"color\":\"red\",\"size\":10,\"symbol\":\"x\"},\"mode\":\"markers\",\"name\":\"idx 778\",\"showlegend\":false,\"x\":[778],\"y\":[317.9],\"type\":\"scatter\"},{\"marker\":{\"color\":\"red\",\"size\":10,\"symbol\":\"x\"},\"mode\":\"markers\",\"name\":\"idx 779\",\"showlegend\":false,\"x\":[779],\"y\":[24.2],\"type\":\"scatter\"},{\"marker\":{\"color\":\"red\",\"size\":10,\"symbol\":\"x\"},\"mode\":\"markers\",\"name\":\"idx 780\",\"showlegend\":false,\"x\":[780],\"y\":[22.38],\"type\":\"scatter\"},{\"marker\":{\"color\":\"red\",\"size\":10,\"symbol\":\"x\"},\"mode\":\"markers\",\"name\":\"idx 781\",\"showlegend\":false,\"x\":[781],\"y\":[22.38],\"type\":\"scatter\"},{\"marker\":{\"color\":\"red\",\"size\":10,\"symbol\":\"x\"},\"mode\":\"markers\",\"name\":\"idx 782\",\"showlegend\":false,\"x\":[782],\"y\":[23.6],\"type\":\"scatter\"},{\"marker\":{\"color\":\"red\",\"size\":10,\"symbol\":\"x\"},\"mode\":\"markers\",\"name\":\"idx 783\",\"showlegend\":false,\"x\":[783],\"y\":[27.83],\"type\":\"scatter\"},{\"marker\":{\"color\":\"red\",\"size\":10,\"symbol\":\"x\"},\"mode\":\"markers\",\"name\":\"idx 784\",\"showlegend\":false,\"x\":[784],\"y\":[42.9],\"type\":\"scatter\"},{\"marker\":{\"color\":\"red\",\"size\":10,\"symbol\":\"x\"},\"mode\":\"markers\",\"name\":\"idx 785\",\"showlegend\":false,\"x\":[785],\"y\":[25.3],\"type\":\"scatter\"},{\"marker\":{\"color\":\"red\",\"size\":10,\"symbol\":\"x\"},\"mode\":\"markers\",\"name\":\"idx 787\",\"showlegend\":false,\"x\":[787],\"y\":[20.57],\"type\":\"scatter\"},{\"marker\":{\"color\":\"red\",\"size\":10,\"symbol\":\"x\"},\"mode\":\"markers\",\"name\":\"idx 788\",\"showlegend\":false,\"x\":[788],\"y\":[22.99],\"type\":\"scatter\"},{\"marker\":{\"color\":\"red\",\"size\":10,\"symbol\":\"x\"},\"mode\":\"markers\",\"name\":\"idx 790\",\"showlegend\":false,\"x\":[790],\"y\":[18.76],\"type\":\"scatter\"},{\"marker\":{\"color\":\"red\",\"size\":10,\"symbol\":\"x\"},\"mode\":\"markers\",\"name\":\"idx 791\",\"showlegend\":false,\"x\":[791],\"y\":[27.83],\"type\":\"scatter\"},{\"marker\":{\"color\":\"red\",\"size\":10,\"symbol\":\"x\"},\"mode\":\"markers\",\"name\":\"idx 793\",\"showlegend\":false,\"x\":[793],\"y\":[20.9],\"type\":\"scatter\"},{\"marker\":{\"color\":\"red\",\"size\":10,\"symbol\":\"x\"},\"mode\":\"markers\",\"name\":\"idx 794\",\"showlegend\":false,\"x\":[794],\"y\":[24.88],\"type\":\"scatter\"},{\"marker\":{\"color\":\"red\",\"size\":10,\"symbol\":\"x\"},\"mode\":\"markers\",\"name\":\"idx 795\",\"showlegend\":false,\"x\":[795],\"y\":[30.25],\"type\":\"scatter\"},{\"marker\":{\"color\":\"red\",\"size\":10,\"symbol\":\"x\"},\"mode\":\"markers\",\"name\":\"idx 796\",\"showlegend\":false,\"x\":[796],\"y\":[26.4],\"type\":\"scatter\"},{\"marker\":{\"color\":\"red\",\"size\":10,\"symbol\":\"x\"},\"mode\":\"markers\",\"name\":\"idx 798\",\"showlegend\":false,\"x\":[798],\"y\":[44.0],\"type\":\"scatter\"},{\"marker\":{\"color\":\"red\",\"size\":10,\"symbol\":\"x\"},\"mode\":\"markers\",\"name\":\"idx 799\",\"showlegend\":false,\"x\":[799],\"y\":[167.19],\"type\":\"scatter\"},{\"marker\":{\"color\":\"red\",\"size\":10,\"symbol\":\"x\"},\"mode\":\"markers\",\"name\":\"idx 800\",\"showlegend\":false,\"x\":[800],\"y\":[22.0],\"type\":\"scatter\"},{\"marker\":{\"color\":\"red\",\"size\":10,\"symbol\":\"x\"},\"mode\":\"markers\",\"name\":\"idx 801\",\"showlegend\":false,\"x\":[801],\"y\":[21.98],\"type\":\"scatter\"},{\"marker\":{\"color\":\"red\",\"size\":10,\"symbol\":\"x\"},\"mode\":\"markers\",\"name\":\"idx 804\",\"showlegend\":false,\"x\":[804],\"y\":[4839.94],\"type\":\"scatter\"},{\"marker\":{\"color\":\"red\",\"size\":10,\"symbol\":\"x\"},\"mode\":\"markers\",\"name\":\"idx 808\",\"showlegend\":false,\"x\":[808],\"y\":[26.87],\"type\":\"scatter\"}],                        {\"legend\":{\"bgcolor\":\"#151516\",\"font\":{\"color\":\"#D9D9D9\"}},\"paper_bgcolor\":\"#151516\",\"plot_bgcolor\":\"#151516\",\"title\":{\"text\":\"Original Quote Unit Price with Outliers Marked\",\"font\":{\"color\":\"#D9D9D9\"}},\"xaxis\":{\"gridcolor\":\"#434343\",\"showgrid\":true,\"tickfont\":{\"color\":\"#C2C2C2\"},\"title\":{\"text\":\"index\",\"font\":{\"color\":\"#D9D9D9\"}},\"zerolinecolor\":\"#666570\"},\"yaxis\":{\"gridcolor\":\"#434343\",\"showgrid\":true,\"tickfont\":{\"color\":\"#C2C2C2\"},\"title\":{\"text\":\"Quote Unit Price\",\"font\":{\"color\":\"#D9D9D9\"}},\"zerolinecolor\":\"#666570\"},\"template\":{\"data\":{\"histogram2dcontour\":[{\"type\":\"histogram2dcontour\",\"colorbar\":{\"outlinewidth\":0,\"ticks\":\"\"},\"colorscale\":[[0.0,\"#0d0887\"],[0.1111111111111111,\"#46039f\"],[0.2222222222222222,\"#7201a8\"],[0.3333333333333333,\"#9c179e\"],[0.4444444444444444,\"#bd3786\"],[0.5555555555555556,\"#d8576b\"],[0.6666666666666666,\"#ed7953\"],[0.7777777777777778,\"#fb9f3a\"],[0.8888888888888888,\"#fdca26\"],[1.0,\"#f0f921\"]]}],\"choropleth\":[{\"type\":\"choropleth\",\"colorbar\":{\"outlinewidth\":0,\"ticks\":\"\"}}],\"histogram2d\":[{\"type\":\"histogram2d\",\"colorbar\":{\"outlinewidth\":0,\"ticks\":\"\"},\"colorscale\":[[0.0,\"#0d0887\"],[0.1111111111111111,\"#46039f\"],[0.2222222222222222,\"#7201a8\"],[0.3333333333333333,\"#9c179e\"],[0.4444444444444444,\"#bd3786\"],[0.5555555555555556,\"#d8576b\"],[0.6666666666666666,\"#ed7953\"],[0.7777777777777778,\"#fb9f3a\"],[0.8888888888888888,\"#fdca26\"],[1.0,\"#f0f921\"]]}],\"heatmap\":[{\"type\":\"heatmap\",\"colorbar\":{\"outlinewidth\":0,\"ticks\":\"\"},\"colorscale\":[[0.0,\"#0d0887\"],[0.1111111111111111,\"#46039f\"],[0.2222222222222222,\"#7201a8\"],[0.3333333333333333,\"#9c179e\"],[0.4444444444444444,\"#bd3786\"],[0.5555555555555556,\"#d8576b\"],[0.6666666666666666,\"#ed7953\"],[0.7777777777777778,\"#fb9f3a\"],[0.8888888888888888,\"#fdca26\"],[1.0,\"#f0f921\"]]}],\"heatmapgl\":[{\"type\":\"heatmapgl\",\"colorbar\":{\"outlinewidth\":0,\"ticks\":\"\"},\"colorscale\":[[0.0,\"#0d0887\"],[0.1111111111111111,\"#46039f\"],[0.2222222222222222,\"#7201a8\"],[0.3333333333333333,\"#9c179e\"],[0.4444444444444444,\"#bd3786\"],[0.5555555555555556,\"#d8576b\"],[0.6666666666666666,\"#ed7953\"],[0.7777777777777778,\"#fb9f3a\"],[0.8888888888888888,\"#fdca26\"],[1.0,\"#f0f921\"]]}],\"contourcarpet\":[{\"type\":\"contourcarpet\",\"colorbar\":{\"outlinewidth\":0,\"ticks\":\"\"}}],\"contour\":[{\"type\":\"contour\",\"colorbar\":{\"outlinewidth\":0,\"ticks\":\"\"},\"colorscale\":[[0.0,\"#0d0887\"],[0.1111111111111111,\"#46039f\"],[0.2222222222222222,\"#7201a8\"],[0.3333333333333333,\"#9c179e\"],[0.4444444444444444,\"#bd3786\"],[0.5555555555555556,\"#d8576b\"],[0.6666666666666666,\"#ed7953\"],[0.7777777777777778,\"#fb9f3a\"],[0.8888888888888888,\"#fdca26\"],[1.0,\"#f0f921\"]]}],\"surface\":[{\"type\":\"surface\",\"colorbar\":{\"outlinewidth\":0,\"ticks\":\"\"},\"colorscale\":[[0.0,\"#0d0887\"],[0.1111111111111111,\"#46039f\"],[0.2222222222222222,\"#7201a8\"],[0.3333333333333333,\"#9c179e\"],[0.4444444444444444,\"#bd3786\"],[0.5555555555555556,\"#d8576b\"],[0.6666666666666666,\"#ed7953\"],[0.7777777777777778,\"#fb9f3a\"],[0.8888888888888888,\"#fdca26\"],[1.0,\"#f0f921\"]]}],\"mesh3d\":[{\"type\":\"mesh3d\",\"colorbar\":{\"outlinewidth\":0,\"ticks\":\"\"}}],\"scatter\":[{\"fillpattern\":{\"fillmode\":\"overlay\",\"size\":10,\"solidity\":0.2},\"type\":\"scatter\"}],\"parcoords\":[{\"type\":\"parcoords\",\"line\":{\"colorbar\":{\"outlinewidth\":0,\"ticks\":\"\"}}}],\"scatterpolargl\":[{\"type\":\"scatterpolargl\",\"marker\":{\"colorbar\":{\"outlinewidth\":0,\"ticks\":\"\"}}}],\"bar\":[{\"error_x\":{\"color\":\"#2a3f5f\"},\"error_y\":{\"color\":\"#2a3f5f\"},\"marker\":{\"line\":{\"color\":\"#E5ECF6\",\"width\":0.5},\"pattern\":{\"fillmode\":\"overlay\",\"size\":10,\"solidity\":0.2}},\"type\":\"bar\"}],\"scattergeo\":[{\"type\":\"scattergeo\",\"marker\":{\"colorbar\":{\"outlinewidth\":0,\"ticks\":\"\"}}}],\"scatterpolar\":[{\"type\":\"scatterpolar\",\"marker\":{\"colorbar\":{\"outlinewidth\":0,\"ticks\":\"\"}}}],\"histogram\":[{\"marker\":{\"pattern\":{\"fillmode\":\"overlay\",\"size\":10,\"solidity\":0.2}},\"type\":\"histogram\"}],\"scattergl\":[{\"type\":\"scattergl\",\"marker\":{\"colorbar\":{\"outlinewidth\":0,\"ticks\":\"\"}}}],\"scatter3d\":[{\"type\":\"scatter3d\",\"line\":{\"colorbar\":{\"outlinewidth\":0,\"ticks\":\"\"}},\"marker\":{\"colorbar\":{\"outlinewidth\":0,\"ticks\":\"\"}}}],\"scattermapbox\":[{\"type\":\"scattermapbox\",\"marker\":{\"colorbar\":{\"outlinewidth\":0,\"ticks\":\"\"}}}],\"scatterternary\":[{\"type\":\"scatterternary\",\"marker\":{\"colorbar\":{\"outlinewidth\":0,\"ticks\":\"\"}}}],\"scattercarpet\":[{\"type\":\"scattercarpet\",\"marker\":{\"colorbar\":{\"outlinewidth\":0,\"ticks\":\"\"}}}],\"carpet\":[{\"aaxis\":{\"endlinecolor\":\"#2a3f5f\",\"gridcolor\":\"white\",\"linecolor\":\"white\",\"minorgridcolor\":\"white\",\"startlinecolor\":\"#2a3f5f\"},\"baxis\":{\"endlinecolor\":\"#2a3f5f\",\"gridcolor\":\"white\",\"linecolor\":\"white\",\"minorgridcolor\":\"white\",\"startlinecolor\":\"#2a3f5f\"},\"type\":\"carpet\"}],\"table\":[{\"cells\":{\"fill\":{\"color\":\"#EBF0F8\"},\"line\":{\"color\":\"white\"}},\"header\":{\"fill\":{\"color\":\"#C8D4E3\"},\"line\":{\"color\":\"white\"}},\"type\":\"table\"}],\"barpolar\":[{\"marker\":{\"line\":{\"color\":\"#E5ECF6\",\"width\":0.5},\"pattern\":{\"fillmode\":\"overlay\",\"size\":10,\"solidity\":0.2}},\"type\":\"barpolar\"}],\"pie\":[{\"automargin\":true,\"type\":\"pie\"}]},\"layout\":{\"autotypenumbers\":\"strict\",\"colorway\":[\"#636efa\",\"#EF553B\",\"#00cc96\",\"#ab63fa\",\"#FFA15A\",\"#19d3f3\",\"#FF6692\",\"#B6E880\",\"#FF97FF\",\"#FECB52\"],\"font\":{\"color\":\"#2a3f5f\"},\"hovermode\":\"closest\",\"hoverlabel\":{\"align\":\"left\"},\"paper_bgcolor\":\"white\",\"plot_bgcolor\":\"#E5ECF6\",\"polar\":{\"bgcolor\":\"#E5ECF6\",\"angularaxis\":{\"gridcolor\":\"white\",\"linecolor\":\"white\",\"ticks\":\"\"},\"radialaxis\":{\"gridcolor\":\"white\",\"linecolor\":\"white\",\"ticks\":\"\"}},\"ternary\":{\"bgcolor\":\"#E5ECF6\",\"aaxis\":{\"gridcolor\":\"white\",\"linecolor\":\"white\",\"ticks\":\"\"},\"baxis\":{\"gridcolor\":\"white\",\"linecolor\":\"white\",\"ticks\":\"\"},\"caxis\":{\"gridcolor\":\"white\",\"linecolor\":\"white\",\"ticks\":\"\"}},\"coloraxis\":{\"colorbar\":{\"outlinewidth\":0,\"ticks\":\"\"}},\"colorscale\":{\"sequential\":[[0.0,\"#0d0887\"],[0.1111111111111111,\"#46039f\"],[0.2222222222222222,\"#7201a8\"],[0.3333333333333333,\"#9c179e\"],[0.4444444444444444,\"#bd3786\"],[0.5555555555555556,\"#d8576b\"],[0.6666666666666666,\"#ed7953\"],[0.7777777777777778,\"#fb9f3a\"],[0.8888888888888888,\"#fdca26\"],[1.0,\"#f0f921\"]],\"sequentialminus\":[[0.0,\"#0d0887\"],[0.1111111111111111,\"#46039f\"],[0.2222222222222222,\"#7201a8\"],[0.3333333333333333,\"#9c179e\"],[0.4444444444444444,\"#bd3786\"],[0.5555555555555556,\"#d8576b\"],[0.6666666666666666,\"#ed7953\"],[0.7777777777777778,\"#fb9f3a\"],[0.8888888888888888,\"#fdca26\"],[1.0,\"#f0f921\"]],\"diverging\":[[0,\"#8e0152\"],[0.1,\"#c51b7d\"],[0.2,\"#de77ae\"],[0.3,\"#f1b6da\"],[0.4,\"#fde0ef\"],[0.5,\"#f7f7f7\"],[0.6,\"#e6f5d0\"],[0.7,\"#b8e186\"],[0.8,\"#7fbc41\"],[0.9,\"#4d9221\"],[1,\"#276419\"]]},\"xaxis\":{\"gridcolor\":\"white\",\"linecolor\":\"white\",\"ticks\":\"\",\"title\":{\"standoff\":15},\"zerolinecolor\":\"white\",\"automargin\":true,\"zerolinewidth\":2},\"yaxis\":{\"gridcolor\":\"white\",\"linecolor\":\"white\",\"ticks\":\"\",\"title\":{\"standoff\":15},\"zerolinecolor\":\"white\",\"automargin\":true,\"zerolinewidth\":2},\"scene\":{\"xaxis\":{\"backgroundcolor\":\"#E5ECF6\",\"gridcolor\":\"white\",\"linecolor\":\"white\",\"showbackground\":true,\"ticks\":\"\",\"zerolinecolor\":\"white\",\"gridwidth\":2},\"yaxis\":{\"backgroundcolor\":\"#E5ECF6\",\"gridcolor\":\"white\",\"linecolor\":\"white\",\"showbackground\":true,\"ticks\":\"\",\"zerolinecolor\":\"white\",\"gridwidth\":2},\"zaxis\":{\"backgroundcolor\":\"#E5ECF6\",\"gridcolor\":\"white\",\"linecolor\":\"white\",\"showbackground\":true,\"ticks\":\"\",\"zerolinecolor\":\"white\",\"gridwidth\":2}},\"shapedefaults\":{\"line\":{\"color\":\"#2a3f5f\"}},\"annotationdefaults\":{\"arrowcolor\":\"#2a3f5f\",\"arrowhead\":0,\"arrowwidth\":1},\"geo\":{\"bgcolor\":\"white\",\"landcolor\":\"#E5ECF6\",\"subunitcolor\":\"white\",\"showland\":true,\"showlakes\":true,\"lakecolor\":\"white\"},\"title\":{\"x\":0.05},\"mapbox\":{\"style\":\"light\"}}}},                        {\"responsive\": true}                    ).then(function(){\n",
       "                            \n",
       "var gd = document.getElementById('a64ef901-4c70-4707-95a4-1aac6c2b0b5b');\n",
       "var x = new MutationObserver(function (mutations, observer) {{\n",
       "        var display = window.getComputedStyle(gd).display;\n",
       "        if (!display || display === 'none') {{\n",
       "            console.log([gd, 'removed!']);\n",
       "            Plotly.purge(gd);\n",
       "            observer.disconnect();\n",
       "        }}\n",
       "}});\n",
       "\n",
       "// Listen for the removal of the full notebook cells\n",
       "var notebookContainer = gd.closest('#notebook-container');\n",
       "if (notebookContainer) {{\n",
       "    x.observe(notebookContainer, {childList: true});\n",
       "}}\n",
       "\n",
       "// Listen for the clearing of the current output cell\n",
       "var outputEl = gd.closest('.output');\n",
       "if (outputEl) {{\n",
       "    x.observe(outputEl, {childList: true});\n",
       "}}\n",
       "\n",
       "                        })                };                });            </script>        </div>"
      ]
     },
     "metadata": {},
     "output_type": "display_data"
    },
    {
     "data": {
      "application/vnd.plotly.v1+json": {
       "config": {
        "plotlyServerURL": "https://plot.ly"
       },
       "data": [
        {
         "line": {
          "color": "rgba(255, 153, 51, 1.0)",
          "dash": "solid",
          "shape": "linear",
          "width": 1.3
         },
         "marker": {
          "size": 12,
          "symbol": "circle"
         },
         "mode": "markers",
         "name": "Quote Delay",
         "text": "",
         "type": "scatter",
         "x": [
          0,
          1,
          2,
          3,
          4,
          5,
          6,
          7,
          8,
          9,
          10,
          11,
          12,
          13,
          14,
          15,
          16,
          17,
          18,
          19,
          20,
          21,
          22,
          23,
          24,
          25,
          26,
          27,
          28,
          29,
          30,
          31,
          32,
          33,
          34,
          35,
          36,
          37,
          38,
          39,
          40,
          41,
          42,
          43,
          44,
          45,
          46,
          47,
          48,
          49,
          50,
          51,
          52,
          53,
          54,
          55,
          56,
          57,
          58,
          59,
          60,
          61,
          62,
          63,
          64,
          65,
          66,
          67,
          68,
          69,
          70,
          71,
          72,
          73,
          74,
          75,
          76,
          77,
          78,
          79,
          80,
          81,
          82,
          83,
          84,
          85,
          86,
          87,
          88,
          89,
          90,
          91,
          92,
          93,
          94,
          95,
          96,
          97,
          98,
          99,
          100,
          101,
          102,
          103,
          104,
          105,
          106,
          107,
          108,
          109,
          110,
          111,
          112,
          113,
          114,
          115,
          116,
          117,
          118,
          119,
          120,
          121,
          122,
          123,
          124,
          125,
          126,
          127,
          128,
          129,
          130,
          131,
          132,
          133,
          134,
          135,
          136,
          137,
          138,
          139,
          140,
          141,
          142,
          143,
          144,
          145,
          146,
          147,
          148,
          149,
          150,
          151,
          152,
          153,
          154,
          155,
          156,
          157,
          158,
          159,
          160,
          161,
          162,
          163,
          164,
          165,
          166,
          167,
          168,
          169,
          170,
          171,
          172,
          173,
          174,
          175,
          176,
          177,
          178,
          179,
          180,
          181,
          182,
          183,
          184,
          185,
          186,
          187,
          188,
          189,
          190,
          191,
          192,
          193,
          194,
          195,
          196,
          197,
          198,
          199,
          200,
          201,
          202,
          203,
          204,
          205,
          206,
          207,
          208,
          209,
          210,
          211,
          212,
          213,
          214,
          215,
          216,
          217,
          218,
          219,
          220,
          221,
          222,
          223,
          224,
          225,
          226,
          227,
          228,
          229,
          230,
          231,
          232,
          233,
          234,
          235,
          236,
          237,
          238,
          239,
          240,
          241,
          242,
          243,
          244,
          245,
          246,
          247,
          248,
          249,
          250,
          251,
          252,
          253,
          254,
          255,
          256,
          257,
          258,
          259,
          260,
          261,
          262,
          263,
          264,
          265,
          266,
          267,
          268,
          269,
          270,
          271,
          272,
          273,
          274,
          275,
          276,
          277,
          278,
          279,
          280,
          281,
          282,
          283,
          284,
          285,
          286,
          287,
          288,
          289,
          290,
          291,
          292,
          293,
          294,
          295,
          296,
          297,
          298,
          299,
          300,
          301,
          302,
          303,
          304,
          305,
          306,
          307,
          308,
          309,
          310,
          311,
          312,
          313,
          314,
          315,
          316,
          317,
          318,
          319,
          320,
          321,
          322,
          323,
          324,
          325,
          326,
          327,
          328,
          329,
          330,
          331,
          332,
          333,
          334,
          335,
          336,
          337,
          338,
          339,
          340,
          341,
          342,
          343,
          344,
          345,
          346,
          347,
          348,
          349,
          350,
          351,
          352,
          353,
          354,
          355,
          356,
          357,
          358,
          359,
          360,
          361,
          362,
          363,
          364,
          365,
          366,
          367,
          368,
          369,
          370,
          371,
          372,
          373,
          374,
          375,
          376,
          377,
          378,
          379,
          380,
          381,
          382,
          383,
          384,
          385,
          386,
          387,
          388,
          389,
          390,
          391,
          392,
          393,
          394,
          395,
          396,
          397,
          398,
          399,
          400,
          401,
          402,
          403,
          404,
          405,
          406,
          407,
          408,
          409,
          410,
          411,
          412,
          413,
          414,
          415,
          416,
          417,
          418,
          419,
          420,
          421,
          422,
          423,
          424,
          425,
          426,
          427,
          428,
          429,
          430,
          431,
          432,
          433,
          434,
          435,
          436,
          437,
          438,
          439,
          440,
          441,
          442,
          443,
          444,
          445,
          446,
          447,
          448,
          449,
          450,
          451,
          452,
          453,
          454,
          455,
          456,
          457,
          458,
          459,
          460,
          461,
          462,
          463,
          464,
          465,
          466,
          467,
          468,
          469,
          470,
          471,
          472,
          473,
          474,
          475,
          476,
          477,
          478,
          479,
          480,
          481,
          482,
          483,
          484,
          485,
          486,
          487,
          488,
          489,
          490,
          491,
          492,
          493,
          494,
          495,
          496,
          497,
          498,
          499,
          500,
          501,
          502,
          503,
          504,
          505,
          506,
          507,
          508,
          509,
          510,
          511,
          512,
          513,
          514,
          515,
          516,
          517,
          518,
          519,
          520,
          521,
          522,
          523,
          524,
          525,
          526,
          527,
          528,
          529,
          530,
          531,
          532,
          533,
          534,
          535,
          536,
          537,
          538,
          539,
          540,
          541,
          542,
          543,
          544,
          545,
          546,
          547,
          548,
          549,
          550,
          551,
          552,
          553,
          554,
          555,
          556,
          557,
          558,
          559,
          560,
          561,
          562,
          563,
          564,
          565,
          566,
          567,
          568,
          569,
          570,
          571,
          572,
          573,
          574,
          575,
          576,
          577,
          578,
          579,
          580,
          581,
          582,
          583,
          584,
          585,
          586,
          587,
          588,
          589,
          590,
          591,
          592,
          593,
          594,
          595,
          596,
          597,
          598,
          599,
          600,
          601,
          602,
          603,
          604,
          605,
          606,
          607,
          608,
          609,
          610,
          611,
          612,
          613,
          614,
          615,
          616,
          617,
          618,
          619,
          620,
          621,
          622,
          623,
          624,
          625,
          626,
          627,
          628,
          629,
          630,
          631,
          632,
          633,
          634,
          635,
          636,
          637,
          638,
          639,
          640,
          641,
          642,
          643,
          644,
          645,
          646,
          647,
          648,
          649,
          650,
          651,
          652,
          653,
          654,
          655,
          656,
          657,
          658,
          659,
          660,
          661,
          662,
          663,
          664,
          665,
          666,
          667,
          668,
          669,
          670,
          671,
          672,
          673,
          674,
          675,
          676,
          677,
          678,
          679,
          680,
          681,
          682,
          683,
          684,
          685,
          686,
          687,
          688,
          689,
          690,
          691,
          692,
          693,
          694,
          695,
          696,
          697,
          698,
          699,
          700,
          701,
          702,
          703,
          704,
          705,
          706,
          707,
          708,
          709,
          710,
          711,
          712,
          713,
          714,
          715,
          716,
          717,
          718,
          719,
          720,
          721,
          722,
          723,
          724,
          725,
          726,
          727,
          728,
          729,
          730,
          731,
          732,
          733,
          734,
          735,
          736,
          737,
          738,
          739,
          740,
          741,
          742,
          743,
          744,
          745,
          746,
          747,
          748,
          749,
          750,
          751,
          752,
          753,
          754,
          755,
          756,
          757,
          758,
          759,
          760,
          761,
          762,
          763,
          764,
          765,
          766,
          767,
          768,
          769,
          770,
          771,
          772,
          773,
          774,
          775,
          776,
          777,
          778,
          779,
          780,
          781,
          782,
          783,
          784,
          785,
          786,
          787,
          788,
          789,
          790,
          791,
          792,
          793,
          794,
          795,
          796,
          797,
          798,
          799,
          800,
          801,
          802,
          803,
          804,
          805,
          806,
          807,
          808,
          809,
          810,
          811,
          812,
          813,
          814,
          815,
          816,
          817,
          818,
          819,
          820,
          821,
          822,
          823,
          824,
          825,
          826,
          827,
          828,
          829,
          830,
          831,
          832
         ],
         "y": [
          2,
          0,
          3,
          89,
          18,
          0,
          0,
          17,
          1,
          0,
          0,
          34,
          34,
          34,
          14,
          29,
          21,
          4,
          3,
          2,
          1,
          2,
          135,
          64,
          72,
          2,
          1,
          1,
          1,
          1,
          1,
          1,
          5,
          1,
          20,
          64,
          57,
          18,
          3,
          102,
          3,
          3,
          0,
          0,
          2,
          103,
          50,
          50,
          50,
          12,
          98,
          11,
          90,
          6,
          0,
          0,
          67,
          43,
          42,
          70,
          1,
          5,
          5,
          0,
          4,
          4,
          3,
          0,
          28,
          0,
          0,
          0,
          0,
          0,
          0,
          84,
          1,
          103,
          7,
          7,
          7,
          2,
          3,
          55,
          101,
          127,
          0,
          99,
          1,
          39,
          39,
          39,
          87,
          24,
          35,
          24,
          24,
          24,
          24,
          24,
          17,
          24,
          24,
          35,
          24,
          1,
          1,
          1,
          1,
          22,
          35,
          22,
          46,
          91,
          40,
          2,
          0,
          5,
          5,
          19,
          13,
          22,
          77,
          38,
          38,
          38,
          38,
          38,
          38,
          38,
          38,
          38,
          38,
          0,
          9,
          2,
          238,
          34,
          34,
          34,
          34,
          34,
          34,
          34,
          3,
          18,
          18,
          18,
          0,
          0,
          0,
          0,
          0,
          0,
          2,
          30,
          30,
          30,
          30,
          30,
          52,
          69,
          30,
          30,
          30,
          30,
          206,
          30,
          30,
          51,
          30,
          16,
          3,
          27,
          3,
          2,
          29,
          29,
          29,
          29,
          29,
          34,
          29,
          47,
          47,
          2,
          2,
          2,
          13,
          8,
          2,
          7,
          1,
          29,
          14,
          1,
          1,
          1,
          1,
          1,
          1,
          1,
          1,
          25,
          1,
          1,
          1,
          1,
          1,
          1,
          1,
          1,
          1,
          28,
          1,
          1,
          1,
          1,
          1,
          1,
          1,
          1,
          1,
          1,
          1,
          1,
          1,
          0,
          0,
          0,
          0,
          0,
          5,
          0,
          0,
          0,
          0,
          0,
          0,
          0,
          32,
          66,
          30,
          22,
          43,
          31,
          20,
          1,
          1,
          1,
          0,
          19,
          6,
          1,
          1,
          40,
          69,
          17,
          14,
          1,
          14,
          14,
          3,
          59,
          48,
          0,
          20,
          1,
          0,
          11,
          11,
          11,
          42,
          3,
          3,
          3,
          3,
          3,
          3,
          3,
          3,
          3,
          3,
          3,
          3,
          21,
          0,
          0,
          8,
          2,
          2,
          41,
          2,
          2,
          2,
          2,
          2,
          2,
          2,
          2,
          2,
          2,
          2,
          2,
          213,
          2,
          2,
          2,
          2,
          2,
          2,
          7,
          7,
          20,
          2,
          19,
          19,
          1,
          1,
          1,
          1,
          1,
          1,
          1,
          1,
          1,
          1,
          1,
          1,
          1,
          1,
          19,
          219,
          212,
          212,
          196,
          218,
          33,
          5,
          18,
          6,
          4,
          20,
          3,
          3,
          2,
          0,
          1,
          1,
          1,
          1,
          1,
          0,
          142,
          0,
          1,
          3,
          8,
          13,
          1,
          0,
          15,
          0,
          0,
          0,
          0,
          0,
          0,
          12,
          1,
          0,
          10,
          0,
          10,
          22,
          7,
          7,
          7,
          28,
          7,
          7,
          1,
          0,
          0,
          0,
          0,
          1,
          5,
          20,
          20,
          19,
          20,
          25,
          28,
          3,
          3,
          3,
          3,
          8,
          4,
          3,
          1,
          12,
          1,
          11,
          17,
          17,
          10,
          8,
          11,
          174,
          112,
          27,
          149,
          4,
          5,
          14,
          4,
          3,
          1,
          1,
          2,
          2,
          1,
          1,
          14,
          0,
          167,
          1,
          3,
          29,
          3,
          0,
          1,
          13,
          1,
          1,
          88,
          88,
          5,
          6,
          11,
          5,
          3,
          2,
          135,
          1,
          1,
          1,
          22,
          1,
          36,
          17,
          133,
          146,
          35,
          76,
          76,
          11,
          158,
          8,
          135,
          7,
          150,
          3,
          3,
          119,
          2,
          5,
          5,
          155,
          154,
          80,
          9,
          79,
          0,
          1,
          1,
          2,
          0,
          77,
          133,
          76,
          48,
          76,
          18,
          5,
          6,
          14,
          18,
          67,
          67,
          10,
          10,
          121,
          14,
          0,
          71,
          100,
          9,
          71,
          17,
          0,
          60,
          6,
          8,
          1,
          1,
          1,
          1,
          61,
          53,
          3,
          53,
          112,
          9,
          91,
          112,
          2,
          7,
          5,
          0,
          1,
          79,
          0,
          85,
          34,
          34,
          37,
          29,
          26,
          26,
          114,
          81,
          71,
          6,
          10,
          13,
          13,
          32,
          32,
          12,
          12,
          12,
          12,
          12,
          1,
          1,
          1,
          11,
          25,
          25,
          25,
          25,
          7,
          14,
          6,
          85,
          85,
          92,
          92,
          15,
          4,
          7,
          4,
          4,
          49,
          1,
          1,
          0,
          1,
          1,
          42,
          42,
          14,
          14,
          45,
          4,
          10,
          10,
          10,
          10,
          10,
          9,
          9,
          8,
          8,
          8,
          8,
          8,
          9,
          6,
          6,
          0,
          5,
          5,
          5,
          5,
          6,
          6,
          3,
          1,
          1,
          2,
          2,
          2,
          1,
          1,
          1,
          1,
          1,
          0,
          0,
          6,
          29,
          0,
          23,
          23,
          22,
          15,
          40,
          40,
          27,
          0,
          114,
          114,
          38,
          1,
          1,
          8,
          33,
          33,
          33,
          33,
          33,
          1,
          1,
          14,
          25,
          14,
          20,
          0,
          7,
          13,
          17,
          6,
          6,
          6,
          52,
          14,
          14,
          9,
          20,
          31,
          31,
          31,
          24,
          2,
          7,
          7,
          7,
          7,
          11,
          50,
          5,
          5,
          13,
          2,
          2,
          24,
          24,
          17,
          1,
          1,
          5,
          5,
          4,
          4,
          4,
          4,
          4,
          4,
          4,
          4,
          0,
          6,
          6,
          6,
          3,
          3,
          0,
          3,
          12,
          9,
          2,
          2,
          16,
          16,
          1,
          1,
          1,
          1,
          1,
          1,
          1,
          1,
          1,
          11,
          0,
          31,
          49,
          9,
          9,
          9,
          7,
          7,
          7,
          5,
          42,
          3,
          5,
          3,
          4,
          4,
          3,
          3,
          1,
          0,
          2,
          2,
          1,
          21,
          27,
          22,
          22,
          1,
          0,
          16,
          16,
          16,
          16,
          13,
          12,
          11,
          20,
          5,
          2,
          17,
          1,
          4,
          3,
          2,
          3,
          11,
          5,
          6,
          6,
          12,
          5,
          4,
          1,
          0,
          6,
          2,
          2,
          2,
          1,
          9,
          7,
          7,
          6,
          5,
          163,
          3,
          5,
          5,
          2,
          1,
          1,
          2,
          2,
          2,
          2,
          2,
          1,
          1,
          7,
          3,
          3,
          3,
          3,
          3,
          3,
          3,
          3,
          3,
          3,
          3,
          3,
          3,
          1,
          1,
          34,
          29,
          7,
          24,
          2,
          5,
          2,
          8,
          15,
          7,
          7,
          2,
          9,
          1,
          30,
          7,
          7,
          9,
          40,
          19,
          8,
          8,
          6,
          6,
          7,
          8,
          19,
          19,
          19,
          8,
          5
         ]
        },
        {
         "marker": {
          "color": "red",
          "size": 10,
          "symbol": "x"
         },
         "mode": "markers",
         "name": "idx 3",
         "showlegend": false,
         "type": "scatter",
         "x": [
          3
         ],
         "y": [
          89
         ]
        },
        {
         "marker": {
          "color": "red",
          "size": 10,
          "symbol": "x"
         },
         "mode": "markers",
         "name": "idx 11",
         "showlegend": false,
         "type": "scatter",
         "x": [
          11
         ],
         "y": [
          34
         ]
        },
        {
         "marker": {
          "color": "red",
          "size": 10,
          "symbol": "x"
         },
         "mode": "markers",
         "name": "idx 12",
         "showlegend": false,
         "type": "scatter",
         "x": [
          12
         ],
         "y": [
          34
         ]
        },
        {
         "marker": {
          "color": "red",
          "size": 10,
          "symbol": "x"
         },
         "mode": "markers",
         "name": "idx 13",
         "showlegend": false,
         "type": "scatter",
         "x": [
          13
         ],
         "y": [
          34
         ]
        },
        {
         "marker": {
          "color": "red",
          "size": 10,
          "symbol": "x"
         },
         "mode": "markers",
         "name": "idx 15",
         "showlegend": false,
         "type": "scatter",
         "x": [
          15
         ],
         "y": [
          29
         ]
        },
        {
         "marker": {
          "color": "red",
          "size": 10,
          "symbol": "x"
         },
         "mode": "markers",
         "name": "idx 22",
         "showlegend": false,
         "type": "scatter",
         "x": [
          22
         ],
         "y": [
          135
         ]
        },
        {
         "marker": {
          "color": "red",
          "size": 10,
          "symbol": "x"
         },
         "mode": "markers",
         "name": "idx 23",
         "showlegend": false,
         "type": "scatter",
         "x": [
          23
         ],
         "y": [
          64
         ]
        },
        {
         "marker": {
          "color": "red",
          "size": 10,
          "symbol": "x"
         },
         "mode": "markers",
         "name": "idx 24",
         "showlegend": false,
         "type": "scatter",
         "x": [
          24
         ],
         "y": [
          72
         ]
        },
        {
         "marker": {
          "color": "red",
          "size": 10,
          "symbol": "x"
         },
         "mode": "markers",
         "name": "idx 35",
         "showlegend": false,
         "type": "scatter",
         "x": [
          35
         ],
         "y": [
          64
         ]
        },
        {
         "marker": {
          "color": "red",
          "size": 10,
          "symbol": "x"
         },
         "mode": "markers",
         "name": "idx 36",
         "showlegend": false,
         "type": "scatter",
         "x": [
          36
         ],
         "y": [
          57
         ]
        },
        {
         "marker": {
          "color": "red",
          "size": 10,
          "symbol": "x"
         },
         "mode": "markers",
         "name": "idx 39",
         "showlegend": false,
         "type": "scatter",
         "x": [
          39
         ],
         "y": [
          102
         ]
        },
        {
         "marker": {
          "color": "red",
          "size": 10,
          "symbol": "x"
         },
         "mode": "markers",
         "name": "idx 45",
         "showlegend": false,
         "type": "scatter",
         "x": [
          45
         ],
         "y": [
          103
         ]
        },
        {
         "marker": {
          "color": "red",
          "size": 10,
          "symbol": "x"
         },
         "mode": "markers",
         "name": "idx 46",
         "showlegend": false,
         "type": "scatter",
         "x": [
          46
         ],
         "y": [
          50
         ]
        },
        {
         "marker": {
          "color": "red",
          "size": 10,
          "symbol": "x"
         },
         "mode": "markers",
         "name": "idx 47",
         "showlegend": false,
         "type": "scatter",
         "x": [
          47
         ],
         "y": [
          50
         ]
        },
        {
         "marker": {
          "color": "red",
          "size": 10,
          "symbol": "x"
         },
         "mode": "markers",
         "name": "idx 48",
         "showlegend": false,
         "type": "scatter",
         "x": [
          48
         ],
         "y": [
          50
         ]
        },
        {
         "marker": {
          "color": "red",
          "size": 10,
          "symbol": "x"
         },
         "mode": "markers",
         "name": "idx 50",
         "showlegend": false,
         "type": "scatter",
         "x": [
          50
         ],
         "y": [
          98
         ]
        },
        {
         "marker": {
          "color": "red",
          "size": 10,
          "symbol": "x"
         },
         "mode": "markers",
         "name": "idx 52",
         "showlegend": false,
         "type": "scatter",
         "x": [
          52
         ],
         "y": [
          90
         ]
        },
        {
         "marker": {
          "color": "red",
          "size": 10,
          "symbol": "x"
         },
         "mode": "markers",
         "name": "idx 56",
         "showlegend": false,
         "type": "scatter",
         "x": [
          56
         ],
         "y": [
          67
         ]
        },
        {
         "marker": {
          "color": "red",
          "size": 10,
          "symbol": "x"
         },
         "mode": "markers",
         "name": "idx 57",
         "showlegend": false,
         "type": "scatter",
         "x": [
          57
         ],
         "y": [
          43
         ]
        },
        {
         "marker": {
          "color": "red",
          "size": 10,
          "symbol": "x"
         },
         "mode": "markers",
         "name": "idx 58",
         "showlegend": false,
         "type": "scatter",
         "x": [
          58
         ],
         "y": [
          42
         ]
        },
        {
         "marker": {
          "color": "red",
          "size": 10,
          "symbol": "x"
         },
         "mode": "markers",
         "name": "idx 59",
         "showlegend": false,
         "type": "scatter",
         "x": [
          59
         ],
         "y": [
          70
         ]
        },
        {
         "marker": {
          "color": "red",
          "size": 10,
          "symbol": "x"
         },
         "mode": "markers",
         "name": "idx 68",
         "showlegend": false,
         "type": "scatter",
         "x": [
          68
         ],
         "y": [
          28
         ]
        },
        {
         "marker": {
          "color": "red",
          "size": 10,
          "symbol": "x"
         },
         "mode": "markers",
         "name": "idx 75",
         "showlegend": false,
         "type": "scatter",
         "x": [
          75
         ],
         "y": [
          84
         ]
        },
        {
         "marker": {
          "color": "red",
          "size": 10,
          "symbol": "x"
         },
         "mode": "markers",
         "name": "idx 77",
         "showlegend": false,
         "type": "scatter",
         "x": [
          77
         ],
         "y": [
          103
         ]
        },
        {
         "marker": {
          "color": "red",
          "size": 10,
          "symbol": "x"
         },
         "mode": "markers",
         "name": "idx 83",
         "showlegend": false,
         "type": "scatter",
         "x": [
          83
         ],
         "y": [
          55
         ]
        },
        {
         "marker": {
          "color": "red",
          "size": 10,
          "symbol": "x"
         },
         "mode": "markers",
         "name": "idx 84",
         "showlegend": false,
         "type": "scatter",
         "x": [
          84
         ],
         "y": [
          101
         ]
        },
        {
         "marker": {
          "color": "red",
          "size": 10,
          "symbol": "x"
         },
         "mode": "markers",
         "name": "idx 85",
         "showlegend": false,
         "type": "scatter",
         "x": [
          85
         ],
         "y": [
          127
         ]
        },
        {
         "marker": {
          "color": "red",
          "size": 10,
          "symbol": "x"
         },
         "mode": "markers",
         "name": "idx 87",
         "showlegend": false,
         "type": "scatter",
         "x": [
          87
         ],
         "y": [
          99
         ]
        },
        {
         "marker": {
          "color": "red",
          "size": 10,
          "symbol": "x"
         },
         "mode": "markers",
         "name": "idx 89",
         "showlegend": false,
         "type": "scatter",
         "x": [
          89
         ],
         "y": [
          39
         ]
        },
        {
         "marker": {
          "color": "red",
          "size": 10,
          "symbol": "x"
         },
         "mode": "markers",
         "name": "idx 90",
         "showlegend": false,
         "type": "scatter",
         "x": [
          90
         ],
         "y": [
          39
         ]
        },
        {
         "marker": {
          "color": "red",
          "size": 10,
          "symbol": "x"
         },
         "mode": "markers",
         "name": "idx 91",
         "showlegend": false,
         "type": "scatter",
         "x": [
          91
         ],
         "y": [
          39
         ]
        },
        {
         "marker": {
          "color": "red",
          "size": 10,
          "symbol": "x"
         },
         "mode": "markers",
         "name": "idx 92",
         "showlegend": false,
         "type": "scatter",
         "x": [
          92
         ],
         "y": [
          87
         ]
        },
        {
         "marker": {
          "color": "red",
          "size": 10,
          "symbol": "x"
         },
         "mode": "markers",
         "name": "idx 93",
         "showlegend": false,
         "type": "scatter",
         "x": [
          93
         ],
         "y": [
          24
         ]
        },
        {
         "marker": {
          "color": "red",
          "size": 10,
          "symbol": "x"
         },
         "mode": "markers",
         "name": "idx 94",
         "showlegend": false,
         "type": "scatter",
         "x": [
          94
         ],
         "y": [
          35
         ]
        },
        {
         "marker": {
          "color": "red",
          "size": 10,
          "symbol": "x"
         },
         "mode": "markers",
         "name": "idx 95",
         "showlegend": false,
         "type": "scatter",
         "x": [
          95
         ],
         "y": [
          24
         ]
        },
        {
         "marker": {
          "color": "red",
          "size": 10,
          "symbol": "x"
         },
         "mode": "markers",
         "name": "idx 96",
         "showlegend": false,
         "type": "scatter",
         "x": [
          96
         ],
         "y": [
          24
         ]
        },
        {
         "marker": {
          "color": "red",
          "size": 10,
          "symbol": "x"
         },
         "mode": "markers",
         "name": "idx 97",
         "showlegend": false,
         "type": "scatter",
         "x": [
          97
         ],
         "y": [
          24
         ]
        },
        {
         "marker": {
          "color": "red",
          "size": 10,
          "symbol": "x"
         },
         "mode": "markers",
         "name": "idx 98",
         "showlegend": false,
         "type": "scatter",
         "x": [
          98
         ],
         "y": [
          24
         ]
        },
        {
         "marker": {
          "color": "red",
          "size": 10,
          "symbol": "x"
         },
         "mode": "markers",
         "name": "idx 99",
         "showlegend": false,
         "type": "scatter",
         "x": [
          99
         ],
         "y": [
          24
         ]
        },
        {
         "marker": {
          "color": "red",
          "size": 10,
          "symbol": "x"
         },
         "mode": "markers",
         "name": "idx 101",
         "showlegend": false,
         "type": "scatter",
         "x": [
          101
         ],
         "y": [
          24
         ]
        },
        {
         "marker": {
          "color": "red",
          "size": 10,
          "symbol": "x"
         },
         "mode": "markers",
         "name": "idx 102",
         "showlegend": false,
         "type": "scatter",
         "x": [
          102
         ],
         "y": [
          24
         ]
        },
        {
         "marker": {
          "color": "red",
          "size": 10,
          "symbol": "x"
         },
         "mode": "markers",
         "name": "idx 103",
         "showlegend": false,
         "type": "scatter",
         "x": [
          103
         ],
         "y": [
          35
         ]
        },
        {
         "marker": {
          "color": "red",
          "size": 10,
          "symbol": "x"
         },
         "mode": "markers",
         "name": "idx 104",
         "showlegend": false,
         "type": "scatter",
         "x": [
          104
         ],
         "y": [
          24
         ]
        },
        {
         "marker": {
          "color": "red",
          "size": 10,
          "symbol": "x"
         },
         "mode": "markers",
         "name": "idx 109",
         "showlegend": false,
         "type": "scatter",
         "x": [
          109
         ],
         "y": [
          22
         ]
        },
        {
         "marker": {
          "color": "red",
          "size": 10,
          "symbol": "x"
         },
         "mode": "markers",
         "name": "idx 110",
         "showlegend": false,
         "type": "scatter",
         "x": [
          110
         ],
         "y": [
          35
         ]
        },
        {
         "marker": {
          "color": "red",
          "size": 10,
          "symbol": "x"
         },
         "mode": "markers",
         "name": "idx 111",
         "showlegend": false,
         "type": "scatter",
         "x": [
          111
         ],
         "y": [
          22
         ]
        },
        {
         "marker": {
          "color": "red",
          "size": 10,
          "symbol": "x"
         },
         "mode": "markers",
         "name": "idx 112",
         "showlegend": false,
         "type": "scatter",
         "x": [
          112
         ],
         "y": [
          46
         ]
        },
        {
         "marker": {
          "color": "red",
          "size": 10,
          "symbol": "x"
         },
         "mode": "markers",
         "name": "idx 113",
         "showlegend": false,
         "type": "scatter",
         "x": [
          113
         ],
         "y": [
          91
         ]
        },
        {
         "marker": {
          "color": "red",
          "size": 10,
          "symbol": "x"
         },
         "mode": "markers",
         "name": "idx 114",
         "showlegend": false,
         "type": "scatter",
         "x": [
          114
         ],
         "y": [
          40
         ]
        },
        {
         "marker": {
          "color": "red",
          "size": 10,
          "symbol": "x"
         },
         "mode": "markers",
         "name": "idx 121",
         "showlegend": false,
         "type": "scatter",
         "x": [
          121
         ],
         "y": [
          22
         ]
        },
        {
         "marker": {
          "color": "red",
          "size": 10,
          "symbol": "x"
         },
         "mode": "markers",
         "name": "idx 122",
         "showlegend": false,
         "type": "scatter",
         "x": [
          122
         ],
         "y": [
          77
         ]
        },
        {
         "marker": {
          "color": "red",
          "size": 10,
          "symbol": "x"
         },
         "mode": "markers",
         "name": "idx 123",
         "showlegend": false,
         "type": "scatter",
         "x": [
          123
         ],
         "y": [
          38
         ]
        },
        {
         "marker": {
          "color": "red",
          "size": 10,
          "symbol": "x"
         },
         "mode": "markers",
         "name": "idx 124",
         "showlegend": false,
         "type": "scatter",
         "x": [
          124
         ],
         "y": [
          38
         ]
        },
        {
         "marker": {
          "color": "red",
          "size": 10,
          "symbol": "x"
         },
         "mode": "markers",
         "name": "idx 125",
         "showlegend": false,
         "type": "scatter",
         "x": [
          125
         ],
         "y": [
          38
         ]
        },
        {
         "marker": {
          "color": "red",
          "size": 10,
          "symbol": "x"
         },
         "mode": "markers",
         "name": "idx 126",
         "showlegend": false,
         "type": "scatter",
         "x": [
          126
         ],
         "y": [
          38
         ]
        },
        {
         "marker": {
          "color": "red",
          "size": 10,
          "symbol": "x"
         },
         "mode": "markers",
         "name": "idx 127",
         "showlegend": false,
         "type": "scatter",
         "x": [
          127
         ],
         "y": [
          38
         ]
        },
        {
         "marker": {
          "color": "red",
          "size": 10,
          "symbol": "x"
         },
         "mode": "markers",
         "name": "idx 128",
         "showlegend": false,
         "type": "scatter",
         "x": [
          128
         ],
         "y": [
          38
         ]
        },
        {
         "marker": {
          "color": "red",
          "size": 10,
          "symbol": "x"
         },
         "mode": "markers",
         "name": "idx 129",
         "showlegend": false,
         "type": "scatter",
         "x": [
          129
         ],
         "y": [
          38
         ]
        },
        {
         "marker": {
          "color": "red",
          "size": 10,
          "symbol": "x"
         },
         "mode": "markers",
         "name": "idx 130",
         "showlegend": false,
         "type": "scatter",
         "x": [
          130
         ],
         "y": [
          38
         ]
        },
        {
         "marker": {
          "color": "red",
          "size": 10,
          "symbol": "x"
         },
         "mode": "markers",
         "name": "idx 131",
         "showlegend": false,
         "type": "scatter",
         "x": [
          131
         ],
         "y": [
          38
         ]
        },
        {
         "marker": {
          "color": "red",
          "size": 10,
          "symbol": "x"
         },
         "mode": "markers",
         "name": "idx 132",
         "showlegend": false,
         "type": "scatter",
         "x": [
          132
         ],
         "y": [
          38
         ]
        },
        {
         "marker": {
          "color": "red",
          "size": 10,
          "symbol": "x"
         },
         "mode": "markers",
         "name": "idx 136",
         "showlegend": false,
         "type": "scatter",
         "x": [
          136
         ],
         "y": [
          238
         ]
        },
        {
         "marker": {
          "color": "red",
          "size": 10,
          "symbol": "x"
         },
         "mode": "markers",
         "name": "idx 137",
         "showlegend": false,
         "type": "scatter",
         "x": [
          137
         ],
         "y": [
          34
         ]
        },
        {
         "marker": {
          "color": "red",
          "size": 10,
          "symbol": "x"
         },
         "mode": "markers",
         "name": "idx 138",
         "showlegend": false,
         "type": "scatter",
         "x": [
          138
         ],
         "y": [
          34
         ]
        },
        {
         "marker": {
          "color": "red",
          "size": 10,
          "symbol": "x"
         },
         "mode": "markers",
         "name": "idx 139",
         "showlegend": false,
         "type": "scatter",
         "x": [
          139
         ],
         "y": [
          34
         ]
        },
        {
         "marker": {
          "color": "red",
          "size": 10,
          "symbol": "x"
         },
         "mode": "markers",
         "name": "idx 140",
         "showlegend": false,
         "type": "scatter",
         "x": [
          140
         ],
         "y": [
          34
         ]
        },
        {
         "marker": {
          "color": "red",
          "size": 10,
          "symbol": "x"
         },
         "mode": "markers",
         "name": "idx 141",
         "showlegend": false,
         "type": "scatter",
         "x": [
          141
         ],
         "y": [
          34
         ]
        },
        {
         "marker": {
          "color": "red",
          "size": 10,
          "symbol": "x"
         },
         "mode": "markers",
         "name": "idx 142",
         "showlegend": false,
         "type": "scatter",
         "x": [
          142
         ],
         "y": [
          34
         ]
        },
        {
         "marker": {
          "color": "red",
          "size": 10,
          "symbol": "x"
         },
         "mode": "markers",
         "name": "idx 143",
         "showlegend": false,
         "type": "scatter",
         "x": [
          143
         ],
         "y": [
          34
         ]
        },
        {
         "marker": {
          "color": "red",
          "size": 10,
          "symbol": "x"
         },
         "mode": "markers",
         "name": "idx 155",
         "showlegend": false,
         "type": "scatter",
         "x": [
          155
         ],
         "y": [
          30
         ]
        },
        {
         "marker": {
          "color": "red",
          "size": 10,
          "symbol": "x"
         },
         "mode": "markers",
         "name": "idx 156",
         "showlegend": false,
         "type": "scatter",
         "x": [
          156
         ],
         "y": [
          30
         ]
        },
        {
         "marker": {
          "color": "red",
          "size": 10,
          "symbol": "x"
         },
         "mode": "markers",
         "name": "idx 157",
         "showlegend": false,
         "type": "scatter",
         "x": [
          157
         ],
         "y": [
          30
         ]
        },
        {
         "marker": {
          "color": "red",
          "size": 10,
          "symbol": "x"
         },
         "mode": "markers",
         "name": "idx 158",
         "showlegend": false,
         "type": "scatter",
         "x": [
          158
         ],
         "y": [
          30
         ]
        },
        {
         "marker": {
          "color": "red",
          "size": 10,
          "symbol": "x"
         },
         "mode": "markers",
         "name": "idx 159",
         "showlegend": false,
         "type": "scatter",
         "x": [
          159
         ],
         "y": [
          30
         ]
        },
        {
         "marker": {
          "color": "red",
          "size": 10,
          "symbol": "x"
         },
         "mode": "markers",
         "name": "idx 160",
         "showlegend": false,
         "type": "scatter",
         "x": [
          160
         ],
         "y": [
          52
         ]
        },
        {
         "marker": {
          "color": "red",
          "size": 10,
          "symbol": "x"
         },
         "mode": "markers",
         "name": "idx 161",
         "showlegend": false,
         "type": "scatter",
         "x": [
          161
         ],
         "y": [
          69
         ]
        },
        {
         "marker": {
          "color": "red",
          "size": 10,
          "symbol": "x"
         },
         "mode": "markers",
         "name": "idx 162",
         "showlegend": false,
         "type": "scatter",
         "x": [
          162
         ],
         "y": [
          30
         ]
        },
        {
         "marker": {
          "color": "red",
          "size": 10,
          "symbol": "x"
         },
         "mode": "markers",
         "name": "idx 163",
         "showlegend": false,
         "type": "scatter",
         "x": [
          163
         ],
         "y": [
          30
         ]
        },
        {
         "marker": {
          "color": "red",
          "size": 10,
          "symbol": "x"
         },
         "mode": "markers",
         "name": "idx 164",
         "showlegend": false,
         "type": "scatter",
         "x": [
          164
         ],
         "y": [
          30
         ]
        },
        {
         "marker": {
          "color": "red",
          "size": 10,
          "symbol": "x"
         },
         "mode": "markers",
         "name": "idx 165",
         "showlegend": false,
         "type": "scatter",
         "x": [
          165
         ],
         "y": [
          30
         ]
        },
        {
         "marker": {
          "color": "red",
          "size": 10,
          "symbol": "x"
         },
         "mode": "markers",
         "name": "idx 166",
         "showlegend": false,
         "type": "scatter",
         "x": [
          166
         ],
         "y": [
          206
         ]
        },
        {
         "marker": {
          "color": "red",
          "size": 10,
          "symbol": "x"
         },
         "mode": "markers",
         "name": "idx 167",
         "showlegend": false,
         "type": "scatter",
         "x": [
          167
         ],
         "y": [
          30
         ]
        },
        {
         "marker": {
          "color": "red",
          "size": 10,
          "symbol": "x"
         },
         "mode": "markers",
         "name": "idx 168",
         "showlegend": false,
         "type": "scatter",
         "x": [
          168
         ],
         "y": [
          30
         ]
        },
        {
         "marker": {
          "color": "red",
          "size": 10,
          "symbol": "x"
         },
         "mode": "markers",
         "name": "idx 169",
         "showlegend": false,
         "type": "scatter",
         "x": [
          169
         ],
         "y": [
          51
         ]
        },
        {
         "marker": {
          "color": "red",
          "size": 10,
          "symbol": "x"
         },
         "mode": "markers",
         "name": "idx 170",
         "showlegend": false,
         "type": "scatter",
         "x": [
          170
         ],
         "y": [
          30
         ]
        },
        {
         "marker": {
          "color": "red",
          "size": 10,
          "symbol": "x"
         },
         "mode": "markers",
         "name": "idx 173",
         "showlegend": false,
         "type": "scatter",
         "x": [
          173
         ],
         "y": [
          27
         ]
        },
        {
         "marker": {
          "color": "red",
          "size": 10,
          "symbol": "x"
         },
         "mode": "markers",
         "name": "idx 176",
         "showlegend": false,
         "type": "scatter",
         "x": [
          176
         ],
         "y": [
          29
         ]
        },
        {
         "marker": {
          "color": "red",
          "size": 10,
          "symbol": "x"
         },
         "mode": "markers",
         "name": "idx 177",
         "showlegend": false,
         "type": "scatter",
         "x": [
          177
         ],
         "y": [
          29
         ]
        },
        {
         "marker": {
          "color": "red",
          "size": 10,
          "symbol": "x"
         },
         "mode": "markers",
         "name": "idx 178",
         "showlegend": false,
         "type": "scatter",
         "x": [
          178
         ],
         "y": [
          29
         ]
        },
        {
         "marker": {
          "color": "red",
          "size": 10,
          "symbol": "x"
         },
         "mode": "markers",
         "name": "idx 179",
         "showlegend": false,
         "type": "scatter",
         "x": [
          179
         ],
         "y": [
          29
         ]
        },
        {
         "marker": {
          "color": "red",
          "size": 10,
          "symbol": "x"
         },
         "mode": "markers",
         "name": "idx 180",
         "showlegend": false,
         "type": "scatter",
         "x": [
          180
         ],
         "y": [
          29
         ]
        },
        {
         "marker": {
          "color": "red",
          "size": 10,
          "symbol": "x"
         },
         "mode": "markers",
         "name": "idx 181",
         "showlegend": false,
         "type": "scatter",
         "x": [
          181
         ],
         "y": [
          34
         ]
        },
        {
         "marker": {
          "color": "red",
          "size": 10,
          "symbol": "x"
         },
         "mode": "markers",
         "name": "idx 182",
         "showlegend": false,
         "type": "scatter",
         "x": [
          182
         ],
         "y": [
          29
         ]
        },
        {
         "marker": {
          "color": "red",
          "size": 10,
          "symbol": "x"
         },
         "mode": "markers",
         "name": "idx 183",
         "showlegend": false,
         "type": "scatter",
         "x": [
          183
         ],
         "y": [
          47
         ]
        },
        {
         "marker": {
          "color": "red",
          "size": 10,
          "symbol": "x"
         },
         "mode": "markers",
         "name": "idx 184",
         "showlegend": false,
         "type": "scatter",
         "x": [
          184
         ],
         "y": [
          47
         ]
        },
        {
         "marker": {
          "color": "red",
          "size": 10,
          "symbol": "x"
         },
         "mode": "markers",
         "name": "idx 193",
         "showlegend": false,
         "type": "scatter",
         "x": [
          193
         ],
         "y": [
          29
         ]
        },
        {
         "marker": {
          "color": "red",
          "size": 10,
          "symbol": "x"
         },
         "mode": "markers",
         "name": "idx 203",
         "showlegend": false,
         "type": "scatter",
         "x": [
          203
         ],
         "y": [
          25
         ]
        },
        {
         "marker": {
          "color": "red",
          "size": 10,
          "symbol": "x"
         },
         "mode": "markers",
         "name": "idx 213",
         "showlegend": false,
         "type": "scatter",
         "x": [
          213
         ],
         "y": [
          28
         ]
        },
        {
         "marker": {
          "color": "red",
          "size": 10,
          "symbol": "x"
         },
         "mode": "markers",
         "name": "idx 240",
         "showlegend": false,
         "type": "scatter",
         "x": [
          240
         ],
         "y": [
          32
         ]
        },
        {
         "marker": {
          "color": "red",
          "size": 10,
          "symbol": "x"
         },
         "mode": "markers",
         "name": "idx 241",
         "showlegend": false,
         "type": "scatter",
         "x": [
          241
         ],
         "y": [
          66
         ]
        },
        {
         "marker": {
          "color": "red",
          "size": 10,
          "symbol": "x"
         },
         "mode": "markers",
         "name": "idx 242",
         "showlegend": false,
         "type": "scatter",
         "x": [
          242
         ],
         "y": [
          30
         ]
        },
        {
         "marker": {
          "color": "red",
          "size": 10,
          "symbol": "x"
         },
         "mode": "markers",
         "name": "idx 243",
         "showlegend": false,
         "type": "scatter",
         "x": [
          243
         ],
         "y": [
          22
         ]
        },
        {
         "marker": {
          "color": "red",
          "size": 10,
          "symbol": "x"
         },
         "mode": "markers",
         "name": "idx 244",
         "showlegend": false,
         "type": "scatter",
         "x": [
          244
         ],
         "y": [
          43
         ]
        },
        {
         "marker": {
          "color": "red",
          "size": 10,
          "symbol": "x"
         },
         "mode": "markers",
         "name": "idx 245",
         "showlegend": false,
         "type": "scatter",
         "x": [
          245
         ],
         "y": [
          31
         ]
        },
        {
         "marker": {
          "color": "red",
          "size": 10,
          "symbol": "x"
         },
         "mode": "markers",
         "name": "idx 255",
         "showlegend": false,
         "type": "scatter",
         "x": [
          255
         ],
         "y": [
          40
         ]
        },
        {
         "marker": {
          "color": "red",
          "size": 10,
          "symbol": "x"
         },
         "mode": "markers",
         "name": "idx 256",
         "showlegend": false,
         "type": "scatter",
         "x": [
          256
         ],
         "y": [
          69
         ]
        },
        {
         "marker": {
          "color": "red",
          "size": 10,
          "symbol": "x"
         },
         "mode": "markers",
         "name": "idx 263",
         "showlegend": false,
         "type": "scatter",
         "x": [
          263
         ],
         "y": [
          59
         ]
        },
        {
         "marker": {
          "color": "red",
          "size": 10,
          "symbol": "x"
         },
         "mode": "markers",
         "name": "idx 264",
         "showlegend": false,
         "type": "scatter",
         "x": [
          264
         ],
         "y": [
          48
         ]
        },
        {
         "marker": {
          "color": "red",
          "size": 10,
          "symbol": "x"
         },
         "mode": "markers",
         "name": "idx 272",
         "showlegend": false,
         "type": "scatter",
         "x": [
          272
         ],
         "y": [
          42
         ]
        },
        {
         "marker": {
          "color": "red",
          "size": 10,
          "symbol": "x"
         },
         "mode": "markers",
         "name": "idx 291",
         "showlegend": false,
         "type": "scatter",
         "x": [
          291
         ],
         "y": [
          41
         ]
        },
        {
         "marker": {
          "color": "red",
          "size": 10,
          "symbol": "x"
         },
         "mode": "markers",
         "name": "idx 304",
         "showlegend": false,
         "type": "scatter",
         "x": [
          304
         ],
         "y": [
          213
         ]
        },
        {
         "marker": {
          "color": "red",
          "size": 10,
          "symbol": "x"
         },
         "mode": "markers",
         "name": "idx 332",
         "showlegend": false,
         "type": "scatter",
         "x": [
          332
         ],
         "y": [
          219
         ]
        },
        {
         "marker": {
          "color": "red",
          "size": 10,
          "symbol": "x"
         },
         "mode": "markers",
         "name": "idx 333",
         "showlegend": false,
         "type": "scatter",
         "x": [
          333
         ],
         "y": [
          212
         ]
        },
        {
         "marker": {
          "color": "red",
          "size": 10,
          "symbol": "x"
         },
         "mode": "markers",
         "name": "idx 334",
         "showlegend": false,
         "type": "scatter",
         "x": [
          334
         ],
         "y": [
          212
         ]
        },
        {
         "marker": {
          "color": "red",
          "size": 10,
          "symbol": "x"
         },
         "mode": "markers",
         "name": "idx 335",
         "showlegend": false,
         "type": "scatter",
         "x": [
          335
         ],
         "y": [
          196
         ]
        },
        {
         "marker": {
          "color": "red",
          "size": 10,
          "symbol": "x"
         },
         "mode": "markers",
         "name": "idx 336",
         "showlegend": false,
         "type": "scatter",
         "x": [
          336
         ],
         "y": [
          218
         ]
        },
        {
         "marker": {
          "color": "red",
          "size": 10,
          "symbol": "x"
         },
         "mode": "markers",
         "name": "idx 337",
         "showlegend": false,
         "type": "scatter",
         "x": [
          337
         ],
         "y": [
          33
         ]
        },
        {
         "marker": {
          "color": "red",
          "size": 10,
          "symbol": "x"
         },
         "mode": "markers",
         "name": "idx 353",
         "showlegend": false,
         "type": "scatter",
         "x": [
          353
         ],
         "y": [
          142
         ]
        },
        {
         "marker": {
          "color": "red",
          "size": 10,
          "symbol": "x"
         },
         "mode": "markers",
         "name": "idx 374",
         "showlegend": false,
         "type": "scatter",
         "x": [
          374
         ],
         "y": [
          22
         ]
        },
        {
         "marker": {
          "color": "red",
          "size": 10,
          "symbol": "x"
         },
         "mode": "markers",
         "name": "idx 378",
         "showlegend": false,
         "type": "scatter",
         "x": [
          378
         ],
         "y": [
          28
         ]
        },
        {
         "marker": {
          "color": "red",
          "size": 10,
          "symbol": "x"
         },
         "mode": "markers",
         "name": "idx 392",
         "showlegend": false,
         "type": "scatter",
         "x": [
          392
         ],
         "y": [
          25
         ]
        },
        {
         "marker": {
          "color": "red",
          "size": 10,
          "symbol": "x"
         },
         "mode": "markers",
         "name": "idx 393",
         "showlegend": false,
         "type": "scatter",
         "x": [
          393
         ],
         "y": [
          28
         ]
        },
        {
         "marker": {
          "color": "red",
          "size": 10,
          "symbol": "x"
         },
         "mode": "markers",
         "name": "idx 410",
         "showlegend": false,
         "type": "scatter",
         "x": [
          410
         ],
         "y": [
          174
         ]
        },
        {
         "marker": {
          "color": "red",
          "size": 10,
          "symbol": "x"
         },
         "mode": "markers",
         "name": "idx 411",
         "showlegend": false,
         "type": "scatter",
         "x": [
          411
         ],
         "y": [
          112
         ]
        },
        {
         "marker": {
          "color": "red",
          "size": 10,
          "symbol": "x"
         },
         "mode": "markers",
         "name": "idx 412",
         "showlegend": false,
         "type": "scatter",
         "x": [
          412
         ],
         "y": [
          27
         ]
        },
        {
         "marker": {
          "color": "red",
          "size": 10,
          "symbol": "x"
         },
         "mode": "markers",
         "name": "idx 413",
         "showlegend": false,
         "type": "scatter",
         "x": [
          413
         ],
         "y": [
          149
         ]
        },
        {
         "marker": {
          "color": "red",
          "size": 10,
          "symbol": "x"
         },
         "mode": "markers",
         "name": "idx 427",
         "showlegend": false,
         "type": "scatter",
         "x": [
          427
         ],
         "y": [
          167
         ]
        },
        {
         "marker": {
          "color": "red",
          "size": 10,
          "symbol": "x"
         },
         "mode": "markers",
         "name": "idx 430",
         "showlegend": false,
         "type": "scatter",
         "x": [
          430
         ],
         "y": [
          29
         ]
        },
        {
         "marker": {
          "color": "red",
          "size": 10,
          "symbol": "x"
         },
         "mode": "markers",
         "name": "idx 437",
         "showlegend": false,
         "type": "scatter",
         "x": [
          437
         ],
         "y": [
          88
         ]
        },
        {
         "marker": {
          "color": "red",
          "size": 10,
          "symbol": "x"
         },
         "mode": "markers",
         "name": "idx 438",
         "showlegend": false,
         "type": "scatter",
         "x": [
          438
         ],
         "y": [
          88
         ]
        },
        {
         "marker": {
          "color": "red",
          "size": 10,
          "symbol": "x"
         },
         "mode": "markers",
         "name": "idx 445",
         "showlegend": false,
         "type": "scatter",
         "x": [
          445
         ],
         "y": [
          135
         ]
        },
        {
         "marker": {
          "color": "red",
          "size": 10,
          "symbol": "x"
         },
         "mode": "markers",
         "name": "idx 449",
         "showlegend": false,
         "type": "scatter",
         "x": [
          449
         ],
         "y": [
          22
         ]
        },
        {
         "marker": {
          "color": "red",
          "size": 10,
          "symbol": "x"
         },
         "mode": "markers",
         "name": "idx 451",
         "showlegend": false,
         "type": "scatter",
         "x": [
          451
         ],
         "y": [
          36
         ]
        },
        {
         "marker": {
          "color": "red",
          "size": 10,
          "symbol": "x"
         },
         "mode": "markers",
         "name": "idx 453",
         "showlegend": false,
         "type": "scatter",
         "x": [
          453
         ],
         "y": [
          133
         ]
        },
        {
         "marker": {
          "color": "red",
          "size": 10,
          "symbol": "x"
         },
         "mode": "markers",
         "name": "idx 454",
         "showlegend": false,
         "type": "scatter",
         "x": [
          454
         ],
         "y": [
          146
         ]
        },
        {
         "marker": {
          "color": "red",
          "size": 10,
          "symbol": "x"
         },
         "mode": "markers",
         "name": "idx 455",
         "showlegend": false,
         "type": "scatter",
         "x": [
          455
         ],
         "y": [
          35
         ]
        },
        {
         "marker": {
          "color": "red",
          "size": 10,
          "symbol": "x"
         },
         "mode": "markers",
         "name": "idx 456",
         "showlegend": false,
         "type": "scatter",
         "x": [
          456
         ],
         "y": [
          76
         ]
        },
        {
         "marker": {
          "color": "red",
          "size": 10,
          "symbol": "x"
         },
         "mode": "markers",
         "name": "idx 457",
         "showlegend": false,
         "type": "scatter",
         "x": [
          457
         ],
         "y": [
          76
         ]
        },
        {
         "marker": {
          "color": "red",
          "size": 10,
          "symbol": "x"
         },
         "mode": "markers",
         "name": "idx 459",
         "showlegend": false,
         "type": "scatter",
         "x": [
          459
         ],
         "y": [
          158
         ]
        },
        {
         "marker": {
          "color": "red",
          "size": 10,
          "symbol": "x"
         },
         "mode": "markers",
         "name": "idx 461",
         "showlegend": false,
         "type": "scatter",
         "x": [
          461
         ],
         "y": [
          135
         ]
        },
        {
         "marker": {
          "color": "red",
          "size": 10,
          "symbol": "x"
         },
         "mode": "markers",
         "name": "idx 463",
         "showlegend": false,
         "type": "scatter",
         "x": [
          463
         ],
         "y": [
          150
         ]
        },
        {
         "marker": {
          "color": "red",
          "size": 10,
          "symbol": "x"
         },
         "mode": "markers",
         "name": "idx 466",
         "showlegend": false,
         "type": "scatter",
         "x": [
          466
         ],
         "y": [
          119
         ]
        },
        {
         "marker": {
          "color": "red",
          "size": 10,
          "symbol": "x"
         },
         "mode": "markers",
         "name": "idx 470",
         "showlegend": false,
         "type": "scatter",
         "x": [
          470
         ],
         "y": [
          155
         ]
        },
        {
         "marker": {
          "color": "red",
          "size": 10,
          "symbol": "x"
         },
         "mode": "markers",
         "name": "idx 471",
         "showlegend": false,
         "type": "scatter",
         "x": [
          471
         ],
         "y": [
          154
         ]
        },
        {
         "marker": {
          "color": "red",
          "size": 10,
          "symbol": "x"
         },
         "mode": "markers",
         "name": "idx 472",
         "showlegend": false,
         "type": "scatter",
         "x": [
          472
         ],
         "y": [
          80
         ]
        },
        {
         "marker": {
          "color": "red",
          "size": 10,
          "symbol": "x"
         },
         "mode": "markers",
         "name": "idx 474",
         "showlegend": false,
         "type": "scatter",
         "x": [
          474
         ],
         "y": [
          79
         ]
        },
        {
         "marker": {
          "color": "red",
          "size": 10,
          "symbol": "x"
         },
         "mode": "markers",
         "name": "idx 480",
         "showlegend": false,
         "type": "scatter",
         "x": [
          480
         ],
         "y": [
          77
         ]
        },
        {
         "marker": {
          "color": "red",
          "size": 10,
          "symbol": "x"
         },
         "mode": "markers",
         "name": "idx 481",
         "showlegend": false,
         "type": "scatter",
         "x": [
          481
         ],
         "y": [
          133
         ]
        },
        {
         "marker": {
          "color": "red",
          "size": 10,
          "symbol": "x"
         },
         "mode": "markers",
         "name": "idx 482",
         "showlegend": false,
         "type": "scatter",
         "x": [
          482
         ],
         "y": [
          76
         ]
        },
        {
         "marker": {
          "color": "red",
          "size": 10,
          "symbol": "x"
         },
         "mode": "markers",
         "name": "idx 483",
         "showlegend": false,
         "type": "scatter",
         "x": [
          483
         ],
         "y": [
          48
         ]
        },
        {
         "marker": {
          "color": "red",
          "size": 10,
          "symbol": "x"
         },
         "mode": "markers",
         "name": "idx 484",
         "showlegend": false,
         "type": "scatter",
         "x": [
          484
         ],
         "y": [
          76
         ]
        },
        {
         "marker": {
          "color": "red",
          "size": 10,
          "symbol": "x"
         },
         "mode": "markers",
         "name": "idx 490",
         "showlegend": false,
         "type": "scatter",
         "x": [
          490
         ],
         "y": [
          67
         ]
        },
        {
         "marker": {
          "color": "red",
          "size": 10,
          "symbol": "x"
         },
         "mode": "markers",
         "name": "idx 491",
         "showlegend": false,
         "type": "scatter",
         "x": [
          491
         ],
         "y": [
          67
         ]
        },
        {
         "marker": {
          "color": "red",
          "size": 10,
          "symbol": "x"
         },
         "mode": "markers",
         "name": "idx 494",
         "showlegend": false,
         "type": "scatter",
         "x": [
          494
         ],
         "y": [
          121
         ]
        },
        {
         "marker": {
          "color": "red",
          "size": 10,
          "symbol": "x"
         },
         "mode": "markers",
         "name": "idx 497",
         "showlegend": false,
         "type": "scatter",
         "x": [
          497
         ],
         "y": [
          71
         ]
        },
        {
         "marker": {
          "color": "red",
          "size": 10,
          "symbol": "x"
         },
         "mode": "markers",
         "name": "idx 498",
         "showlegend": false,
         "type": "scatter",
         "x": [
          498
         ],
         "y": [
          100
         ]
        },
        {
         "marker": {
          "color": "red",
          "size": 10,
          "symbol": "x"
         },
         "mode": "markers",
         "name": "idx 500",
         "showlegend": false,
         "type": "scatter",
         "x": [
          500
         ],
         "y": [
          71
         ]
        },
        {
         "marker": {
          "color": "red",
          "size": 10,
          "symbol": "x"
         },
         "mode": "markers",
         "name": "idx 503",
         "showlegend": false,
         "type": "scatter",
         "x": [
          503
         ],
         "y": [
          60
         ]
        },
        {
         "marker": {
          "color": "red",
          "size": 10,
          "symbol": "x"
         },
         "mode": "markers",
         "name": "idx 510",
         "showlegend": false,
         "type": "scatter",
         "x": [
          510
         ],
         "y": [
          61
         ]
        },
        {
         "marker": {
          "color": "red",
          "size": 10,
          "symbol": "x"
         },
         "mode": "markers",
         "name": "idx 511",
         "showlegend": false,
         "type": "scatter",
         "x": [
          511
         ],
         "y": [
          53
         ]
        },
        {
         "marker": {
          "color": "red",
          "size": 10,
          "symbol": "x"
         },
         "mode": "markers",
         "name": "idx 513",
         "showlegend": false,
         "type": "scatter",
         "x": [
          513
         ],
         "y": [
          53
         ]
        },
        {
         "marker": {
          "color": "red",
          "size": 10,
          "symbol": "x"
         },
         "mode": "markers",
         "name": "idx 514",
         "showlegend": false,
         "type": "scatter",
         "x": [
          514
         ],
         "y": [
          112
         ]
        },
        {
         "marker": {
          "color": "red",
          "size": 10,
          "symbol": "x"
         },
         "mode": "markers",
         "name": "idx 516",
         "showlegend": false,
         "type": "scatter",
         "x": [
          516
         ],
         "y": [
          91
         ]
        },
        {
         "marker": {
          "color": "red",
          "size": 10,
          "symbol": "x"
         },
         "mode": "markers",
         "name": "idx 517",
         "showlegend": false,
         "type": "scatter",
         "x": [
          517
         ],
         "y": [
          112
         ]
        },
        {
         "marker": {
          "color": "red",
          "size": 10,
          "symbol": "x"
         },
         "mode": "markers",
         "name": "idx 523",
         "showlegend": false,
         "type": "scatter",
         "x": [
          523
         ],
         "y": [
          79
         ]
        },
        {
         "marker": {
          "color": "red",
          "size": 10,
          "symbol": "x"
         },
         "mode": "markers",
         "name": "idx 525",
         "showlegend": false,
         "type": "scatter",
         "x": [
          525
         ],
         "y": [
          85
         ]
        },
        {
         "marker": {
          "color": "red",
          "size": 10,
          "symbol": "x"
         },
         "mode": "markers",
         "name": "idx 526",
         "showlegend": false,
         "type": "scatter",
         "x": [
          526
         ],
         "y": [
          34
         ]
        },
        {
         "marker": {
          "color": "red",
          "size": 10,
          "symbol": "x"
         },
         "mode": "markers",
         "name": "idx 527",
         "showlegend": false,
         "type": "scatter",
         "x": [
          527
         ],
         "y": [
          34
         ]
        },
        {
         "marker": {
          "color": "red",
          "size": 10,
          "symbol": "x"
         },
         "mode": "markers",
         "name": "idx 528",
         "showlegend": false,
         "type": "scatter",
         "x": [
          528
         ],
         "y": [
          37
         ]
        },
        {
         "marker": {
          "color": "red",
          "size": 10,
          "symbol": "x"
         },
         "mode": "markers",
         "name": "idx 529",
         "showlegend": false,
         "type": "scatter",
         "x": [
          529
         ],
         "y": [
          29
         ]
        },
        {
         "marker": {
          "color": "red",
          "size": 10,
          "symbol": "x"
         },
         "mode": "markers",
         "name": "idx 530",
         "showlegend": false,
         "type": "scatter",
         "x": [
          530
         ],
         "y": [
          26
         ]
        },
        {
         "marker": {
          "color": "red",
          "size": 10,
          "symbol": "x"
         },
         "mode": "markers",
         "name": "idx 531",
         "showlegend": false,
         "type": "scatter",
         "x": [
          531
         ],
         "y": [
          26
         ]
        },
        {
         "marker": {
          "color": "red",
          "size": 10,
          "symbol": "x"
         },
         "mode": "markers",
         "name": "idx 532",
         "showlegend": false,
         "type": "scatter",
         "x": [
          532
         ],
         "y": [
          114
         ]
        },
        {
         "marker": {
          "color": "red",
          "size": 10,
          "symbol": "x"
         },
         "mode": "markers",
         "name": "idx 533",
         "showlegend": false,
         "type": "scatter",
         "x": [
          533
         ],
         "y": [
          81
         ]
        },
        {
         "marker": {
          "color": "red",
          "size": 10,
          "symbol": "x"
         },
         "mode": "markers",
         "name": "idx 534",
         "showlegend": false,
         "type": "scatter",
         "x": [
          534
         ],
         "y": [
          71
         ]
        },
        {
         "marker": {
          "color": "red",
          "size": 10,
          "symbol": "x"
         },
         "mode": "markers",
         "name": "idx 539",
         "showlegend": false,
         "type": "scatter",
         "x": [
          539
         ],
         "y": [
          32
         ]
        },
        {
         "marker": {
          "color": "red",
          "size": 10,
          "symbol": "x"
         },
         "mode": "markers",
         "name": "idx 540",
         "showlegend": false,
         "type": "scatter",
         "x": [
          540
         ],
         "y": [
          32
         ]
        },
        {
         "marker": {
          "color": "red",
          "size": 10,
          "symbol": "x"
         },
         "mode": "markers",
         "name": "idx 550",
         "showlegend": false,
         "type": "scatter",
         "x": [
          550
         ],
         "y": [
          25
         ]
        },
        {
         "marker": {
          "color": "red",
          "size": 10,
          "symbol": "x"
         },
         "mode": "markers",
         "name": "idx 551",
         "showlegend": false,
         "type": "scatter",
         "x": [
          551
         ],
         "y": [
          25
         ]
        },
        {
         "marker": {
          "color": "red",
          "size": 10,
          "symbol": "x"
         },
         "mode": "markers",
         "name": "idx 552",
         "showlegend": false,
         "type": "scatter",
         "x": [
          552
         ],
         "y": [
          25
         ]
        },
        {
         "marker": {
          "color": "red",
          "size": 10,
          "symbol": "x"
         },
         "mode": "markers",
         "name": "idx 553",
         "showlegend": false,
         "type": "scatter",
         "x": [
          553
         ],
         "y": [
          25
         ]
        },
        {
         "marker": {
          "color": "red",
          "size": 10,
          "symbol": "x"
         },
         "mode": "markers",
         "name": "idx 557",
         "showlegend": false,
         "type": "scatter",
         "x": [
          557
         ],
         "y": [
          85
         ]
        },
        {
         "marker": {
          "color": "red",
          "size": 10,
          "symbol": "x"
         },
         "mode": "markers",
         "name": "idx 558",
         "showlegend": false,
         "type": "scatter",
         "x": [
          558
         ],
         "y": [
          85
         ]
        },
        {
         "marker": {
          "color": "red",
          "size": 10,
          "symbol": "x"
         },
         "mode": "markers",
         "name": "idx 559",
         "showlegend": false,
         "type": "scatter",
         "x": [
          559
         ],
         "y": [
          92
         ]
        },
        {
         "marker": {
          "color": "red",
          "size": 10,
          "symbol": "x"
         },
         "mode": "markers",
         "name": "idx 560",
         "showlegend": false,
         "type": "scatter",
         "x": [
          560
         ],
         "y": [
          92
         ]
        },
        {
         "marker": {
          "color": "red",
          "size": 10,
          "symbol": "x"
         },
         "mode": "markers",
         "name": "idx 566",
         "showlegend": false,
         "type": "scatter",
         "x": [
          566
         ],
         "y": [
          49
         ]
        },
        {
         "marker": {
          "color": "red",
          "size": 10,
          "symbol": "x"
         },
         "mode": "markers",
         "name": "idx 572",
         "showlegend": false,
         "type": "scatter",
         "x": [
          572
         ],
         "y": [
          42
         ]
        },
        {
         "marker": {
          "color": "red",
          "size": 10,
          "symbol": "x"
         },
         "mode": "markers",
         "name": "idx 573",
         "showlegend": false,
         "type": "scatter",
         "x": [
          573
         ],
         "y": [
          42
         ]
        },
        {
         "marker": {
          "color": "red",
          "size": 10,
          "symbol": "x"
         },
         "mode": "markers",
         "name": "idx 576",
         "showlegend": false,
         "type": "scatter",
         "x": [
          576
         ],
         "y": [
          45
         ]
        },
        {
         "marker": {
          "color": "red",
          "size": 10,
          "symbol": "x"
         },
         "mode": "markers",
         "name": "idx 614",
         "showlegend": false,
         "type": "scatter",
         "x": [
          614
         ],
         "y": [
          29
         ]
        },
        {
         "marker": {
          "color": "red",
          "size": 10,
          "symbol": "x"
         },
         "mode": "markers",
         "name": "idx 616",
         "showlegend": false,
         "type": "scatter",
         "x": [
          616
         ],
         "y": [
          23
         ]
        },
        {
         "marker": {
          "color": "red",
          "size": 10,
          "symbol": "x"
         },
         "mode": "markers",
         "name": "idx 617",
         "showlegend": false,
         "type": "scatter",
         "x": [
          617
         ],
         "y": [
          23
         ]
        },
        {
         "marker": {
          "color": "red",
          "size": 10,
          "symbol": "x"
         },
         "mode": "markers",
         "name": "idx 618",
         "showlegend": false,
         "type": "scatter",
         "x": [
          618
         ],
         "y": [
          22
         ]
        },
        {
         "marker": {
          "color": "red",
          "size": 10,
          "symbol": "x"
         },
         "mode": "markers",
         "name": "idx 620",
         "showlegend": false,
         "type": "scatter",
         "x": [
          620
         ],
         "y": [
          40
         ]
        },
        {
         "marker": {
          "color": "red",
          "size": 10,
          "symbol": "x"
         },
         "mode": "markers",
         "name": "idx 621",
         "showlegend": false,
         "type": "scatter",
         "x": [
          621
         ],
         "y": [
          40
         ]
        },
        {
         "marker": {
          "color": "red",
          "size": 10,
          "symbol": "x"
         },
         "mode": "markers",
         "name": "idx 622",
         "showlegend": false,
         "type": "scatter",
         "x": [
          622
         ],
         "y": [
          27
         ]
        },
        {
         "marker": {
          "color": "red",
          "size": 10,
          "symbol": "x"
         },
         "mode": "markers",
         "name": "idx 624",
         "showlegend": false,
         "type": "scatter",
         "x": [
          624
         ],
         "y": [
          114
         ]
        },
        {
         "marker": {
          "color": "red",
          "size": 10,
          "symbol": "x"
         },
         "mode": "markers",
         "name": "idx 625",
         "showlegend": false,
         "type": "scatter",
         "x": [
          625
         ],
         "y": [
          114
         ]
        },
        {
         "marker": {
          "color": "red",
          "size": 10,
          "symbol": "x"
         },
         "mode": "markers",
         "name": "idx 626",
         "showlegend": false,
         "type": "scatter",
         "x": [
          626
         ],
         "y": [
          38
         ]
        },
        {
         "marker": {
          "color": "red",
          "size": 10,
          "symbol": "x"
         },
         "mode": "markers",
         "name": "idx 630",
         "showlegend": false,
         "type": "scatter",
         "x": [
          630
         ],
         "y": [
          33
         ]
        },
        {
         "marker": {
          "color": "red",
          "size": 10,
          "symbol": "x"
         },
         "mode": "markers",
         "name": "idx 631",
         "showlegend": false,
         "type": "scatter",
         "x": [
          631
         ],
         "y": [
          33
         ]
        },
        {
         "marker": {
          "color": "red",
          "size": 10,
          "symbol": "x"
         },
         "mode": "markers",
         "name": "idx 632",
         "showlegend": false,
         "type": "scatter",
         "x": [
          632
         ],
         "y": [
          33
         ]
        },
        {
         "marker": {
          "color": "red",
          "size": 10,
          "symbol": "x"
         },
         "mode": "markers",
         "name": "idx 633",
         "showlegend": false,
         "type": "scatter",
         "x": [
          633
         ],
         "y": [
          33
         ]
        },
        {
         "marker": {
          "color": "red",
          "size": 10,
          "symbol": "x"
         },
         "mode": "markers",
         "name": "idx 634",
         "showlegend": false,
         "type": "scatter",
         "x": [
          634
         ],
         "y": [
          33
         ]
        },
        {
         "marker": {
          "color": "red",
          "size": 10,
          "symbol": "x"
         },
         "mode": "markers",
         "name": "idx 638",
         "showlegend": false,
         "type": "scatter",
         "x": [
          638
         ],
         "y": [
          25
         ]
        },
        {
         "marker": {
          "color": "red",
          "size": 10,
          "symbol": "x"
         },
         "mode": "markers",
         "name": "idx 648",
         "showlegend": false,
         "type": "scatter",
         "x": [
          648
         ],
         "y": [
          52
         ]
        },
        {
         "marker": {
          "color": "red",
          "size": 10,
          "symbol": "x"
         },
         "mode": "markers",
         "name": "idx 653",
         "showlegend": false,
         "type": "scatter",
         "x": [
          653
         ],
         "y": [
          31
         ]
        },
        {
         "marker": {
          "color": "red",
          "size": 10,
          "symbol": "x"
         },
         "mode": "markers",
         "name": "idx 654",
         "showlegend": false,
         "type": "scatter",
         "x": [
          654
         ],
         "y": [
          31
         ]
        },
        {
         "marker": {
          "color": "red",
          "size": 10,
          "symbol": "x"
         },
         "mode": "markers",
         "name": "idx 655",
         "showlegend": false,
         "type": "scatter",
         "x": [
          655
         ],
         "y": [
          31
         ]
        },
        {
         "marker": {
          "color": "red",
          "size": 10,
          "symbol": "x"
         },
         "mode": "markers",
         "name": "idx 656",
         "showlegend": false,
         "type": "scatter",
         "x": [
          656
         ],
         "y": [
          24
         ]
        },
        {
         "marker": {
          "color": "red",
          "size": 10,
          "symbol": "x"
         },
         "mode": "markers",
         "name": "idx 663",
         "showlegend": false,
         "type": "scatter",
         "x": [
          663
         ],
         "y": [
          50
         ]
        },
        {
         "marker": {
          "color": "red",
          "size": 10,
          "symbol": "x"
         },
         "mode": "markers",
         "name": "idx 669",
         "showlegend": false,
         "type": "scatter",
         "x": [
          669
         ],
         "y": [
          24
         ]
        },
        {
         "marker": {
          "color": "red",
          "size": 10,
          "symbol": "x"
         },
         "mode": "markers",
         "name": "idx 670",
         "showlegend": false,
         "type": "scatter",
         "x": [
          670
         ],
         "y": [
          24
         ]
        },
        {
         "marker": {
          "color": "red",
          "size": 10,
          "symbol": "x"
         },
         "mode": "markers",
         "name": "idx 709",
         "showlegend": false,
         "type": "scatter",
         "x": [
          709
         ],
         "y": [
          31
         ]
        },
        {
         "marker": {
          "color": "red",
          "size": 10,
          "symbol": "x"
         },
         "mode": "markers",
         "name": "idx 710",
         "showlegend": false,
         "type": "scatter",
         "x": [
          710
         ],
         "y": [
          49
         ]
        },
        {
         "marker": {
          "color": "red",
          "size": 10,
          "symbol": "x"
         },
         "mode": "markers",
         "name": "idx 718",
         "showlegend": false,
         "type": "scatter",
         "x": [
          718
         ],
         "y": [
          42
         ]
        },
        {
         "marker": {
          "color": "red",
          "size": 10,
          "symbol": "x"
         },
         "mode": "markers",
         "name": "idx 732",
         "showlegend": false,
         "type": "scatter",
         "x": [
          732
         ],
         "y": [
          27
         ]
        },
        {
         "marker": {
          "color": "red",
          "size": 10,
          "symbol": "x"
         },
         "mode": "markers",
         "name": "idx 733",
         "showlegend": false,
         "type": "scatter",
         "x": [
          733
         ],
         "y": [
          22
         ]
        },
        {
         "marker": {
          "color": "red",
          "size": 10,
          "symbol": "x"
         },
         "mode": "markers",
         "name": "idx 734",
         "showlegend": false,
         "type": "scatter",
         "x": [
          734
         ],
         "y": [
          22
         ]
        },
        {
         "marker": {
          "color": "red",
          "size": 10,
          "symbol": "x"
         },
         "mode": "markers",
         "name": "idx 772",
         "showlegend": false,
         "type": "scatter",
         "x": [
          772
         ],
         "y": [
          163
         ]
        },
        {
         "marker": {
          "color": "red",
          "size": 10,
          "symbol": "x"
         },
         "mode": "markers",
         "name": "idx 802",
         "showlegend": false,
         "type": "scatter",
         "x": [
          802
         ],
         "y": [
          34
         ]
        },
        {
         "marker": {
          "color": "red",
          "size": 10,
          "symbol": "x"
         },
         "mode": "markers",
         "name": "idx 803",
         "showlegend": false,
         "type": "scatter",
         "x": [
          803
         ],
         "y": [
          29
         ]
        },
        {
         "marker": {
          "color": "red",
          "size": 10,
          "symbol": "x"
         },
         "mode": "markers",
         "name": "idx 805",
         "showlegend": false,
         "type": "scatter",
         "x": [
          805
         ],
         "y": [
          24
         ]
        },
        {
         "marker": {
          "color": "red",
          "size": 10,
          "symbol": "x"
         },
         "mode": "markers",
         "name": "idx 816",
         "showlegend": false,
         "type": "scatter",
         "x": [
          816
         ],
         "y": [
          30
         ]
        },
        {
         "marker": {
          "color": "red",
          "size": 10,
          "symbol": "x"
         },
         "mode": "markers",
         "name": "idx 820",
         "showlegend": false,
         "type": "scatter",
         "x": [
          820
         ],
         "y": [
          40
         ]
        }
       ],
       "layout": {
        "autosize": true,
        "legend": {
         "bgcolor": "#151516",
         "font": {
          "color": "#D9D9D9"
         }
        },
        "paper_bgcolor": "#151516",
        "plot_bgcolor": "#151516",
        "template": {
         "data": {
          "bar": [
           {
            "error_x": {
             "color": "#2a3f5f"
            },
            "error_y": {
             "color": "#2a3f5f"
            },
            "marker": {
             "line": {
              "color": "#E5ECF6",
              "width": 0.5
             },
             "pattern": {
              "fillmode": "overlay",
              "size": 10,
              "solidity": 0.2
             }
            },
            "type": "bar"
           }
          ],
          "barpolar": [
           {
            "marker": {
             "line": {
              "color": "#E5ECF6",
              "width": 0.5
             },
             "pattern": {
              "fillmode": "overlay",
              "size": 10,
              "solidity": 0.2
             }
            },
            "type": "barpolar"
           }
          ],
          "carpet": [
           {
            "aaxis": {
             "endlinecolor": "#2a3f5f",
             "gridcolor": "white",
             "linecolor": "white",
             "minorgridcolor": "white",
             "startlinecolor": "#2a3f5f"
            },
            "baxis": {
             "endlinecolor": "#2a3f5f",
             "gridcolor": "white",
             "linecolor": "white",
             "minorgridcolor": "white",
             "startlinecolor": "#2a3f5f"
            },
            "type": "carpet"
           }
          ],
          "choropleth": [
           {
            "colorbar": {
             "outlinewidth": 0,
             "ticks": ""
            },
            "type": "choropleth"
           }
          ],
          "contour": [
           {
            "colorbar": {
             "outlinewidth": 0,
             "ticks": ""
            },
            "colorscale": [
             [
              0,
              "#0d0887"
             ],
             [
              0.1111111111111111,
              "#46039f"
             ],
             [
              0.2222222222222222,
              "#7201a8"
             ],
             [
              0.3333333333333333,
              "#9c179e"
             ],
             [
              0.4444444444444444,
              "#bd3786"
             ],
             [
              0.5555555555555556,
              "#d8576b"
             ],
             [
              0.6666666666666666,
              "#ed7953"
             ],
             [
              0.7777777777777778,
              "#fb9f3a"
             ],
             [
              0.8888888888888888,
              "#fdca26"
             ],
             [
              1,
              "#f0f921"
             ]
            ],
            "type": "contour"
           }
          ],
          "contourcarpet": [
           {
            "colorbar": {
             "outlinewidth": 0,
             "ticks": ""
            },
            "type": "contourcarpet"
           }
          ],
          "heatmap": [
           {
            "colorbar": {
             "outlinewidth": 0,
             "ticks": ""
            },
            "colorscale": [
             [
              0,
              "#0d0887"
             ],
             [
              0.1111111111111111,
              "#46039f"
             ],
             [
              0.2222222222222222,
              "#7201a8"
             ],
             [
              0.3333333333333333,
              "#9c179e"
             ],
             [
              0.4444444444444444,
              "#bd3786"
             ],
             [
              0.5555555555555556,
              "#d8576b"
             ],
             [
              0.6666666666666666,
              "#ed7953"
             ],
             [
              0.7777777777777778,
              "#fb9f3a"
             ],
             [
              0.8888888888888888,
              "#fdca26"
             ],
             [
              1,
              "#f0f921"
             ]
            ],
            "type": "heatmap"
           }
          ],
          "heatmapgl": [
           {
            "colorbar": {
             "outlinewidth": 0,
             "ticks": ""
            },
            "colorscale": [
             [
              0,
              "#0d0887"
             ],
             [
              0.1111111111111111,
              "#46039f"
             ],
             [
              0.2222222222222222,
              "#7201a8"
             ],
             [
              0.3333333333333333,
              "#9c179e"
             ],
             [
              0.4444444444444444,
              "#bd3786"
             ],
             [
              0.5555555555555556,
              "#d8576b"
             ],
             [
              0.6666666666666666,
              "#ed7953"
             ],
             [
              0.7777777777777778,
              "#fb9f3a"
             ],
             [
              0.8888888888888888,
              "#fdca26"
             ],
             [
              1,
              "#f0f921"
             ]
            ],
            "type": "heatmapgl"
           }
          ],
          "histogram": [
           {
            "marker": {
             "pattern": {
              "fillmode": "overlay",
              "size": 10,
              "solidity": 0.2
             }
            },
            "type": "histogram"
           }
          ],
          "histogram2d": [
           {
            "colorbar": {
             "outlinewidth": 0,
             "ticks": ""
            },
            "colorscale": [
             [
              0,
              "#0d0887"
             ],
             [
              0.1111111111111111,
              "#46039f"
             ],
             [
              0.2222222222222222,
              "#7201a8"
             ],
             [
              0.3333333333333333,
              "#9c179e"
             ],
             [
              0.4444444444444444,
              "#bd3786"
             ],
             [
              0.5555555555555556,
              "#d8576b"
             ],
             [
              0.6666666666666666,
              "#ed7953"
             ],
             [
              0.7777777777777778,
              "#fb9f3a"
             ],
             [
              0.8888888888888888,
              "#fdca26"
             ],
             [
              1,
              "#f0f921"
             ]
            ],
            "type": "histogram2d"
           }
          ],
          "histogram2dcontour": [
           {
            "colorbar": {
             "outlinewidth": 0,
             "ticks": ""
            },
            "colorscale": [
             [
              0,
              "#0d0887"
             ],
             [
              0.1111111111111111,
              "#46039f"
             ],
             [
              0.2222222222222222,
              "#7201a8"
             ],
             [
              0.3333333333333333,
              "#9c179e"
             ],
             [
              0.4444444444444444,
              "#bd3786"
             ],
             [
              0.5555555555555556,
              "#d8576b"
             ],
             [
              0.6666666666666666,
              "#ed7953"
             ],
             [
              0.7777777777777778,
              "#fb9f3a"
             ],
             [
              0.8888888888888888,
              "#fdca26"
             ],
             [
              1,
              "#f0f921"
             ]
            ],
            "type": "histogram2dcontour"
           }
          ],
          "mesh3d": [
           {
            "colorbar": {
             "outlinewidth": 0,
             "ticks": ""
            },
            "type": "mesh3d"
           }
          ],
          "parcoords": [
           {
            "line": {
             "colorbar": {
              "outlinewidth": 0,
              "ticks": ""
             }
            },
            "type": "parcoords"
           }
          ],
          "pie": [
           {
            "automargin": true,
            "type": "pie"
           }
          ],
          "scatter": [
           {
            "fillpattern": {
             "fillmode": "overlay",
             "size": 10,
             "solidity": 0.2
            },
            "type": "scatter"
           }
          ],
          "scatter3d": [
           {
            "line": {
             "colorbar": {
              "outlinewidth": 0,
              "ticks": ""
             }
            },
            "marker": {
             "colorbar": {
              "outlinewidth": 0,
              "ticks": ""
             }
            },
            "type": "scatter3d"
           }
          ],
          "scattercarpet": [
           {
            "marker": {
             "colorbar": {
              "outlinewidth": 0,
              "ticks": ""
             }
            },
            "type": "scattercarpet"
           }
          ],
          "scattergeo": [
           {
            "marker": {
             "colorbar": {
              "outlinewidth": 0,
              "ticks": ""
             }
            },
            "type": "scattergeo"
           }
          ],
          "scattergl": [
           {
            "marker": {
             "colorbar": {
              "outlinewidth": 0,
              "ticks": ""
             }
            },
            "type": "scattergl"
           }
          ],
          "scattermapbox": [
           {
            "marker": {
             "colorbar": {
              "outlinewidth": 0,
              "ticks": ""
             }
            },
            "type": "scattermapbox"
           }
          ],
          "scatterpolar": [
           {
            "marker": {
             "colorbar": {
              "outlinewidth": 0,
              "ticks": ""
             }
            },
            "type": "scatterpolar"
           }
          ],
          "scatterpolargl": [
           {
            "marker": {
             "colorbar": {
              "outlinewidth": 0,
              "ticks": ""
             }
            },
            "type": "scatterpolargl"
           }
          ],
          "scatterternary": [
           {
            "marker": {
             "colorbar": {
              "outlinewidth": 0,
              "ticks": ""
             }
            },
            "type": "scatterternary"
           }
          ],
          "surface": [
           {
            "colorbar": {
             "outlinewidth": 0,
             "ticks": ""
            },
            "colorscale": [
             [
              0,
              "#0d0887"
             ],
             [
              0.1111111111111111,
              "#46039f"
             ],
             [
              0.2222222222222222,
              "#7201a8"
             ],
             [
              0.3333333333333333,
              "#9c179e"
             ],
             [
              0.4444444444444444,
              "#bd3786"
             ],
             [
              0.5555555555555556,
              "#d8576b"
             ],
             [
              0.6666666666666666,
              "#ed7953"
             ],
             [
              0.7777777777777778,
              "#fb9f3a"
             ],
             [
              0.8888888888888888,
              "#fdca26"
             ],
             [
              1,
              "#f0f921"
             ]
            ],
            "type": "surface"
           }
          ],
          "table": [
           {
            "cells": {
             "fill": {
              "color": "#EBF0F8"
             },
             "line": {
              "color": "white"
             }
            },
            "header": {
             "fill": {
              "color": "#C8D4E3"
             },
             "line": {
              "color": "white"
             }
            },
            "type": "table"
           }
          ]
         },
         "layout": {
          "annotationdefaults": {
           "arrowcolor": "#2a3f5f",
           "arrowhead": 0,
           "arrowwidth": 1
          },
          "autotypenumbers": "strict",
          "coloraxis": {
           "colorbar": {
            "outlinewidth": 0,
            "ticks": ""
           }
          },
          "colorscale": {
           "diverging": [
            [
             0,
             "#8e0152"
            ],
            [
             0.1,
             "#c51b7d"
            ],
            [
             0.2,
             "#de77ae"
            ],
            [
             0.3,
             "#f1b6da"
            ],
            [
             0.4,
             "#fde0ef"
            ],
            [
             0.5,
             "#f7f7f7"
            ],
            [
             0.6,
             "#e6f5d0"
            ],
            [
             0.7,
             "#b8e186"
            ],
            [
             0.8,
             "#7fbc41"
            ],
            [
             0.9,
             "#4d9221"
            ],
            [
             1,
             "#276419"
            ]
           ],
           "sequential": [
            [
             0,
             "#0d0887"
            ],
            [
             0.1111111111111111,
             "#46039f"
            ],
            [
             0.2222222222222222,
             "#7201a8"
            ],
            [
             0.3333333333333333,
             "#9c179e"
            ],
            [
             0.4444444444444444,
             "#bd3786"
            ],
            [
             0.5555555555555556,
             "#d8576b"
            ],
            [
             0.6666666666666666,
             "#ed7953"
            ],
            [
             0.7777777777777778,
             "#fb9f3a"
            ],
            [
             0.8888888888888888,
             "#fdca26"
            ],
            [
             1,
             "#f0f921"
            ]
           ],
           "sequentialminus": [
            [
             0,
             "#0d0887"
            ],
            [
             0.1111111111111111,
             "#46039f"
            ],
            [
             0.2222222222222222,
             "#7201a8"
            ],
            [
             0.3333333333333333,
             "#9c179e"
            ],
            [
             0.4444444444444444,
             "#bd3786"
            ],
            [
             0.5555555555555556,
             "#d8576b"
            ],
            [
             0.6666666666666666,
             "#ed7953"
            ],
            [
             0.7777777777777778,
             "#fb9f3a"
            ],
            [
             0.8888888888888888,
             "#fdca26"
            ],
            [
             1,
             "#f0f921"
            ]
           ]
          },
          "colorway": [
           "#636efa",
           "#EF553B",
           "#00cc96",
           "#ab63fa",
           "#FFA15A",
           "#19d3f3",
           "#FF6692",
           "#B6E880",
           "#FF97FF",
           "#FECB52"
          ],
          "font": {
           "color": "#2a3f5f"
          },
          "geo": {
           "bgcolor": "white",
           "lakecolor": "white",
           "landcolor": "#E5ECF6",
           "showlakes": true,
           "showland": true,
           "subunitcolor": "white"
          },
          "hoverlabel": {
           "align": "left"
          },
          "hovermode": "closest",
          "mapbox": {
           "style": "light"
          },
          "paper_bgcolor": "white",
          "plot_bgcolor": "#E5ECF6",
          "polar": {
           "angularaxis": {
            "gridcolor": "white",
            "linecolor": "white",
            "ticks": ""
           },
           "bgcolor": "#E5ECF6",
           "radialaxis": {
            "gridcolor": "white",
            "linecolor": "white",
            "ticks": ""
           }
          },
          "scene": {
           "xaxis": {
            "backgroundcolor": "#E5ECF6",
            "gridcolor": "white",
            "gridwidth": 2,
            "linecolor": "white",
            "showbackground": true,
            "ticks": "",
            "zerolinecolor": "white"
           },
           "yaxis": {
            "backgroundcolor": "#E5ECF6",
            "gridcolor": "white",
            "gridwidth": 2,
            "linecolor": "white",
            "showbackground": true,
            "ticks": "",
            "zerolinecolor": "white"
           },
           "zaxis": {
            "backgroundcolor": "#E5ECF6",
            "gridcolor": "white",
            "gridwidth": 2,
            "linecolor": "white",
            "showbackground": true,
            "ticks": "",
            "zerolinecolor": "white"
           }
          },
          "shapedefaults": {
           "line": {
            "color": "#2a3f5f"
           }
          },
          "ternary": {
           "aaxis": {
            "gridcolor": "white",
            "linecolor": "white",
            "ticks": ""
           },
           "baxis": {
            "gridcolor": "white",
            "linecolor": "white",
            "ticks": ""
           },
           "bgcolor": "#E5ECF6",
           "caxis": {
            "gridcolor": "white",
            "linecolor": "white",
            "ticks": ""
           }
          },
          "title": {
           "x": 0.05
          },
          "xaxis": {
           "automargin": true,
           "gridcolor": "white",
           "linecolor": "white",
           "ticks": "",
           "title": {
            "standoff": 15
           },
           "zerolinecolor": "white",
           "zerolinewidth": 2
          },
          "yaxis": {
           "automargin": true,
           "gridcolor": "white",
           "linecolor": "white",
           "ticks": "",
           "title": {
            "standoff": 15
           },
           "zerolinecolor": "white",
           "zerolinewidth": 2
          }
         }
        },
        "title": {
         "font": {
          "color": "#D9D9D9"
         },
         "text": "Original Quote Delay with Outliers Marked"
        },
        "xaxis": {
         "autorange": true,
         "gridcolor": "#434343",
         "range": [
          -58.906695938529104,
          890.9066959385291
         ],
         "showgrid": true,
         "tickfont": {
          "color": "#C2C2C2"
         },
         "title": {
          "font": {
           "color": "#D9D9D9"
          },
          "text": "index"
         },
         "type": "linear",
         "zerolinecolor": "#666570"
        },
        "yaxis": {
         "autorange": true,
         "gridcolor": "#434343",
         "range": [
          -26.714285714285715,
          264.7142857142857
         ],
         "showgrid": true,
         "tickfont": {
          "color": "#C2C2C2"
         },
         "title": {
          "font": {
           "color": "#D9D9D9"
          },
          "text": "Quote Delay"
         },
         "type": "linear",
         "zerolinecolor": "#666570"
        }
       }
      },
      "image/png": "[encoded data removed]",
      "text/html": [
       "<div>                            <div id=\"6d49ca33-fc62-4871-a60a-5bee4908a343\" class=\"plotly-graph-div\" style=\"height:525px; width:100%;\"></div>            <script type=\"text/javascript\">                require([\"plotly\"], function(Plotly) {                    window.PLOTLYENV=window.PLOTLYENV || {};                                    if (document.getElementById(\"6d49ca33-fc62-4871-a60a-5bee4908a343\")) {                    Plotly.newPlot(                        \"6d49ca33-fc62-4871-a60a-5bee4908a343\",                        [{\"line\":{\"color\":\"rgba(255, 153, 51, 1.0)\",\"dash\":\"solid\",\"shape\":\"linear\",\"width\":1.3},\"marker\":{\"size\":12,\"symbol\":\"circle\"},\"mode\":\"markers\",\"name\":\"Quote Delay\",\"text\":\"\",\"x\":[0,1,2,3,4,5,6,7,8,9,10,11,12,13,14,15,16,17,18,19,20,21,22,23,24,25,26,27,28,29,30,31,32,33,34,35,36,37,38,39,40,41,42,43,44,45,46,47,48,49,50,51,52,53,54,55,56,57,58,59,60,61,62,63,64,65,66,67,68,69,70,71,72,73,74,75,76,77,78,79,80,81,82,83,84,85,86,87,88,89,90,91,92,93,94,95,96,97,98,99,100,101,102,103,104,105,106,107,108,109,110,111,112,113,114,115,116,117,118,119,120,121,122,123,124,125,126,127,128,129,130,131,132,133,134,135,136,137,138,139,140,141,142,143,144,145,146,147,148,149,150,151,152,153,154,155,156,157,158,159,160,161,162,163,164,165,166,167,168,169,170,171,172,173,174,175,176,177,178,179,180,181,182,183,184,185,186,187,188,189,190,191,192,193,194,195,196,197,198,199,200,201,202,203,204,205,206,207,208,209,210,211,212,213,214,215,216,217,218,219,220,221,222,223,224,225,226,227,228,229,230,231,232,233,234,235,236,237,238,239,240,241,242,243,244,245,246,247,248,249,250,251,252,253,254,255,256,257,258,259,260,261,262,263,264,265,266,267,268,269,270,271,272,273,274,275,276,277,278,279,280,281,282,283,284,285,286,287,288,289,290,291,292,293,294,295,296,297,298,299,300,301,302,303,304,305,306,307,308,309,310,311,312,313,314,315,316,317,318,319,320,321,322,323,324,325,326,327,328,329,330,331,332,333,334,335,336,337,338,339,340,341,342,343,344,345,346,347,348,349,350,351,352,353,354,355,356,357,358,359,360,361,362,363,364,365,366,367,368,369,370,371,372,373,374,375,376,377,378,379,380,381,382,383,384,385,386,387,388,389,390,391,392,393,394,395,396,397,398,399,400,401,402,403,404,405,406,407,408,409,410,411,412,413,414,415,416,417,418,419,420,421,422,423,424,425,426,427,428,429,430,431,432,433,434,435,436,437,438,439,440,441,442,443,444,445,446,447,448,449,450,451,452,453,454,455,456,457,458,459,460,461,462,463,464,465,466,467,468,469,470,471,472,473,474,475,476,477,478,479,480,481,482,483,484,485,486,487,488,489,490,491,492,493,494,495,496,497,498,499,500,501,502,503,504,505,506,507,508,509,510,511,512,513,514,515,516,517,518,519,520,521,522,523,524,525,526,527,528,529,530,531,532,533,534,535,536,537,538,539,540,541,542,543,544,545,546,547,548,549,550,551,552,553,554,555,556,557,558,559,560,561,562,563,564,565,566,567,568,569,570,571,572,573,574,575,576,577,578,579,580,581,582,583,584,585,586,587,588,589,590,591,592,593,594,595,596,597,598,599,600,601,602,603,604,605,606,607,608,609,610,611,612,613,614,615,616,617,618,619,620,621,622,623,624,625,626,627,628,629,630,631,632,633,634,635,636,637,638,639,640,641,642,643,644,645,646,647,648,649,650,651,652,653,654,655,656,657,658,659,660,661,662,663,664,665,666,667,668,669,670,671,672,673,674,675,676,677,678,679,680,681,682,683,684,685,686,687,688,689,690,691,692,693,694,695,696,697,698,699,700,701,702,703,704,705,706,707,708,709,710,711,712,713,714,715,716,717,718,719,720,721,722,723,724,725,726,727,728,729,730,731,732,733,734,735,736,737,738,739,740,741,742,743,744,745,746,747,748,749,750,751,752,753,754,755,756,757,758,759,760,761,762,763,764,765,766,767,768,769,770,771,772,773,774,775,776,777,778,779,780,781,782,783,784,785,786,787,788,789,790,791,792,793,794,795,796,797,798,799,800,801,802,803,804,805,806,807,808,809,810,811,812,813,814,815,816,817,818,819,820,821,822,823,824,825,826,827,828,829,830,831,832],\"y\":[2,0,3,89,18,0,0,17,1,0,0,34,34,34,14,29,21,4,3,2,1,2,135,64,72,2,1,1,1,1,1,1,5,1,20,64,57,18,3,102,3,3,0,0,2,103,50,50,50,12,98,11,90,6,0,0,67,43,42,70,1,5,5,0,4,4,3,0,28,0,0,0,0,0,0,84,1,103,7,7,7,2,3,55,101,127,0,99,1,39,39,39,87,24,35,24,24,24,24,24,17,24,24,35,24,1,1,1,1,22,35,22,46,91,40,2,0,5,5,19,13,22,77,38,38,38,38,38,38,38,38,38,38,0,9,2,238,34,34,34,34,34,34,34,3,18,18,18,0,0,0,0,0,0,2,30,30,30,30,30,52,69,30,30,30,30,206,30,30,51,30,16,3,27,3,2,29,29,29,29,29,34,29,47,47,2,2,2,13,8,2,7,1,29,14,1,1,1,1,1,1,1,1,25,1,1,1,1,1,1,1,1,1,28,1,1,1,1,1,1,1,1,1,1,1,1,1,0,0,0,0,0,5,0,0,0,0,0,0,0,32,66,30,22,43,31,20,1,1,1,0,19,6,1,1,40,69,17,14,1,14,14,3,59,48,0,20,1,0,11,11,11,42,3,3,3,3,3,3,3,3,3,3,3,3,21,0,0,8,2,2,41,2,2,2,2,2,2,2,2,2,2,2,2,213,2,2,2,2,2,2,7,7,20,2,19,19,1,1,1,1,1,1,1,1,1,1,1,1,1,1,19,219,212,212,196,218,33,5,18,6,4,20,3,3,2,0,1,1,1,1,1,0,142,0,1,3,8,13,1,0,15,0,0,0,0,0,0,12,1,0,10,0,10,22,7,7,7,28,7,7,1,0,0,0,0,1,5,20,20,19,20,25,28,3,3,3,3,8,4,3,1,12,1,11,17,17,10,8,11,174,112,27,149,4,5,14,4,3,1,1,2,2,1,1,14,0,167,1,3,29,3,0,1,13,1,1,88,88,5,6,11,5,3,2,135,1,1,1,22,1,36,17,133,146,35,76,76,11,158,8,135,7,150,3,3,119,2,5,5,155,154,80,9,79,0,1,1,2,0,77,133,76,48,76,18,5,6,14,18,67,67,10,10,121,14,0,71,100,9,71,17,0,60,6,8,1,1,1,1,61,53,3,53,112,9,91,112,2,7,5,0,1,79,0,85,34,34,37,29,26,26,114,81,71,6,10,13,13,32,32,12,12,12,12,12,1,1,1,11,25,25,25,25,7,14,6,85,85,92,92,15,4,7,4,4,49,1,1,0,1,1,42,42,14,14,45,4,10,10,10,10,10,9,9,8,8,8,8,8,9,6,6,0,5,5,5,5,6,6,3,1,1,2,2,2,1,1,1,1,1,0,0,6,29,0,23,23,22,15,40,40,27,0,114,114,38,1,1,8,33,33,33,33,33,1,1,14,25,14,20,0,7,13,17,6,6,6,52,14,14,9,20,31,31,31,24,2,7,7,7,7,11,50,5,5,13,2,2,24,24,17,1,1,5,5,4,4,4,4,4,4,4,4,0,6,6,6,3,3,0,3,12,9,2,2,16,16,1,1,1,1,1,1,1,1,1,11,0,31,49,9,9,9,7,7,7,5,42,3,5,3,4,4,3,3,1,0,2,2,1,21,27,22,22,1,0,16,16,16,16,13,12,11,20,5,2,17,1,4,3,2,3,11,5,6,6,12,5,4,1,0,6,2,2,2,1,9,7,7,6,5,163,3,5,5,2,1,1,2,2,2,2,2,1,1,7,3,3,3,3,3,3,3,3,3,3,3,3,3,1,1,34,29,7,24,2,5,2,8,15,7,7,2,9,1,30,7,7,9,40,19,8,8,6,6,7,8,19,19,19,8,5],\"type\":\"scatter\"},{\"marker\":{\"color\":\"red\",\"size\":10,\"symbol\":\"x\"},\"mode\":\"markers\",\"name\":\"idx 3\",\"showlegend\":false,\"x\":[3],\"y\":[89],\"type\":\"scatter\"},{\"marker\":{\"color\":\"red\",\"size\":10,\"symbol\":\"x\"},\"mode\":\"markers\",\"name\":\"idx 11\",\"showlegend\":false,\"x\":[11],\"y\":[34],\"type\":\"scatter\"},{\"marker\":{\"color\":\"red\",\"size\":10,\"symbol\":\"x\"},\"mode\":\"markers\",\"name\":\"idx 12\",\"showlegend\":false,\"x\":[12],\"y\":[34],\"type\":\"scatter\"},{\"marker\":{\"color\":\"red\",\"size\":10,\"symbol\":\"x\"},\"mode\":\"markers\",\"name\":\"idx 13\",\"showlegend\":false,\"x\":[13],\"y\":[34],\"type\":\"scatter\"},{\"marker\":{\"color\":\"red\",\"size\":10,\"symbol\":\"x\"},\"mode\":\"markers\",\"name\":\"idx 15\",\"showlegend\":false,\"x\":[15],\"y\":[29],\"type\":\"scatter\"},{\"marker\":{\"color\":\"red\",\"size\":10,\"symbol\":\"x\"},\"mode\":\"markers\",\"name\":\"idx 22\",\"showlegend\":false,\"x\":[22],\"y\":[135],\"type\":\"scatter\"},{\"marker\":{\"color\":\"red\",\"size\":10,\"symbol\":\"x\"},\"mode\":\"markers\",\"name\":\"idx 23\",\"showlegend\":false,\"x\":[23],\"y\":[64],\"type\":\"scatter\"},{\"marker\":{\"color\":\"red\",\"size\":10,\"symbol\":\"x\"},\"mode\":\"markers\",\"name\":\"idx 24\",\"showlegend\":false,\"x\":[24],\"y\":[72],\"type\":\"scatter\"},{\"marker\":{\"color\":\"red\",\"size\":10,\"symbol\":\"x\"},\"mode\":\"markers\",\"name\":\"idx 35\",\"showlegend\":false,\"x\":[35],\"y\":[64],\"type\":\"scatter\"},{\"marker\":{\"color\":\"red\",\"size\":10,\"symbol\":\"x\"},\"mode\":\"markers\",\"name\":\"idx 36\",\"showlegend\":false,\"x\":[36],\"y\":[57],\"type\":\"scatter\"},{\"marker\":{\"color\":\"red\",\"size\":10,\"symbol\":\"x\"},\"mode\":\"markers\",\"name\":\"idx 39\",\"showlegend\":false,\"x\":[39],\"y\":[102],\"type\":\"scatter\"},{\"marker\":{\"color\":\"red\",\"size\":10,\"symbol\":\"x\"},\"mode\":\"markers\",\"name\":\"idx 45\",\"showlegend\":false,\"x\":[45],\"y\":[103],\"type\":\"scatter\"},{\"marker\":{\"color\":\"red\",\"size\":10,\"symbol\":\"x\"},\"mode\":\"markers\",\"name\":\"idx 46\",\"showlegend\":false,\"x\":[46],\"y\":[50],\"type\":\"scatter\"},{\"marker\":{\"color\":\"red\",\"size\":10,\"symbol\":\"x\"},\"mode\":\"markers\",\"name\":\"idx 47\",\"showlegend\":false,\"x\":[47],\"y\":[50],\"type\":\"scatter\"},{\"marker\":{\"color\":\"red\",\"size\":10,\"symbol\":\"x\"},\"mode\":\"markers\",\"name\":\"idx 48\",\"showlegend\":false,\"x\":[48],\"y\":[50],\"type\":\"scatter\"},{\"marker\":{\"color\":\"red\",\"size\":10,\"symbol\":\"x\"},\"mode\":\"markers\",\"name\":\"idx 50\",\"showlegend\":false,\"x\":[50],\"y\":[98],\"type\":\"scatter\"},{\"marker\":{\"color\":\"red\",\"size\":10,\"symbol\":\"x\"},\"mode\":\"markers\",\"name\":\"idx 52\",\"showlegend\":false,\"x\":[52],\"y\":[90],\"type\":\"scatter\"},{\"marker\":{\"color\":\"red\",\"size\":10,\"symbol\":\"x\"},\"mode\":\"markers\",\"name\":\"idx 56\",\"showlegend\":false,\"x\":[56],\"y\":[67],\"type\":\"scatter\"},{\"marker\":{\"color\":\"red\",\"size\":10,\"symbol\":\"x\"},\"mode\":\"markers\",\"name\":\"idx 57\",\"showlegend\":false,\"x\":[57],\"y\":[43],\"type\":\"scatter\"},{\"marker\":{\"color\":\"red\",\"size\":10,\"symbol\":\"x\"},\"mode\":\"markers\",\"name\":\"idx 58\",\"showlegend\":false,\"x\":[58],\"y\":[42],\"type\":\"scatter\"},{\"marker\":{\"color\":\"red\",\"size\":10,\"symbol\":\"x\"},\"mode\":\"markers\",\"name\":\"idx 59\",\"showlegend\":false,\"x\":[59],\"y\":[70],\"type\":\"scatter\"},{\"marker\":{\"color\":\"red\",\"size\":10,\"symbol\":\"x\"},\"mode\":\"markers\",\"name\":\"idx 68\",\"showlegend\":false,\"x\":[68],\"y\":[28],\"type\":\"scatter\"},{\"marker\":{\"color\":\"red\",\"size\":10,\"symbol\":\"x\"},\"mode\":\"markers\",\"name\":\"idx 75\",\"showlegend\":false,\"x\":[75],\"y\":[84],\"type\":\"scatter\"},{\"marker\":{\"color\":\"red\",\"size\":10,\"symbol\":\"x\"},\"mode\":\"markers\",\"name\":\"idx 77\",\"showlegend\":false,\"x\":[77],\"y\":[103],\"type\":\"scatter\"},{\"marker\":{\"color\":\"red\",\"size\":10,\"symbol\":\"x\"},\"mode\":\"markers\",\"name\":\"idx 83\",\"showlegend\":false,\"x\":[83],\"y\":[55],\"type\":\"scatter\"},{\"marker\":{\"color\":\"red\",\"size\":10,\"symbol\":\"x\"},\"mode\":\"markers\",\"name\":\"idx 84\",\"showlegend\":false,\"x\":[84],\"y\":[101],\"type\":\"scatter\"},{\"marker\":{\"color\":\"red\",\"size\":10,\"symbol\":\"x\"},\"mode\":\"markers\",\"name\":\"idx 85\",\"showlegend\":false,\"x\":[85],\"y\":[127],\"type\":\"scatter\"},{\"marker\":{\"color\":\"red\",\"size\":10,\"symbol\":\"x\"},\"mode\":\"markers\",\"name\":\"idx 87\",\"showlegend\":false,\"x\":[87],\"y\":[99],\"type\":\"scatter\"},{\"marker\":{\"color\":\"red\",\"size\":10,\"symbol\":\"x\"},\"mode\":\"markers\",\"name\":\"idx 89\",\"showlegend\":false,\"x\":[89],\"y\":[39],\"type\":\"scatter\"},{\"marker\":{\"color\":\"red\",\"size\":10,\"symbol\":\"x\"},\"mode\":\"markers\",\"name\":\"idx 90\",\"showlegend\":false,\"x\":[90],\"y\":[39],\"type\":\"scatter\"},{\"marker\":{\"color\":\"red\",\"size\":10,\"symbol\":\"x\"},\"mode\":\"markers\",\"name\":\"idx 91\",\"showlegend\":false,\"x\":[91],\"y\":[39],\"type\":\"scatter\"},{\"marker\":{\"color\":\"red\",\"size\":10,\"symbol\":\"x\"},\"mode\":\"markers\",\"name\":\"idx 92\",\"showlegend\":false,\"x\":[92],\"y\":[87],\"type\":\"scatter\"},{\"marker\":{\"color\":\"red\",\"size\":10,\"symbol\":\"x\"},\"mode\":\"markers\",\"name\":\"idx 93\",\"showlegend\":false,\"x\":[93],\"y\":[24],\"type\":\"scatter\"},{\"marker\":{\"color\":\"red\",\"size\":10,\"symbol\":\"x\"},\"mode\":\"markers\",\"name\":\"idx 94\",\"showlegend\":false,\"x\":[94],\"y\":[35],\"type\":\"scatter\"},{\"marker\":{\"color\":\"red\",\"size\":10,\"symbol\":\"x\"},\"mode\":\"markers\",\"name\":\"idx 95\",\"showlegend\":false,\"x\":[95],\"y\":[24],\"type\":\"scatter\"},{\"marker\":{\"color\":\"red\",\"size\":10,\"symbol\":\"x\"},\"mode\":\"markers\",\"name\":\"idx 96\",\"showlegend\":false,\"x\":[96],\"y\":[24],\"type\":\"scatter\"},{\"marker\":{\"color\":\"red\",\"size\":10,\"symbol\":\"x\"},\"mode\":\"markers\",\"name\":\"idx 97\",\"showlegend\":false,\"x\":[97],\"y\":[24],\"type\":\"scatter\"},{\"marker\":{\"color\":\"red\",\"size\":10,\"symbol\":\"x\"},\"mode\":\"markers\",\"name\":\"idx 98\",\"showlegend\":false,\"x\":[98],\"y\":[24],\"type\":\"scatter\"},{\"marker\":{\"color\":\"red\",\"size\":10,\"symbol\":\"x\"},\"mode\":\"markers\",\"name\":\"idx 99\",\"showlegend\":false,\"x\":[99],\"y\":[24],\"type\":\"scatter\"},{\"marker\":{\"color\":\"red\",\"size\":10,\"symbol\":\"x\"},\"mode\":\"markers\",\"name\":\"idx 101\",\"showlegend\":false,\"x\":[101],\"y\":[24],\"type\":\"scatter\"},{\"marker\":{\"color\":\"red\",\"size\":10,\"symbol\":\"x\"},\"mode\":\"markers\",\"name\":\"idx 102\",\"showlegend\":false,\"x\":[102],\"y\":[24],\"type\":\"scatter\"},{\"marker\":{\"color\":\"red\",\"size\":10,\"symbol\":\"x\"},\"mode\":\"markers\",\"name\":\"idx 103\",\"showlegend\":false,\"x\":[103],\"y\":[35],\"type\":\"scatter\"},{\"marker\":{\"color\":\"red\",\"size\":10,\"symbol\":\"x\"},\"mode\":\"markers\",\"name\":\"idx 104\",\"showlegend\":false,\"x\":[104],\"y\":[24],\"type\":\"scatter\"},{\"marker\":{\"color\":\"red\",\"size\":10,\"symbol\":\"x\"},\"mode\":\"markers\",\"name\":\"idx 109\",\"showlegend\":false,\"x\":[109],\"y\":[22],\"type\":\"scatter\"},{\"marker\":{\"color\":\"red\",\"size\":10,\"symbol\":\"x\"},\"mode\":\"markers\",\"name\":\"idx 110\",\"showlegend\":false,\"x\":[110],\"y\":[35],\"type\":\"scatter\"},{\"marker\":{\"color\":\"red\",\"size\":10,\"symbol\":\"x\"},\"mode\":\"markers\",\"name\":\"idx 111\",\"showlegend\":false,\"x\":[111],\"y\":[22],\"type\":\"scatter\"},{\"marker\":{\"color\":\"red\",\"size\":10,\"symbol\":\"x\"},\"mode\":\"markers\",\"name\":\"idx 112\",\"showlegend\":false,\"x\":[112],\"y\":[46],\"type\":\"scatter\"},{\"marker\":{\"color\":\"red\",\"size\":10,\"symbol\":\"x\"},\"mode\":\"markers\",\"name\":\"idx 113\",\"showlegend\":false,\"x\":[113],\"y\":[91],\"type\":\"scatter\"},{\"marker\":{\"color\":\"red\",\"size\":10,\"symbol\":\"x\"},\"mode\":\"markers\",\"name\":\"idx 114\",\"showlegend\":false,\"x\":[114],\"y\":[40],\"type\":\"scatter\"},{\"marker\":{\"color\":\"red\",\"size\":10,\"symbol\":\"x\"},\"mode\":\"markers\",\"name\":\"idx 121\",\"showlegend\":false,\"x\":[121],\"y\":[22],\"type\":\"scatter\"},{\"marker\":{\"color\":\"red\",\"size\":10,\"symbol\":\"x\"},\"mode\":\"markers\",\"name\":\"idx 122\",\"showlegend\":false,\"x\":[122],\"y\":[77],\"type\":\"scatter\"},{\"marker\":{\"color\":\"red\",\"size\":10,\"symbol\":\"x\"},\"mode\":\"markers\",\"name\":\"idx 123\",\"showlegend\":false,\"x\":[123],\"y\":[38],\"type\":\"scatter\"},{\"marker\":{\"color\":\"red\",\"size\":10,\"symbol\":\"x\"},\"mode\":\"markers\",\"name\":\"idx 124\",\"showlegend\":false,\"x\":[124],\"y\":[38],\"type\":\"scatter\"},{\"marker\":{\"color\":\"red\",\"size\":10,\"symbol\":\"x\"},\"mode\":\"markers\",\"name\":\"idx 125\",\"showlegend\":false,\"x\":[125],\"y\":[38],\"type\":\"scatter\"},{\"marker\":{\"color\":\"red\",\"size\":10,\"symbol\":\"x\"},\"mode\":\"markers\",\"name\":\"idx 126\",\"showlegend\":false,\"x\":[126],\"y\":[38],\"type\":\"scatter\"},{\"marker\":{\"color\":\"red\",\"size\":10,\"symbol\":\"x\"},\"mode\":\"markers\",\"name\":\"idx 127\",\"showlegend\":false,\"x\":[127],\"y\":[38],\"type\":\"scatter\"},{\"marker\":{\"color\":\"red\",\"size\":10,\"symbol\":\"x\"},\"mode\":\"markers\",\"name\":\"idx 128\",\"showlegend\":false,\"x\":[128],\"y\":[38],\"type\":\"scatter\"},{\"marker\":{\"color\":\"red\",\"size\":10,\"symbol\":\"x\"},\"mode\":\"markers\",\"name\":\"idx 129\",\"showlegend\":false,\"x\":[129],\"y\":[38],\"type\":\"scatter\"},{\"marker\":{\"color\":\"red\",\"size\":10,\"symbol\":\"x\"},\"mode\":\"markers\",\"name\":\"idx 130\",\"showlegend\":false,\"x\":[130],\"y\":[38],\"type\":\"scatter\"},{\"marker\":{\"color\":\"red\",\"size\":10,\"symbol\":\"x\"},\"mode\":\"markers\",\"name\":\"idx 131\",\"showlegend\":false,\"x\":[131],\"y\":[38],\"type\":\"scatter\"},{\"marker\":{\"color\":\"red\",\"size\":10,\"symbol\":\"x\"},\"mode\":\"markers\",\"name\":\"idx 132\",\"showlegend\":false,\"x\":[132],\"y\":[38],\"type\":\"scatter\"},{\"marker\":{\"color\":\"red\",\"size\":10,\"symbol\":\"x\"},\"mode\":\"markers\",\"name\":\"idx 136\",\"showlegend\":false,\"x\":[136],\"y\":[238],\"type\":\"scatter\"},{\"marker\":{\"color\":\"red\",\"size\":10,\"symbol\":\"x\"},\"mode\":\"markers\",\"name\":\"idx 137\",\"showlegend\":false,\"x\":[137],\"y\":[34],\"type\":\"scatter\"},{\"marker\":{\"color\":\"red\",\"size\":10,\"symbol\":\"x\"},\"mode\":\"markers\",\"name\":\"idx 138\",\"showlegend\":false,\"x\":[138],\"y\":[34],\"type\":\"scatter\"},{\"marker\":{\"color\":\"red\",\"size\":10,\"symbol\":\"x\"},\"mode\":\"markers\",\"name\":\"idx 139\",\"showlegend\":false,\"x\":[139],\"y\":[34],\"type\":\"scatter\"},{\"marker\":{\"color\":\"red\",\"size\":10,\"symbol\":\"x\"},\"mode\":\"markers\",\"name\":\"idx 140\",\"showlegend\":false,\"x\":[140],\"y\":[34],\"type\":\"scatter\"},{\"marker\":{\"color\":\"red\",\"size\":10,\"symbol\":\"x\"},\"mode\":\"markers\",\"name\":\"idx 141\",\"showlegend\":false,\"x\":[141],\"y\":[34],\"type\":\"scatter\"},{\"marker\":{\"color\":\"red\",\"size\":10,\"symbol\":\"x\"},\"mode\":\"markers\",\"name\":\"idx 142\",\"showlegend\":false,\"x\":[142],\"y\":[34],\"type\":\"scatter\"},{\"marker\":{\"color\":\"red\",\"size\":10,\"symbol\":\"x\"},\"mode\":\"markers\",\"name\":\"idx 143\",\"showlegend\":false,\"x\":[143],\"y\":[34],\"type\":\"scatter\"},{\"marker\":{\"color\":\"red\",\"size\":10,\"symbol\":\"x\"},\"mode\":\"markers\",\"name\":\"idx 155\",\"showlegend\":false,\"x\":[155],\"y\":[30],\"type\":\"scatter\"},{\"marker\":{\"color\":\"red\",\"size\":10,\"symbol\":\"x\"},\"mode\":\"markers\",\"name\":\"idx 156\",\"showlegend\":false,\"x\":[156],\"y\":[30],\"type\":\"scatter\"},{\"marker\":{\"color\":\"red\",\"size\":10,\"symbol\":\"x\"},\"mode\":\"markers\",\"name\":\"idx 157\",\"showlegend\":false,\"x\":[157],\"y\":[30],\"type\":\"scatter\"},{\"marker\":{\"color\":\"red\",\"size\":10,\"symbol\":\"x\"},\"mode\":\"markers\",\"name\":\"idx 158\",\"showlegend\":false,\"x\":[158],\"y\":[30],\"type\":\"scatter\"},{\"marker\":{\"color\":\"red\",\"size\":10,\"symbol\":\"x\"},\"mode\":\"markers\",\"name\":\"idx 159\",\"showlegend\":false,\"x\":[159],\"y\":[30],\"type\":\"scatter\"},{\"marker\":{\"color\":\"red\",\"size\":10,\"symbol\":\"x\"},\"mode\":\"markers\",\"name\":\"idx 160\",\"showlegend\":false,\"x\":[160],\"y\":[52],\"type\":\"scatter\"},{\"marker\":{\"color\":\"red\",\"size\":10,\"symbol\":\"x\"},\"mode\":\"markers\",\"name\":\"idx 161\",\"showlegend\":false,\"x\":[161],\"y\":[69],\"type\":\"scatter\"},{\"marker\":{\"color\":\"red\",\"size\":10,\"symbol\":\"x\"},\"mode\":\"markers\",\"name\":\"idx 162\",\"showlegend\":false,\"x\":[162],\"y\":[30],\"type\":\"scatter\"},{\"marker\":{\"color\":\"red\",\"size\":10,\"symbol\":\"x\"},\"mode\":\"markers\",\"name\":\"idx 163\",\"showlegend\":false,\"x\":[163],\"y\":[30],\"type\":\"scatter\"},{\"marker\":{\"color\":\"red\",\"size\":10,\"symbol\":\"x\"},\"mode\":\"markers\",\"name\":\"idx 164\",\"showlegend\":false,\"x\":[164],\"y\":[30],\"type\":\"scatter\"},{\"marker\":{\"color\":\"red\",\"size\":10,\"symbol\":\"x\"},\"mode\":\"markers\",\"name\":\"idx 165\",\"showlegend\":false,\"x\":[165],\"y\":[30],\"type\":\"scatter\"},{\"marker\":{\"color\":\"red\",\"size\":10,\"symbol\":\"x\"},\"mode\":\"markers\",\"name\":\"idx 166\",\"showlegend\":false,\"x\":[166],\"y\":[206],\"type\":\"scatter\"},{\"marker\":{\"color\":\"red\",\"size\":10,\"symbol\":\"x\"},\"mode\":\"markers\",\"name\":\"idx 167\",\"showlegend\":false,\"x\":[167],\"y\":[30],\"type\":\"scatter\"},{\"marker\":{\"color\":\"red\",\"size\":10,\"symbol\":\"x\"},\"mode\":\"markers\",\"name\":\"idx 168\",\"showlegend\":false,\"x\":[168],\"y\":[30],\"type\":\"scatter\"},{\"marker\":{\"color\":\"red\",\"size\":10,\"symbol\":\"x\"},\"mode\":\"markers\",\"name\":\"idx 169\",\"showlegend\":false,\"x\":[169],\"y\":[51],\"type\":\"scatter\"},{\"marker\":{\"color\":\"red\",\"size\":10,\"symbol\":\"x\"},\"mode\":\"markers\",\"name\":\"idx 170\",\"showlegend\":false,\"x\":[170],\"y\":[30],\"type\":\"scatter\"},{\"marker\":{\"color\":\"red\",\"size\":10,\"symbol\":\"x\"},\"mode\":\"markers\",\"name\":\"idx 173\",\"showlegend\":false,\"x\":[173],\"y\":[27],\"type\":\"scatter\"},{\"marker\":{\"color\":\"red\",\"size\":10,\"symbol\":\"x\"},\"mode\":\"markers\",\"name\":\"idx 176\",\"showlegend\":false,\"x\":[176],\"y\":[29],\"type\":\"scatter\"},{\"marker\":{\"color\":\"red\",\"size\":10,\"symbol\":\"x\"},\"mode\":\"markers\",\"name\":\"idx 177\",\"showlegend\":false,\"x\":[177],\"y\":[29],\"type\":\"scatter\"},{\"marker\":{\"color\":\"red\",\"size\":10,\"symbol\":\"x\"},\"mode\":\"markers\",\"name\":\"idx 178\",\"showlegend\":false,\"x\":[178],\"y\":[29],\"type\":\"scatter\"},{\"marker\":{\"color\":\"red\",\"size\":10,\"symbol\":\"x\"},\"mode\":\"markers\",\"name\":\"idx 179\",\"showlegend\":false,\"x\":[179],\"y\":[29],\"type\":\"scatter\"},{\"marker\":{\"color\":\"red\",\"size\":10,\"symbol\":\"x\"},\"mode\":\"markers\",\"name\":\"idx 180\",\"showlegend\":false,\"x\":[180],\"y\":[29],\"type\":\"scatter\"},{\"marker\":{\"color\":\"red\",\"size\":10,\"symbol\":\"x\"},\"mode\":\"markers\",\"name\":\"idx 181\",\"showlegend\":false,\"x\":[181],\"y\":[34],\"type\":\"scatter\"},{\"marker\":{\"color\":\"red\",\"size\":10,\"symbol\":\"x\"},\"mode\":\"markers\",\"name\":\"idx 182\",\"showlegend\":false,\"x\":[182],\"y\":[29],\"type\":\"scatter\"},{\"marker\":{\"color\":\"red\",\"size\":10,\"symbol\":\"x\"},\"mode\":\"markers\",\"name\":\"idx 183\",\"showlegend\":false,\"x\":[183],\"y\":[47],\"type\":\"scatter\"},{\"marker\":{\"color\":\"red\",\"size\":10,\"symbol\":\"x\"},\"mode\":\"markers\",\"name\":\"idx 184\",\"showlegend\":false,\"x\":[184],\"y\":[47],\"type\":\"scatter\"},{\"marker\":{\"color\":\"red\",\"size\":10,\"symbol\":\"x\"},\"mode\":\"markers\",\"name\":\"idx 193\",\"showlegend\":false,\"x\":[193],\"y\":[29],\"type\":\"scatter\"},{\"marker\":{\"color\":\"red\",\"size\":10,\"symbol\":\"x\"},\"mode\":\"markers\",\"name\":\"idx 203\",\"showlegend\":false,\"x\":[203],\"y\":[25],\"type\":\"scatter\"},{\"marker\":{\"color\":\"red\",\"size\":10,\"symbol\":\"x\"},\"mode\":\"markers\",\"name\":\"idx 213\",\"showlegend\":false,\"x\":[213],\"y\":[28],\"type\":\"scatter\"},{\"marker\":{\"color\":\"red\",\"size\":10,\"symbol\":\"x\"},\"mode\":\"markers\",\"name\":\"idx 240\",\"showlegend\":false,\"x\":[240],\"y\":[32],\"type\":\"scatter\"},{\"marker\":{\"color\":\"red\",\"size\":10,\"symbol\":\"x\"},\"mode\":\"markers\",\"name\":\"idx 241\",\"showlegend\":false,\"x\":[241],\"y\":[66],\"type\":\"scatter\"},{\"marker\":{\"color\":\"red\",\"size\":10,\"symbol\":\"x\"},\"mode\":\"markers\",\"name\":\"idx 242\",\"showlegend\":false,\"x\":[242],\"y\":[30],\"type\":\"scatter\"},{\"marker\":{\"color\":\"red\",\"size\":10,\"symbol\":\"x\"},\"mode\":\"markers\",\"name\":\"idx 243\",\"showlegend\":false,\"x\":[243],\"y\":[22],\"type\":\"scatter\"},{\"marker\":{\"color\":\"red\",\"size\":10,\"symbol\":\"x\"},\"mode\":\"markers\",\"name\":\"idx 244\",\"showlegend\":false,\"x\":[244],\"y\":[43],\"type\":\"scatter\"},{\"marker\":{\"color\":\"red\",\"size\":10,\"symbol\":\"x\"},\"mode\":\"markers\",\"name\":\"idx 245\",\"showlegend\":false,\"x\":[245],\"y\":[31],\"type\":\"scatter\"},{\"marker\":{\"color\":\"red\",\"size\":10,\"symbol\":\"x\"},\"mode\":\"markers\",\"name\":\"idx 255\",\"showlegend\":false,\"x\":[255],\"y\":[40],\"type\":\"scatter\"},{\"marker\":{\"color\":\"red\",\"size\":10,\"symbol\":\"x\"},\"mode\":\"markers\",\"name\":\"idx 256\",\"showlegend\":false,\"x\":[256],\"y\":[69],\"type\":\"scatter\"},{\"marker\":{\"color\":\"red\",\"size\":10,\"symbol\":\"x\"},\"mode\":\"markers\",\"name\":\"idx 263\",\"showlegend\":false,\"x\":[263],\"y\":[59],\"type\":\"scatter\"},{\"marker\":{\"color\":\"red\",\"size\":10,\"symbol\":\"x\"},\"mode\":\"markers\",\"name\":\"idx 264\",\"showlegend\":false,\"x\":[264],\"y\":[48],\"type\":\"scatter\"},{\"marker\":{\"color\":\"red\",\"size\":10,\"symbol\":\"x\"},\"mode\":\"markers\",\"name\":\"idx 272\",\"showlegend\":false,\"x\":[272],\"y\":[42],\"type\":\"scatter\"},{\"marker\":{\"color\":\"red\",\"size\":10,\"symbol\":\"x\"},\"mode\":\"markers\",\"name\":\"idx 291\",\"showlegend\":false,\"x\":[291],\"y\":[41],\"type\":\"scatter\"},{\"marker\":{\"color\":\"red\",\"size\":10,\"symbol\":\"x\"},\"mode\":\"markers\",\"name\":\"idx 304\",\"showlegend\":false,\"x\":[304],\"y\":[213],\"type\":\"scatter\"},{\"marker\":{\"color\":\"red\",\"size\":10,\"symbol\":\"x\"},\"mode\":\"markers\",\"name\":\"idx 332\",\"showlegend\":false,\"x\":[332],\"y\":[219],\"type\":\"scatter\"},{\"marker\":{\"color\":\"red\",\"size\":10,\"symbol\":\"x\"},\"mode\":\"markers\",\"name\":\"idx 333\",\"showlegend\":false,\"x\":[333],\"y\":[212],\"type\":\"scatter\"},{\"marker\":{\"color\":\"red\",\"size\":10,\"symbol\":\"x\"},\"mode\":\"markers\",\"name\":\"idx 334\",\"showlegend\":false,\"x\":[334],\"y\":[212],\"type\":\"scatter\"},{\"marker\":{\"color\":\"red\",\"size\":10,\"symbol\":\"x\"},\"mode\":\"markers\",\"name\":\"idx 335\",\"showlegend\":false,\"x\":[335],\"y\":[196],\"type\":\"scatter\"},{\"marker\":{\"color\":\"red\",\"size\":10,\"symbol\":\"x\"},\"mode\":\"markers\",\"name\":\"idx 336\",\"showlegend\":false,\"x\":[336],\"y\":[218],\"type\":\"scatter\"},{\"marker\":{\"color\":\"red\",\"size\":10,\"symbol\":\"x\"},\"mode\":\"markers\",\"name\":\"idx 337\",\"showlegend\":false,\"x\":[337],\"y\":[33],\"type\":\"scatter\"},{\"marker\":{\"color\":\"red\",\"size\":10,\"symbol\":\"x\"},\"mode\":\"markers\",\"name\":\"idx 353\",\"showlegend\":false,\"x\":[353],\"y\":[142],\"type\":\"scatter\"},{\"marker\":{\"color\":\"red\",\"size\":10,\"symbol\":\"x\"},\"mode\":\"markers\",\"name\":\"idx 374\",\"showlegend\":false,\"x\":[374],\"y\":[22],\"type\":\"scatter\"},{\"marker\":{\"color\":\"red\",\"size\":10,\"symbol\":\"x\"},\"mode\":\"markers\",\"name\":\"idx 378\",\"showlegend\":false,\"x\":[378],\"y\":[28],\"type\":\"scatter\"},{\"marker\":{\"color\":\"red\",\"size\":10,\"symbol\":\"x\"},\"mode\":\"markers\",\"name\":\"idx 392\",\"showlegend\":false,\"x\":[392],\"y\":[25],\"type\":\"scatter\"},{\"marker\":{\"color\":\"red\",\"size\":10,\"symbol\":\"x\"},\"mode\":\"markers\",\"name\":\"idx 393\",\"showlegend\":false,\"x\":[393],\"y\":[28],\"type\":\"scatter\"},{\"marker\":{\"color\":\"red\",\"size\":10,\"symbol\":\"x\"},\"mode\":\"markers\",\"name\":\"idx 410\",\"showlegend\":false,\"x\":[410],\"y\":[174],\"type\":\"scatter\"},{\"marker\":{\"color\":\"red\",\"size\":10,\"symbol\":\"x\"},\"mode\":\"markers\",\"name\":\"idx 411\",\"showlegend\":false,\"x\":[411],\"y\":[112],\"type\":\"scatter\"},{\"marker\":{\"color\":\"red\",\"size\":10,\"symbol\":\"x\"},\"mode\":\"markers\",\"name\":\"idx 412\",\"showlegend\":false,\"x\":[412],\"y\":[27],\"type\":\"scatter\"},{\"marker\":{\"color\":\"red\",\"size\":10,\"symbol\":\"x\"},\"mode\":\"markers\",\"name\":\"idx 413\",\"showlegend\":false,\"x\":[413],\"y\":[149],\"type\":\"scatter\"},{\"marker\":{\"color\":\"red\",\"size\":10,\"symbol\":\"x\"},\"mode\":\"markers\",\"name\":\"idx 427\",\"showlegend\":false,\"x\":[427],\"y\":[167],\"type\":\"scatter\"},{\"marker\":{\"color\":\"red\",\"size\":10,\"symbol\":\"x\"},\"mode\":\"markers\",\"name\":\"idx 430\",\"showlegend\":false,\"x\":[430],\"y\":[29],\"type\":\"scatter\"},{\"marker\":{\"color\":\"red\",\"size\":10,\"symbol\":\"x\"},\"mode\":\"markers\",\"name\":\"idx 437\",\"showlegend\":false,\"x\":[437],\"y\":[88],\"type\":\"scatter\"},{\"marker\":{\"color\":\"red\",\"size\":10,\"symbol\":\"x\"},\"mode\":\"markers\",\"name\":\"idx 438\",\"showlegend\":false,\"x\":[438],\"y\":[88],\"type\":\"scatter\"},{\"marker\":{\"color\":\"red\",\"size\":10,\"symbol\":\"x\"},\"mode\":\"markers\",\"name\":\"idx 445\",\"showlegend\":false,\"x\":[445],\"y\":[135],\"type\":\"scatter\"},{\"marker\":{\"color\":\"red\",\"size\":10,\"symbol\":\"x\"},\"mode\":\"markers\",\"name\":\"idx 449\",\"showlegend\":false,\"x\":[449],\"y\":[22],\"type\":\"scatter\"},{\"marker\":{\"color\":\"red\",\"size\":10,\"symbol\":\"x\"},\"mode\":\"markers\",\"name\":\"idx 451\",\"showlegend\":false,\"x\":[451],\"y\":[36],\"type\":\"scatter\"},{\"marker\":{\"color\":\"red\",\"size\":10,\"symbol\":\"x\"},\"mode\":\"markers\",\"name\":\"idx 453\",\"showlegend\":false,\"x\":[453],\"y\":[133],\"type\":\"scatter\"},{\"marker\":{\"color\":\"red\",\"size\":10,\"symbol\":\"x\"},\"mode\":\"markers\",\"name\":\"idx 454\",\"showlegend\":false,\"x\":[454],\"y\":[146],\"type\":\"scatter\"},{\"marker\":{\"color\":\"red\",\"size\":10,\"symbol\":\"x\"},\"mode\":\"markers\",\"name\":\"idx 455\",\"showlegend\":false,\"x\":[455],\"y\":[35],\"type\":\"scatter\"},{\"marker\":{\"color\":\"red\",\"size\":10,\"symbol\":\"x\"},\"mode\":\"markers\",\"name\":\"idx 456\",\"showlegend\":false,\"x\":[456],\"y\":[76],\"type\":\"scatter\"},{\"marker\":{\"color\":\"red\",\"size\":10,\"symbol\":\"x\"},\"mode\":\"markers\",\"name\":\"idx 457\",\"showlegend\":false,\"x\":[457],\"y\":[76],\"type\":\"scatter\"},{\"marker\":{\"color\":\"red\",\"size\":10,\"symbol\":\"x\"},\"mode\":\"markers\",\"name\":\"idx 459\",\"showlegend\":false,\"x\":[459],\"y\":[158],\"type\":\"scatter\"},{\"marker\":{\"color\":\"red\",\"size\":10,\"symbol\":\"x\"},\"mode\":\"markers\",\"name\":\"idx 461\",\"showlegend\":false,\"x\":[461],\"y\":[135],\"type\":\"scatter\"},{\"marker\":{\"color\":\"red\",\"size\":10,\"symbol\":\"x\"},\"mode\":\"markers\",\"name\":\"idx 463\",\"showlegend\":false,\"x\":[463],\"y\":[150],\"type\":\"scatter\"},{\"marker\":{\"color\":\"red\",\"size\":10,\"symbol\":\"x\"},\"mode\":\"markers\",\"name\":\"idx 466\",\"showlegend\":false,\"x\":[466],\"y\":[119],\"type\":\"scatter\"},{\"marker\":{\"color\":\"red\",\"size\":10,\"symbol\":\"x\"},\"mode\":\"markers\",\"name\":\"idx 470\",\"showlegend\":false,\"x\":[470],\"y\":[155],\"type\":\"scatter\"},{\"marker\":{\"color\":\"red\",\"size\":10,\"symbol\":\"x\"},\"mode\":\"markers\",\"name\":\"idx 471\",\"showlegend\":false,\"x\":[471],\"y\":[154],\"type\":\"scatter\"},{\"marker\":{\"color\":\"red\",\"size\":10,\"symbol\":\"x\"},\"mode\":\"markers\",\"name\":\"idx 472\",\"showlegend\":false,\"x\":[472],\"y\":[80],\"type\":\"scatter\"},{\"marker\":{\"color\":\"red\",\"size\":10,\"symbol\":\"x\"},\"mode\":\"markers\",\"name\":\"idx 474\",\"showlegend\":false,\"x\":[474],\"y\":[79],\"type\":\"scatter\"},{\"marker\":{\"color\":\"red\",\"size\":10,\"symbol\":\"x\"},\"mode\":\"markers\",\"name\":\"idx 480\",\"showlegend\":false,\"x\":[480],\"y\":[77],\"type\":\"scatter\"},{\"marker\":{\"color\":\"red\",\"size\":10,\"symbol\":\"x\"},\"mode\":\"markers\",\"name\":\"idx 481\",\"showlegend\":false,\"x\":[481],\"y\":[133],\"type\":\"scatter\"},{\"marker\":{\"color\":\"red\",\"size\":10,\"symbol\":\"x\"},\"mode\":\"markers\",\"name\":\"idx 482\",\"showlegend\":false,\"x\":[482],\"y\":[76],\"type\":\"scatter\"},{\"marker\":{\"color\":\"red\",\"size\":10,\"symbol\":\"x\"},\"mode\":\"markers\",\"name\":\"idx 483\",\"showlegend\":false,\"x\":[483],\"y\":[48],\"type\":\"scatter\"},{\"marker\":{\"color\":\"red\",\"size\":10,\"symbol\":\"x\"},\"mode\":\"markers\",\"name\":\"idx 484\",\"showlegend\":false,\"x\":[484],\"y\":[76],\"type\":\"scatter\"},{\"marker\":{\"color\":\"red\",\"size\":10,\"symbol\":\"x\"},\"mode\":\"markers\",\"name\":\"idx 490\",\"showlegend\":false,\"x\":[490],\"y\":[67],\"type\":\"scatter\"},{\"marker\":{\"color\":\"red\",\"size\":10,\"symbol\":\"x\"},\"mode\":\"markers\",\"name\":\"idx 491\",\"showlegend\":false,\"x\":[491],\"y\":[67],\"type\":\"scatter\"},{\"marker\":{\"color\":\"red\",\"size\":10,\"symbol\":\"x\"},\"mode\":\"markers\",\"name\":\"idx 494\",\"showlegend\":false,\"x\":[494],\"y\":[121],\"type\":\"scatter\"},{\"marker\":{\"color\":\"red\",\"size\":10,\"symbol\":\"x\"},\"mode\":\"markers\",\"name\":\"idx 497\",\"showlegend\":false,\"x\":[497],\"y\":[71],\"type\":\"scatter\"},{\"marker\":{\"color\":\"red\",\"size\":10,\"symbol\":\"x\"},\"mode\":\"markers\",\"name\":\"idx 498\",\"showlegend\":false,\"x\":[498],\"y\":[100],\"type\":\"scatter\"},{\"marker\":{\"color\":\"red\",\"size\":10,\"symbol\":\"x\"},\"mode\":\"markers\",\"name\":\"idx 500\",\"showlegend\":false,\"x\":[500],\"y\":[71],\"type\":\"scatter\"},{\"marker\":{\"color\":\"red\",\"size\":10,\"symbol\":\"x\"},\"mode\":\"markers\",\"name\":\"idx 503\",\"showlegend\":false,\"x\":[503],\"y\":[60],\"type\":\"scatter\"},{\"marker\":{\"color\":\"red\",\"size\":10,\"symbol\":\"x\"},\"mode\":\"markers\",\"name\":\"idx 510\",\"showlegend\":false,\"x\":[510],\"y\":[61],\"type\":\"scatter\"},{\"marker\":{\"color\":\"red\",\"size\":10,\"symbol\":\"x\"},\"mode\":\"markers\",\"name\":\"idx 511\",\"showlegend\":false,\"x\":[511],\"y\":[53],\"type\":\"scatter\"},{\"marker\":{\"color\":\"red\",\"size\":10,\"symbol\":\"x\"},\"mode\":\"markers\",\"name\":\"idx 513\",\"showlegend\":false,\"x\":[513],\"y\":[53],\"type\":\"scatter\"},{\"marker\":{\"color\":\"red\",\"size\":10,\"symbol\":\"x\"},\"mode\":\"markers\",\"name\":\"idx 514\",\"showlegend\":false,\"x\":[514],\"y\":[112],\"type\":\"scatter\"},{\"marker\":{\"color\":\"red\",\"size\":10,\"symbol\":\"x\"},\"mode\":\"markers\",\"name\":\"idx 516\",\"showlegend\":false,\"x\":[516],\"y\":[91],\"type\":\"scatter\"},{\"marker\":{\"color\":\"red\",\"size\":10,\"symbol\":\"x\"},\"mode\":\"markers\",\"name\":\"idx 517\",\"showlegend\":false,\"x\":[517],\"y\":[112],\"type\":\"scatter\"},{\"marker\":{\"color\":\"red\",\"size\":10,\"symbol\":\"x\"},\"mode\":\"markers\",\"name\":\"idx 523\",\"showlegend\":false,\"x\":[523],\"y\":[79],\"type\":\"scatter\"},{\"marker\":{\"color\":\"red\",\"size\":10,\"symbol\":\"x\"},\"mode\":\"markers\",\"name\":\"idx 525\",\"showlegend\":false,\"x\":[525],\"y\":[85],\"type\":\"scatter\"},{\"marker\":{\"color\":\"red\",\"size\":10,\"symbol\":\"x\"},\"mode\":\"markers\",\"name\":\"idx 526\",\"showlegend\":false,\"x\":[526],\"y\":[34],\"type\":\"scatter\"},{\"marker\":{\"color\":\"red\",\"size\":10,\"symbol\":\"x\"},\"mode\":\"markers\",\"name\":\"idx 527\",\"showlegend\":false,\"x\":[527],\"y\":[34],\"type\":\"scatter\"},{\"marker\":{\"color\":\"red\",\"size\":10,\"symbol\":\"x\"},\"mode\":\"markers\",\"name\":\"idx 528\",\"showlegend\":false,\"x\":[528],\"y\":[37],\"type\":\"scatter\"},{\"marker\":{\"color\":\"red\",\"size\":10,\"symbol\":\"x\"},\"mode\":\"markers\",\"name\":\"idx 529\",\"showlegend\":false,\"x\":[529],\"y\":[29],\"type\":\"scatter\"},{\"marker\":{\"color\":\"red\",\"size\":10,\"symbol\":\"x\"},\"mode\":\"markers\",\"name\":\"idx 530\",\"showlegend\":false,\"x\":[530],\"y\":[26],\"type\":\"scatter\"},{\"marker\":{\"color\":\"red\",\"size\":10,\"symbol\":\"x\"},\"mode\":\"markers\",\"name\":\"idx 531\",\"showlegend\":false,\"x\":[531],\"y\":[26],\"type\":\"scatter\"},{\"marker\":{\"color\":\"red\",\"size\":10,\"symbol\":\"x\"},\"mode\":\"markers\",\"name\":\"idx 532\",\"showlegend\":false,\"x\":[532],\"y\":[114],\"type\":\"scatter\"},{\"marker\":{\"color\":\"red\",\"size\":10,\"symbol\":\"x\"},\"mode\":\"markers\",\"name\":\"idx 533\",\"showlegend\":false,\"x\":[533],\"y\":[81],\"type\":\"scatter\"},{\"marker\":{\"color\":\"red\",\"size\":10,\"symbol\":\"x\"},\"mode\":\"markers\",\"name\":\"idx 534\",\"showlegend\":false,\"x\":[534],\"y\":[71],\"type\":\"scatter\"},{\"marker\":{\"color\":\"red\",\"size\":10,\"symbol\":\"x\"},\"mode\":\"markers\",\"name\":\"idx 539\",\"showlegend\":false,\"x\":[539],\"y\":[32],\"type\":\"scatter\"},{\"marker\":{\"color\":\"red\",\"size\":10,\"symbol\":\"x\"},\"mode\":\"markers\",\"name\":\"idx 540\",\"showlegend\":false,\"x\":[540],\"y\":[32],\"type\":\"scatter\"},{\"marker\":{\"color\":\"red\",\"size\":10,\"symbol\":\"x\"},\"mode\":\"markers\",\"name\":\"idx 550\",\"showlegend\":false,\"x\":[550],\"y\":[25],\"type\":\"scatter\"},{\"marker\":{\"color\":\"red\",\"size\":10,\"symbol\":\"x\"},\"mode\":\"markers\",\"name\":\"idx 551\",\"showlegend\":false,\"x\":[551],\"y\":[25],\"type\":\"scatter\"},{\"marker\":{\"color\":\"red\",\"size\":10,\"symbol\":\"x\"},\"mode\":\"markers\",\"name\":\"idx 552\",\"showlegend\":false,\"x\":[552],\"y\":[25],\"type\":\"scatter\"},{\"marker\":{\"color\":\"red\",\"size\":10,\"symbol\":\"x\"},\"mode\":\"markers\",\"name\":\"idx 553\",\"showlegend\":false,\"x\":[553],\"y\":[25],\"type\":\"scatter\"},{\"marker\":{\"color\":\"red\",\"size\":10,\"symbol\":\"x\"},\"mode\":\"markers\",\"name\":\"idx 557\",\"showlegend\":false,\"x\":[557],\"y\":[85],\"type\":\"scatter\"},{\"marker\":{\"color\":\"red\",\"size\":10,\"symbol\":\"x\"},\"mode\":\"markers\",\"name\":\"idx 558\",\"showlegend\":false,\"x\":[558],\"y\":[85],\"type\":\"scatter\"},{\"marker\":{\"color\":\"red\",\"size\":10,\"symbol\":\"x\"},\"mode\":\"markers\",\"name\":\"idx 559\",\"showlegend\":false,\"x\":[559],\"y\":[92],\"type\":\"scatter\"},{\"marker\":{\"color\":\"red\",\"size\":10,\"symbol\":\"x\"},\"mode\":\"markers\",\"name\":\"idx 560\",\"showlegend\":false,\"x\":[560],\"y\":[92],\"type\":\"scatter\"},{\"marker\":{\"color\":\"red\",\"size\":10,\"symbol\":\"x\"},\"mode\":\"markers\",\"name\":\"idx 566\",\"showlegend\":false,\"x\":[566],\"y\":[49],\"type\":\"scatter\"},{\"marker\":{\"color\":\"red\",\"size\":10,\"symbol\":\"x\"},\"mode\":\"markers\",\"name\":\"idx 572\",\"showlegend\":false,\"x\":[572],\"y\":[42],\"type\":\"scatter\"},{\"marker\":{\"color\":\"red\",\"size\":10,\"symbol\":\"x\"},\"mode\":\"markers\",\"name\":\"idx 573\",\"showlegend\":false,\"x\":[573],\"y\":[42],\"type\":\"scatter\"},{\"marker\":{\"color\":\"red\",\"size\":10,\"symbol\":\"x\"},\"mode\":\"markers\",\"name\":\"idx 576\",\"showlegend\":false,\"x\":[576],\"y\":[45],\"type\":\"scatter\"},{\"marker\":{\"color\":\"red\",\"size\":10,\"symbol\":\"x\"},\"mode\":\"markers\",\"name\":\"idx 614\",\"showlegend\":false,\"x\":[614],\"y\":[29],\"type\":\"scatter\"},{\"marker\":{\"color\":\"red\",\"size\":10,\"symbol\":\"x\"},\"mode\":\"markers\",\"name\":\"idx 616\",\"showlegend\":false,\"x\":[616],\"y\":[23],\"type\":\"scatter\"},{\"marker\":{\"color\":\"red\",\"size\":10,\"symbol\":\"x\"},\"mode\":\"markers\",\"name\":\"idx 617\",\"showlegend\":false,\"x\":[617],\"y\":[23],\"type\":\"scatter\"},{\"marker\":{\"color\":\"red\",\"size\":10,\"symbol\":\"x\"},\"mode\":\"markers\",\"name\":\"idx 618\",\"showlegend\":false,\"x\":[618],\"y\":[22],\"type\":\"scatter\"},{\"marker\":{\"color\":\"red\",\"size\":10,\"symbol\":\"x\"},\"mode\":\"markers\",\"name\":\"idx 620\",\"showlegend\":false,\"x\":[620],\"y\":[40],\"type\":\"scatter\"},{\"marker\":{\"color\":\"red\",\"size\":10,\"symbol\":\"x\"},\"mode\":\"markers\",\"name\":\"idx 621\",\"showlegend\":false,\"x\":[621],\"y\":[40],\"type\":\"scatter\"},{\"marker\":{\"color\":\"red\",\"size\":10,\"symbol\":\"x\"},\"mode\":\"markers\",\"name\":\"idx 622\",\"showlegend\":false,\"x\":[622],\"y\":[27],\"type\":\"scatter\"},{\"marker\":{\"color\":\"red\",\"size\":10,\"symbol\":\"x\"},\"mode\":\"markers\",\"name\":\"idx 624\",\"showlegend\":false,\"x\":[624],\"y\":[114],\"type\":\"scatter\"},{\"marker\":{\"color\":\"red\",\"size\":10,\"symbol\":\"x\"},\"mode\":\"markers\",\"name\":\"idx 625\",\"showlegend\":false,\"x\":[625],\"y\":[114],\"type\":\"scatter\"},{\"marker\":{\"color\":\"red\",\"size\":10,\"symbol\":\"x\"},\"mode\":\"markers\",\"name\":\"idx 626\",\"showlegend\":false,\"x\":[626],\"y\":[38],\"type\":\"scatter\"},{\"marker\":{\"color\":\"red\",\"size\":10,\"symbol\":\"x\"},\"mode\":\"markers\",\"name\":\"idx 630\",\"showlegend\":false,\"x\":[630],\"y\":[33],\"type\":\"scatter\"},{\"marker\":{\"color\":\"red\",\"size\":10,\"symbol\":\"x\"},\"mode\":\"markers\",\"name\":\"idx 631\",\"showlegend\":false,\"x\":[631],\"y\":[33],\"type\":\"scatter\"},{\"marker\":{\"color\":\"red\",\"size\":10,\"symbol\":\"x\"},\"mode\":\"markers\",\"name\":\"idx 632\",\"showlegend\":false,\"x\":[632],\"y\":[33],\"type\":\"scatter\"},{\"marker\":{\"color\":\"red\",\"size\":10,\"symbol\":\"x\"},\"mode\":\"markers\",\"name\":\"idx 633\",\"showlegend\":false,\"x\":[633],\"y\":[33],\"type\":\"scatter\"},{\"marker\":{\"color\":\"red\",\"size\":10,\"symbol\":\"x\"},\"mode\":\"markers\",\"name\":\"idx 634\",\"showlegend\":false,\"x\":[634],\"y\":[33],\"type\":\"scatter\"},{\"marker\":{\"color\":\"red\",\"size\":10,\"symbol\":\"x\"},\"mode\":\"markers\",\"name\":\"idx 638\",\"showlegend\":false,\"x\":[638],\"y\":[25],\"type\":\"scatter\"},{\"marker\":{\"color\":\"red\",\"size\":10,\"symbol\":\"x\"},\"mode\":\"markers\",\"name\":\"idx 648\",\"showlegend\":false,\"x\":[648],\"y\":[52],\"type\":\"scatter\"},{\"marker\":{\"color\":\"red\",\"size\":10,\"symbol\":\"x\"},\"mode\":\"markers\",\"name\":\"idx 653\",\"showlegend\":false,\"x\":[653],\"y\":[31],\"type\":\"scatter\"},{\"marker\":{\"color\":\"red\",\"size\":10,\"symbol\":\"x\"},\"mode\":\"markers\",\"name\":\"idx 654\",\"showlegend\":false,\"x\":[654],\"y\":[31],\"type\":\"scatter\"},{\"marker\":{\"color\":\"red\",\"size\":10,\"symbol\":\"x\"},\"mode\":\"markers\",\"name\":\"idx 655\",\"showlegend\":false,\"x\":[655],\"y\":[31],\"type\":\"scatter\"},{\"marker\":{\"color\":\"red\",\"size\":10,\"symbol\":\"x\"},\"mode\":\"markers\",\"name\":\"idx 656\",\"showlegend\":false,\"x\":[656],\"y\":[24],\"type\":\"scatter\"},{\"marker\":{\"color\":\"red\",\"size\":10,\"symbol\":\"x\"},\"mode\":\"markers\",\"name\":\"idx 663\",\"showlegend\":false,\"x\":[663],\"y\":[50],\"type\":\"scatter\"},{\"marker\":{\"color\":\"red\",\"size\":10,\"symbol\":\"x\"},\"mode\":\"markers\",\"name\":\"idx 669\",\"showlegend\":false,\"x\":[669],\"y\":[24],\"type\":\"scatter\"},{\"marker\":{\"color\":\"red\",\"size\":10,\"symbol\":\"x\"},\"mode\":\"markers\",\"name\":\"idx 670\",\"showlegend\":false,\"x\":[670],\"y\":[24],\"type\":\"scatter\"},{\"marker\":{\"color\":\"red\",\"size\":10,\"symbol\":\"x\"},\"mode\":\"markers\",\"name\":\"idx 709\",\"showlegend\":false,\"x\":[709],\"y\":[31],\"type\":\"scatter\"},{\"marker\":{\"color\":\"red\",\"size\":10,\"symbol\":\"x\"},\"mode\":\"markers\",\"name\":\"idx 710\",\"showlegend\":false,\"x\":[710],\"y\":[49],\"type\":\"scatter\"},{\"marker\":{\"color\":\"red\",\"size\":10,\"symbol\":\"x\"},\"mode\":\"markers\",\"name\":\"idx 718\",\"showlegend\":false,\"x\":[718],\"y\":[42],\"type\":\"scatter\"},{\"marker\":{\"color\":\"red\",\"size\":10,\"symbol\":\"x\"},\"mode\":\"markers\",\"name\":\"idx 732\",\"showlegend\":false,\"x\":[732],\"y\":[27],\"type\":\"scatter\"},{\"marker\":{\"color\":\"red\",\"size\":10,\"symbol\":\"x\"},\"mode\":\"markers\",\"name\":\"idx 733\",\"showlegend\":false,\"x\":[733],\"y\":[22],\"type\":\"scatter\"},{\"marker\":{\"color\":\"red\",\"size\":10,\"symbol\":\"x\"},\"mode\":\"markers\",\"name\":\"idx 734\",\"showlegend\":false,\"x\":[734],\"y\":[22],\"type\":\"scatter\"},{\"marker\":{\"color\":\"red\",\"size\":10,\"symbol\":\"x\"},\"mode\":\"markers\",\"name\":\"idx 772\",\"showlegend\":false,\"x\":[772],\"y\":[163],\"type\":\"scatter\"},{\"marker\":{\"color\":\"red\",\"size\":10,\"symbol\":\"x\"},\"mode\":\"markers\",\"name\":\"idx 802\",\"showlegend\":false,\"x\":[802],\"y\":[34],\"type\":\"scatter\"},{\"marker\":{\"color\":\"red\",\"size\":10,\"symbol\":\"x\"},\"mode\":\"markers\",\"name\":\"idx 803\",\"showlegend\":false,\"x\":[803],\"y\":[29],\"type\":\"scatter\"},{\"marker\":{\"color\":\"red\",\"size\":10,\"symbol\":\"x\"},\"mode\":\"markers\",\"name\":\"idx 805\",\"showlegend\":false,\"x\":[805],\"y\":[24],\"type\":\"scatter\"},{\"marker\":{\"color\":\"red\",\"size\":10,\"symbol\":\"x\"},\"mode\":\"markers\",\"name\":\"idx 816\",\"showlegend\":false,\"x\":[816],\"y\":[30],\"type\":\"scatter\"},{\"marker\":{\"color\":\"red\",\"size\":10,\"symbol\":\"x\"},\"mode\":\"markers\",\"name\":\"idx 820\",\"showlegend\":false,\"x\":[820],\"y\":[40],\"type\":\"scatter\"}],                        {\"legend\":{\"bgcolor\":\"#151516\",\"font\":{\"color\":\"#D9D9D9\"}},\"paper_bgcolor\":\"#151516\",\"plot_bgcolor\":\"#151516\",\"title\":{\"text\":\"Original Quote Delay with Outliers Marked\",\"font\":{\"color\":\"#D9D9D9\"}},\"xaxis\":{\"gridcolor\":\"#434343\",\"showgrid\":true,\"tickfont\":{\"color\":\"#C2C2C2\"},\"title\":{\"text\":\"index\",\"font\":{\"color\":\"#D9D9D9\"}},\"zerolinecolor\":\"#666570\"},\"yaxis\":{\"gridcolor\":\"#434343\",\"showgrid\":true,\"tickfont\":{\"color\":\"#C2C2C2\"},\"title\":{\"text\":\"Quote Delay\",\"font\":{\"color\":\"#D9D9D9\"}},\"zerolinecolor\":\"#666570\"},\"template\":{\"data\":{\"histogram2dcontour\":[{\"type\":\"histogram2dcontour\",\"colorbar\":{\"outlinewidth\":0,\"ticks\":\"\"},\"colorscale\":[[0.0,\"#0d0887\"],[0.1111111111111111,\"#46039f\"],[0.2222222222222222,\"#7201a8\"],[0.3333333333333333,\"#9c179e\"],[0.4444444444444444,\"#bd3786\"],[0.5555555555555556,\"#d8576b\"],[0.6666666666666666,\"#ed7953\"],[0.7777777777777778,\"#fb9f3a\"],[0.8888888888888888,\"#fdca26\"],[1.0,\"#f0f921\"]]}],\"choropleth\":[{\"type\":\"choropleth\",\"colorbar\":{\"outlinewidth\":0,\"ticks\":\"\"}}],\"histogram2d\":[{\"type\":\"histogram2d\",\"colorbar\":{\"outlinewidth\":0,\"ticks\":\"\"},\"colorscale\":[[0.0,\"#0d0887\"],[0.1111111111111111,\"#46039f\"],[0.2222222222222222,\"#7201a8\"],[0.3333333333333333,\"#9c179e\"],[0.4444444444444444,\"#bd3786\"],[0.5555555555555556,\"#d8576b\"],[0.6666666666666666,\"#ed7953\"],[0.7777777777777778,\"#fb9f3a\"],[0.8888888888888888,\"#fdca26\"],[1.0,\"#f0f921\"]]}],\"heatmap\":[{\"type\":\"heatmap\",\"colorbar\":{\"outlinewidth\":0,\"ticks\":\"\"},\"colorscale\":[[0.0,\"#0d0887\"],[0.1111111111111111,\"#46039f\"],[0.2222222222222222,\"#7201a8\"],[0.3333333333333333,\"#9c179e\"],[0.4444444444444444,\"#bd3786\"],[0.5555555555555556,\"#d8576b\"],[0.6666666666666666,\"#ed7953\"],[0.7777777777777778,\"#fb9f3a\"],[0.8888888888888888,\"#fdca26\"],[1.0,\"#f0f921\"]]}],\"heatmapgl\":[{\"type\":\"heatmapgl\",\"colorbar\":{\"outlinewidth\":0,\"ticks\":\"\"},\"colorscale\":[[0.0,\"#0d0887\"],[0.1111111111111111,\"#46039f\"],[0.2222222222222222,\"#7201a8\"],[0.3333333333333333,\"#9c179e\"],[0.4444444444444444,\"#bd3786\"],[0.5555555555555556,\"#d8576b\"],[0.6666666666666666,\"#ed7953\"],[0.7777777777777778,\"#fb9f3a\"],[0.8888888888888888,\"#fdca26\"],[1.0,\"#f0f921\"]]}],\"contourcarpet\":[{\"type\":\"contourcarpet\",\"colorbar\":{\"outlinewidth\":0,\"ticks\":\"\"}}],\"contour\":[{\"type\":\"contour\",\"colorbar\":{\"outlinewidth\":0,\"ticks\":\"\"},\"colorscale\":[[0.0,\"#0d0887\"],[0.1111111111111111,\"#46039f\"],[0.2222222222222222,\"#7201a8\"],[0.3333333333333333,\"#9c179e\"],[0.4444444444444444,\"#bd3786\"],[0.5555555555555556,\"#d8576b\"],[0.6666666666666666,\"#ed7953\"],[0.7777777777777778,\"#fb9f3a\"],[0.8888888888888888,\"#fdca26\"],[1.0,\"#f0f921\"]]}],\"surface\":[{\"type\":\"surface\",\"colorbar\":{\"outlinewidth\":0,\"ticks\":\"\"},\"colorscale\":[[0.0,\"#0d0887\"],[0.1111111111111111,\"#46039f\"],[0.2222222222222222,\"#7201a8\"],[0.3333333333333333,\"#9c179e\"],[0.4444444444444444,\"#bd3786\"],[0.5555555555555556,\"#d8576b\"],[0.6666666666666666,\"#ed7953\"],[0.7777777777777778,\"#fb9f3a\"],[0.8888888888888888,\"#fdca26\"],[1.0,\"#f0f921\"]]}],\"mesh3d\":[{\"type\":\"mesh3d\",\"colorbar\":{\"outlinewidth\":0,\"ticks\":\"\"}}],\"scatter\":[{\"fillpattern\":{\"fillmode\":\"overlay\",\"size\":10,\"solidity\":0.2},\"type\":\"scatter\"}],\"parcoords\":[{\"type\":\"parcoords\",\"line\":{\"colorbar\":{\"outlinewidth\":0,\"ticks\":\"\"}}}],\"scatterpolargl\":[{\"type\":\"scatterpolargl\",\"marker\":{\"colorbar\":{\"outlinewidth\":0,\"ticks\":\"\"}}}],\"bar\":[{\"error_x\":{\"color\":\"#2a3f5f\"},\"error_y\":{\"color\":\"#2a3f5f\"},\"marker\":{\"line\":{\"color\":\"#E5ECF6\",\"width\":0.5},\"pattern\":{\"fillmode\":\"overlay\",\"size\":10,\"solidity\":0.2}},\"type\":\"bar\"}],\"scattergeo\":[{\"type\":\"scattergeo\",\"marker\":{\"colorbar\":{\"outlinewidth\":0,\"ticks\":\"\"}}}],\"scatterpolar\":[{\"type\":\"scatterpolar\",\"marker\":{\"colorbar\":{\"outlinewidth\":0,\"ticks\":\"\"}}}],\"histogram\":[{\"marker\":{\"pattern\":{\"fillmode\":\"overlay\",\"size\":10,\"solidity\":0.2}},\"type\":\"histogram\"}],\"scattergl\":[{\"type\":\"scattergl\",\"marker\":{\"colorbar\":{\"outlinewidth\":0,\"ticks\":\"\"}}}],\"scatter3d\":[{\"type\":\"scatter3d\",\"line\":{\"colorbar\":{\"outlinewidth\":0,\"ticks\":\"\"}},\"marker\":{\"colorbar\":{\"outlinewidth\":0,\"ticks\":\"\"}}}],\"scattermapbox\":[{\"type\":\"scattermapbox\",\"marker\":{\"colorbar\":{\"outlinewidth\":0,\"ticks\":\"\"}}}],\"scatterternary\":[{\"type\":\"scatterternary\",\"marker\":{\"colorbar\":{\"outlinewidth\":0,\"ticks\":\"\"}}}],\"scattercarpet\":[{\"type\":\"scattercarpet\",\"marker\":{\"colorbar\":{\"outlinewidth\":0,\"ticks\":\"\"}}}],\"carpet\":[{\"aaxis\":{\"endlinecolor\":\"#2a3f5f\",\"gridcolor\":\"white\",\"linecolor\":\"white\",\"minorgridcolor\":\"white\",\"startlinecolor\":\"#2a3f5f\"},\"baxis\":{\"endlinecolor\":\"#2a3f5f\",\"gridcolor\":\"white\",\"linecolor\":\"white\",\"minorgridcolor\":\"white\",\"startlinecolor\":\"#2a3f5f\"},\"type\":\"carpet\"}],\"table\":[{\"cells\":{\"fill\":{\"color\":\"#EBF0F8\"},\"line\":{\"color\":\"white\"}},\"header\":{\"fill\":{\"color\":\"#C8D4E3\"},\"line\":{\"color\":\"white\"}},\"type\":\"table\"}],\"barpolar\":[{\"marker\":{\"line\":{\"color\":\"#E5ECF6\",\"width\":0.5},\"pattern\":{\"fillmode\":\"overlay\",\"size\":10,\"solidity\":0.2}},\"type\":\"barpolar\"}],\"pie\":[{\"automargin\":true,\"type\":\"pie\"}]},\"layout\":{\"autotypenumbers\":\"strict\",\"colorway\":[\"#636efa\",\"#EF553B\",\"#00cc96\",\"#ab63fa\",\"#FFA15A\",\"#19d3f3\",\"#FF6692\",\"#B6E880\",\"#FF97FF\",\"#FECB52\"],\"font\":{\"color\":\"#2a3f5f\"},\"hovermode\":\"closest\",\"hoverlabel\":{\"align\":\"left\"},\"paper_bgcolor\":\"white\",\"plot_bgcolor\":\"#E5ECF6\",\"polar\":{\"bgcolor\":\"#E5ECF6\",\"angularaxis\":{\"gridcolor\":\"white\",\"linecolor\":\"white\",\"ticks\":\"\"},\"radialaxis\":{\"gridcolor\":\"white\",\"linecolor\":\"white\",\"ticks\":\"\"}},\"ternary\":{\"bgcolor\":\"#E5ECF6\",\"aaxis\":{\"gridcolor\":\"white\",\"linecolor\":\"white\",\"ticks\":\"\"},\"baxis\":{\"gridcolor\":\"white\",\"linecolor\":\"white\",\"ticks\":\"\"},\"caxis\":{\"gridcolor\":\"white\",\"linecolor\":\"white\",\"ticks\":\"\"}},\"coloraxis\":{\"colorbar\":{\"outlinewidth\":0,\"ticks\":\"\"}},\"colorscale\":{\"sequential\":[[0.0,\"#0d0887\"],[0.1111111111111111,\"#46039f\"],[0.2222222222222222,\"#7201a8\"],[0.3333333333333333,\"#9c179e\"],[0.4444444444444444,\"#bd3786\"],[0.5555555555555556,\"#d8576b\"],[0.6666666666666666,\"#ed7953\"],[0.7777777777777778,\"#fb9f3a\"],[0.8888888888888888,\"#fdca26\"],[1.0,\"#f0f921\"]],\"sequentialminus\":[[0.0,\"#0d0887\"],[0.1111111111111111,\"#46039f\"],[0.2222222222222222,\"#7201a8\"],[0.3333333333333333,\"#9c179e\"],[0.4444444444444444,\"#bd3786\"],[0.5555555555555556,\"#d8576b\"],[0.6666666666666666,\"#ed7953\"],[0.7777777777777778,\"#fb9f3a\"],[0.8888888888888888,\"#fdca26\"],[1.0,\"#f0f921\"]],\"diverging\":[[0,\"#8e0152\"],[0.1,\"#c51b7d\"],[0.2,\"#de77ae\"],[0.3,\"#f1b6da\"],[0.4,\"#fde0ef\"],[0.5,\"#f7f7f7\"],[0.6,\"#e6f5d0\"],[0.7,\"#b8e186\"],[0.8,\"#7fbc41\"],[0.9,\"#4d9221\"],[1,\"#276419\"]]},\"xaxis\":{\"gridcolor\":\"white\",\"linecolor\":\"white\",\"ticks\":\"\",\"title\":{\"standoff\":15},\"zerolinecolor\":\"white\",\"automargin\":true,\"zerolinewidth\":2},\"yaxis\":{\"gridcolor\":\"white\",\"linecolor\":\"white\",\"ticks\":\"\",\"title\":{\"standoff\":15},\"zerolinecolor\":\"white\",\"automargin\":true,\"zerolinewidth\":2},\"scene\":{\"xaxis\":{\"backgroundcolor\":\"#E5ECF6\",\"gridcolor\":\"white\",\"linecolor\":\"white\",\"showbackground\":true,\"ticks\":\"\",\"zerolinecolor\":\"white\",\"gridwidth\":2},\"yaxis\":{\"backgroundcolor\":\"#E5ECF6\",\"gridcolor\":\"white\",\"linecolor\":\"white\",\"showbackground\":true,\"ticks\":\"\",\"zerolinecolor\":\"white\",\"gridwidth\":2},\"zaxis\":{\"backgroundcolor\":\"#E5ECF6\",\"gridcolor\":\"white\",\"linecolor\":\"white\",\"showbackground\":true,\"ticks\":\"\",\"zerolinecolor\":\"white\",\"gridwidth\":2}},\"shapedefaults\":{\"line\":{\"color\":\"#2a3f5f\"}},\"annotationdefaults\":{\"arrowcolor\":\"#2a3f5f\",\"arrowhead\":0,\"arrowwidth\":1},\"geo\":{\"bgcolor\":\"white\",\"landcolor\":\"#E5ECF6\",\"subunitcolor\":\"white\",\"showland\":true,\"showlakes\":true,\"lakecolor\":\"white\"},\"title\":{\"x\":0.05},\"mapbox\":{\"style\":\"light\"}}}},                        {\"responsive\": true}                    ).then(function(){\n",
       "                            \n",
       "var gd = document.getElementById('6d49ca33-fc62-4871-a60a-5bee4908a343');\n",
       "var x = new MutationObserver(function (mutations, observer) {{\n",
       "        var display = window.getComputedStyle(gd).display;\n",
       "        if (!display || display === 'none') {{\n",
       "            console.log([gd, 'removed!']);\n",
       "            Plotly.purge(gd);\n",
       "            observer.disconnect();\n",
       "        }}\n",
       "}});\n",
       "\n",
       "// Listen for the removal of the full notebook cells\n",
       "var notebookContainer = gd.closest('#notebook-container');\n",
       "if (notebookContainer) {{\n",
       "    x.observe(notebookContainer, {childList: true});\n",
       "}}\n",
       "\n",
       "// Listen for the clearing of the current output cell\n",
       "var outputEl = gd.closest('.output');\n",
       "if (outputEl) {{\n",
       "    x.observe(outputEl, {childList: true});\n",
       "}}\n",
       "\n",
       "                        })                };                });            </script>        </div>"
      ]
     },
     "metadata": {},
     "output_type": "display_data"
    }
   ],
   "source": [
    "# get dictionary of plots\n",
    "IQR_plotting_dict_QUOTES = outlier_plot(data=quotes_df,\n",
    "                                       detected_outlier_vars=IQR_outlier_dict_QUOTES)\n",
    "# ...and then plot for visual confirmation\n",
    "for ky in IQR_plotting_dict_QUOTES.keys():\n",
    "    IQR_plotting_dict_QUOTES[ky].show()"
   ]
  },
  {
   "cell_type": "markdown",
   "id": "56576f1a-6ac8-4b0a-86a3-010d3209a8d9",
   "metadata": {},
   "source": [
    "The outliers as determined by the quote delay seem more like a nuance of the data rather than something to be accounted for. For now, only going to subset by the prices."
   ]
  },
  {
   "cell_type": "markdown",
   "id": "5f60546c-bde3-4ac2-a55f-6d4ccaac8a9d",
   "metadata": {},
   "source": [
    "### !!NOTE - This is an imperfect method, but for expediency I will continue with this subset.\n",
    "\n",
    "Ideally I would engage in iterative development of a more appropriate outlier detection method, and potentially perform linear interpolation for time-series or appropriately ordered data"
   ]
  },
  {
   "cell_type": "code",
   "execution_count": 24,
   "id": "23ba27c2-30f5-4878-b9bd-f4f6be7f71e2",
   "metadata": {},
   "outputs": [],
   "source": [
    "# Subsetting by unit price\n",
    "\n",
    "requests_df_subset = requests_df.drop(IQR_outlier_dict_REQUESTS['Current Unit Price'])\n",
    "quotes_df_subset = quotes_df.drop(IQR_outlier_dict_QUOTES['Quote Unit Price'])"
   ]
  },
  {
   "cell_type": "markdown",
   "id": "8f0a93c5-43cb-4b4a-b685-d0fe5c36443d",
   "metadata": {},
   "source": [
    "## Save Silver Data "
   ]
  },
  {
   "cell_type": "code",
   "execution_count": 25,
   "id": "e8aae172-95ee-4b66-97c4-a5ca63c0b1c3",
   "metadata": {},
   "outputs": [],
   "source": [
    "requests_df_subset.to_pickle('.\\Silver Data\\silver_requests.pkl')\n",
    "quotes_df_subset.to_pickle('.\\Silver Data\\silver_quotes.pkl')"
   ]
  },
  {
   "cell_type": "code",
   "execution_count": null,
   "id": "f630fd91-27a9-4a9d-93f5-5914c725e6a8",
   "metadata": {},
   "outputs": [],
   "source": []
  }
 ],
 "metadata": {
  "kernelspec": {
   "display_name": "Python 3 (ipykernel)",
   "language": "python",
   "name": "python3"
  },
  "language_info": {
   "codemirror_mode": {
    "name": "ipython",
    "version": 3
   },
   "file_extension": ".py",
   "mimetype": "text/x-python",
   "name": "python",
   "nbconvert_exporter": "python",
   "pygments_lexer": "ipython3",
   "version": "3.11.7"
  }
 },
 "nbformat": 4,
 "nbformat_minor": 5
}
